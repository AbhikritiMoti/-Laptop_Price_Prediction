{
 "cells": [
  {
   "cell_type": "markdown",
   "source": [
    "# <font color=blue> Predict Laptop Price according to user input configuration </font>"
   ],
   "metadata": {
    "collapsed": false,
    "pycharm": {
     "name": "#%% md\n"
    }
   }
  },
  {
   "cell_type": "code",
   "execution_count": 1,
   "outputs": [],
   "source": [
    "import numpy as np\n",
    "import pandas as pd"
   ],
   "metadata": {
    "collapsed": false,
    "pycharm": {
     "name": "#%%\n"
    }
   }
  },
  {
   "cell_type": "code",
   "execution_count": 2,
   "outputs": [],
   "source": [
    "df = pd.read_csv('laptop_data.csv')"
   ],
   "metadata": {
    "collapsed": false,
    "pycharm": {
     "name": "#%%\n"
    }
   }
  },
  {
   "cell_type": "code",
   "execution_count": 3,
   "outputs": [
    {
     "data": {
      "text/plain": "   Unnamed: 0 Company   TypeName  Inches                    ScreenResolution  \\\n0           0   Apple  Ultrabook    13.3  IPS Panel Retina Display 2560x1600   \n1           1   Apple  Ultrabook    13.3                            1440x900   \n2           2      HP   Notebook    15.6                   Full HD 1920x1080   \n3           3   Apple  Ultrabook    15.4  IPS Panel Retina Display 2880x1800   \n4           4   Apple  Ultrabook    13.3  IPS Panel Retina Display 2560x1600   \n\n                          Cpu   Ram               Memory  \\\n0        Intel Core i5 2.3GHz   8GB            128GB SSD   \n1        Intel Core i5 1.8GHz   8GB  128GB Flash Storage   \n2  Intel Core i5 7200U 2.5GHz   8GB            256GB SSD   \n3        Intel Core i7 2.7GHz  16GB            512GB SSD   \n4        Intel Core i5 3.1GHz   8GB            256GB SSD   \n\n                            Gpu  OpSys  Weight        Price  \n0  Intel Iris Plus Graphics 640  macOS  1.37kg   71378.6832  \n1        Intel HD Graphics 6000  macOS  1.34kg   47895.5232  \n2         Intel HD Graphics 620  No OS  1.86kg   30636.0000  \n3            AMD Radeon Pro 455  macOS  1.83kg  135195.3360  \n4  Intel Iris Plus Graphics 650  macOS  1.37kg   96095.8080  ",
      "text/html": "<div>\n<style scoped>\n    .dataframe tbody tr th:only-of-type {\n        vertical-align: middle;\n    }\n\n    .dataframe tbody tr th {\n        vertical-align: top;\n    }\n\n    .dataframe thead th {\n        text-align: right;\n    }\n</style>\n<table border=\"1\" class=\"dataframe\">\n  <thead>\n    <tr style=\"text-align: right;\">\n      <th></th>\n      <th>Unnamed: 0</th>\n      <th>Company</th>\n      <th>TypeName</th>\n      <th>Inches</th>\n      <th>ScreenResolution</th>\n      <th>Cpu</th>\n      <th>Ram</th>\n      <th>Memory</th>\n      <th>Gpu</th>\n      <th>OpSys</th>\n      <th>Weight</th>\n      <th>Price</th>\n    </tr>\n  </thead>\n  <tbody>\n    <tr>\n      <th>0</th>\n      <td>0</td>\n      <td>Apple</td>\n      <td>Ultrabook</td>\n      <td>13.3</td>\n      <td>IPS Panel Retina Display 2560x1600</td>\n      <td>Intel Core i5 2.3GHz</td>\n      <td>8GB</td>\n      <td>128GB SSD</td>\n      <td>Intel Iris Plus Graphics 640</td>\n      <td>macOS</td>\n      <td>1.37kg</td>\n      <td>71378.6832</td>\n    </tr>\n    <tr>\n      <th>1</th>\n      <td>1</td>\n      <td>Apple</td>\n      <td>Ultrabook</td>\n      <td>13.3</td>\n      <td>1440x900</td>\n      <td>Intel Core i5 1.8GHz</td>\n      <td>8GB</td>\n      <td>128GB Flash Storage</td>\n      <td>Intel HD Graphics 6000</td>\n      <td>macOS</td>\n      <td>1.34kg</td>\n      <td>47895.5232</td>\n    </tr>\n    <tr>\n      <th>2</th>\n      <td>2</td>\n      <td>HP</td>\n      <td>Notebook</td>\n      <td>15.6</td>\n      <td>Full HD 1920x1080</td>\n      <td>Intel Core i5 7200U 2.5GHz</td>\n      <td>8GB</td>\n      <td>256GB SSD</td>\n      <td>Intel HD Graphics 620</td>\n      <td>No OS</td>\n      <td>1.86kg</td>\n      <td>30636.0000</td>\n    </tr>\n    <tr>\n      <th>3</th>\n      <td>3</td>\n      <td>Apple</td>\n      <td>Ultrabook</td>\n      <td>15.4</td>\n      <td>IPS Panel Retina Display 2880x1800</td>\n      <td>Intel Core i7 2.7GHz</td>\n      <td>16GB</td>\n      <td>512GB SSD</td>\n      <td>AMD Radeon Pro 455</td>\n      <td>macOS</td>\n      <td>1.83kg</td>\n      <td>135195.3360</td>\n    </tr>\n    <tr>\n      <th>4</th>\n      <td>4</td>\n      <td>Apple</td>\n      <td>Ultrabook</td>\n      <td>13.3</td>\n      <td>IPS Panel Retina Display 2560x1600</td>\n      <td>Intel Core i5 3.1GHz</td>\n      <td>8GB</td>\n      <td>256GB SSD</td>\n      <td>Intel Iris Plus Graphics 650</td>\n      <td>macOS</td>\n      <td>1.37kg</td>\n      <td>96095.8080</td>\n    </tr>\n  </tbody>\n</table>\n</div>"
     },
     "execution_count": 3,
     "metadata": {},
     "output_type": "execute_result"
    }
   ],
   "source": [
    "df.head()"
   ],
   "metadata": {
    "collapsed": false,
    "pycharm": {
     "name": "#%%\n"
    }
   }
  },
  {
   "cell_type": "code",
   "execution_count": 4,
   "outputs": [
    {
     "data": {
      "text/plain": "(1303, 12)"
     },
     "execution_count": 4,
     "metadata": {},
     "output_type": "execute_result"
    }
   ],
   "source": [
    "df.shape"
   ],
   "metadata": {
    "collapsed": false,
    "pycharm": {
     "name": "#%%\n"
    }
   }
  },
  {
   "cell_type": "code",
   "execution_count": 5,
   "outputs": [
    {
     "name": "stdout",
     "output_type": "stream",
     "text": [
      "<class 'pandas.core.frame.DataFrame'>\n",
      "RangeIndex: 1303 entries, 0 to 1302\n",
      "Data columns (total 12 columns):\n",
      " #   Column            Non-Null Count  Dtype  \n",
      "---  ------            --------------  -----  \n",
      " 0   Unnamed: 0        1303 non-null   int64  \n",
      " 1   Company           1303 non-null   object \n",
      " 2   TypeName          1303 non-null   object \n",
      " 3   Inches            1303 non-null   float64\n",
      " 4   ScreenResolution  1303 non-null   object \n",
      " 5   Cpu               1303 non-null   object \n",
      " 6   Ram               1303 non-null   object \n",
      " 7   Memory            1303 non-null   object \n",
      " 8   Gpu               1303 non-null   object \n",
      " 9   OpSys             1303 non-null   object \n",
      " 10  Weight            1303 non-null   object \n",
      " 11  Price             1303 non-null   float64\n",
      "dtypes: float64(2), int64(1), object(9)\n",
      "memory usage: 122.3+ KB\n"
     ]
    }
   ],
   "source": [
    "df.info()"
   ],
   "metadata": {
    "collapsed": false,
    "pycharm": {
     "name": "#%%\n"
    }
   }
  },
  {
   "cell_type": "code",
   "execution_count": 6,
   "outputs": [
    {
     "data": {
      "text/plain": "0"
     },
     "execution_count": 6,
     "metadata": {},
     "output_type": "execute_result"
    }
   ],
   "source": [
    "df.duplicated().sum()"
   ],
   "metadata": {
    "collapsed": false,
    "pycharm": {
     "name": "#%%\n"
    }
   }
  },
  {
   "cell_type": "code",
   "execution_count": 7,
   "outputs": [
    {
     "data": {
      "text/plain": "Unnamed: 0          0\nCompany             0\nTypeName            0\nInches              0\nScreenResolution    0\nCpu                 0\nRam                 0\nMemory              0\nGpu                 0\nOpSys               0\nWeight              0\nPrice               0\ndtype: int64"
     },
     "execution_count": 7,
     "metadata": {},
     "output_type": "execute_result"
    }
   ],
   "source": [
    "df.isnull().sum()"
   ],
   "metadata": {
    "collapsed": false,
    "pycharm": {
     "name": "#%%\n"
    }
   }
  },
  {
   "cell_type": "markdown",
   "source": [
    "# Data Preprocessing"
   ],
   "metadata": {
    "collapsed": false,
    "pycharm": {
     "name": "#%% md\n"
    }
   }
  },
  {
   "cell_type": "code",
   "execution_count": 8,
   "outputs": [
    {
     "data": {
      "text/plain": "  Company   TypeName  Inches                    ScreenResolution  \\\n0   Apple  Ultrabook    13.3  IPS Panel Retina Display 2560x1600   \n1   Apple  Ultrabook    13.3                            1440x900   \n2      HP   Notebook    15.6                   Full HD 1920x1080   \n3   Apple  Ultrabook    15.4  IPS Panel Retina Display 2880x1800   \n4   Apple  Ultrabook    13.3  IPS Panel Retina Display 2560x1600   \n\n                          Cpu   Ram               Memory  \\\n0        Intel Core i5 2.3GHz   8GB            128GB SSD   \n1        Intel Core i5 1.8GHz   8GB  128GB Flash Storage   \n2  Intel Core i5 7200U 2.5GHz   8GB            256GB SSD   \n3        Intel Core i7 2.7GHz  16GB            512GB SSD   \n4        Intel Core i5 3.1GHz   8GB            256GB SSD   \n\n                            Gpu  OpSys  Weight        Price  \n0  Intel Iris Plus Graphics 640  macOS  1.37kg   71378.6832  \n1        Intel HD Graphics 6000  macOS  1.34kg   47895.5232  \n2         Intel HD Graphics 620  No OS  1.86kg   30636.0000  \n3            AMD Radeon Pro 455  macOS  1.83kg  135195.3360  \n4  Intel Iris Plus Graphics 650  macOS  1.37kg   96095.8080  ",
      "text/html": "<div>\n<style scoped>\n    .dataframe tbody tr th:only-of-type {\n        vertical-align: middle;\n    }\n\n    .dataframe tbody tr th {\n        vertical-align: top;\n    }\n\n    .dataframe thead th {\n        text-align: right;\n    }\n</style>\n<table border=\"1\" class=\"dataframe\">\n  <thead>\n    <tr style=\"text-align: right;\">\n      <th></th>\n      <th>Company</th>\n      <th>TypeName</th>\n      <th>Inches</th>\n      <th>ScreenResolution</th>\n      <th>Cpu</th>\n      <th>Ram</th>\n      <th>Memory</th>\n      <th>Gpu</th>\n      <th>OpSys</th>\n      <th>Weight</th>\n      <th>Price</th>\n    </tr>\n  </thead>\n  <tbody>\n    <tr>\n      <th>0</th>\n      <td>Apple</td>\n      <td>Ultrabook</td>\n      <td>13.3</td>\n      <td>IPS Panel Retina Display 2560x1600</td>\n      <td>Intel Core i5 2.3GHz</td>\n      <td>8GB</td>\n      <td>128GB SSD</td>\n      <td>Intel Iris Plus Graphics 640</td>\n      <td>macOS</td>\n      <td>1.37kg</td>\n      <td>71378.6832</td>\n    </tr>\n    <tr>\n      <th>1</th>\n      <td>Apple</td>\n      <td>Ultrabook</td>\n      <td>13.3</td>\n      <td>1440x900</td>\n      <td>Intel Core i5 1.8GHz</td>\n      <td>8GB</td>\n      <td>128GB Flash Storage</td>\n      <td>Intel HD Graphics 6000</td>\n      <td>macOS</td>\n      <td>1.34kg</td>\n      <td>47895.5232</td>\n    </tr>\n    <tr>\n      <th>2</th>\n      <td>HP</td>\n      <td>Notebook</td>\n      <td>15.6</td>\n      <td>Full HD 1920x1080</td>\n      <td>Intel Core i5 7200U 2.5GHz</td>\n      <td>8GB</td>\n      <td>256GB SSD</td>\n      <td>Intel HD Graphics 620</td>\n      <td>No OS</td>\n      <td>1.86kg</td>\n      <td>30636.0000</td>\n    </tr>\n    <tr>\n      <th>3</th>\n      <td>Apple</td>\n      <td>Ultrabook</td>\n      <td>15.4</td>\n      <td>IPS Panel Retina Display 2880x1800</td>\n      <td>Intel Core i7 2.7GHz</td>\n      <td>16GB</td>\n      <td>512GB SSD</td>\n      <td>AMD Radeon Pro 455</td>\n      <td>macOS</td>\n      <td>1.83kg</td>\n      <td>135195.3360</td>\n    </tr>\n    <tr>\n      <th>4</th>\n      <td>Apple</td>\n      <td>Ultrabook</td>\n      <td>13.3</td>\n      <td>IPS Panel Retina Display 2560x1600</td>\n      <td>Intel Core i5 3.1GHz</td>\n      <td>8GB</td>\n      <td>256GB SSD</td>\n      <td>Intel Iris Plus Graphics 650</td>\n      <td>macOS</td>\n      <td>1.37kg</td>\n      <td>96095.8080</td>\n    </tr>\n  </tbody>\n</table>\n</div>"
     },
     "execution_count": 8,
     "metadata": {},
     "output_type": "execute_result"
    }
   ],
   "source": [
    "df.drop(columns=['Unnamed: 0'],inplace=True)\n",
    "df.head()"
   ],
   "metadata": {
    "collapsed": false,
    "pycharm": {
     "name": "#%%\n"
    }
   }
  },
  {
   "cell_type": "code",
   "execution_count": 9,
   "outputs": [],
   "source": [
    "df['Ram'] = df['Ram'].str.replace('GB','')\n",
    "df['Weight'] = df['Weight'].str.replace('kg','')"
   ],
   "metadata": {
    "collapsed": false,
    "pycharm": {
     "name": "#%%\n"
    }
   }
  },
  {
   "cell_type": "code",
   "execution_count": 10,
   "outputs": [
    {
     "data": {
      "text/plain": "  Company   TypeName  Inches                    ScreenResolution  \\\n0   Apple  Ultrabook    13.3  IPS Panel Retina Display 2560x1600   \n1   Apple  Ultrabook    13.3                            1440x900   \n2      HP   Notebook    15.6                   Full HD 1920x1080   \n3   Apple  Ultrabook    15.4  IPS Panel Retina Display 2880x1800   \n4   Apple  Ultrabook    13.3  IPS Panel Retina Display 2560x1600   \n\n                          Cpu Ram               Memory  \\\n0        Intel Core i5 2.3GHz   8            128GB SSD   \n1        Intel Core i5 1.8GHz   8  128GB Flash Storage   \n2  Intel Core i5 7200U 2.5GHz   8            256GB SSD   \n3        Intel Core i7 2.7GHz  16            512GB SSD   \n4        Intel Core i5 3.1GHz   8            256GB SSD   \n\n                            Gpu  OpSys Weight        Price  \n0  Intel Iris Plus Graphics 640  macOS   1.37   71378.6832  \n1        Intel HD Graphics 6000  macOS   1.34   47895.5232  \n2         Intel HD Graphics 620  No OS   1.86   30636.0000  \n3            AMD Radeon Pro 455  macOS   1.83  135195.3360  \n4  Intel Iris Plus Graphics 650  macOS   1.37   96095.8080  ",
      "text/html": "<div>\n<style scoped>\n    .dataframe tbody tr th:only-of-type {\n        vertical-align: middle;\n    }\n\n    .dataframe tbody tr th {\n        vertical-align: top;\n    }\n\n    .dataframe thead th {\n        text-align: right;\n    }\n</style>\n<table border=\"1\" class=\"dataframe\">\n  <thead>\n    <tr style=\"text-align: right;\">\n      <th></th>\n      <th>Company</th>\n      <th>TypeName</th>\n      <th>Inches</th>\n      <th>ScreenResolution</th>\n      <th>Cpu</th>\n      <th>Ram</th>\n      <th>Memory</th>\n      <th>Gpu</th>\n      <th>OpSys</th>\n      <th>Weight</th>\n      <th>Price</th>\n    </tr>\n  </thead>\n  <tbody>\n    <tr>\n      <th>0</th>\n      <td>Apple</td>\n      <td>Ultrabook</td>\n      <td>13.3</td>\n      <td>IPS Panel Retina Display 2560x1600</td>\n      <td>Intel Core i5 2.3GHz</td>\n      <td>8</td>\n      <td>128GB SSD</td>\n      <td>Intel Iris Plus Graphics 640</td>\n      <td>macOS</td>\n      <td>1.37</td>\n      <td>71378.6832</td>\n    </tr>\n    <tr>\n      <th>1</th>\n      <td>Apple</td>\n      <td>Ultrabook</td>\n      <td>13.3</td>\n      <td>1440x900</td>\n      <td>Intel Core i5 1.8GHz</td>\n      <td>8</td>\n      <td>128GB Flash Storage</td>\n      <td>Intel HD Graphics 6000</td>\n      <td>macOS</td>\n      <td>1.34</td>\n      <td>47895.5232</td>\n    </tr>\n    <tr>\n      <th>2</th>\n      <td>HP</td>\n      <td>Notebook</td>\n      <td>15.6</td>\n      <td>Full HD 1920x1080</td>\n      <td>Intel Core i5 7200U 2.5GHz</td>\n      <td>8</td>\n      <td>256GB SSD</td>\n      <td>Intel HD Graphics 620</td>\n      <td>No OS</td>\n      <td>1.86</td>\n      <td>30636.0000</td>\n    </tr>\n    <tr>\n      <th>3</th>\n      <td>Apple</td>\n      <td>Ultrabook</td>\n      <td>15.4</td>\n      <td>IPS Panel Retina Display 2880x1800</td>\n      <td>Intel Core i7 2.7GHz</td>\n      <td>16</td>\n      <td>512GB SSD</td>\n      <td>AMD Radeon Pro 455</td>\n      <td>macOS</td>\n      <td>1.83</td>\n      <td>135195.3360</td>\n    </tr>\n    <tr>\n      <th>4</th>\n      <td>Apple</td>\n      <td>Ultrabook</td>\n      <td>13.3</td>\n      <td>IPS Panel Retina Display 2560x1600</td>\n      <td>Intel Core i5 3.1GHz</td>\n      <td>8</td>\n      <td>256GB SSD</td>\n      <td>Intel Iris Plus Graphics 650</td>\n      <td>macOS</td>\n      <td>1.37</td>\n      <td>96095.8080</td>\n    </tr>\n  </tbody>\n</table>\n</div>"
     },
     "execution_count": 10,
     "metadata": {},
     "output_type": "execute_result"
    }
   ],
   "source": [
    "df.head()"
   ],
   "metadata": {
    "collapsed": false,
    "pycharm": {
     "name": "#%%\n"
    }
   }
  },
  {
   "cell_type": "code",
   "execution_count": 11,
   "outputs": [],
   "source": [
    "df['Ram'] = df['Ram'].astype('int32')\n",
    "df['Weight'] = df['Weight'].astype('float32')"
   ],
   "metadata": {
    "collapsed": false,
    "pycharm": {
     "name": "#%%\n"
    }
   }
  },
  {
   "cell_type": "code",
   "execution_count": 12,
   "outputs": [
    {
     "name": "stdout",
     "output_type": "stream",
     "text": [
      "<class 'pandas.core.frame.DataFrame'>\n",
      "RangeIndex: 1303 entries, 0 to 1302\n",
      "Data columns (total 11 columns):\n",
      " #   Column            Non-Null Count  Dtype  \n",
      "---  ------            --------------  -----  \n",
      " 0   Company           1303 non-null   object \n",
      " 1   TypeName          1303 non-null   object \n",
      " 2   Inches            1303 non-null   float64\n",
      " 3   ScreenResolution  1303 non-null   object \n",
      " 4   Cpu               1303 non-null   object \n",
      " 5   Ram               1303 non-null   int32  \n",
      " 6   Memory            1303 non-null   object \n",
      " 7   Gpu               1303 non-null   object \n",
      " 8   OpSys             1303 non-null   object \n",
      " 9   Weight            1303 non-null   float32\n",
      " 10  Price             1303 non-null   float64\n",
      "dtypes: float32(1), float64(2), int32(1), object(7)\n",
      "memory usage: 101.9+ KB\n"
     ]
    }
   ],
   "source": [
    "df.info()"
   ],
   "metadata": {
    "collapsed": false,
    "pycharm": {
     "name": "#%%\n"
    }
   }
  },
  {
   "cell_type": "markdown",
   "source": [
    "# Exploratory Data Analysis\n",
    "### initial investigation to discover patterns, spot anomalies, test hypothesis and check assumptions"
   ],
   "metadata": {
    "collapsed": false,
    "pycharm": {
     "name": "#%% md\n"
    }
   }
  },
  {
   "cell_type": "code",
   "execution_count": 13,
   "outputs": [
    {
     "name": "stderr",
     "output_type": "stream",
     "text": [
      "C:\\Users\\abhik\\AppData\\Roaming\\Python\\Python310\\site-packages\\seaborn\\distributions.py:2619: FutureWarning: `distplot` is a deprecated function and will be removed in a future version. Please adapt your code to use either `displot` (a figure-level function with similar flexibility) or `histplot` (an axes-level function for histograms).\n",
      "  warnings.warn(msg, FutureWarning)\n"
     ]
    },
    {
     "data": {
      "text/plain": "<AxesSubplot:xlabel='Price', ylabel='Density'>"
     },
     "execution_count": 13,
     "metadata": {},
     "output_type": "execute_result"
    },
    {
     "data": {
      "text/plain": "<Figure size 432x288 with 1 Axes>",
      "image/png": "[encoded data removed]"
     },
     "metadata": {
      "needs_background": "light"
     },
     "output_type": "display_data"
    }
   ],
   "source": [
    "import seaborn as sns\n",
    "sns.distplot(df['Price'])"
   ],
   "metadata": {
    "collapsed": false,
    "pycharm": {
     "name": "#%%\n"
    }
   }
  },
  {
   "cell_type": "code",
   "execution_count": 14,
   "outputs": [
    {
     "data": {
      "text/plain": "<AxesSubplot:>"
     },
     "execution_count": 14,
     "metadata": {},
     "output_type": "execute_result"
    },
    {
     "data": {
      "text/plain": "<Figure size 432x288 with 1 Axes>",
      "image/png": "[encoded data removed]"
     },
     "metadata": {
      "needs_background": "light"
     },
     "output_type": "display_data"
    }
   ],
   "source": [
    "df['Company'].value_counts().plot(kind='bar')"
   ],
   "metadata": {
    "collapsed": false,
    "pycharm": {
     "name": "#%%\n"
    }
   }
  },
  {
   "cell_type": "code",
   "execution_count": 15,
   "outputs": [
    {
     "data": {
      "text/plain": "<Figure size 432x288 with 1 Axes>",
      "image/png": "[encoded data removed]"
     },
     "metadata": {
      "needs_background": "light"
     },
     "output_type": "display_data"
    }
   ],
   "source": [
    "import matplotlib.pyplot as plt\n",
    "sns.barplot(x=df['Company'],y=df['Price'])\n",
    "plt.xticks(rotation='vertical')\n",
    "plt.show()"
   ],
   "metadata": {
    "collapsed": false,
    "pycharm": {
     "name": "#%%\n"
    }
   }
  },
  {
   "cell_type": "code",
   "execution_count": 16,
   "outputs": [
    {
     "data": {
      "text/plain": "<AxesSubplot:>"
     },
     "execution_count": 16,
     "metadata": {},
     "output_type": "execute_result"
    },
    {
     "data": {
      "text/plain": "<Figure size 432x288 with 1 Axes>",
      "image/png": "[encoded data removed]"
     },
     "metadata": {
      "needs_background": "light"
     },
     "output_type": "display_data"
    }
   ],
   "source": [
    "df['TypeName'].value_counts().plot(kind='bar')"
   ],
   "metadata": {
    "collapsed": false,
    "pycharm": {
     "name": "#%%\n"
    }
   }
  },
  {
   "cell_type": "code",
   "execution_count": 17,
   "outputs": [
    {
     "data": {
      "text/plain": "<Figure size 432x288 with 1 Axes>",
      "image/png": "[encoded data removed]"
     },
     "metadata": {
      "needs_background": "light"
     },
     "output_type": "display_data"
    }
   ],
   "source": [
    "sns.barplot(x=df['TypeName'],y=df['Price'])\n",
    "plt.xticks(rotation='vertical')\n",
    "plt.show()"
   ],
   "metadata": {
    "collapsed": false,
    "pycharm": {
     "name": "#%%\n"
    }
   }
  },
  {
   "cell_type": "code",
   "execution_count": 18,
   "outputs": [
    {
     "name": "stderr",
     "output_type": "stream",
     "text": [
      "C:\\Users\\abhik\\AppData\\Roaming\\Python\\Python310\\site-packages\\seaborn\\distributions.py:2619: FutureWarning: `distplot` is a deprecated function and will be removed in a future version. Please adapt your code to use either `displot` (a figure-level function with similar flexibility) or `histplot` (an axes-level function for histograms).\n",
      "  warnings.warn(msg, FutureWarning)\n"
     ]
    },
    {
     "data": {
      "text/plain": "<AxesSubplot:xlabel='Inches', ylabel='Density'>"
     },
     "execution_count": 18,
     "metadata": {},
     "output_type": "execute_result"
    },
    {
     "data": {
      "text/plain": "<Figure size 432x288 with 1 Axes>",
      "image/png": "[encoded data removed]"
     },
     "metadata": {
      "needs_background": "light"
     },
     "output_type": "display_data"
    }
   ],
   "source": [
    "sns.distplot(df['Inches'])"
   ],
   "metadata": {
    "collapsed": false,
    "pycharm": {
     "name": "#%%\n"
    }
   }
  },
  {
   "cell_type": "code",
   "execution_count": 19,
   "outputs": [
    {
     "data": {
      "text/plain": "<AxesSubplot:xlabel='Inches', ylabel='Price'>"
     },
     "execution_count": 19,
     "metadata": {},
     "output_type": "execute_result"
    },
    {
     "data": {
      "text/plain": "<Figure size 432x288 with 1 Axes>",
      "image/png": "[encoded data removed]"
     },
     "metadata": {
      "needs_background": "light"
     },
     "output_type": "display_data"
    }
   ],
   "source": [
    "sns.scatterplot(x=df['Inches'],y=df['Price'])"
   ],
   "metadata": {
    "collapsed": false,
    "pycharm": {
     "name": "#%%\n"
    }
   }
  },
  {
   "cell_type": "code",
   "execution_count": 20,
   "outputs": [
    {
     "data": {
      "text/plain": "Full HD 1920x1080                                507\n1366x768                                         281\nIPS Panel Full HD 1920x1080                      230\nIPS Panel Full HD / Touchscreen 1920x1080         53\nFull HD / Touchscreen 1920x1080                   47\n1600x900                                          23\nTouchscreen 1366x768                              16\nQuad HD+ / Touchscreen 3200x1800                  15\nIPS Panel 4K Ultra HD 3840x2160                   12\nIPS Panel 4K Ultra HD / Touchscreen 3840x2160     11\n4K Ultra HD / Touchscreen 3840x2160               10\n4K Ultra HD 3840x2160                              7\nTouchscreen 2560x1440                              7\nIPS Panel 1366x768                                 7\nIPS Panel Quad HD+ / Touchscreen 3200x1800         6\nIPS Panel Retina Display 2560x1600                 6\nIPS Panel Retina Display 2304x1440                 6\nTouchscreen 2256x1504                              6\nIPS Panel Touchscreen 2560x1440                    5\nIPS Panel Retina Display 2880x1800                 4\nIPS Panel Touchscreen 1920x1200                    4\n1440x900                                           4\nIPS Panel 2560x1440                                4\nIPS Panel Quad HD+ 2560x1440                       3\nQuad HD+ 3200x1800                                 3\n1920x1080                                          3\nTouchscreen 2400x1600                              3\n2560x1440                                          3\nIPS Panel Touchscreen 1366x768                     3\nIPS Panel Touchscreen / 4K Ultra HD 3840x2160      2\nIPS Panel Full HD 2160x1440                        2\nIPS Panel Quad HD+ 3200x1800                       2\nIPS Panel Retina Display 2736x1824                 1\nIPS Panel Full HD 1920x1200                        1\nIPS Panel Full HD 2560x1440                        1\nIPS Panel Full HD 1366x768                         1\nTouchscreen / Full HD 1920x1080                    1\nTouchscreen / Quad HD+ 3200x1800                   1\nTouchscreen / 4K Ultra HD 3840x2160                1\nIPS Panel Touchscreen 2400x1600                    1\nName: ScreenResolution, dtype: int64"
     },
     "execution_count": 20,
     "metadata": {},
     "output_type": "execute_result"
    }
   ],
   "source": [
    "df['ScreenResolution'].value_counts()"
   ],
   "metadata": {
    "collapsed": false,
    "pycharm": {
     "name": "#%%\n"
    }
   }
  },
  {
   "cell_type": "markdown",
   "source": [
    "# Feature Engineering\n",
    "### leverages data to create new variables"
   ],
   "metadata": {
    "collapsed": false,
    "pycharm": {
     "name": "#%% md\n"
    }
   }
  },
  {
   "cell_type": "markdown",
   "source": [
    "#### - creating a new column Touchscreen with value 1 if touchscreen is available, else 0"
   ],
   "metadata": {
    "collapsed": false,
    "pycharm": {
     "name": "#%% md\n"
    }
   }
  },
  {
   "cell_type": "code",
   "execution_count": 21,
   "outputs": [],
   "source": [
    "df['Touchscreen'] = df['ScreenResolution'].apply(lambda x:1 if 'Touchscreen' in x else 0)"
   ],
   "metadata": {
    "collapsed": false,
    "pycharm": {
     "name": "#%%\n"
    }
   }
  },
  {
   "cell_type": "code",
   "execution_count": 22,
   "outputs": [
    {
     "data": {
      "text/plain": "  Company   TypeName  Inches                    ScreenResolution  \\\n0   Apple  Ultrabook    13.3  IPS Panel Retina Display 2560x1600   \n1   Apple  Ultrabook    13.3                            1440x900   \n2      HP   Notebook    15.6                   Full HD 1920x1080   \n3   Apple  Ultrabook    15.4  IPS Panel Retina Display 2880x1800   \n4   Apple  Ultrabook    13.3  IPS Panel Retina Display 2560x1600   \n\n                          Cpu  Ram               Memory  \\\n0        Intel Core i5 2.3GHz    8            128GB SSD   \n1        Intel Core i5 1.8GHz    8  128GB Flash Storage   \n2  Intel Core i5 7200U 2.5GHz    8            256GB SSD   \n3        Intel Core i7 2.7GHz   16            512GB SSD   \n4        Intel Core i5 3.1GHz    8            256GB SSD   \n\n                            Gpu  OpSys  Weight        Price  Touchscreen  \n0  Intel Iris Plus Graphics 640  macOS    1.37   71378.6832            0  \n1        Intel HD Graphics 6000  macOS    1.34   47895.5232            0  \n2         Intel HD Graphics 620  No OS    1.86   30636.0000            0  \n3            AMD Radeon Pro 455  macOS    1.83  135195.3360            0  \n4  Intel Iris Plus Graphics 650  macOS    1.37   96095.8080            0  ",
      "text/html": "<div>\n<style scoped>\n    .dataframe tbody tr th:only-of-type {\n        vertical-align: middle;\n    }\n\n    .dataframe tbody tr th {\n        vertical-align: top;\n    }\n\n    .dataframe thead th {\n        text-align: right;\n    }\n</style>\n<table border=\"1\" class=\"dataframe\">\n  <thead>\n    <tr style=\"text-align: right;\">\n      <th></th>\n      <th>Company</th>\n      <th>TypeName</th>\n      <th>Inches</th>\n      <th>ScreenResolution</th>\n      <th>Cpu</th>\n      <th>Ram</th>\n      <th>Memory</th>\n      <th>Gpu</th>\n      <th>OpSys</th>\n      <th>Weight</th>\n      <th>Price</th>\n      <th>Touchscreen</th>\n    </tr>\n  </thead>\n  <tbody>\n    <tr>\n      <th>0</th>\n      <td>Apple</td>\n      <td>Ultrabook</td>\n      <td>13.3</td>\n      <td>IPS Panel Retina Display 2560x1600</td>\n      <td>Intel Core i5 2.3GHz</td>\n      <td>8</td>\n      <td>128GB SSD</td>\n      <td>Intel Iris Plus Graphics 640</td>\n      <td>macOS</td>\n      <td>1.37</td>\n      <td>71378.6832</td>\n      <td>0</td>\n    </tr>\n    <tr>\n      <th>1</th>\n      <td>Apple</td>\n      <td>Ultrabook</td>\n      <td>13.3</td>\n      <td>1440x900</td>\n      <td>Intel Core i5 1.8GHz</td>\n      <td>8</td>\n      <td>128GB Flash Storage</td>\n      <td>Intel HD Graphics 6000</td>\n      <td>macOS</td>\n      <td>1.34</td>\n      <td>47895.5232</td>\n      <td>0</td>\n    </tr>\n    <tr>\n      <th>2</th>\n      <td>HP</td>\n      <td>Notebook</td>\n      <td>15.6</td>\n      <td>Full HD 1920x1080</td>\n      <td>Intel Core i5 7200U 2.5GHz</td>\n      <td>8</td>\n      <td>256GB SSD</td>\n      <td>Intel HD Graphics 620</td>\n      <td>No OS</td>\n      <td>1.86</td>\n      <td>30636.0000</td>\n      <td>0</td>\n    </tr>\n    <tr>\n      <th>3</th>\n      <td>Apple</td>\n      <td>Ultrabook</td>\n      <td>15.4</td>\n      <td>IPS Panel Retina Display 2880x1800</td>\n      <td>Intel Core i7 2.7GHz</td>\n      <td>16</td>\n      <td>512GB SSD</td>\n      <td>AMD Radeon Pro 455</td>\n      <td>macOS</td>\n      <td>1.83</td>\n      <td>135195.3360</td>\n      <td>0</td>\n    </tr>\n    <tr>\n      <th>4</th>\n      <td>Apple</td>\n      <td>Ultrabook</td>\n      <td>13.3</td>\n      <td>IPS Panel Retina Display 2560x1600</td>\n      <td>Intel Core i5 3.1GHz</td>\n      <td>8</td>\n      <td>256GB SSD</td>\n      <td>Intel Iris Plus Graphics 650</td>\n      <td>macOS</td>\n      <td>1.37</td>\n      <td>96095.8080</td>\n      <td>0</td>\n    </tr>\n  </tbody>\n</table>\n</div>"
     },
     "execution_count": 22,
     "metadata": {},
     "output_type": "execute_result"
    }
   ],
   "source": [
    "df.head()"
   ],
   "metadata": {
    "collapsed": false,
    "pycharm": {
     "name": "#%%\n"
    }
   }
  },
  {
   "cell_type": "code",
   "execution_count": 23,
   "outputs": [
    {
     "data": {
      "text/plain": "     Company  TypeName  Inches             ScreenResolution  \\\n363       HP  Notebook    15.6            Full HD 1920x1080   \n582       HP  Notebook    13.3            Full HD 1920x1080   \n303   Lenovo  Notebook    15.6                     1366x768   \n655  Toshiba  Notebook    15.6  IPS Panel Full HD 1920x1080   \n653      MSI    Gaming    15.6            Full HD 1920x1080   \n\n                             Cpu  Ram                Memory  \\\n363   Intel Core i5 7200U 2.5GHz    8               1TB HDD   \n582   Intel Core i3 7100U 2.4GHz    4             128GB SSD   \n303   Intel Core i5 7200U 2.5GHz    8               2TB HDD   \n655   Intel Core i5 7200U 2.5GHz    8             500GB HDD   \n653  Intel Core i7 7700HQ 2.8GHz    8  128GB SSD +  1TB HDD   \n\n                            Gpu       OpSys  Weight      Price  Touchscreen  \n363       Intel HD Graphics 620  Windows 10    1.86  34045.920            0  \n582       Intel HD Graphics 620  Windows 10    1.49  38308.320            0  \n303        Nvidia GeForce 940MX       No OS    2.20  29250.720            0  \n655       Intel HD Graphics 620  Windows 10    2.00  56689.920            0  \n653  Nvidia GeForce GTX 1050 Ti  Windows 10    2.20  63499.104            0  ",
      "text/html": "<div>\n<style scoped>\n    .dataframe tbody tr th:only-of-type {\n        vertical-align: middle;\n    }\n\n    .dataframe tbody tr th {\n        vertical-align: top;\n    }\n\n    .dataframe thead th {\n        text-align: right;\n    }\n</style>\n<table border=\"1\" class=\"dataframe\">\n  <thead>\n    <tr style=\"text-align: right;\">\n      <th></th>\n      <th>Company</th>\n      <th>TypeName</th>\n      <th>Inches</th>\n      <th>ScreenResolution</th>\n      <th>Cpu</th>\n      <th>Ram</th>\n      <th>Memory</th>\n      <th>Gpu</th>\n      <th>OpSys</th>\n      <th>Weight</th>\n      <th>Price</th>\n      <th>Touchscreen</th>\n    </tr>\n  </thead>\n  <tbody>\n    <tr>\n      <th>363</th>\n      <td>HP</td>\n      <td>Notebook</td>\n      <td>15.6</td>\n      <td>Full HD 1920x1080</td>\n      <td>Intel Core i5 7200U 2.5GHz</td>\n      <td>8</td>\n      <td>1TB HDD</td>\n      <td>Intel HD Graphics 620</td>\n      <td>Windows 10</td>\n      <td>1.86</td>\n      <td>34045.920</td>\n      <td>0</td>\n    </tr>\n    <tr>\n      <th>582</th>\n      <td>HP</td>\n      <td>Notebook</td>\n      <td>13.3</td>\n      <td>Full HD 1920x1080</td>\n      <td>Intel Core i3 7100U 2.4GHz</td>\n      <td>4</td>\n      <td>128GB SSD</td>\n      <td>Intel HD Graphics 620</td>\n      <td>Windows 10</td>\n      <td>1.49</td>\n      <td>38308.320</td>\n      <td>0</td>\n    </tr>\n    <tr>\n      <th>303</th>\n      <td>Lenovo</td>\n      <td>Notebook</td>\n      <td>15.6</td>\n      <td>1366x768</td>\n      <td>Intel Core i5 7200U 2.5GHz</td>\n      <td>8</td>\n      <td>2TB HDD</td>\n      <td>Nvidia GeForce 940MX</td>\n      <td>No OS</td>\n      <td>2.20</td>\n      <td>29250.720</td>\n      <td>0</td>\n    </tr>\n    <tr>\n      <th>655</th>\n      <td>Toshiba</td>\n      <td>Notebook</td>\n      <td>15.6</td>\n      <td>IPS Panel Full HD 1920x1080</td>\n      <td>Intel Core i5 7200U 2.5GHz</td>\n      <td>8</td>\n      <td>500GB HDD</td>\n      <td>Intel HD Graphics 620</td>\n      <td>Windows 10</td>\n      <td>2.00</td>\n      <td>56689.920</td>\n      <td>0</td>\n    </tr>\n    <tr>\n      <th>653</th>\n      <td>MSI</td>\n      <td>Gaming</td>\n      <td>15.6</td>\n      <td>Full HD 1920x1080</td>\n      <td>Intel Core i7 7700HQ 2.8GHz</td>\n      <td>8</td>\n      <td>128GB SSD +  1TB HDD</td>\n      <td>Nvidia GeForce GTX 1050 Ti</td>\n      <td>Windows 10</td>\n      <td>2.20</td>\n      <td>63499.104</td>\n      <td>0</td>\n    </tr>\n  </tbody>\n</table>\n</div>"
     },
     "execution_count": 23,
     "metadata": {},
     "output_type": "execute_result"
    }
   ],
   "source": [
    "df.sample(5)"
   ],
   "metadata": {
    "collapsed": false,
    "pycharm": {
     "name": "#%%\n"
    }
   }
  },
  {
   "cell_type": "code",
   "execution_count": 24,
   "outputs": [
    {
     "data": {
      "text/plain": "<AxesSubplot:>"
     },
     "execution_count": 24,
     "metadata": {},
     "output_type": "execute_result"
    },
    {
     "data": {
      "text/plain": "<Figure size 432x288 with 1 Axes>",
      "image/png": "[encoded data removed]"
     },
     "metadata": {
      "needs_background": "light"
     },
     "output_type": "display_data"
    }
   ],
   "source": [
    "df['Touchscreen'].value_counts().plot(kind='bar')"
   ],
   "metadata": {
    "collapsed": false,
    "pycharm": {
     "name": "#%%\n"
    }
   }
  },
  {
   "cell_type": "code",
   "execution_count": 25,
   "outputs": [
    {
     "data": {
      "text/plain": "<AxesSubplot:xlabel='Touchscreen', ylabel='Price'>"
     },
     "execution_count": 25,
     "metadata": {},
     "output_type": "execute_result"
    },
    {
     "data": {
      "text/plain": "<Figure size 432x288 with 1 Axes>",
      "image/png": "[encoded data removed]"
     },
     "metadata": {
      "needs_background": "light"
     },
     "output_type": "display_data"
    }
   ],
   "source": [
    "sns.barplot(x=df['Touchscreen'],y=df['Price'])"
   ],
   "metadata": {
    "collapsed": false,
    "pycharm": {
     "name": "#%%\n"
    }
   }
  },
  {
   "cell_type": "markdown",
   "source": [
    "#### - creating a new column IPS with value 1 if IPS panel is available, else 0"
   ],
   "metadata": {
    "collapsed": false,
    "pycharm": {
     "name": "#%% md\n"
    }
   }
  },
  {
   "cell_type": "code",
   "execution_count": 26,
   "outputs": [],
   "source": [
    "df['Ips'] = df['ScreenResolution'].apply(lambda x:1 if 'IPS' in x else 0)"
   ],
   "metadata": {
    "collapsed": false,
    "pycharm": {
     "name": "#%%\n"
    }
   }
  },
  {
   "cell_type": "code",
   "execution_count": 27,
   "outputs": [
    {
     "data": {
      "text/plain": "  Company   TypeName  Inches                    ScreenResolution  \\\n0   Apple  Ultrabook    13.3  IPS Panel Retina Display 2560x1600   \n1   Apple  Ultrabook    13.3                            1440x900   \n2      HP   Notebook    15.6                   Full HD 1920x1080   \n3   Apple  Ultrabook    15.4  IPS Panel Retina Display 2880x1800   \n4   Apple  Ultrabook    13.3  IPS Panel Retina Display 2560x1600   \n\n                          Cpu  Ram               Memory  \\\n0        Intel Core i5 2.3GHz    8            128GB SSD   \n1        Intel Core i5 1.8GHz    8  128GB Flash Storage   \n2  Intel Core i5 7200U 2.5GHz    8            256GB SSD   \n3        Intel Core i7 2.7GHz   16            512GB SSD   \n4        Intel Core i5 3.1GHz    8            256GB SSD   \n\n                            Gpu  OpSys  Weight        Price  Touchscreen  Ips  \n0  Intel Iris Plus Graphics 640  macOS    1.37   71378.6832            0    1  \n1        Intel HD Graphics 6000  macOS    1.34   47895.5232            0    0  \n2         Intel HD Graphics 620  No OS    1.86   30636.0000            0    0  \n3            AMD Radeon Pro 455  macOS    1.83  135195.3360            0    1  \n4  Intel Iris Plus Graphics 650  macOS    1.37   96095.8080            0    1  ",
      "text/html": "<div>\n<style scoped>\n    .dataframe tbody tr th:only-of-type {\n        vertical-align: middle;\n    }\n\n    .dataframe tbody tr th {\n        vertical-align: top;\n    }\n\n    .dataframe thead th {\n        text-align: right;\n    }\n</style>\n<table border=\"1\" class=\"dataframe\">\n  <thead>\n    <tr style=\"text-align: right;\">\n      <th></th>\n      <th>Company</th>\n      <th>TypeName</th>\n      <th>Inches</th>\n      <th>ScreenResolution</th>\n      <th>Cpu</th>\n      <th>Ram</th>\n      <th>Memory</th>\n      <th>Gpu</th>\n      <th>OpSys</th>\n      <th>Weight</th>\n      <th>Price</th>\n      <th>Touchscreen</th>\n      <th>Ips</th>\n    </tr>\n  </thead>\n  <tbody>\n    <tr>\n      <th>0</th>\n      <td>Apple</td>\n      <td>Ultrabook</td>\n      <td>13.3</td>\n      <td>IPS Panel Retina Display 2560x1600</td>\n      <td>Intel Core i5 2.3GHz</td>\n      <td>8</td>\n      <td>128GB SSD</td>\n      <td>Intel Iris Plus Graphics 640</td>\n      <td>macOS</td>\n      <td>1.37</td>\n      <td>71378.6832</td>\n      <td>0</td>\n      <td>1</td>\n    </tr>\n    <tr>\n      <th>1</th>\n      <td>Apple</td>\n      <td>Ultrabook</td>\n      <td>13.3</td>\n      <td>1440x900</td>\n      <td>Intel Core i5 1.8GHz</td>\n      <td>8</td>\n      <td>128GB Flash Storage</td>\n      <td>Intel HD Graphics 6000</td>\n      <td>macOS</td>\n      <td>1.34</td>\n      <td>47895.5232</td>\n      <td>0</td>\n      <td>0</td>\n    </tr>\n    <tr>\n      <th>2</th>\n      <td>HP</td>\n      <td>Notebook</td>\n      <td>15.6</td>\n      <td>Full HD 1920x1080</td>\n      <td>Intel Core i5 7200U 2.5GHz</td>\n      <td>8</td>\n      <td>256GB SSD</td>\n      <td>Intel HD Graphics 620</td>\n      <td>No OS</td>\n      <td>1.86</td>\n      <td>30636.0000</td>\n      <td>0</td>\n      <td>0</td>\n    </tr>\n    <tr>\n      <th>3</th>\n      <td>Apple</td>\n      <td>Ultrabook</td>\n      <td>15.4</td>\n      <td>IPS Panel Retina Display 2880x1800</td>\n      <td>Intel Core i7 2.7GHz</td>\n      <td>16</td>\n      <td>512GB SSD</td>\n      <td>AMD Radeon Pro 455</td>\n      <td>macOS</td>\n      <td>1.83</td>\n      <td>135195.3360</td>\n      <td>0</td>\n      <td>1</td>\n    </tr>\n    <tr>\n      <th>4</th>\n      <td>Apple</td>\n      <td>Ultrabook</td>\n      <td>13.3</td>\n      <td>IPS Panel Retina Display 2560x1600</td>\n      <td>Intel Core i5 3.1GHz</td>\n      <td>8</td>\n      <td>256GB SSD</td>\n      <td>Intel Iris Plus Graphics 650</td>\n      <td>macOS</td>\n      <td>1.37</td>\n      <td>96095.8080</td>\n      <td>0</td>\n      <td>1</td>\n    </tr>\n  </tbody>\n</table>\n</div>"
     },
     "execution_count": 27,
     "metadata": {},
     "output_type": "execute_result"
    }
   ],
   "source": [
    "df.head()"
   ],
   "metadata": {
    "collapsed": false,
    "pycharm": {
     "name": "#%%\n"
    }
   }
  },
  {
   "cell_type": "code",
   "execution_count": 28,
   "outputs": [
    {
     "data": {
      "text/plain": "<AxesSubplot:>"
     },
     "execution_count": 28,
     "metadata": {},
     "output_type": "execute_result"
    },
    {
     "data": {
      "text/plain": "<Figure size 432x288 with 1 Axes>",
      "image/png": "[encoded data removed]"
     },
     "metadata": {
      "needs_background": "light"
     },
     "output_type": "display_data"
    }
   ],
   "source": [
    "df['Ips'].value_counts().plot(kind='bar')"
   ],
   "metadata": {
    "collapsed": false,
    "pycharm": {
     "name": "#%%\n"
    }
   }
  },
  {
   "cell_type": "code",
   "execution_count": 29,
   "outputs": [
    {
     "data": {
      "text/plain": "<AxesSubplot:xlabel='Ips', ylabel='Price'>"
     },
     "execution_count": 29,
     "metadata": {},
     "output_type": "execute_result"
    },
    {
     "data": {
      "text/plain": "<Figure size 432x288 with 1 Axes>",
      "image/png": "[encoded data removed]"
     },
     "metadata": {
      "needs_background": "light"
     },
     "output_type": "display_data"
    }
   ],
   "source": [
    "sns.barplot(x=df['Ips'],y=df['Price'])"
   ],
   "metadata": {
    "collapsed": false,
    "pycharm": {
     "name": "#%%\n"
    }
   }
  },
  {
   "cell_type": "markdown",
   "source": [
    "#### - Extracting X resolution and Y resolution from the ScreenResolution"
   ],
   "metadata": {
    "collapsed": false,
    "pycharm": {
     "name": "#%% md\n"
    }
   }
  },
  {
   "cell_type": "code",
   "execution_count": 30,
   "outputs": [],
   "source": [
    "new = df['ScreenResolution'].str.split('x',n=1,expand=True)"
   ],
   "metadata": {
    "collapsed": false,
    "pycharm": {
     "name": "#%%\n"
    }
   }
  },
  {
   "cell_type": "code",
   "execution_count": 31,
   "outputs": [
    {
     "data": {
      "text/plain": "  Company   TypeName  Inches                    ScreenResolution  \\\n0   Apple  Ultrabook    13.3  IPS Panel Retina Display 2560x1600   \n1   Apple  Ultrabook    13.3                            1440x900   \n2      HP   Notebook    15.6                   Full HD 1920x1080   \n3   Apple  Ultrabook    15.4  IPS Panel Retina Display 2880x1800   \n4   Apple  Ultrabook    13.3  IPS Panel Retina Display 2560x1600   \n\n                          Cpu  Ram               Memory  \\\n0        Intel Core i5 2.3GHz    8            128GB SSD   \n1        Intel Core i5 1.8GHz    8  128GB Flash Storage   \n2  Intel Core i5 7200U 2.5GHz    8            256GB SSD   \n3        Intel Core i7 2.7GHz   16            512GB SSD   \n4        Intel Core i5 3.1GHz    8            256GB SSD   \n\n                            Gpu  OpSys  Weight        Price  Touchscreen  Ips  \\\n0  Intel Iris Plus Graphics 640  macOS    1.37   71378.6832            0    1   \n1        Intel HD Graphics 6000  macOS    1.34   47895.5232            0    0   \n2         Intel HD Graphics 620  No OS    1.86   30636.0000            0    0   \n3            AMD Radeon Pro 455  macOS    1.83  135195.3360            0    1   \n4  Intel Iris Plus Graphics 650  macOS    1.37   96095.8080            0    1   \n\n                           X_res Y_res  \n0  IPS Panel Retina Display 2560  1600  \n1                           1440   900  \n2                   Full HD 1920  1080  \n3  IPS Panel Retina Display 2880  1800  \n4  IPS Panel Retina Display 2560  1600  ",
      "text/html": "<div>\n<style scoped>\n    .dataframe tbody tr th:only-of-type {\n        vertical-align: middle;\n    }\n\n    .dataframe tbody tr th {\n        vertical-align: top;\n    }\n\n    .dataframe thead th {\n        text-align: right;\n    }\n</style>\n<table border=\"1\" class=\"dataframe\">\n  <thead>\n    <tr style=\"text-align: right;\">\n      <th></th>\n      <th>Company</th>\n      <th>TypeName</th>\n      <th>Inches</th>\n      <th>ScreenResolution</th>\n      <th>Cpu</th>\n      <th>Ram</th>\n      <th>Memory</th>\n      <th>Gpu</th>\n      <th>OpSys</th>\n      <th>Weight</th>\n      <th>Price</th>\n      <th>Touchscreen</th>\n      <th>Ips</th>\n      <th>X_res</th>\n      <th>Y_res</th>\n    </tr>\n  </thead>\n  <tbody>\n    <tr>\n      <th>0</th>\n      <td>Apple</td>\n      <td>Ultrabook</td>\n      <td>13.3</td>\n      <td>IPS Panel Retina Display 2560x1600</td>\n      <td>Intel Core i5 2.3GHz</td>\n      <td>8</td>\n      <td>128GB SSD</td>\n      <td>Intel Iris Plus Graphics 640</td>\n      <td>macOS</td>\n      <td>1.37</td>\n      <td>71378.6832</td>\n      <td>0</td>\n      <td>1</td>\n      <td>IPS Panel Retina Display 2560</td>\n      <td>1600</td>\n    </tr>\n    <tr>\n      <th>1</th>\n      <td>Apple</td>\n      <td>Ultrabook</td>\n      <td>13.3</td>\n      <td>1440x900</td>\n      <td>Intel Core i5 1.8GHz</td>\n      <td>8</td>\n      <td>128GB Flash Storage</td>\n      <td>Intel HD Graphics 6000</td>\n      <td>macOS</td>\n      <td>1.34</td>\n      <td>47895.5232</td>\n      <td>0</td>\n      <td>0</td>\n      <td>1440</td>\n      <td>900</td>\n    </tr>\n    <tr>\n      <th>2</th>\n      <td>HP</td>\n      <td>Notebook</td>\n      <td>15.6</td>\n      <td>Full HD 1920x1080</td>\n      <td>Intel Core i5 7200U 2.5GHz</td>\n      <td>8</td>\n      <td>256GB SSD</td>\n      <td>Intel HD Graphics 620</td>\n      <td>No OS</td>\n      <td>1.86</td>\n      <td>30636.0000</td>\n      <td>0</td>\n      <td>0</td>\n      <td>Full HD 1920</td>\n      <td>1080</td>\n    </tr>\n    <tr>\n      <th>3</th>\n      <td>Apple</td>\n      <td>Ultrabook</td>\n      <td>15.4</td>\n      <td>IPS Panel Retina Display 2880x1800</td>\n      <td>Intel Core i7 2.7GHz</td>\n      <td>16</td>\n      <td>512GB SSD</td>\n      <td>AMD Radeon Pro 455</td>\n      <td>macOS</td>\n      <td>1.83</td>\n      <td>135195.3360</td>\n      <td>0</td>\n      <td>1</td>\n      <td>IPS Panel Retina Display 2880</td>\n      <td>1800</td>\n    </tr>\n    <tr>\n      <th>4</th>\n      <td>Apple</td>\n      <td>Ultrabook</td>\n      <td>13.3</td>\n      <td>IPS Panel Retina Display 2560x1600</td>\n      <td>Intel Core i5 3.1GHz</td>\n      <td>8</td>\n      <td>256GB SSD</td>\n      <td>Intel Iris Plus Graphics 650</td>\n      <td>macOS</td>\n      <td>1.37</td>\n      <td>96095.8080</td>\n      <td>0</td>\n      <td>1</td>\n      <td>IPS Panel Retina Display 2560</td>\n      <td>1600</td>\n    </tr>\n  </tbody>\n</table>\n</div>"
     },
     "execution_count": 31,
     "metadata": {},
     "output_type": "execute_result"
    }
   ],
   "source": [
    "df['X_res'] = new[0]\n",
    "df['Y_res'] = new[1]\n",
    "df.head()"
   ],
   "metadata": {
    "collapsed": false,
    "pycharm": {
     "name": "#%%\n"
    }
   }
  },
  {
   "cell_type": "code",
   "execution_count": 32,
   "outputs": [
    {
     "data": {
      "text/plain": "      Company            TypeName  Inches                    ScreenResolution  \\\n620        HP            Notebook    14.0                            1366x768   \n872   Toshiba            Notebook    15.6         IPS Panel Full HD 1920x1080   \n124      Acer            Notebook    15.6                            1366x768   \n1210    Apple           Ultrabook    12.0  IPS Panel Retina Display 2304x1440   \n1142       HP  2 in 1 Convertible    13.3     Full HD / Touchscreen 1920x1080   \n\n                             Cpu  Ram               Memory  \\\n620   Intel Core i5 7300U 2.6GHz    8            256GB SSD   \n872   Intel Core i7 7500U 2.7GHz    8            256GB SSD   \n124      AMD A9-Series 9420 3GHz    4            256GB SSD   \n1210         Intel Core M 1.2GHz    8  512GB Flash Storage   \n1142  Intel Core i5 6300U 2.4GHz    8            256GB SSD   \n\n                        Gpu       OpSys  Weight     Price  Touchscreen  Ips  \\\n620   Intel HD Graphics 620  Windows 10    2.31  59886.72            0    0   \n872   Intel HD Graphics 620  Windows 10    2.00  73952.64            0    1   \n124           AMD Radeon R5  Windows 10    2.10  24029.28            0    0   \n1210  Intel HD Graphics 515    Mac OS X    0.92  68145.12            0    1   \n1142  Intel HD Graphics 520  Windows 10    1.48  86793.12            1    0   \n\n                              X_res Y_res  \n620                            1366   768  \n872          IPS Panel Full HD 1920  1080  \n124                            1366   768  \n1210  IPS Panel Retina Display 2304  1440  \n1142     Full HD / Touchscreen 1920  1080  ",
      "text/html": "<div>\n<style scoped>\n    .dataframe tbody tr th:only-of-type {\n        vertical-align: middle;\n    }\n\n    .dataframe tbody tr th {\n        vertical-align: top;\n    }\n\n    .dataframe thead th {\n        text-align: right;\n    }\n</style>\n<table border=\"1\" class=\"dataframe\">\n  <thead>\n    <tr style=\"text-align: right;\">\n      <th></th>\n      <th>Company</th>\n      <th>TypeName</th>\n      <th>Inches</th>\n      <th>ScreenResolution</th>\n      <th>Cpu</th>\n      <th>Ram</th>\n      <th>Memory</th>\n      <th>Gpu</th>\n      <th>OpSys</th>\n      <th>Weight</th>\n      <th>Price</th>\n      <th>Touchscreen</th>\n      <th>Ips</th>\n      <th>X_res</th>\n      <th>Y_res</th>\n    </tr>\n  </thead>\n  <tbody>\n    <tr>\n      <th>620</th>\n      <td>HP</td>\n      <td>Notebook</td>\n      <td>14.0</td>\n      <td>1366x768</td>\n      <td>Intel Core i5 7300U 2.6GHz</td>\n      <td>8</td>\n      <td>256GB SSD</td>\n      <td>Intel HD Graphics 620</td>\n      <td>Windows 10</td>\n      <td>2.31</td>\n      <td>59886.72</td>\n      <td>0</td>\n      <td>0</td>\n      <td>1366</td>\n      <td>768</td>\n    </tr>\n    <tr>\n      <th>872</th>\n      <td>Toshiba</td>\n      <td>Notebook</td>\n      <td>15.6</td>\n      <td>IPS Panel Full HD 1920x1080</td>\n      <td>Intel Core i7 7500U 2.7GHz</td>\n      <td>8</td>\n      <td>256GB SSD</td>\n      <td>Intel HD Graphics 620</td>\n      <td>Windows 10</td>\n      <td>2.00</td>\n      <td>73952.64</td>\n      <td>0</td>\n      <td>1</td>\n      <td>IPS Panel Full HD 1920</td>\n      <td>1080</td>\n    </tr>\n    <tr>\n      <th>124</th>\n      <td>Acer</td>\n      <td>Notebook</td>\n      <td>15.6</td>\n      <td>1366x768</td>\n      <td>AMD A9-Series 9420 3GHz</td>\n      <td>4</td>\n      <td>256GB SSD</td>\n      <td>AMD Radeon R5</td>\n      <td>Windows 10</td>\n      <td>2.10</td>\n      <td>24029.28</td>\n      <td>0</td>\n      <td>0</td>\n      <td>1366</td>\n      <td>768</td>\n    </tr>\n    <tr>\n      <th>1210</th>\n      <td>Apple</td>\n      <td>Ultrabook</td>\n      <td>12.0</td>\n      <td>IPS Panel Retina Display 2304x1440</td>\n      <td>Intel Core M 1.2GHz</td>\n      <td>8</td>\n      <td>512GB Flash Storage</td>\n      <td>Intel HD Graphics 515</td>\n      <td>Mac OS X</td>\n      <td>0.92</td>\n      <td>68145.12</td>\n      <td>0</td>\n      <td>1</td>\n      <td>IPS Panel Retina Display 2304</td>\n      <td>1440</td>\n    </tr>\n    <tr>\n      <th>1142</th>\n      <td>HP</td>\n      <td>2 in 1 Convertible</td>\n      <td>13.3</td>\n      <td>Full HD / Touchscreen 1920x1080</td>\n      <td>Intel Core i5 6300U 2.4GHz</td>\n      <td>8</td>\n      <td>256GB SSD</td>\n      <td>Intel HD Graphics 520</td>\n      <td>Windows 10</td>\n      <td>1.48</td>\n      <td>86793.12</td>\n      <td>1</td>\n      <td>0</td>\n      <td>Full HD / Touchscreen 1920</td>\n      <td>1080</td>\n    </tr>\n  </tbody>\n</table>\n</div>"
     },
     "execution_count": 32,
     "metadata": {},
     "output_type": "execute_result"
    }
   ],
   "source": [
    "df.sample(5)"
   ],
   "metadata": {
    "collapsed": false,
    "pycharm": {
     "name": "#%%\n"
    }
   }
  },
  {
   "cell_type": "code",
   "execution_count": 33,
   "outputs": [],
   "source": [
    "df['X_res'] = df['X_res'].str.replace(',','').str.findall(r'(\\d+\\.?\\d+)').apply(lambda x:x[0])"
   ],
   "metadata": {
    "collapsed": false,
    "pycharm": {
     "name": "#%%\n"
    }
   }
  },
  {
   "cell_type": "code",
   "execution_count": 34,
   "outputs": [
    {
     "data": {
      "text/plain": "  Company   TypeName  Inches                    ScreenResolution  \\\n0   Apple  Ultrabook    13.3  IPS Panel Retina Display 2560x1600   \n1   Apple  Ultrabook    13.3                            1440x900   \n2      HP   Notebook    15.6                   Full HD 1920x1080   \n3   Apple  Ultrabook    15.4  IPS Panel Retina Display 2880x1800   \n4   Apple  Ultrabook    13.3  IPS Panel Retina Display 2560x1600   \n\n                          Cpu  Ram               Memory  \\\n0        Intel Core i5 2.3GHz    8            128GB SSD   \n1        Intel Core i5 1.8GHz    8  128GB Flash Storage   \n2  Intel Core i5 7200U 2.5GHz    8            256GB SSD   \n3        Intel Core i7 2.7GHz   16            512GB SSD   \n4        Intel Core i5 3.1GHz    8            256GB SSD   \n\n                            Gpu  OpSys  Weight        Price  Touchscreen  Ips  \\\n0  Intel Iris Plus Graphics 640  macOS    1.37   71378.6832            0    1   \n1        Intel HD Graphics 6000  macOS    1.34   47895.5232            0    0   \n2         Intel HD Graphics 620  No OS    1.86   30636.0000            0    0   \n3            AMD Radeon Pro 455  macOS    1.83  135195.3360            0    1   \n4  Intel Iris Plus Graphics 650  macOS    1.37   96095.8080            0    1   \n\n  X_res Y_res  \n0  2560  1600  \n1  1440   900  \n2  1920  1080  \n3  2880  1800  \n4  2560  1600  ",
      "text/html": "<div>\n<style scoped>\n    .dataframe tbody tr th:only-of-type {\n        vertical-align: middle;\n    }\n\n    .dataframe tbody tr th {\n        vertical-align: top;\n    }\n\n    .dataframe thead th {\n        text-align: right;\n    }\n</style>\n<table border=\"1\" class=\"dataframe\">\n  <thead>\n    <tr style=\"text-align: right;\">\n      <th></th>\n      <th>Company</th>\n      <th>TypeName</th>\n      <th>Inches</th>\n      <th>ScreenResolution</th>\n      <th>Cpu</th>\n      <th>Ram</th>\n      <th>Memory</th>\n      <th>Gpu</th>\n      <th>OpSys</th>\n      <th>Weight</th>\n      <th>Price</th>\n      <th>Touchscreen</th>\n      <th>Ips</th>\n      <th>X_res</th>\n      <th>Y_res</th>\n    </tr>\n  </thead>\n  <tbody>\n    <tr>\n      <th>0</th>\n      <td>Apple</td>\n      <td>Ultrabook</td>\n      <td>13.3</td>\n      <td>IPS Panel Retina Display 2560x1600</td>\n      <td>Intel Core i5 2.3GHz</td>\n      <td>8</td>\n      <td>128GB SSD</td>\n      <td>Intel Iris Plus Graphics 640</td>\n      <td>macOS</td>\n      <td>1.37</td>\n      <td>71378.6832</td>\n      <td>0</td>\n      <td>1</td>\n      <td>2560</td>\n      <td>1600</td>\n    </tr>\n    <tr>\n      <th>1</th>\n      <td>Apple</td>\n      <td>Ultrabook</td>\n      <td>13.3</td>\n      <td>1440x900</td>\n      <td>Intel Core i5 1.8GHz</td>\n      <td>8</td>\n      <td>128GB Flash Storage</td>\n      <td>Intel HD Graphics 6000</td>\n      <td>macOS</td>\n      <td>1.34</td>\n      <td>47895.5232</td>\n      <td>0</td>\n      <td>0</td>\n      <td>1440</td>\n      <td>900</td>\n    </tr>\n    <tr>\n      <th>2</th>\n      <td>HP</td>\n      <td>Notebook</td>\n      <td>15.6</td>\n      <td>Full HD 1920x1080</td>\n      <td>Intel Core i5 7200U 2.5GHz</td>\n      <td>8</td>\n      <td>256GB SSD</td>\n      <td>Intel HD Graphics 620</td>\n      <td>No OS</td>\n      <td>1.86</td>\n      <td>30636.0000</td>\n      <td>0</td>\n      <td>0</td>\n      <td>1920</td>\n      <td>1080</td>\n    </tr>\n    <tr>\n      <th>3</th>\n      <td>Apple</td>\n      <td>Ultrabook</td>\n      <td>15.4</td>\n      <td>IPS Panel Retina Display 2880x1800</td>\n      <td>Intel Core i7 2.7GHz</td>\n      <td>16</td>\n      <td>512GB SSD</td>\n      <td>AMD Radeon Pro 455</td>\n      <td>macOS</td>\n      <td>1.83</td>\n      <td>135195.3360</td>\n      <td>0</td>\n      <td>1</td>\n      <td>2880</td>\n      <td>1800</td>\n    </tr>\n    <tr>\n      <th>4</th>\n      <td>Apple</td>\n      <td>Ultrabook</td>\n      <td>13.3</td>\n      <td>IPS Panel Retina Display 2560x1600</td>\n      <td>Intel Core i5 3.1GHz</td>\n      <td>8</td>\n      <td>256GB SSD</td>\n      <td>Intel Iris Plus Graphics 650</td>\n      <td>macOS</td>\n      <td>1.37</td>\n      <td>96095.8080</td>\n      <td>0</td>\n      <td>1</td>\n      <td>2560</td>\n      <td>1600</td>\n    </tr>\n  </tbody>\n</table>\n</div>"
     },
     "execution_count": 34,
     "metadata": {},
     "output_type": "execute_result"
    }
   ],
   "source": [
    "df.head()"
   ],
   "metadata": {
    "collapsed": false,
    "pycharm": {
     "name": "#%%\n"
    }
   }
  },
  {
   "cell_type": "code",
   "execution_count": 35,
   "outputs": [
    {
     "name": "stdout",
     "output_type": "stream",
     "text": [
      "<class 'pandas.core.frame.DataFrame'>\n",
      "RangeIndex: 1303 entries, 0 to 1302\n",
      "Data columns (total 15 columns):\n",
      " #   Column            Non-Null Count  Dtype  \n",
      "---  ------            --------------  -----  \n",
      " 0   Company           1303 non-null   object \n",
      " 1   TypeName          1303 non-null   object \n",
      " 2   Inches            1303 non-null   float64\n",
      " 3   ScreenResolution  1303 non-null   object \n",
      " 4   Cpu               1303 non-null   object \n",
      " 5   Ram               1303 non-null   int32  \n",
      " 6   Memory            1303 non-null   object \n",
      " 7   Gpu               1303 non-null   object \n",
      " 8   OpSys             1303 non-null   object \n",
      " 9   Weight            1303 non-null   float32\n",
      " 10  Price             1303 non-null   float64\n",
      " 11  Touchscreen       1303 non-null   int64  \n",
      " 12  Ips               1303 non-null   int64  \n",
      " 13  X_res             1303 non-null   object \n",
      " 14  Y_res             1303 non-null   object \n",
      "dtypes: float32(1), float64(2), int32(1), int64(2), object(9)\n",
      "memory usage: 142.6+ KB\n"
     ]
    }
   ],
   "source": [
    "df.info()"
   ],
   "metadata": {
    "collapsed": false,
    "pycharm": {
     "name": "#%%\n"
    }
   }
  },
  {
   "cell_type": "code",
   "execution_count": 36,
   "outputs": [
    {
     "name": "stdout",
     "output_type": "stream",
     "text": [
      "<class 'pandas.core.frame.DataFrame'>\n",
      "RangeIndex: 1303 entries, 0 to 1302\n",
      "Data columns (total 15 columns):\n",
      " #   Column            Non-Null Count  Dtype  \n",
      "---  ------            --------------  -----  \n",
      " 0   Company           1303 non-null   object \n",
      " 1   TypeName          1303 non-null   object \n",
      " 2   Inches            1303 non-null   float64\n",
      " 3   ScreenResolution  1303 non-null   object \n",
      " 4   Cpu               1303 non-null   object \n",
      " 5   Ram               1303 non-null   int32  \n",
      " 6   Memory            1303 non-null   object \n",
      " 7   Gpu               1303 non-null   object \n",
      " 8   OpSys             1303 non-null   object \n",
      " 9   Weight            1303 non-null   float32\n",
      " 10  Price             1303 non-null   float64\n",
      " 11  Touchscreen       1303 non-null   int64  \n",
      " 12  Ips               1303 non-null   int64  \n",
      " 13  X_res             1303 non-null   int32  \n",
      " 14  Y_res             1303 non-null   int32  \n",
      "dtypes: float32(1), float64(2), int32(3), int64(2), object(7)\n",
      "memory usage: 132.5+ KB\n"
     ]
    }
   ],
   "source": [
    "df['X_res'] = df['X_res'].astype('int')\n",
    "df['Y_res'] = df['Y_res'].astype('int')\n",
    "df.info()"
   ],
   "metadata": {
    "collapsed": false,
    "pycharm": {
     "name": "#%%\n"
    }
   }
  },
  {
   "cell_type": "code",
   "execution_count": 37,
   "outputs": [
    {
     "data": {
      "text/plain": "Inches         0.068197\nRam            0.743007\nWeight         0.210370\nPrice          1.000000\nTouchscreen    0.191226\nIps            0.252208\nX_res          0.556529\nY_res          0.552809\nName: Price, dtype: float64"
     },
     "execution_count": 37,
     "metadata": {},
     "output_type": "execute_result"
    }
   ],
   "source": [
    "df.corr()['Price']"
   ],
   "metadata": {
    "collapsed": false,
    "pycharm": {
     "name": "#%%\n"
    }
   }
  },
  {
   "cell_type": "markdown",
   "source": [
    "#### - Adding new feature ppi"
   ],
   "metadata": {
    "collapsed": false,
    "pycharm": {
     "name": "#%% md\n"
    }
   }
  },
  {
   "cell_type": "code",
   "execution_count": 38,
   "outputs": [],
   "source": [
    "df['ppi'] = (((df['X_res']**2) + (df['Y_res']**2))**0.5/df['Inches']).astype('float')"
   ],
   "metadata": {
    "collapsed": false,
    "pycharm": {
     "name": "#%%\n"
    }
   }
  },
  {
   "cell_type": "code",
   "execution_count": 39,
   "outputs": [
    {
     "data": {
      "text/plain": "Inches         0.068197\nRam            0.743007\nWeight         0.210370\nPrice          1.000000\nTouchscreen    0.191226\nIps            0.252208\nX_res          0.556529\nY_res          0.552809\nppi            0.473487\nName: Price, dtype: float64"
     },
     "execution_count": 39,
     "metadata": {},
     "output_type": "execute_result"
    }
   ],
   "source": [
    "df.corr()['Price']"
   ],
   "metadata": {
    "collapsed": false,
    "pycharm": {
     "name": "#%%\n"
    }
   }
  },
  {
   "cell_type": "code",
   "execution_count": 40,
   "outputs": [],
   "source": [
    "df.drop(columns=['ScreenResolution'],inplace=True)"
   ],
   "metadata": {
    "collapsed": false,
    "pycharm": {
     "name": "#%%\n"
    }
   }
  },
  {
   "cell_type": "code",
   "execution_count": 41,
   "outputs": [
    {
     "data": {
      "text/plain": "  Company   TypeName  Inches                         Cpu  Ram  \\\n0   Apple  Ultrabook    13.3        Intel Core i5 2.3GHz    8   \n1   Apple  Ultrabook    13.3        Intel Core i5 1.8GHz    8   \n2      HP   Notebook    15.6  Intel Core i5 7200U 2.5GHz    8   \n3   Apple  Ultrabook    15.4        Intel Core i7 2.7GHz   16   \n4   Apple  Ultrabook    13.3        Intel Core i5 3.1GHz    8   \n\n                Memory                           Gpu  OpSys  Weight  \\\n0            128GB SSD  Intel Iris Plus Graphics 640  macOS    1.37   \n1  128GB Flash Storage        Intel HD Graphics 6000  macOS    1.34   \n2            256GB SSD         Intel HD Graphics 620  No OS    1.86   \n3            512GB SSD            AMD Radeon Pro 455  macOS    1.83   \n4            256GB SSD  Intel Iris Plus Graphics 650  macOS    1.37   \n\n         Price  Touchscreen  Ips  X_res  Y_res         ppi  \n0   71378.6832            0    1   2560   1600  226.983005  \n1   47895.5232            0    0   1440    900  127.677940  \n2   30636.0000            0    0   1920   1080  141.211998  \n3  135195.3360            0    1   2880   1800  220.534624  \n4   96095.8080            0    1   2560   1600  226.983005  ",
      "text/html": "<div>\n<style scoped>\n    .dataframe tbody tr th:only-of-type {\n        vertical-align: middle;\n    }\n\n    .dataframe tbody tr th {\n        vertical-align: top;\n    }\n\n    .dataframe thead th {\n        text-align: right;\n    }\n</style>\n<table border=\"1\" class=\"dataframe\">\n  <thead>\n    <tr style=\"text-align: right;\">\n      <th></th>\n      <th>Company</th>\n      <th>TypeName</th>\n      <th>Inches</th>\n      <th>Cpu</th>\n      <th>Ram</th>\n      <th>Memory</th>\n      <th>Gpu</th>\n      <th>OpSys</th>\n      <th>Weight</th>\n      <th>Price</th>\n      <th>Touchscreen</th>\n      <th>Ips</th>\n      <th>X_res</th>\n      <th>Y_res</th>\n      <th>ppi</th>\n    </tr>\n  </thead>\n  <tbody>\n    <tr>\n      <th>0</th>\n      <td>Apple</td>\n      <td>Ultrabook</td>\n      <td>13.3</td>\n      <td>Intel Core i5 2.3GHz</td>\n      <td>8</td>\n      <td>128GB SSD</td>\n      <td>Intel Iris Plus Graphics 640</td>\n      <td>macOS</td>\n      <td>1.37</td>\n      <td>71378.6832</td>\n      <td>0</td>\n      <td>1</td>\n      <td>2560</td>\n      <td>1600</td>\n      <td>226.983005</td>\n    </tr>\n    <tr>\n      <th>1</th>\n      <td>Apple</td>\n      <td>Ultrabook</td>\n      <td>13.3</td>\n      <td>Intel Core i5 1.8GHz</td>\n      <td>8</td>\n      <td>128GB Flash Storage</td>\n      <td>Intel HD Graphics 6000</td>\n      <td>macOS</td>\n      <td>1.34</td>\n      <td>47895.5232</td>\n      <td>0</td>\n      <td>0</td>\n      <td>1440</td>\n      <td>900</td>\n      <td>127.677940</td>\n    </tr>\n    <tr>\n      <th>2</th>\n      <td>HP</td>\n      <td>Notebook</td>\n      <td>15.6</td>\n      <td>Intel Core i5 7200U 2.5GHz</td>\n      <td>8</td>\n      <td>256GB SSD</td>\n      <td>Intel HD Graphics 620</td>\n      <td>No OS</td>\n      <td>1.86</td>\n      <td>30636.0000</td>\n      <td>0</td>\n      <td>0</td>\n      <td>1920</td>\n      <td>1080</td>\n      <td>141.211998</td>\n    </tr>\n    <tr>\n      <th>3</th>\n      <td>Apple</td>\n      <td>Ultrabook</td>\n      <td>15.4</td>\n      <td>Intel Core i7 2.7GHz</td>\n      <td>16</td>\n      <td>512GB SSD</td>\n      <td>AMD Radeon Pro 455</td>\n      <td>macOS</td>\n      <td>1.83</td>\n      <td>135195.3360</td>\n      <td>0</td>\n      <td>1</td>\n      <td>2880</td>\n      <td>1800</td>\n      <td>220.534624</td>\n    </tr>\n    <tr>\n      <th>4</th>\n      <td>Apple</td>\n      <td>Ultrabook</td>\n      <td>13.3</td>\n      <td>Intel Core i5 3.1GHz</td>\n      <td>8</td>\n      <td>256GB SSD</td>\n      <td>Intel Iris Plus Graphics 650</td>\n      <td>macOS</td>\n      <td>1.37</td>\n      <td>96095.8080</td>\n      <td>0</td>\n      <td>1</td>\n      <td>2560</td>\n      <td>1600</td>\n      <td>226.983005</td>\n    </tr>\n  </tbody>\n</table>\n</div>"
     },
     "execution_count": 41,
     "metadata": {},
     "output_type": "execute_result"
    }
   ],
   "source": [
    "df.head()"
   ],
   "metadata": {
    "collapsed": false,
    "pycharm": {
     "name": "#%%\n"
    }
   }
  },
  {
   "cell_type": "code",
   "execution_count": 42,
   "outputs": [
    {
     "data": {
      "text/plain": "  Company   TypeName                         Cpu  Ram               Memory  \\\n0   Apple  Ultrabook        Intel Core i5 2.3GHz    8            128GB SSD   \n1   Apple  Ultrabook        Intel Core i5 1.8GHz    8  128GB Flash Storage   \n2      HP   Notebook  Intel Core i5 7200U 2.5GHz    8            256GB SSD   \n3   Apple  Ultrabook        Intel Core i7 2.7GHz   16            512GB SSD   \n4   Apple  Ultrabook        Intel Core i5 3.1GHz    8            256GB SSD   \n\n                            Gpu  OpSys  Weight        Price  Touchscreen  Ips  \\\n0  Intel Iris Plus Graphics 640  macOS    1.37   71378.6832            0    1   \n1        Intel HD Graphics 6000  macOS    1.34   47895.5232            0    0   \n2         Intel HD Graphics 620  No OS    1.86   30636.0000            0    0   \n3            AMD Radeon Pro 455  macOS    1.83  135195.3360            0    1   \n4  Intel Iris Plus Graphics 650  macOS    1.37   96095.8080            0    1   \n\n          ppi  \n0  226.983005  \n1  127.677940  \n2  141.211998  \n3  220.534624  \n4  226.983005  ",
      "text/html": "<div>\n<style scoped>\n    .dataframe tbody tr th:only-of-type {\n        vertical-align: middle;\n    }\n\n    .dataframe tbody tr th {\n        vertical-align: top;\n    }\n\n    .dataframe thead th {\n        text-align: right;\n    }\n</style>\n<table border=\"1\" class=\"dataframe\">\n  <thead>\n    <tr style=\"text-align: right;\">\n      <th></th>\n      <th>Company</th>\n      <th>TypeName</th>\n      <th>Cpu</th>\n      <th>Ram</th>\n      <th>Memory</th>\n      <th>Gpu</th>\n      <th>OpSys</th>\n      <th>Weight</th>\n      <th>Price</th>\n      <th>Touchscreen</th>\n      <th>Ips</th>\n      <th>ppi</th>\n    </tr>\n  </thead>\n  <tbody>\n    <tr>\n      <th>0</th>\n      <td>Apple</td>\n      <td>Ultrabook</td>\n      <td>Intel Core i5 2.3GHz</td>\n      <td>8</td>\n      <td>128GB SSD</td>\n      <td>Intel Iris Plus Graphics 640</td>\n      <td>macOS</td>\n      <td>1.37</td>\n      <td>71378.6832</td>\n      <td>0</td>\n      <td>1</td>\n      <td>226.983005</td>\n    </tr>\n    <tr>\n      <th>1</th>\n      <td>Apple</td>\n      <td>Ultrabook</td>\n      <td>Intel Core i5 1.8GHz</td>\n      <td>8</td>\n      <td>128GB Flash Storage</td>\n      <td>Intel HD Graphics 6000</td>\n      <td>macOS</td>\n      <td>1.34</td>\n      <td>47895.5232</td>\n      <td>0</td>\n      <td>0</td>\n      <td>127.677940</td>\n    </tr>\n    <tr>\n      <th>2</th>\n      <td>HP</td>\n      <td>Notebook</td>\n      <td>Intel Core i5 7200U 2.5GHz</td>\n      <td>8</td>\n      <td>256GB SSD</td>\n      <td>Intel HD Graphics 620</td>\n      <td>No OS</td>\n      <td>1.86</td>\n      <td>30636.0000</td>\n      <td>0</td>\n      <td>0</td>\n      <td>141.211998</td>\n    </tr>\n    <tr>\n      <th>3</th>\n      <td>Apple</td>\n      <td>Ultrabook</td>\n      <td>Intel Core i7 2.7GHz</td>\n      <td>16</td>\n      <td>512GB SSD</td>\n      <td>AMD Radeon Pro 455</td>\n      <td>macOS</td>\n      <td>1.83</td>\n      <td>135195.3360</td>\n      <td>0</td>\n      <td>1</td>\n      <td>220.534624</td>\n    </tr>\n    <tr>\n      <th>4</th>\n      <td>Apple</td>\n      <td>Ultrabook</td>\n      <td>Intel Core i5 3.1GHz</td>\n      <td>8</td>\n      <td>256GB SSD</td>\n      <td>Intel Iris Plus Graphics 650</td>\n      <td>macOS</td>\n      <td>1.37</td>\n      <td>96095.8080</td>\n      <td>0</td>\n      <td>1</td>\n      <td>226.983005</td>\n    </tr>\n  </tbody>\n</table>\n</div>"
     },
     "execution_count": 42,
     "metadata": {},
     "output_type": "execute_result"
    }
   ],
   "source": [
    "df.drop(columns=['Inches','X_res','Y_res'],inplace=True)\n",
    "df.head()"
   ],
   "metadata": {
    "collapsed": false,
    "pycharm": {
     "name": "#%%\n"
    }
   }
  },
  {
   "cell_type": "code",
   "execution_count": 43,
   "outputs": [
    {
     "data": {
      "text/plain": "Intel Core i5 7200U 2.5GHz       190\nIntel Core i7 7700HQ 2.8GHz      146\nIntel Core i7 7500U 2.7GHz       134\nIntel Core i7 8550U 1.8GHz        73\nIntel Core i5 8250U 1.6GHz        72\n                                ... \nIntel Core M M3-6Y30 0.9GHz        1\nAMD A9-Series 9420 2.9GHz          1\nIntel Core i3 6006U 2.2GHz         1\nAMD A6-Series 7310 2GHz            1\nIntel Xeon E3-1535M v6 3.1GHz      1\nName: Cpu, Length: 118, dtype: int64"
     },
     "execution_count": 43,
     "metadata": {},
     "output_type": "execute_result"
    }
   ],
   "source": [
    "df['Cpu'].value_counts()"
   ],
   "metadata": {
    "collapsed": false,
    "pycharm": {
     "name": "#%%\n"
    }
   }
  },
  {
   "cell_type": "code",
   "execution_count": 44,
   "outputs": [],
   "source": [
    "df['Cpu Name'] = df['Cpu'].apply(lambda x:\" \".join(x.split()[0:3]))"
   ],
   "metadata": {
    "collapsed": false,
    "pycharm": {
     "name": "#%%\n"
    }
   }
  },
  {
   "cell_type": "code",
   "execution_count": 45,
   "outputs": [
    {
     "data": {
      "text/plain": "  Company   TypeName                         Cpu  Ram               Memory  \\\n0   Apple  Ultrabook        Intel Core i5 2.3GHz    8            128GB SSD   \n1   Apple  Ultrabook        Intel Core i5 1.8GHz    8  128GB Flash Storage   \n2      HP   Notebook  Intel Core i5 7200U 2.5GHz    8            256GB SSD   \n3   Apple  Ultrabook        Intel Core i7 2.7GHz   16            512GB SSD   \n4   Apple  Ultrabook        Intel Core i5 3.1GHz    8            256GB SSD   \n\n                            Gpu  OpSys  Weight        Price  Touchscreen  Ips  \\\n0  Intel Iris Plus Graphics 640  macOS    1.37   71378.6832            0    1   \n1        Intel HD Graphics 6000  macOS    1.34   47895.5232            0    0   \n2         Intel HD Graphics 620  No OS    1.86   30636.0000            0    0   \n3            AMD Radeon Pro 455  macOS    1.83  135195.3360            0    1   \n4  Intel Iris Plus Graphics 650  macOS    1.37   96095.8080            0    1   \n\n          ppi       Cpu Name  \n0  226.983005  Intel Core i5  \n1  127.677940  Intel Core i5  \n2  141.211998  Intel Core i5  \n3  220.534624  Intel Core i7  \n4  226.983005  Intel Core i5  ",
      "text/html": "<div>\n<style scoped>\n    .dataframe tbody tr th:only-of-type {\n        vertical-align: middle;\n    }\n\n    .dataframe tbody tr th {\n        vertical-align: top;\n    }\n\n    .dataframe thead th {\n        text-align: right;\n    }\n</style>\n<table border=\"1\" class=\"dataframe\">\n  <thead>\n    <tr style=\"text-align: right;\">\n      <th></th>\n      <th>Company</th>\n      <th>TypeName</th>\n      <th>Cpu</th>\n      <th>Ram</th>\n      <th>Memory</th>\n      <th>Gpu</th>\n      <th>OpSys</th>\n      <th>Weight</th>\n      <th>Price</th>\n      <th>Touchscreen</th>\n      <th>Ips</th>\n      <th>ppi</th>\n      <th>Cpu Name</th>\n    </tr>\n  </thead>\n  <tbody>\n    <tr>\n      <th>0</th>\n      <td>Apple</td>\n      <td>Ultrabook</td>\n      <td>Intel Core i5 2.3GHz</td>\n      <td>8</td>\n      <td>128GB SSD</td>\n      <td>Intel Iris Plus Graphics 640</td>\n      <td>macOS</td>\n      <td>1.37</td>\n      <td>71378.6832</td>\n      <td>0</td>\n      <td>1</td>\n      <td>226.983005</td>\n      <td>Intel Core i5</td>\n    </tr>\n    <tr>\n      <th>1</th>\n      <td>Apple</td>\n      <td>Ultrabook</td>\n      <td>Intel Core i5 1.8GHz</td>\n      <td>8</td>\n      <td>128GB Flash Storage</td>\n      <td>Intel HD Graphics 6000</td>\n      <td>macOS</td>\n      <td>1.34</td>\n      <td>47895.5232</td>\n      <td>0</td>\n      <td>0</td>\n      <td>127.677940</td>\n      <td>Intel Core i5</td>\n    </tr>\n    <tr>\n      <th>2</th>\n      <td>HP</td>\n      <td>Notebook</td>\n      <td>Intel Core i5 7200U 2.5GHz</td>\n      <td>8</td>\n      <td>256GB SSD</td>\n      <td>Intel HD Graphics 620</td>\n      <td>No OS</td>\n      <td>1.86</td>\n      <td>30636.0000</td>\n      <td>0</td>\n      <td>0</td>\n      <td>141.211998</td>\n      <td>Intel Core i5</td>\n    </tr>\n    <tr>\n      <th>3</th>\n      <td>Apple</td>\n      <td>Ultrabook</td>\n      <td>Intel Core i7 2.7GHz</td>\n      <td>16</td>\n      <td>512GB SSD</td>\n      <td>AMD Radeon Pro 455</td>\n      <td>macOS</td>\n      <td>1.83</td>\n      <td>135195.3360</td>\n      <td>0</td>\n      <td>1</td>\n      <td>220.534624</td>\n      <td>Intel Core i7</td>\n    </tr>\n    <tr>\n      <th>4</th>\n      <td>Apple</td>\n      <td>Ultrabook</td>\n      <td>Intel Core i5 3.1GHz</td>\n      <td>8</td>\n      <td>256GB SSD</td>\n      <td>Intel Iris Plus Graphics 650</td>\n      <td>macOS</td>\n      <td>1.37</td>\n      <td>96095.8080</td>\n      <td>0</td>\n      <td>1</td>\n      <td>226.983005</td>\n      <td>Intel Core i5</td>\n    </tr>\n  </tbody>\n</table>\n</div>"
     },
     "execution_count": 45,
     "metadata": {},
     "output_type": "execute_result"
    }
   ],
   "source": [
    "df.head()"
   ],
   "metadata": {
    "collapsed": false,
    "pycharm": {
     "name": "#%%\n"
    }
   }
  },
  {
   "cell_type": "markdown",
   "source": [
    "#### - Function to summarize different CPUs"
   ],
   "metadata": {
    "collapsed": false,
    "pycharm": {
     "name": "#%% md\n"
    }
   }
  },
  {
   "cell_type": "code",
   "execution_count": 46,
   "outputs": [],
   "source": [
    "def fetch_processor(text):\n",
    "    if text == 'Intel Core i7' or text == 'Intel Core i5' or text == 'Intel Core i3':\n",
    "        return text\n",
    "    else:\n",
    "        if text.split()[0] == 'Intel':\n",
    "            return 'Other Intel Processor'\n",
    "        else:\n",
    "            return 'AMD Processor'"
   ],
   "metadata": {
    "collapsed": false,
    "pycharm": {
     "name": "#%%\n"
    }
   }
  },
  {
   "cell_type": "code",
   "execution_count": 47,
   "outputs": [],
   "source": [
    "df['Cpu brand'] = df['Cpu Name'].apply(fetch_processor)"
   ],
   "metadata": {
    "collapsed": false,
    "pycharm": {
     "name": "#%%\n"
    }
   }
  },
  {
   "cell_type": "code",
   "execution_count": 48,
   "outputs": [
    {
     "data": {
      "text/plain": "  Company   TypeName                         Cpu  Ram               Memory  \\\n0   Apple  Ultrabook        Intel Core i5 2.3GHz    8            128GB SSD   \n1   Apple  Ultrabook        Intel Core i5 1.8GHz    8  128GB Flash Storage   \n2      HP   Notebook  Intel Core i5 7200U 2.5GHz    8            256GB SSD   \n3   Apple  Ultrabook        Intel Core i7 2.7GHz   16            512GB SSD   \n4   Apple  Ultrabook        Intel Core i5 3.1GHz    8            256GB SSD   \n\n                            Gpu  OpSys  Weight        Price  Touchscreen  Ips  \\\n0  Intel Iris Plus Graphics 640  macOS    1.37   71378.6832            0    1   \n1        Intel HD Graphics 6000  macOS    1.34   47895.5232            0    0   \n2         Intel HD Graphics 620  No OS    1.86   30636.0000            0    0   \n3            AMD Radeon Pro 455  macOS    1.83  135195.3360            0    1   \n4  Intel Iris Plus Graphics 650  macOS    1.37   96095.8080            0    1   \n\n          ppi       Cpu Name      Cpu brand  \n0  226.983005  Intel Core i5  Intel Core i5  \n1  127.677940  Intel Core i5  Intel Core i5  \n2  141.211998  Intel Core i5  Intel Core i5  \n3  220.534624  Intel Core i7  Intel Core i7  \n4  226.983005  Intel Core i5  Intel Core i5  ",
      "text/html": "<div>\n<style scoped>\n    .dataframe tbody tr th:only-of-type {\n        vertical-align: middle;\n    }\n\n    .dataframe tbody tr th {\n        vertical-align: top;\n    }\n\n    .dataframe thead th {\n        text-align: right;\n    }\n</style>\n<table border=\"1\" class=\"dataframe\">\n  <thead>\n    <tr style=\"text-align: right;\">\n      <th></th>\n      <th>Company</th>\n      <th>TypeName</th>\n      <th>Cpu</th>\n      <th>Ram</th>\n      <th>Memory</th>\n      <th>Gpu</th>\n      <th>OpSys</th>\n      <th>Weight</th>\n      <th>Price</th>\n      <th>Touchscreen</th>\n      <th>Ips</th>\n      <th>ppi</th>\n      <th>Cpu Name</th>\n      <th>Cpu brand</th>\n    </tr>\n  </thead>\n  <tbody>\n    <tr>\n      <th>0</th>\n      <td>Apple</td>\n      <td>Ultrabook</td>\n      <td>Intel Core i5 2.3GHz</td>\n      <td>8</td>\n      <td>128GB SSD</td>\n      <td>Intel Iris Plus Graphics 640</td>\n      <td>macOS</td>\n      <td>1.37</td>\n      <td>71378.6832</td>\n      <td>0</td>\n      <td>1</td>\n      <td>226.983005</td>\n      <td>Intel Core i5</td>\n      <td>Intel Core i5</td>\n    </tr>\n    <tr>\n      <th>1</th>\n      <td>Apple</td>\n      <td>Ultrabook</td>\n      <td>Intel Core i5 1.8GHz</td>\n      <td>8</td>\n      <td>128GB Flash Storage</td>\n      <td>Intel HD Graphics 6000</td>\n      <td>macOS</td>\n      <td>1.34</td>\n      <td>47895.5232</td>\n      <td>0</td>\n      <td>0</td>\n      <td>127.677940</td>\n      <td>Intel Core i5</td>\n      <td>Intel Core i5</td>\n    </tr>\n    <tr>\n      <th>2</th>\n      <td>HP</td>\n      <td>Notebook</td>\n      <td>Intel Core i5 7200U 2.5GHz</td>\n      <td>8</td>\n      <td>256GB SSD</td>\n      <td>Intel HD Graphics 620</td>\n      <td>No OS</td>\n      <td>1.86</td>\n      <td>30636.0000</td>\n      <td>0</td>\n      <td>0</td>\n      <td>141.211998</td>\n      <td>Intel Core i5</td>\n      <td>Intel Core i5</td>\n    </tr>\n    <tr>\n      <th>3</th>\n      <td>Apple</td>\n      <td>Ultrabook</td>\n      <td>Intel Core i7 2.7GHz</td>\n      <td>16</td>\n      <td>512GB SSD</td>\n      <td>AMD Radeon Pro 455</td>\n      <td>macOS</td>\n      <td>1.83</td>\n      <td>135195.3360</td>\n      <td>0</td>\n      <td>1</td>\n      <td>220.534624</td>\n      <td>Intel Core i7</td>\n      <td>Intel Core i7</td>\n    </tr>\n    <tr>\n      <th>4</th>\n      <td>Apple</td>\n      <td>Ultrabook</td>\n      <td>Intel Core i5 3.1GHz</td>\n      <td>8</td>\n      <td>256GB SSD</td>\n      <td>Intel Iris Plus Graphics 650</td>\n      <td>macOS</td>\n      <td>1.37</td>\n      <td>96095.8080</td>\n      <td>0</td>\n      <td>1</td>\n      <td>226.983005</td>\n      <td>Intel Core i5</td>\n      <td>Intel Core i5</td>\n    </tr>\n  </tbody>\n</table>\n</div>"
     },
     "execution_count": 48,
     "metadata": {},
     "output_type": "execute_result"
    }
   ],
   "source": [
    "df.head()"
   ],
   "metadata": {
    "collapsed": false,
    "pycharm": {
     "name": "#%%\n"
    }
   }
  },
  {
   "cell_type": "code",
   "execution_count": 49,
   "outputs": [
    {
     "data": {
      "text/plain": "<AxesSubplot:>"
     },
     "execution_count": 49,
     "metadata": {},
     "output_type": "execute_result"
    },
    {
     "data": {
      "text/plain": "<Figure size 432x288 with 1 Axes>",
      "image/png": "[encoded data removed]"
     },
     "metadata": {
      "needs_background": "light"
     },
     "output_type": "display_data"
    }
   ],
   "source": [
    "df['Cpu brand'].value_counts().plot(kind='bar')"
   ],
   "metadata": {
    "collapsed": false,
    "pycharm": {
     "name": "#%%\n"
    }
   }
  },
  {
   "cell_type": "code",
   "execution_count": 50,
   "outputs": [
    {
     "data": {
      "text/plain": "<Figure size 432x288 with 1 Axes>",
      "image/png": "[encoded data removed]"
     },
     "metadata": {
      "needs_background": "light"
     },
     "output_type": "display_data"
    }
   ],
   "source": [
    "sns.barplot(x=df['Cpu brand'],y=df['Price'])\n",
    "plt.xticks(rotation='vertical')\n",
    "plt.show()"
   ],
   "metadata": {
    "collapsed": false,
    "pycharm": {
     "name": "#%%\n"
    }
   }
  },
  {
   "cell_type": "code",
   "execution_count": 51,
   "outputs": [],
   "source": [
    "df.drop(columns=['Cpu','Cpu Name'],inplace=True)"
   ],
   "metadata": {
    "collapsed": false,
    "pycharm": {
     "name": "#%%\n"
    }
   }
  },
  {
   "cell_type": "code",
   "execution_count": 52,
   "outputs": [
    {
     "data": {
      "text/plain": "  Company   TypeName  Ram               Memory                           Gpu  \\\n0   Apple  Ultrabook    8            128GB SSD  Intel Iris Plus Graphics 640   \n1   Apple  Ultrabook    8  128GB Flash Storage        Intel HD Graphics 6000   \n2      HP   Notebook    8            256GB SSD         Intel HD Graphics 620   \n3   Apple  Ultrabook   16            512GB SSD            AMD Radeon Pro 455   \n4   Apple  Ultrabook    8            256GB SSD  Intel Iris Plus Graphics 650   \n\n   OpSys  Weight        Price  Touchscreen  Ips         ppi      Cpu brand  \n0  macOS    1.37   71378.6832            0    1  226.983005  Intel Core i5  \n1  macOS    1.34   47895.5232            0    0  127.677940  Intel Core i5  \n2  No OS    1.86   30636.0000            0    0  141.211998  Intel Core i5  \n3  macOS    1.83  135195.3360            0    1  220.534624  Intel Core i7  \n4  macOS    1.37   96095.8080            0    1  226.983005  Intel Core i5  ",
      "text/html": "<div>\n<style scoped>\n    .dataframe tbody tr th:only-of-type {\n        vertical-align: middle;\n    }\n\n    .dataframe tbody tr th {\n        vertical-align: top;\n    }\n\n    .dataframe thead th {\n        text-align: right;\n    }\n</style>\n<table border=\"1\" class=\"dataframe\">\n  <thead>\n    <tr style=\"text-align: right;\">\n      <th></th>\n      <th>Company</th>\n      <th>TypeName</th>\n      <th>Ram</th>\n      <th>Memory</th>\n      <th>Gpu</th>\n      <th>OpSys</th>\n      <th>Weight</th>\n      <th>Price</th>\n      <th>Touchscreen</th>\n      <th>Ips</th>\n      <th>ppi</th>\n      <th>Cpu brand</th>\n    </tr>\n  </thead>\n  <tbody>\n    <tr>\n      <th>0</th>\n      <td>Apple</td>\n      <td>Ultrabook</td>\n      <td>8</td>\n      <td>128GB SSD</td>\n      <td>Intel Iris Plus Graphics 640</td>\n      <td>macOS</td>\n      <td>1.37</td>\n      <td>71378.6832</td>\n      <td>0</td>\n      <td>1</td>\n      <td>226.983005</td>\n      <td>Intel Core i5</td>\n    </tr>\n    <tr>\n      <th>1</th>\n      <td>Apple</td>\n      <td>Ultrabook</td>\n      <td>8</td>\n      <td>128GB Flash Storage</td>\n      <td>Intel HD Graphics 6000</td>\n      <td>macOS</td>\n      <td>1.34</td>\n      <td>47895.5232</td>\n      <td>0</td>\n      <td>0</td>\n      <td>127.677940</td>\n      <td>Intel Core i5</td>\n    </tr>\n    <tr>\n      <th>2</th>\n      <td>HP</td>\n      <td>Notebook</td>\n      <td>8</td>\n      <td>256GB SSD</td>\n      <td>Intel HD Graphics 620</td>\n      <td>No OS</td>\n      <td>1.86</td>\n      <td>30636.0000</td>\n      <td>0</td>\n      <td>0</td>\n      <td>141.211998</td>\n      <td>Intel Core i5</td>\n    </tr>\n    <tr>\n      <th>3</th>\n      <td>Apple</td>\n      <td>Ultrabook</td>\n      <td>16</td>\n      <td>512GB SSD</td>\n      <td>AMD Radeon Pro 455</td>\n      <td>macOS</td>\n      <td>1.83</td>\n      <td>135195.3360</td>\n      <td>0</td>\n      <td>1</td>\n      <td>220.534624</td>\n      <td>Intel Core i7</td>\n    </tr>\n    <tr>\n      <th>4</th>\n      <td>Apple</td>\n      <td>Ultrabook</td>\n      <td>8</td>\n      <td>256GB SSD</td>\n      <td>Intel Iris Plus Graphics 650</td>\n      <td>macOS</td>\n      <td>1.37</td>\n      <td>96095.8080</td>\n      <td>0</td>\n      <td>1</td>\n      <td>226.983005</td>\n      <td>Intel Core i5</td>\n    </tr>\n  </tbody>\n</table>\n</div>"
     },
     "execution_count": 52,
     "metadata": {},
     "output_type": "execute_result"
    }
   ],
   "source": [
    "df.head()"
   ],
   "metadata": {
    "collapsed": false,
    "pycharm": {
     "name": "#%%\n"
    }
   }
  },
  {
   "cell_type": "code",
   "execution_count": 53,
   "outputs": [
    {
     "data": {
      "text/plain": "<AxesSubplot:>"
     },
     "execution_count": 53,
     "metadata": {},
     "output_type": "execute_result"
    },
    {
     "data": {
      "text/plain": "<Figure size 432x288 with 1 Axes>",
      "image/png": "[encoded data removed]"
     },
     "metadata": {
      "needs_background": "light"
     },
     "output_type": "display_data"
    }
   ],
   "source": [
    "df['Ram'].value_counts().plot(kind='bar')"
   ],
   "metadata": {
    "collapsed": false,
    "pycharm": {
     "name": "#%%\n"
    }
   }
  },
  {
   "cell_type": "code",
   "execution_count": 54,
   "outputs": [
    {
     "data": {
      "text/plain": "<Figure size 432x288 with 1 Axes>",
      "image/png": "[encoded data removed]"
     },
     "metadata": {
      "needs_background": "light"
     },
     "output_type": "display_data"
    }
   ],
   "source": [
    "sns.barplot(x=df['Ram'],y=df['Price'])\n",
    "plt.xticks(rotation='vertical')\n",
    "plt.show()"
   ],
   "metadata": {
    "collapsed": false,
    "pycharm": {
     "name": "#%%\n"
    }
   }
  },
  {
   "cell_type": "code",
   "execution_count": 55,
   "outputs": [
    {
     "data": {
      "text/plain": "256GB SSD                        412\n1TB HDD                          223\n500GB HDD                        132\n512GB SSD                        118\n128GB SSD +  1TB HDD              94\n128GB SSD                         76\n256GB SSD +  1TB HDD              73\n32GB Flash Storage                38\n2TB HDD                           16\n64GB Flash Storage                15\n512GB SSD +  1TB HDD              14\n1TB SSD                           14\n256GB SSD +  2TB HDD              10\n1.0TB Hybrid                       9\n256GB Flash Storage                8\n16GB Flash Storage                 7\n32GB SSD                           6\n180GB SSD                          5\n128GB Flash Storage                4\n512GB SSD +  2TB HDD               3\n16GB SSD                           3\n512GB Flash Storage                2\n1TB SSD +  1TB HDD                 2\n256GB SSD +  500GB HDD             2\n128GB SSD +  2TB HDD               2\n256GB SSD +  256GB SSD             2\n512GB SSD +  256GB SSD             1\n512GB SSD +  512GB SSD             1\n64GB Flash Storage +  1TB HDD      1\n1TB HDD +  1TB HDD                 1\n32GB HDD                           1\n64GB SSD                           1\n128GB HDD                          1\n240GB SSD                          1\n8GB SSD                            1\n508GB Hybrid                       1\n1.0TB HDD                          1\n512GB SSD +  1.0TB Hybrid          1\n256GB SSD +  1.0TB Hybrid          1\nName: Memory, dtype: int64"
     },
     "execution_count": 55,
     "metadata": {},
     "output_type": "execute_result"
    }
   ],
   "source": [
    "df['Memory'].value_counts()"
   ],
   "metadata": {
    "collapsed": false,
    "pycharm": {
     "name": "#%%\n"
    }
   }
  },
  {
   "cell_type": "markdown",
   "source": [
    "#### - Transfrom Memory to HDD, SDD, FLASH and HYBRID"
   ],
   "metadata": {
    "collapsed": false,
    "pycharm": {
     "name": "#%% md\n"
    }
   }
  },
  {
   "cell_type": "code",
   "execution_count": 56,
   "outputs": [
    {
     "name": "stderr",
     "output_type": "stream",
     "text": [
      "C:\\Users\\abhik\\AppData\\Local\\Temp\\ipykernel_8608\\3372997381.py:16: FutureWarning: The default value of regex will change from True to False in a future version.\n",
      "  df['first'] = df['first'].str.replace(r'\\D', '')\n",
      "C:\\Users\\abhik\\AppData\\Local\\Temp\\ipykernel_8608\\3372997381.py:25: FutureWarning: The default value of regex will change from True to False in a future version.\n",
      "  df['second'] = df['second'].str.replace(r'\\D', '')\n"
     ]
    }
   ],
   "source": [
    "df['Memory'] = df['Memory'].astype(str).replace('\\.0', '', regex=True)\n",
    "df[\"Memory\"] = df[\"Memory\"].str.replace('GB', '')\n",
    "df[\"Memory\"] = df[\"Memory\"].str.replace('TB', '000')\n",
    "new = df[\"Memory\"].str.split(\"+\", n = 1, expand = True)\n",
    "\n",
    "df[\"first\"]= new[0]\n",
    "df[\"first\"]=df[\"first\"].str.strip()\n",
    "\n",
    "df[\"second\"]= new[1]\n",
    "\n",
    "df[\"Layer1HDD\"] = df[\"first\"].apply(lambda x: 1 if \"HDD\" in x else 0)\n",
    "df[\"Layer1SSD\"] = df[\"first\"].apply(lambda x: 1 if \"SSD\" in x else 0)\n",
    "df[\"Layer1Hybrid\"] = df[\"first\"].apply(lambda x: 1 if \"Hybrid\" in x else 0)\n",
    "df[\"Layer1Flash_Storage\"] = df[\"first\"].apply(lambda x: 1 if \"Flash Storage\" in x else 0)\n",
    "\n",
    "df['first'] = df['first'].str.replace(r'\\D', '')\n",
    "\n",
    "df[\"second\"].fillna(\"0\", inplace = True)\n",
    "\n",
    "df[\"Layer2HDD\"] = df[\"second\"].apply(lambda x: 1 if \"HDD\" in x else 0)\n",
    "df[\"Layer2SSD\"] = df[\"second\"].apply(lambda x: 1 if \"SSD\" in x else 0)\n",
    "df[\"Layer2Hybrid\"] = df[\"second\"].apply(lambda x: 1 if \"Hybrid\" in x else 0)\n",
    "df[\"Layer2Flash_Storage\"] = df[\"second\"].apply(lambda x: 1 if \"Flash Storage\" in x else 0)\n",
    "\n",
    "df['second'] = df['second'].str.replace(r'\\D', '')\n",
    "\n",
    "df[\"first\"] = df[\"first\"].astype(int)\n",
    "df[\"second\"] = df[\"second\"].astype(int)\n",
    "\n",
    "df[\"HDD\"]=(df[\"first\"]*df[\"Layer1HDD\"]+df[\"second\"]*df[\"Layer2HDD\"])\n",
    "df[\"SSD\"]=(df[\"first\"]*df[\"Layer1SSD\"]+df[\"second\"]*df[\"Layer2SSD\"])\n",
    "df[\"Hybrid\"]=(df[\"first\"]*df[\"Layer1Hybrid\"]+df[\"second\"]*df[\"Layer2Hybrid\"])\n",
    "df[\"Flash_Storage\"]=(df[\"first\"]*df[\"Layer1Flash_Storage\"]+df[\"second\"]*df[\"Layer2Flash_Storage\"])\n",
    "\n",
    "df.drop(columns=['first', 'second', 'Layer1HDD', 'Layer1SSD', 'Layer1Hybrid',\n",
    "       'Layer1Flash_Storage', 'Layer2HDD', 'Layer2SSD', 'Layer2Hybrid',\n",
    "       'Layer2Flash_Storage'],inplace=True)"
   ],
   "metadata": {
    "collapsed": false,
    "pycharm": {
     "name": "#%%\n"
    }
   }
  },
  {
   "cell_type": "code",
   "execution_count": 57,
   "outputs": [
    {
     "data": {
      "text/plain": "    Company            TypeName  Ram    Memory                    Gpu  \\\n376  Lenovo             Netbook    4   128 SSD  Intel HD Graphics 500   \n27     Dell            Notebook    8   256 SSD         AMD Radeon 530   \n969  Lenovo            Notebook    6   256 SSD   Nvidia GeForce 920MX   \n842      HP            Notebook    8  1000 HDD   Nvidia GeForce 930MX   \n924  Lenovo  2 in 1 Convertible    8   512 SSD  Intel HD Graphics 620   \n\n          OpSys  Weight     Price  Touchscreen  Ips         ppi  \\\n376  Windows 10    1.59  29463.84            0    1  135.094211   \n27   Windows 10    2.20  42624.00            0    0  141.211998   \n969  Windows 10    2.40  37029.60            0    0  141.211998   \n842  Windows 10    2.63  48484.80            0    0  106.113062   \n924  Windows 10    1.37  97236.00            1    1  165.632118   \n\n                 Cpu brand   HDD  SSD  Hybrid  Flash_Storage  \n376  Other Intel Processor     0  128       0              0  \n27           Intel Core i5     0  256       0              0  \n969          Intel Core i5     0  256       0              0  \n842          Intel Core i5  1000    0       0              0  \n924          Intel Core i5     0  512       0              0  ",
      "text/html": "<div>\n<style scoped>\n    .dataframe tbody tr th:only-of-type {\n        vertical-align: middle;\n    }\n\n    .dataframe tbody tr th {\n        vertical-align: top;\n    }\n\n    .dataframe thead th {\n        text-align: right;\n    }\n</style>\n<table border=\"1\" class=\"dataframe\">\n  <thead>\n    <tr style=\"text-align: right;\">\n      <th></th>\n      <th>Company</th>\n      <th>TypeName</th>\n      <th>Ram</th>\n      <th>Memory</th>\n      <th>Gpu</th>\n      <th>OpSys</th>\n      <th>Weight</th>\n      <th>Price</th>\n      <th>Touchscreen</th>\n      <th>Ips</th>\n      <th>ppi</th>\n      <th>Cpu brand</th>\n      <th>HDD</th>\n      <th>SSD</th>\n      <th>Hybrid</th>\n      <th>Flash_Storage</th>\n    </tr>\n  </thead>\n  <tbody>\n    <tr>\n      <th>376</th>\n      <td>Lenovo</td>\n      <td>Netbook</td>\n      <td>4</td>\n      <td>128 SSD</td>\n      <td>Intel HD Graphics 500</td>\n      <td>Windows 10</td>\n      <td>1.59</td>\n      <td>29463.84</td>\n      <td>0</td>\n      <td>1</td>\n      <td>135.094211</td>\n      <td>Other Intel Processor</td>\n      <td>0</td>\n      <td>128</td>\n      <td>0</td>\n      <td>0</td>\n    </tr>\n    <tr>\n      <th>27</th>\n      <td>Dell</td>\n      <td>Notebook</td>\n      <td>8</td>\n      <td>256 SSD</td>\n      <td>AMD Radeon 530</td>\n      <td>Windows 10</td>\n      <td>2.20</td>\n      <td>42624.00</td>\n      <td>0</td>\n      <td>0</td>\n      <td>141.211998</td>\n      <td>Intel Core i5</td>\n      <td>0</td>\n      <td>256</td>\n      <td>0</td>\n      <td>0</td>\n    </tr>\n    <tr>\n      <th>969</th>\n      <td>Lenovo</td>\n      <td>Notebook</td>\n      <td>6</td>\n      <td>256 SSD</td>\n      <td>Nvidia GeForce 920MX</td>\n      <td>Windows 10</td>\n      <td>2.40</td>\n      <td>37029.60</td>\n      <td>0</td>\n      <td>0</td>\n      <td>141.211998</td>\n      <td>Intel Core i5</td>\n      <td>0</td>\n      <td>256</td>\n      <td>0</td>\n      <td>0</td>\n    </tr>\n    <tr>\n      <th>842</th>\n      <td>HP</td>\n      <td>Notebook</td>\n      <td>8</td>\n      <td>1000 HDD</td>\n      <td>Nvidia GeForce 930MX</td>\n      <td>Windows 10</td>\n      <td>2.63</td>\n      <td>48484.80</td>\n      <td>0</td>\n      <td>0</td>\n      <td>106.113062</td>\n      <td>Intel Core i5</td>\n      <td>1000</td>\n      <td>0</td>\n      <td>0</td>\n      <td>0</td>\n    </tr>\n    <tr>\n      <th>924</th>\n      <td>Lenovo</td>\n      <td>2 in 1 Convertible</td>\n      <td>8</td>\n      <td>512 SSD</td>\n      <td>Intel HD Graphics 620</td>\n      <td>Windows 10</td>\n      <td>1.37</td>\n      <td>97236.00</td>\n      <td>1</td>\n      <td>1</td>\n      <td>165.632118</td>\n      <td>Intel Core i5</td>\n      <td>0</td>\n      <td>512</td>\n      <td>0</td>\n      <td>0</td>\n    </tr>\n  </tbody>\n</table>\n</div>"
     },
     "execution_count": 57,
     "metadata": {},
     "output_type": "execute_result"
    }
   ],
   "source": [
    "df.sample(5)"
   ],
   "metadata": {
    "collapsed": false,
    "pycharm": {
     "name": "#%%\n"
    }
   }
  },
  {
   "cell_type": "code",
   "execution_count": 58,
   "outputs": [],
   "source": [
    "df.drop(columns=['Memory'],inplace=True)"
   ],
   "metadata": {
    "collapsed": false,
    "pycharm": {
     "name": "#%%\n"
    }
   }
  },
  {
   "cell_type": "code",
   "execution_count": 59,
   "outputs": [
    {
     "data": {
      "text/plain": "  Company   TypeName  Ram                           Gpu  OpSys  Weight  \\\n0   Apple  Ultrabook    8  Intel Iris Plus Graphics 640  macOS    1.37   \n1   Apple  Ultrabook    8        Intel HD Graphics 6000  macOS    1.34   \n2      HP   Notebook    8         Intel HD Graphics 620  No OS    1.86   \n3   Apple  Ultrabook   16            AMD Radeon Pro 455  macOS    1.83   \n4   Apple  Ultrabook    8  Intel Iris Plus Graphics 650  macOS    1.37   \n\n         Price  Touchscreen  Ips         ppi      Cpu brand  HDD  SSD  Hybrid  \\\n0   71378.6832            0    1  226.983005  Intel Core i5    0  128       0   \n1   47895.5232            0    0  127.677940  Intel Core i5    0    0       0   \n2   30636.0000            0    0  141.211998  Intel Core i5    0  256       0   \n3  135195.3360            0    1  220.534624  Intel Core i7    0  512       0   \n4   96095.8080            0    1  226.983005  Intel Core i5    0  256       0   \n\n   Flash_Storage  \n0              0  \n1            128  \n2              0  \n3              0  \n4              0  ",
      "text/html": "<div>\n<style scoped>\n    .dataframe tbody tr th:only-of-type {\n        vertical-align: middle;\n    }\n\n    .dataframe tbody tr th {\n        vertical-align: top;\n    }\n\n    .dataframe thead th {\n        text-align: right;\n    }\n</style>\n<table border=\"1\" class=\"dataframe\">\n  <thead>\n    <tr style=\"text-align: right;\">\n      <th></th>\n      <th>Company</th>\n      <th>TypeName</th>\n      <th>Ram</th>\n      <th>Gpu</th>\n      <th>OpSys</th>\n      <th>Weight</th>\n      <th>Price</th>\n      <th>Touchscreen</th>\n      <th>Ips</th>\n      <th>ppi</th>\n      <th>Cpu brand</th>\n      <th>HDD</th>\n      <th>SSD</th>\n      <th>Hybrid</th>\n      <th>Flash_Storage</th>\n    </tr>\n  </thead>\n  <tbody>\n    <tr>\n      <th>0</th>\n      <td>Apple</td>\n      <td>Ultrabook</td>\n      <td>8</td>\n      <td>Intel Iris Plus Graphics 640</td>\n      <td>macOS</td>\n      <td>1.37</td>\n      <td>71378.6832</td>\n      <td>0</td>\n      <td>1</td>\n      <td>226.983005</td>\n      <td>Intel Core i5</td>\n      <td>0</td>\n      <td>128</td>\n      <td>0</td>\n      <td>0</td>\n    </tr>\n    <tr>\n      <th>1</th>\n      <td>Apple</td>\n      <td>Ultrabook</td>\n      <td>8</td>\n      <td>Intel HD Graphics 6000</td>\n      <td>macOS</td>\n      <td>1.34</td>\n      <td>47895.5232</td>\n      <td>0</td>\n      <td>0</td>\n      <td>127.677940</td>\n      <td>Intel Core i5</td>\n      <td>0</td>\n      <td>0</td>\n      <td>0</td>\n      <td>128</td>\n    </tr>\n    <tr>\n      <th>2</th>\n      <td>HP</td>\n      <td>Notebook</td>\n      <td>8</td>\n      <td>Intel HD Graphics 620</td>\n      <td>No OS</td>\n      <td>1.86</td>\n      <td>30636.0000</td>\n      <td>0</td>\n      <td>0</td>\n      <td>141.211998</td>\n      <td>Intel Core i5</td>\n      <td>0</td>\n      <td>256</td>\n      <td>0</td>\n      <td>0</td>\n    </tr>\n    <tr>\n      <th>3</th>\n      <td>Apple</td>\n      <td>Ultrabook</td>\n      <td>16</td>\n      <td>AMD Radeon Pro 455</td>\n      <td>macOS</td>\n      <td>1.83</td>\n      <td>135195.3360</td>\n      <td>0</td>\n      <td>1</td>\n      <td>220.534624</td>\n      <td>Intel Core i7</td>\n      <td>0</td>\n      <td>512</td>\n      <td>0</td>\n      <td>0</td>\n    </tr>\n    <tr>\n      <th>4</th>\n      <td>Apple</td>\n      <td>Ultrabook</td>\n      <td>8</td>\n      <td>Intel Iris Plus Graphics 650</td>\n      <td>macOS</td>\n      <td>1.37</td>\n      <td>96095.8080</td>\n      <td>0</td>\n      <td>1</td>\n      <td>226.983005</td>\n      <td>Intel Core i5</td>\n      <td>0</td>\n      <td>256</td>\n      <td>0</td>\n      <td>0</td>\n    </tr>\n  </tbody>\n</table>\n</div>"
     },
     "execution_count": 59,
     "metadata": {},
     "output_type": "execute_result"
    }
   ],
   "source": [
    "df.head()"
   ],
   "metadata": {
    "collapsed": false,
    "pycharm": {
     "name": "#%%\n"
    }
   }
  },
  {
   "cell_type": "code",
   "execution_count": 60,
   "outputs": [
    {
     "data": {
      "text/plain": "Ram              0.743007\nWeight           0.210370\nPrice            1.000000\nTouchscreen      0.191226\nIps              0.252208\nppi              0.473487\nHDD             -0.096441\nSSD              0.670799\nHybrid           0.007989\nFlash_Storage   -0.040511\nName: Price, dtype: float64"
     },
     "execution_count": 60,
     "metadata": {},
     "output_type": "execute_result"
    }
   ],
   "source": [
    "df.corr()['Price']"
   ],
   "metadata": {
    "collapsed": false,
    "pycharm": {
     "name": "#%%\n"
    }
   }
  },
  {
   "cell_type": "code",
   "execution_count": 61,
   "outputs": [],
   "source": [
    "df.drop(columns=['Hybrid','Flash_Storage'],inplace=True)"
   ],
   "metadata": {
    "collapsed": false,
    "pycharm": {
     "name": "#%%\n"
    }
   }
  },
  {
   "cell_type": "code",
   "execution_count": 62,
   "outputs": [
    {
     "data": {
      "text/plain": "  Company   TypeName  Ram                           Gpu  OpSys  Weight  \\\n0   Apple  Ultrabook    8  Intel Iris Plus Graphics 640  macOS    1.37   \n1   Apple  Ultrabook    8        Intel HD Graphics 6000  macOS    1.34   \n2      HP   Notebook    8         Intel HD Graphics 620  No OS    1.86   \n3   Apple  Ultrabook   16            AMD Radeon Pro 455  macOS    1.83   \n4   Apple  Ultrabook    8  Intel Iris Plus Graphics 650  macOS    1.37   \n\n         Price  Touchscreen  Ips         ppi      Cpu brand  HDD  SSD  \n0   71378.6832            0    1  226.983005  Intel Core i5    0  128  \n1   47895.5232            0    0  127.677940  Intel Core i5    0    0  \n2   30636.0000            0    0  141.211998  Intel Core i5    0  256  \n3  135195.3360            0    1  220.534624  Intel Core i7    0  512  \n4   96095.8080            0    1  226.983005  Intel Core i5    0  256  ",
      "text/html": "<div>\n<style scoped>\n    .dataframe tbody tr th:only-of-type {\n        vertical-align: middle;\n    }\n\n    .dataframe tbody tr th {\n        vertical-align: top;\n    }\n\n    .dataframe thead th {\n        text-align: right;\n    }\n</style>\n<table border=\"1\" class=\"dataframe\">\n  <thead>\n    <tr style=\"text-align: right;\">\n      <th></th>\n      <th>Company</th>\n      <th>TypeName</th>\n      <th>Ram</th>\n      <th>Gpu</th>\n      <th>OpSys</th>\n      <th>Weight</th>\n      <th>Price</th>\n      <th>Touchscreen</th>\n      <th>Ips</th>\n      <th>ppi</th>\n      <th>Cpu brand</th>\n      <th>HDD</th>\n      <th>SSD</th>\n    </tr>\n  </thead>\n  <tbody>\n    <tr>\n      <th>0</th>\n      <td>Apple</td>\n      <td>Ultrabook</td>\n      <td>8</td>\n      <td>Intel Iris Plus Graphics 640</td>\n      <td>macOS</td>\n      <td>1.37</td>\n      <td>71378.6832</td>\n      <td>0</td>\n      <td>1</td>\n      <td>226.983005</td>\n      <td>Intel Core i5</td>\n      <td>0</td>\n      <td>128</td>\n    </tr>\n    <tr>\n      <th>1</th>\n      <td>Apple</td>\n      <td>Ultrabook</td>\n      <td>8</td>\n      <td>Intel HD Graphics 6000</td>\n      <td>macOS</td>\n      <td>1.34</td>\n      <td>47895.5232</td>\n      <td>0</td>\n      <td>0</td>\n      <td>127.677940</td>\n      <td>Intel Core i5</td>\n      <td>0</td>\n      <td>0</td>\n    </tr>\n    <tr>\n      <th>2</th>\n      <td>HP</td>\n      <td>Notebook</td>\n      <td>8</td>\n      <td>Intel HD Graphics 620</td>\n      <td>No OS</td>\n      <td>1.86</td>\n      <td>30636.0000</td>\n      <td>0</td>\n      <td>0</td>\n      <td>141.211998</td>\n      <td>Intel Core i5</td>\n      <td>0</td>\n      <td>256</td>\n    </tr>\n    <tr>\n      <th>3</th>\n      <td>Apple</td>\n      <td>Ultrabook</td>\n      <td>16</td>\n      <td>AMD Radeon Pro 455</td>\n      <td>macOS</td>\n      <td>1.83</td>\n      <td>135195.3360</td>\n      <td>0</td>\n      <td>1</td>\n      <td>220.534624</td>\n      <td>Intel Core i7</td>\n      <td>0</td>\n      <td>512</td>\n    </tr>\n    <tr>\n      <th>4</th>\n      <td>Apple</td>\n      <td>Ultrabook</td>\n      <td>8</td>\n      <td>Intel Iris Plus Graphics 650</td>\n      <td>macOS</td>\n      <td>1.37</td>\n      <td>96095.8080</td>\n      <td>0</td>\n      <td>1</td>\n      <td>226.983005</td>\n      <td>Intel Core i5</td>\n      <td>0</td>\n      <td>256</td>\n    </tr>\n  </tbody>\n</table>\n</div>"
     },
     "execution_count": 62,
     "metadata": {},
     "output_type": "execute_result"
    }
   ],
   "source": [
    "df.head()"
   ],
   "metadata": {
    "collapsed": false,
    "pycharm": {
     "name": "#%%\n"
    }
   }
  },
  {
   "cell_type": "code",
   "execution_count": 63,
   "outputs": [
    {
     "data": {
      "text/plain": "Intel HD Graphics 620      281\nIntel HD Graphics 520      185\nIntel UHD Graphics 620      68\nNvidia GeForce GTX 1050     66\nNvidia GeForce GTX 1060     48\n                          ... \nAMD Radeon R5 520            1\nAMD Radeon R7                1\nIntel HD Graphics 540        1\nAMD Radeon 540               1\nARM Mali T860 MP4            1\nName: Gpu, Length: 110, dtype: int64"
     },
     "execution_count": 63,
     "metadata": {},
     "output_type": "execute_result"
    }
   ],
   "source": [
    "df['Gpu'].value_counts()"
   ],
   "metadata": {
    "collapsed": false,
    "pycharm": {
     "name": "#%%\n"
    }
   }
  },
  {
   "cell_type": "markdown",
   "source": [
    "#### Extracting Brand Name from GPU"
   ],
   "metadata": {
    "collapsed": false,
    "pycharm": {
     "name": "#%% md\n"
    }
   }
  },
  {
   "cell_type": "code",
   "execution_count": 64,
   "outputs": [
    {
     "data": {
      "text/plain": "  Company   TypeName  Ram                           Gpu  OpSys  Weight  \\\n0   Apple  Ultrabook    8  Intel Iris Plus Graphics 640  macOS    1.37   \n1   Apple  Ultrabook    8        Intel HD Graphics 6000  macOS    1.34   \n2      HP   Notebook    8         Intel HD Graphics 620  No OS    1.86   \n3   Apple  Ultrabook   16            AMD Radeon Pro 455  macOS    1.83   \n4   Apple  Ultrabook    8  Intel Iris Plus Graphics 650  macOS    1.37   \n\n         Price  Touchscreen  Ips         ppi      Cpu brand  HDD  SSD  \\\n0   71378.6832            0    1  226.983005  Intel Core i5    0  128   \n1   47895.5232            0    0  127.677940  Intel Core i5    0    0   \n2   30636.0000            0    0  141.211998  Intel Core i5    0  256   \n3  135195.3360            0    1  220.534624  Intel Core i7    0  512   \n4   96095.8080            0    1  226.983005  Intel Core i5    0  256   \n\n  Gpu brand  \n0     Intel  \n1     Intel  \n2     Intel  \n3       AMD  \n4     Intel  ",
      "text/html": "<div>\n<style scoped>\n    .dataframe tbody tr th:only-of-type {\n        vertical-align: middle;\n    }\n\n    .dataframe tbody tr th {\n        vertical-align: top;\n    }\n\n    .dataframe thead th {\n        text-align: right;\n    }\n</style>\n<table border=\"1\" class=\"dataframe\">\n  <thead>\n    <tr style=\"text-align: right;\">\n      <th></th>\n      <th>Company</th>\n      <th>TypeName</th>\n      <th>Ram</th>\n      <th>Gpu</th>\n      <th>OpSys</th>\n      <th>Weight</th>\n      <th>Price</th>\n      <th>Touchscreen</th>\n      <th>Ips</th>\n      <th>ppi</th>\n      <th>Cpu brand</th>\n      <th>HDD</th>\n      <th>SSD</th>\n      <th>Gpu brand</th>\n    </tr>\n  </thead>\n  <tbody>\n    <tr>\n      <th>0</th>\n      <td>Apple</td>\n      <td>Ultrabook</td>\n      <td>8</td>\n      <td>Intel Iris Plus Graphics 640</td>\n      <td>macOS</td>\n      <td>1.37</td>\n      <td>71378.6832</td>\n      <td>0</td>\n      <td>1</td>\n      <td>226.983005</td>\n      <td>Intel Core i5</td>\n      <td>0</td>\n      <td>128</td>\n      <td>Intel</td>\n    </tr>\n    <tr>\n      <th>1</th>\n      <td>Apple</td>\n      <td>Ultrabook</td>\n      <td>8</td>\n      <td>Intel HD Graphics 6000</td>\n      <td>macOS</td>\n      <td>1.34</td>\n      <td>47895.5232</td>\n      <td>0</td>\n      <td>0</td>\n      <td>127.677940</td>\n      <td>Intel Core i5</td>\n      <td>0</td>\n      <td>0</td>\n      <td>Intel</td>\n    </tr>\n    <tr>\n      <th>2</th>\n      <td>HP</td>\n      <td>Notebook</td>\n      <td>8</td>\n      <td>Intel HD Graphics 620</td>\n      <td>No OS</td>\n      <td>1.86</td>\n      <td>30636.0000</td>\n      <td>0</td>\n      <td>0</td>\n      <td>141.211998</td>\n      <td>Intel Core i5</td>\n      <td>0</td>\n      <td>256</td>\n      <td>Intel</td>\n    </tr>\n    <tr>\n      <th>3</th>\n      <td>Apple</td>\n      <td>Ultrabook</td>\n      <td>16</td>\n      <td>AMD Radeon Pro 455</td>\n      <td>macOS</td>\n      <td>1.83</td>\n      <td>135195.3360</td>\n      <td>0</td>\n      <td>1</td>\n      <td>220.534624</td>\n      <td>Intel Core i7</td>\n      <td>0</td>\n      <td>512</td>\n      <td>AMD</td>\n    </tr>\n    <tr>\n      <th>4</th>\n      <td>Apple</td>\n      <td>Ultrabook</td>\n      <td>8</td>\n      <td>Intel Iris Plus Graphics 650</td>\n      <td>macOS</td>\n      <td>1.37</td>\n      <td>96095.8080</td>\n      <td>0</td>\n      <td>1</td>\n      <td>226.983005</td>\n      <td>Intel Core i5</td>\n      <td>0</td>\n      <td>256</td>\n      <td>Intel</td>\n    </tr>\n  </tbody>\n</table>\n</div>"
     },
     "execution_count": 64,
     "metadata": {},
     "output_type": "execute_result"
    }
   ],
   "source": [
    "df['Gpu brand'] = df['Gpu'].apply(lambda x:x.split()[0])\n",
    "df.head()"
   ],
   "metadata": {
    "collapsed": false,
    "pycharm": {
     "name": "#%%\n"
    }
   }
  },
  {
   "cell_type": "code",
   "execution_count": 65,
   "outputs": [
    {
     "data": {
      "text/plain": "Intel     722\nNvidia    400\nAMD       180\nARM         1\nName: Gpu brand, dtype: int64"
     },
     "execution_count": 65,
     "metadata": {},
     "output_type": "execute_result"
    }
   ],
   "source": [
    "df['Gpu brand'].value_counts()"
   ],
   "metadata": {
    "collapsed": false,
    "pycharm": {
     "name": "#%%\n"
    }
   }
  },
  {
   "cell_type": "code",
   "execution_count": 66,
   "outputs": [],
   "source": [
    "df = df[df['Gpu brand'] != 'ARM']"
   ],
   "metadata": {
    "collapsed": false,
    "pycharm": {
     "name": "#%%\n"
    }
   }
  },
  {
   "cell_type": "code",
   "execution_count": 67,
   "outputs": [
    {
     "data": {
      "text/plain": "Intel     722\nNvidia    400\nAMD       180\nName: Gpu brand, dtype: int64"
     },
     "execution_count": 67,
     "metadata": {},
     "output_type": "execute_result"
    }
   ],
   "source": [
    "df['Gpu brand'].value_counts()"
   ],
   "metadata": {
    "collapsed": false,
    "pycharm": {
     "name": "#%%\n"
    }
   }
  },
  {
   "cell_type": "code",
   "execution_count": 68,
   "outputs": [
    {
     "data": {
      "text/plain": "<Figure size 432x288 with 1 Axes>",
      "image/png": "[encoded data removed]"
     },
     "metadata": {
      "needs_background": "light"
     },
     "output_type": "display_data"
    }
   ],
   "source": [
    "sns.barplot(x=df['Gpu brand'],y=df['Price'],estimator=np.median)\n",
    "plt.xticks(rotation='vertical')\n",
    "plt.show()"
   ],
   "metadata": {
    "collapsed": false,
    "pycharm": {
     "name": "#%%\n"
    }
   }
  },
  {
   "cell_type": "code",
   "execution_count": 69,
   "outputs": [],
   "source": [
    "df.drop(columns=['Gpu'],inplace=True)"
   ],
   "metadata": {
    "collapsed": false,
    "pycharm": {
     "name": "#%%\n"
    }
   }
  },
  {
   "cell_type": "code",
   "execution_count": 70,
   "outputs": [
    {
     "data": {
      "text/plain": "  Company   TypeName  Ram  OpSys  Weight        Price  Touchscreen  Ips  \\\n0   Apple  Ultrabook    8  macOS    1.37   71378.6832            0    1   \n1   Apple  Ultrabook    8  macOS    1.34   47895.5232            0    0   \n2      HP   Notebook    8  No OS    1.86   30636.0000            0    0   \n3   Apple  Ultrabook   16  macOS    1.83  135195.3360            0    1   \n4   Apple  Ultrabook    8  macOS    1.37   96095.8080            0    1   \n\n          ppi      Cpu brand  HDD  SSD Gpu brand  \n0  226.983005  Intel Core i5    0  128     Intel  \n1  127.677940  Intel Core i5    0    0     Intel  \n2  141.211998  Intel Core i5    0  256     Intel  \n3  220.534624  Intel Core i7    0  512       AMD  \n4  226.983005  Intel Core i5    0  256     Intel  ",
      "text/html": "<div>\n<style scoped>\n    .dataframe tbody tr th:only-of-type {\n        vertical-align: middle;\n    }\n\n    .dataframe tbody tr th {\n        vertical-align: top;\n    }\n\n    .dataframe thead th {\n        text-align: right;\n    }\n</style>\n<table border=\"1\" class=\"dataframe\">\n  <thead>\n    <tr style=\"text-align: right;\">\n      <th></th>\n      <th>Company</th>\n      <th>TypeName</th>\n      <th>Ram</th>\n      <th>OpSys</th>\n      <th>Weight</th>\n      <th>Price</th>\n      <th>Touchscreen</th>\n      <th>Ips</th>\n      <th>ppi</th>\n      <th>Cpu brand</th>\n      <th>HDD</th>\n      <th>SSD</th>\n      <th>Gpu brand</th>\n    </tr>\n  </thead>\n  <tbody>\n    <tr>\n      <th>0</th>\n      <td>Apple</td>\n      <td>Ultrabook</td>\n      <td>8</td>\n      <td>macOS</td>\n      <td>1.37</td>\n      <td>71378.6832</td>\n      <td>0</td>\n      <td>1</td>\n      <td>226.983005</td>\n      <td>Intel Core i5</td>\n      <td>0</td>\n      <td>128</td>\n      <td>Intel</td>\n    </tr>\n    <tr>\n      <th>1</th>\n      <td>Apple</td>\n      <td>Ultrabook</td>\n      <td>8</td>\n      <td>macOS</td>\n      <td>1.34</td>\n      <td>47895.5232</td>\n      <td>0</td>\n      <td>0</td>\n      <td>127.677940</td>\n      <td>Intel Core i5</td>\n      <td>0</td>\n      <td>0</td>\n      <td>Intel</td>\n    </tr>\n    <tr>\n      <th>2</th>\n      <td>HP</td>\n      <td>Notebook</td>\n      <td>8</td>\n      <td>No OS</td>\n      <td>1.86</td>\n      <td>30636.0000</td>\n      <td>0</td>\n      <td>0</td>\n      <td>141.211998</td>\n      <td>Intel Core i5</td>\n      <td>0</td>\n      <td>256</td>\n      <td>Intel</td>\n    </tr>\n    <tr>\n      <th>3</th>\n      <td>Apple</td>\n      <td>Ultrabook</td>\n      <td>16</td>\n      <td>macOS</td>\n      <td>1.83</td>\n      <td>135195.3360</td>\n      <td>0</td>\n      <td>1</td>\n      <td>220.534624</td>\n      <td>Intel Core i7</td>\n      <td>0</td>\n      <td>512</td>\n      <td>AMD</td>\n    </tr>\n    <tr>\n      <th>4</th>\n      <td>Apple</td>\n      <td>Ultrabook</td>\n      <td>8</td>\n      <td>macOS</td>\n      <td>1.37</td>\n      <td>96095.8080</td>\n      <td>0</td>\n      <td>1</td>\n      <td>226.983005</td>\n      <td>Intel Core i5</td>\n      <td>0</td>\n      <td>256</td>\n      <td>Intel</td>\n    </tr>\n  </tbody>\n</table>\n</div>"
     },
     "execution_count": 70,
     "metadata": {},
     "output_type": "execute_result"
    }
   ],
   "source": [
    "df.head()"
   ],
   "metadata": {
    "collapsed": false,
    "pycharm": {
     "name": "#%%\n"
    }
   }
  },
  {
   "cell_type": "code",
   "execution_count": 71,
   "outputs": [
    {
     "data": {
      "text/plain": "Windows 10      1072\nNo OS             66\nLinux             62\nWindows 7         45\nChrome OS         26\nmacOS             13\nMac OS X           8\nWindows 10 S       8\nAndroid            2\nName: OpSys, dtype: int64"
     },
     "execution_count": 71,
     "metadata": {},
     "output_type": "execute_result"
    }
   ],
   "source": [
    "df['OpSys'].value_counts()"
   ],
   "metadata": {
    "collapsed": false,
    "pycharm": {
     "name": "#%%\n"
    }
   }
  },
  {
   "cell_type": "code",
   "execution_count": 72,
   "outputs": [
    {
     "data": {
      "text/plain": "<Figure size 432x288 with 1 Axes>",
      "image/png": "[encoded data removed]"
     },
     "metadata": {
      "needs_background": "light"
     },
     "output_type": "display_data"
    }
   ],
   "source": [
    "sns.barplot(x=df['OpSys'],y=df['Price'])\n",
    "plt.xticks(rotation='vertical')\n",
    "plt.show()"
   ],
   "metadata": {
    "collapsed": false,
    "pycharm": {
     "name": "#%%\n"
    }
   }
  },
  {
   "cell_type": "markdown",
   "source": [
    "#### function to summarizing OS"
   ],
   "metadata": {
    "collapsed": false,
    "pycharm": {
     "name": "#%% md\n"
    }
   }
  },
  {
   "cell_type": "code",
   "execution_count": 73,
   "outputs": [],
   "source": [
    "def cat_os(inp):\n",
    "    if inp == 'Windows 10' or inp == 'Windows 7' or inp == 'Windows 10 S':\n",
    "        return 'Windows'\n",
    "    elif inp == 'macOS' or inp == 'Mac OS X':\n",
    "        return 'Mac'\n",
    "    else:\n",
    "        return 'Others/No OS/Linux'"
   ],
   "metadata": {
    "collapsed": false,
    "pycharm": {
     "name": "#%%\n"
    }
   }
  },
  {
   "cell_type": "code",
   "execution_count": 74,
   "outputs": [],
   "source": [
    "df['os'] = df['OpSys'].apply(cat_os)"
   ],
   "metadata": {
    "collapsed": false,
    "pycharm": {
     "name": "#%%\n"
    }
   }
  },
  {
   "cell_type": "code",
   "execution_count": 75,
   "outputs": [
    {
     "data": {
      "text/plain": "  Company   TypeName  Ram  OpSys  Weight        Price  Touchscreen  Ips  \\\n0   Apple  Ultrabook    8  macOS    1.37   71378.6832            0    1   \n1   Apple  Ultrabook    8  macOS    1.34   47895.5232            0    0   \n2      HP   Notebook    8  No OS    1.86   30636.0000            0    0   \n3   Apple  Ultrabook   16  macOS    1.83  135195.3360            0    1   \n4   Apple  Ultrabook    8  macOS    1.37   96095.8080            0    1   \n\n          ppi      Cpu brand  HDD  SSD Gpu brand                  os  \n0  226.983005  Intel Core i5    0  128     Intel                 Mac  \n1  127.677940  Intel Core i5    0    0     Intel                 Mac  \n2  141.211998  Intel Core i5    0  256     Intel  Others/No OS/Linux  \n3  220.534624  Intel Core i7    0  512       AMD                 Mac  \n4  226.983005  Intel Core i5    0  256     Intel                 Mac  ",
      "text/html": "<div>\n<style scoped>\n    .dataframe tbody tr th:only-of-type {\n        vertical-align: middle;\n    }\n\n    .dataframe tbody tr th {\n        vertical-align: top;\n    }\n\n    .dataframe thead th {\n        text-align: right;\n    }\n</style>\n<table border=\"1\" class=\"dataframe\">\n  <thead>\n    <tr style=\"text-align: right;\">\n      <th></th>\n      <th>Company</th>\n      <th>TypeName</th>\n      <th>Ram</th>\n      <th>OpSys</th>\n      <th>Weight</th>\n      <th>Price</th>\n      <th>Touchscreen</th>\n      <th>Ips</th>\n      <th>ppi</th>\n      <th>Cpu brand</th>\n      <th>HDD</th>\n      <th>SSD</th>\n      <th>Gpu brand</th>\n      <th>os</th>\n    </tr>\n  </thead>\n  <tbody>\n    <tr>\n      <th>0</th>\n      <td>Apple</td>\n      <td>Ultrabook</td>\n      <td>8</td>\n      <td>macOS</td>\n      <td>1.37</td>\n      <td>71378.6832</td>\n      <td>0</td>\n      <td>1</td>\n      <td>226.983005</td>\n      <td>Intel Core i5</td>\n      <td>0</td>\n      <td>128</td>\n      <td>Intel</td>\n      <td>Mac</td>\n    </tr>\n    <tr>\n      <th>1</th>\n      <td>Apple</td>\n      <td>Ultrabook</td>\n      <td>8</td>\n      <td>macOS</td>\n      <td>1.34</td>\n      <td>47895.5232</td>\n      <td>0</td>\n      <td>0</td>\n      <td>127.677940</td>\n      <td>Intel Core i5</td>\n      <td>0</td>\n      <td>0</td>\n      <td>Intel</td>\n      <td>Mac</td>\n    </tr>\n    <tr>\n      <th>2</th>\n      <td>HP</td>\n      <td>Notebook</td>\n      <td>8</td>\n      <td>No OS</td>\n      <td>1.86</td>\n      <td>30636.0000</td>\n      <td>0</td>\n      <td>0</td>\n      <td>141.211998</td>\n      <td>Intel Core i5</td>\n      <td>0</td>\n      <td>256</td>\n      <td>Intel</td>\n      <td>Others/No OS/Linux</td>\n    </tr>\n    <tr>\n      <th>3</th>\n      <td>Apple</td>\n      <td>Ultrabook</td>\n      <td>16</td>\n      <td>macOS</td>\n      <td>1.83</td>\n      <td>135195.3360</td>\n      <td>0</td>\n      <td>1</td>\n      <td>220.534624</td>\n      <td>Intel Core i7</td>\n      <td>0</td>\n      <td>512</td>\n      <td>AMD</td>\n      <td>Mac</td>\n    </tr>\n    <tr>\n      <th>4</th>\n      <td>Apple</td>\n      <td>Ultrabook</td>\n      <td>8</td>\n      <td>macOS</td>\n      <td>1.37</td>\n      <td>96095.8080</td>\n      <td>0</td>\n      <td>1</td>\n      <td>226.983005</td>\n      <td>Intel Core i5</td>\n      <td>0</td>\n      <td>256</td>\n      <td>Intel</td>\n      <td>Mac</td>\n    </tr>\n  </tbody>\n</table>\n</div>"
     },
     "execution_count": 75,
     "metadata": {},
     "output_type": "execute_result"
    }
   ],
   "source": [
    "df.head()"
   ],
   "metadata": {
    "collapsed": false,
    "pycharm": {
     "name": "#%%\n"
    }
   }
  },
  {
   "cell_type": "code",
   "execution_count": 76,
   "outputs": [],
   "source": [
    "df.drop(columns=['OpSys'],inplace=True)"
   ],
   "metadata": {
    "collapsed": false,
    "pycharm": {
     "name": "#%%\n"
    }
   }
  },
  {
   "cell_type": "code",
   "execution_count": 77,
   "outputs": [
    {
     "data": {
      "text/plain": "<Figure size 432x288 with 1 Axes>",
      "image/png": "[encoded data removed]"
     },
     "metadata": {
      "needs_background": "light"
     },
     "output_type": "display_data"
    }
   ],
   "source": [
    "sns.barplot(x=df['os'],y=df['Price'])\n",
    "plt.xticks(rotation='vertical')\n",
    "plt.show()"
   ],
   "metadata": {
    "collapsed": false,
    "pycharm": {
     "name": "#%%\n"
    }
   }
  },
  {
   "cell_type": "code",
   "execution_count": 78,
   "outputs": [
    {
     "name": "stderr",
     "output_type": "stream",
     "text": [
      "C:\\Users\\abhik\\AppData\\Roaming\\Python\\Python310\\site-packages\\seaborn\\distributions.py:2619: FutureWarning: `distplot` is a deprecated function and will be removed in a future version. Please adapt your code to use either `displot` (a figure-level function with similar flexibility) or `histplot` (an axes-level function for histograms).\n",
      "  warnings.warn(msg, FutureWarning)\n"
     ]
    },
    {
     "data": {
      "text/plain": "<AxesSubplot:xlabel='Weight', ylabel='Density'>"
     },
     "execution_count": 78,
     "metadata": {},
     "output_type": "execute_result"
    },
    {
     "data": {
      "text/plain": "<Figure size 432x288 with 1 Axes>",
      "image/png": "[encoded data removed]"
     },
     "metadata": {
      "needs_background": "light"
     },
     "output_type": "display_data"
    }
   ],
   "source": [
    "sns.distplot(df['Weight'])"
   ],
   "metadata": {
    "collapsed": false,
    "pycharm": {
     "name": "#%%\n"
    }
   }
  },
  {
   "cell_type": "code",
   "execution_count": 79,
   "outputs": [
    {
     "data": {
      "text/plain": "<AxesSubplot:xlabel='Weight', ylabel='Price'>"
     },
     "execution_count": 79,
     "metadata": {},
     "output_type": "execute_result"
    },
    {
     "data": {
      "text/plain": "<Figure size 432x288 with 1 Axes>",
      "image/png": "[encoded data removed]"
     },
     "metadata": {
      "needs_background": "light"
     },
     "output_type": "display_data"
    }
   ],
   "source": [
    "sns.scatterplot(x=df['Weight'],y=df['Price'])"
   ],
   "metadata": {
    "collapsed": false,
    "pycharm": {
     "name": "#%%\n"
    }
   }
  },
  {
   "cell_type": "code",
   "execution_count": 80,
   "outputs": [
    {
     "data": {
      "text/plain": "Ram            0.742905\nWeight         0.209867\nPrice          1.000000\nTouchscreen    0.192917\nIps            0.253320\nppi            0.475368\nHDD           -0.096891\nSSD            0.670660\nName: Price, dtype: float64"
     },
     "execution_count": 80,
     "metadata": {},
     "output_type": "execute_result"
    }
   ],
   "source": [
    "df.corr()['Price']"
   ],
   "metadata": {
    "collapsed": false,
    "pycharm": {
     "name": "#%%\n"
    }
   }
  },
  {
   "cell_type": "markdown",
   "source": [
    "# Visualizing correlation"
   ],
   "metadata": {
    "collapsed": false,
    "pycharm": {
     "name": "#%% md\n"
    }
   }
  },
  {
   "cell_type": "code",
   "execution_count": 81,
   "outputs": [
    {
     "data": {
      "text/plain": "<AxesSubplot:>"
     },
     "execution_count": 81,
     "metadata": {},
     "output_type": "execute_result"
    },
    {
     "data": {
      "text/plain": "<Figure size 432x288 with 2 Axes>",
      "image/png": "[encoded data removed]"
     },
     "metadata": {
      "needs_background": "light"
     },
     "output_type": "display_data"
    }
   ],
   "source": [
    "sns.heatmap(df.corr())"
   ],
   "metadata": {
    "collapsed": false,
    "pycharm": {
     "name": "#%%\n"
    }
   }
  },
  {
   "cell_type": "code",
   "execution_count": 82,
   "outputs": [
    {
     "name": "stderr",
     "output_type": "stream",
     "text": [
      "C:\\Users\\abhik\\AppData\\Roaming\\Python\\Python310\\site-packages\\seaborn\\distributions.py:2619: FutureWarning: `distplot` is a deprecated function and will be removed in a future version. Please adapt your code to use either `displot` (a figure-level function with similar flexibility) or `histplot` (an axes-level function for histograms).\n",
      "  warnings.warn(msg, FutureWarning)\n"
     ]
    },
    {
     "data": {
      "text/plain": "<AxesSubplot:xlabel='Price', ylabel='Density'>"
     },
     "execution_count": 82,
     "metadata": {},
     "output_type": "execute_result"
    },
    {
     "data": {
      "text/plain": "<Figure size 432x288 with 1 Axes>",
      "image/png": "[encoded data removed]"
     },
     "metadata": {
      "needs_background": "light"
     },
     "output_type": "display_data"
    }
   ],
   "source": [
    "sns.distplot(df['Price'])"
   ],
   "metadata": {
    "collapsed": false,
    "pycharm": {
     "name": "#%%\n"
    }
   }
  },
  {
   "cell_type": "code",
   "execution_count": 83,
   "outputs": [
    {
     "name": "stderr",
     "output_type": "stream",
     "text": [
      "C:\\Users\\abhik\\AppData\\Roaming\\Python\\Python310\\site-packages\\seaborn\\distributions.py:2619: FutureWarning: `distplot` is a deprecated function and will be removed in a future version. Please adapt your code to use either `displot` (a figure-level function with similar flexibility) or `histplot` (an axes-level function for histograms).\n",
      "  warnings.warn(msg, FutureWarning)\n"
     ]
    },
    {
     "data": {
      "text/plain": "<AxesSubplot:xlabel='Price', ylabel='Density'>"
     },
     "execution_count": 83,
     "metadata": {},
     "output_type": "execute_result"
    },
    {
     "data": {
      "text/plain": "<Figure size 432x288 with 1 Axes>",
      "image/png": "[encoded data removed]"
     },
     "metadata": {
      "needs_background": "light"
     },
     "output_type": "display_data"
    }
   ],
   "source": [
    "sns.distplot(np.log(df['Price']))"
   ],
   "metadata": {
    "collapsed": false,
    "pycharm": {
     "name": "#%%\n"
    }
   }
  },
  {
   "cell_type": "code",
   "execution_count": 84,
   "outputs": [],
   "source": [
    "X = df.drop(columns=['Price'])\n",
    "y = np.log(df['Price'])"
   ],
   "metadata": {
    "collapsed": false,
    "pycharm": {
     "name": "#%%\n"
    }
   }
  },
  {
   "cell_type": "code",
   "execution_count": 85,
   "outputs": [
    {
     "data": {
      "text/plain": "     Company            TypeName  Ram  Weight  Touchscreen  Ips         ppi  \\\n0      Apple           Ultrabook    8    1.37            0    1  226.983005   \n1      Apple           Ultrabook    8    1.34            0    0  127.677940   \n2         HP            Notebook    8    1.86            0    0  141.211998   \n3      Apple           Ultrabook   16    1.83            0    1  220.534624   \n4      Apple           Ultrabook    8    1.37            0    1  226.983005   \n...      ...                 ...  ...     ...          ...  ...         ...   \n1298  Lenovo  2 in 1 Convertible    4    1.80            1    1  157.350512   \n1299  Lenovo  2 in 1 Convertible   16    1.30            1    1  276.053530   \n1300  Lenovo            Notebook    2    1.50            0    0  111.935204   \n1301      HP            Notebook    6    2.19            0    0  100.454670   \n1302    Asus            Notebook    4    2.20            0    0  100.454670   \n\n                  Cpu brand   HDD  SSD Gpu brand                  os  \n0             Intel Core i5     0  128     Intel                 Mac  \n1             Intel Core i5     0    0     Intel                 Mac  \n2             Intel Core i5     0  256     Intel  Others/No OS/Linux  \n3             Intel Core i7     0  512       AMD                 Mac  \n4             Intel Core i5     0  256     Intel                 Mac  \n...                     ...   ...  ...       ...                 ...  \n1298          Intel Core i7     0  128     Intel             Windows  \n1299          Intel Core i7     0  512     Intel             Windows  \n1300  Other Intel Processor     0    0     Intel             Windows  \n1301          Intel Core i7  1000    0       AMD             Windows  \n1302  Other Intel Processor   500    0     Intel             Windows  \n\n[1302 rows x 12 columns]",
      "text/html": "<div>\n<style scoped>\n    .dataframe tbody tr th:only-of-type {\n        vertical-align: middle;\n    }\n\n    .dataframe tbody tr th {\n        vertical-align: top;\n    }\n\n    .dataframe thead th {\n        text-align: right;\n    }\n</style>\n<table border=\"1\" class=\"dataframe\">\n  <thead>\n    <tr style=\"text-align: right;\">\n      <th></th>\n      <th>Company</th>\n      <th>TypeName</th>\n      <th>Ram</th>\n      <th>Weight</th>\n      <th>Touchscreen</th>\n      <th>Ips</th>\n      <th>ppi</th>\n      <th>Cpu brand</th>\n      <th>HDD</th>\n      <th>SSD</th>\n      <th>Gpu brand</th>\n      <th>os</th>\n    </tr>\n  </thead>\n  <tbody>\n    <tr>\n      <th>0</th>\n      <td>Apple</td>\n      <td>Ultrabook</td>\n      <td>8</td>\n      <td>1.37</td>\n      <td>0</td>\n      <td>1</td>\n      <td>226.983005</td>\n      <td>Intel Core i5</td>\n      <td>0</td>\n      <td>128</td>\n      <td>Intel</td>\n      <td>Mac</td>\n    </tr>\n    <tr>\n      <th>1</th>\n      <td>Apple</td>\n      <td>Ultrabook</td>\n      <td>8</td>\n      <td>1.34</td>\n      <td>0</td>\n      <td>0</td>\n      <td>127.677940</td>\n      <td>Intel Core i5</td>\n      <td>0</td>\n      <td>0</td>\n      <td>Intel</td>\n      <td>Mac</td>\n    </tr>\n    <tr>\n      <th>2</th>\n      <td>HP</td>\n      <td>Notebook</td>\n      <td>8</td>\n      <td>1.86</td>\n      <td>0</td>\n      <td>0</td>\n      <td>141.211998</td>\n      <td>Intel Core i5</td>\n      <td>0</td>\n      <td>256</td>\n      <td>Intel</td>\n      <td>Others/No OS/Linux</td>\n    </tr>\n    <tr>\n      <th>3</th>\n      <td>Apple</td>\n      <td>Ultrabook</td>\n      <td>16</td>\n      <td>1.83</td>\n      <td>0</td>\n      <td>1</td>\n      <td>220.534624</td>\n      <td>Intel Core i7</td>\n      <td>0</td>\n      <td>512</td>\n      <td>AMD</td>\n      <td>Mac</td>\n    </tr>\n    <tr>\n      <th>4</th>\n      <td>Apple</td>\n      <td>Ultrabook</td>\n      <td>8</td>\n      <td>1.37</td>\n      <td>0</td>\n      <td>1</td>\n      <td>226.983005</td>\n      <td>Intel Core i5</td>\n      <td>0</td>\n      <td>256</td>\n      <td>Intel</td>\n      <td>Mac</td>\n    </tr>\n    <tr>\n      <th>...</th>\n      <td>...</td>\n      <td>...</td>\n      <td>...</td>\n      <td>...</td>\n      <td>...</td>\n      <td>...</td>\n      <td>...</td>\n      <td>...</td>\n      <td>...</td>\n      <td>...</td>\n      <td>...</td>\n      <td>...</td>\n    </tr>\n    <tr>\n      <th>1298</th>\n      <td>Lenovo</td>\n      <td>2 in 1 Convertible</td>\n      <td>4</td>\n      <td>1.80</td>\n      <td>1</td>\n      <td>1</td>\n      <td>157.350512</td>\n      <td>Intel Core i7</td>\n      <td>0</td>\n      <td>128</td>\n      <td>Intel</td>\n      <td>Windows</td>\n    </tr>\n    <tr>\n      <th>1299</th>\n      <td>Lenovo</td>\n      <td>2 in 1 Convertible</td>\n      <td>16</td>\n      <td>1.30</td>\n      <td>1</td>\n      <td>1</td>\n      <td>276.053530</td>\n      <td>Intel Core i7</td>\n      <td>0</td>\n      <td>512</td>\n      <td>Intel</td>\n      <td>Windows</td>\n    </tr>\n    <tr>\n      <th>1300</th>\n      <td>Lenovo</td>\n      <td>Notebook</td>\n      <td>2</td>\n      <td>1.50</td>\n      <td>0</td>\n      <td>0</td>\n      <td>111.935204</td>\n      <td>Other Intel Processor</td>\n      <td>0</td>\n      <td>0</td>\n      <td>Intel</td>\n      <td>Windows</td>\n    </tr>\n    <tr>\n      <th>1301</th>\n      <td>HP</td>\n      <td>Notebook</td>\n      <td>6</td>\n      <td>2.19</td>\n      <td>0</td>\n      <td>0</td>\n      <td>100.454670</td>\n      <td>Intel Core i7</td>\n      <td>1000</td>\n      <td>0</td>\n      <td>AMD</td>\n      <td>Windows</td>\n    </tr>\n    <tr>\n      <th>1302</th>\n      <td>Asus</td>\n      <td>Notebook</td>\n      <td>4</td>\n      <td>2.20</td>\n      <td>0</td>\n      <td>0</td>\n      <td>100.454670</td>\n      <td>Other Intel Processor</td>\n      <td>500</td>\n      <td>0</td>\n      <td>Intel</td>\n      <td>Windows</td>\n    </tr>\n  </tbody>\n</table>\n<p>1302 rows × 12 columns</p>\n</div>"
     },
     "execution_count": 85,
     "metadata": {},
     "output_type": "execute_result"
    }
   ],
   "source": [
    "X"
   ],
   "metadata": {
    "collapsed": false,
    "pycharm": {
     "name": "#%%\n"
    }
   }
  },
  {
   "cell_type": "code",
   "execution_count": 86,
   "outputs": [
    {
     "data": {
      "text/plain": "0       11.175755\n1       10.776777\n2       10.329931\n3       11.814476\n4       11.473101\n          ...    \n1298    10.433899\n1299    11.288115\n1300     9.409283\n1301    10.614129\n1302     9.886358\nName: Price, Length: 1302, dtype: float64"
     },
     "execution_count": 86,
     "metadata": {},
     "output_type": "execute_result"
    }
   ],
   "source": [
    "y"
   ],
   "metadata": {
    "collapsed": false,
    "pycharm": {
     "name": "#%%\n"
    }
   }
  },
  {
   "cell_type": "code",
   "execution_count": 87,
   "outputs": [],
   "source": [
    "df.to_csv(\"clean.csv\")"
   ],
   "metadata": {
    "collapsed": false,
    "pycharm": {
     "name": "#%%\n"
    }
   }
  },
  {
   "cell_type": "markdown",
   "source": [
    "# Model Building"
   ],
   "metadata": {
    "collapsed": false,
    "pycharm": {
     "name": "#%% md\n"
    }
   }
  },
  {
   "cell_type": "code",
   "execution_count": 88,
   "outputs": [],
   "source": [
    "from sklearn.model_selection import train_test_split\n",
    "X_train,X_test,y_train,y_test = train_test_split(X,y,test_size=0.15,random_state=2)"
   ],
   "metadata": {
    "collapsed": false,
    "pycharm": {
     "name": "#%%\n"
    }
   }
  },
  {
   "cell_type": "code",
   "execution_count": 89,
   "outputs": [
    {
     "data": {
      "text/plain": "      Company            TypeName  Ram  Weight  Touchscreen  Ips         ppi  \\\n183   Toshiba            Notebook    8    2.00            0    0  100.454670   \n1141      MSI              Gaming    8    2.40            0    0  141.211998   \n1049     Asus             Netbook    4    1.20            0    0  135.094211   \n1020     Dell  2 in 1 Convertible    4    2.08            1    1  141.211998   \n878      Dell            Notebook    4    2.18            0    0  141.211998   \n...       ...                 ...  ...     ...          ...  ...         ...   \n466      Acer            Notebook    4    2.20            0    0  100.454670   \n299      Asus           Ultrabook   16    1.63            0    0  141.211998   \n493      Acer            Notebook    8    2.20            0    0  100.454670   \n527    Lenovo            Notebook    8    2.20            0    0  100.454670   \n1193    Apple           Ultrabook    8    0.92            0    1  226.415547   \n\n                  Cpu brand   HDD  SSD Gpu brand                  os  \n183           Intel Core i5     0  128     Intel             Windows  \n1141          Intel Core i7  1000  128    Nvidia             Windows  \n1049  Other Intel Processor     0    0     Intel  Others/No OS/Linux  \n1020          Intel Core i3  1000    0     Intel             Windows  \n878           Intel Core i5  1000  128    Nvidia             Windows  \n...                     ...   ...  ...       ...                 ...  \n466           Intel Core i3   500    0    Nvidia             Windows  \n299           Intel Core i7     0  512    Nvidia             Windows  \n493           AMD Processor  1000    0       AMD             Windows  \n527           Intel Core i3  2000    0    Nvidia  Others/No OS/Linux  \n1193  Other Intel Processor     0    0     Intel                 Mac  \n\n[1106 rows x 12 columns]",
      "text/html": "<div>\n<style scoped>\n    .dataframe tbody tr th:only-of-type {\n        vertical-align: middle;\n    }\n\n    .dataframe tbody tr th {\n        vertical-align: top;\n    }\n\n    .dataframe thead th {\n        text-align: right;\n    }\n</style>\n<table border=\"1\" class=\"dataframe\">\n  <thead>\n    <tr style=\"text-align: right;\">\n      <th></th>\n      <th>Company</th>\n      <th>TypeName</th>\n      <th>Ram</th>\n      <th>Weight</th>\n      <th>Touchscreen</th>\n      <th>Ips</th>\n      <th>ppi</th>\n      <th>Cpu brand</th>\n      <th>HDD</th>\n      <th>SSD</th>\n      <th>Gpu brand</th>\n      <th>os</th>\n    </tr>\n  </thead>\n  <tbody>\n    <tr>\n      <th>183</th>\n      <td>Toshiba</td>\n      <td>Notebook</td>\n      <td>8</td>\n      <td>2.00</td>\n      <td>0</td>\n      <td>0</td>\n      <td>100.454670</td>\n      <td>Intel Core i5</td>\n      <td>0</td>\n      <td>128</td>\n      <td>Intel</td>\n      <td>Windows</td>\n    </tr>\n    <tr>\n      <th>1141</th>\n      <td>MSI</td>\n      <td>Gaming</td>\n      <td>8</td>\n      <td>2.40</td>\n      <td>0</td>\n      <td>0</td>\n      <td>141.211998</td>\n      <td>Intel Core i7</td>\n      <td>1000</td>\n      <td>128</td>\n      <td>Nvidia</td>\n      <td>Windows</td>\n    </tr>\n    <tr>\n      <th>1049</th>\n      <td>Asus</td>\n      <td>Netbook</td>\n      <td>4</td>\n      <td>1.20</td>\n      <td>0</td>\n      <td>0</td>\n      <td>135.094211</td>\n      <td>Other Intel Processor</td>\n      <td>0</td>\n      <td>0</td>\n      <td>Intel</td>\n      <td>Others/No OS/Linux</td>\n    </tr>\n    <tr>\n      <th>1020</th>\n      <td>Dell</td>\n      <td>2 in 1 Convertible</td>\n      <td>4</td>\n      <td>2.08</td>\n      <td>1</td>\n      <td>1</td>\n      <td>141.211998</td>\n      <td>Intel Core i3</td>\n      <td>1000</td>\n      <td>0</td>\n      <td>Intel</td>\n      <td>Windows</td>\n    </tr>\n    <tr>\n      <th>878</th>\n      <td>Dell</td>\n      <td>Notebook</td>\n      <td>4</td>\n      <td>2.18</td>\n      <td>0</td>\n      <td>0</td>\n      <td>141.211998</td>\n      <td>Intel Core i5</td>\n      <td>1000</td>\n      <td>128</td>\n      <td>Nvidia</td>\n      <td>Windows</td>\n    </tr>\n    <tr>\n      <th>...</th>\n      <td>...</td>\n      <td>...</td>\n      <td>...</td>\n      <td>...</td>\n      <td>...</td>\n      <td>...</td>\n      <td>...</td>\n      <td>...</td>\n      <td>...</td>\n      <td>...</td>\n      <td>...</td>\n      <td>...</td>\n    </tr>\n    <tr>\n      <th>466</th>\n      <td>Acer</td>\n      <td>Notebook</td>\n      <td>4</td>\n      <td>2.20</td>\n      <td>0</td>\n      <td>0</td>\n      <td>100.454670</td>\n      <td>Intel Core i3</td>\n      <td>500</td>\n      <td>0</td>\n      <td>Nvidia</td>\n      <td>Windows</td>\n    </tr>\n    <tr>\n      <th>299</th>\n      <td>Asus</td>\n      <td>Ultrabook</td>\n      <td>16</td>\n      <td>1.63</td>\n      <td>0</td>\n      <td>0</td>\n      <td>141.211998</td>\n      <td>Intel Core i7</td>\n      <td>0</td>\n      <td>512</td>\n      <td>Nvidia</td>\n      <td>Windows</td>\n    </tr>\n    <tr>\n      <th>493</th>\n      <td>Acer</td>\n      <td>Notebook</td>\n      <td>8</td>\n      <td>2.20</td>\n      <td>0</td>\n      <td>0</td>\n      <td>100.454670</td>\n      <td>AMD Processor</td>\n      <td>1000</td>\n      <td>0</td>\n      <td>AMD</td>\n      <td>Windows</td>\n    </tr>\n    <tr>\n      <th>527</th>\n      <td>Lenovo</td>\n      <td>Notebook</td>\n      <td>8</td>\n      <td>2.20</td>\n      <td>0</td>\n      <td>0</td>\n      <td>100.454670</td>\n      <td>Intel Core i3</td>\n      <td>2000</td>\n      <td>0</td>\n      <td>Nvidia</td>\n      <td>Others/No OS/Linux</td>\n    </tr>\n    <tr>\n      <th>1193</th>\n      <td>Apple</td>\n      <td>Ultrabook</td>\n      <td>8</td>\n      <td>0.92</td>\n      <td>0</td>\n      <td>1</td>\n      <td>226.415547</td>\n      <td>Other Intel Processor</td>\n      <td>0</td>\n      <td>0</td>\n      <td>Intel</td>\n      <td>Mac</td>\n    </tr>\n  </tbody>\n</table>\n<p>1106 rows × 12 columns</p>\n</div>"
     },
     "execution_count": 89,
     "metadata": {},
     "output_type": "execute_result"
    }
   ],
   "source": [
    "X_train"
   ],
   "metadata": {
    "collapsed": false,
    "pycharm": {
     "name": "#%%\n"
    }
   }
  },
  {
   "cell_type": "code",
   "execution_count": 90,
   "outputs": [],
   "source": [
    "from sklearn.compose import ColumnTransformer\n",
    "from sklearn.pipeline import Pipeline\n",
    "from sklearn.preprocessing import OneHotEncoder\n",
    "from sklearn.metrics import r2_score,mean_absolute_error"
   ],
   "metadata": {
    "collapsed": false,
    "pycharm": {
     "name": "#%%\n"
    }
   }
  },
  {
   "cell_type": "code",
   "execution_count": 91,
   "outputs": [],
   "source": [
    "from sklearn.linear_model import LinearRegression,Ridge,Lasso\n",
    "from sklearn.neighbors import KNeighborsRegressor\n",
    "from sklearn.tree import DecisionTreeRegressor\n",
    "from sklearn.ensemble import RandomForestRegressor,GradientBoostingRegressor,AdaBoostRegressor,ExtraTreesRegressor\n",
    "from sklearn.svm import SVR\n",
    "from xgboost import XGBRegressor"
   ],
   "metadata": {
    "collapsed": false,
    "pycharm": {
     "name": "#%%\n"
    }
   }
  },
  {
   "cell_type": "markdown",
   "source": [
    "# Linear Regression"
   ],
   "metadata": {
    "collapsed": false,
    "pycharm": {
     "name": "#%% md\n"
    }
   }
  },
  {
   "cell_type": "code",
   "execution_count": 92,
   "outputs": [
    {
     "name": "stdout",
     "output_type": "stream",
     "text": [
      "R2 score 0.8073277448418656\n",
      "MAE 0.21017827976428838\n"
     ]
    }
   ],
   "source": [
    "step1 = ColumnTransformer(transformers=[\n",
    "    ('col_tnf',OneHotEncoder(sparse=False,drop='first'),[0,1,7,10,11])\n",
    "],remainder='passthrough')\n",
    "\n",
    "step2 = LinearRegression()\n",
    "\n",
    "pipe = Pipeline([\n",
    "    ('step1',step1),\n",
    "    ('step2',step2)\n",
    "])\n",
    "\n",
    "pipe.fit(X_train,y_train)\n",
    "\n",
    "y_pred = pipe.predict(X_test)\n",
    "\n",
    "print('R2 score',r2_score(y_test,y_pred))\n",
    "print('MAE',mean_absolute_error(y_test,y_pred))"
   ],
   "metadata": {
    "collapsed": false,
    "pycharm": {
     "name": "#%%\n"
    }
   }
  },
  {
   "cell_type": "code",
   "execution_count": 93,
   "outputs": [
    {
     "data": {
      "text/plain": "1.2336780599567432"
     },
     "execution_count": 93,
     "metadata": {},
     "output_type": "execute_result"
    }
   ],
   "source": [
    "np.exp(0.21)"
   ],
   "metadata": {
    "collapsed": false,
    "pycharm": {
     "name": "#%%\n"
    }
   }
  },
  {
   "cell_type": "markdown",
   "source": [
    "# Ridge Regression"
   ],
   "metadata": {
    "collapsed": false,
    "pycharm": {
     "name": "#%% md\n"
    }
   }
  },
  {
   "cell_type": "code",
   "execution_count": 94,
   "outputs": [
    {
     "name": "stdout",
     "output_type": "stream",
     "text": [
      "R2 score 0.8127331031311809\n",
      "MAE 0.20926802242582965\n"
     ]
    }
   ],
   "source": [
    "step1 = ColumnTransformer(transformers=[\n",
    "    ('col_tnf',OneHotEncoder(sparse=False,drop='first'),[0,1,7,10,11])\n",
    "],remainder='passthrough')\n",
    "\n",
    "step2 = Ridge(alpha=10)\n",
    "\n",
    "pipe = Pipeline([\n",
    "    ('step1',step1),\n",
    "    ('step2',step2)\n",
    "])\n",
    "\n",
    "pipe.fit(X_train,y_train)\n",
    "\n",
    "y_pred = pipe.predict(X_test)\n",
    "\n",
    "print('R2 score',r2_score(y_test,y_pred))\n",
    "print('MAE',mean_absolute_error(y_test,y_pred))"
   ],
   "metadata": {
    "collapsed": false,
    "pycharm": {
     "name": "#%%\n"
    }
   }
  },
  {
   "cell_type": "markdown",
   "source": [
    "# Lasso Regression"
   ],
   "metadata": {
    "collapsed": false,
    "pycharm": {
     "name": "#%% md\n"
    }
   }
  },
  {
   "cell_type": "code",
   "execution_count": 95,
   "outputs": [
    {
     "name": "stdout",
     "output_type": "stream",
     "text": [
      "R2 score 0.8071853945317105\n",
      "MAE 0.21114361613472565\n"
     ]
    }
   ],
   "source": [
    "step1 = ColumnTransformer(transformers=[\n",
    "    ('col_tnf',OneHotEncoder(sparse=False,drop='first'),[0,1,7,10,11])\n",
    "],remainder='passthrough')\n",
    "\n",
    "step2 = Lasso(alpha=0.001)\n",
    "\n",
    "pipe = Pipeline([\n",
    "    ('step1',step1),\n",
    "    ('step2',step2)\n",
    "])\n",
    "\n",
    "pipe.fit(X_train,y_train)\n",
    "\n",
    "y_pred = pipe.predict(X_test)\n",
    "\n",
    "print('R2 score',r2_score(y_test,y_pred))\n",
    "print('MAE',mean_absolute_error(y_test,y_pred))"
   ],
   "metadata": {
    "collapsed": false,
    "pycharm": {
     "name": "#%%\n"
    }
   }
  },
  {
   "cell_type": "markdown",
   "source": [
    "# KNN"
   ],
   "metadata": {
    "collapsed": false,
    "pycharm": {
     "name": "#%% md\n"
    }
   }
  },
  {
   "cell_type": "code",
   "execution_count": 96,
   "outputs": [
    {
     "name": "stdout",
     "output_type": "stream",
     "text": [
      "R2 score 0.803148868705085\n",
      "MAE 0.19264883332948868\n"
     ]
    }
   ],
   "source": [
    "step1 = ColumnTransformer(transformers=[\n",
    "    ('col_tnf',OneHotEncoder(sparse=False,drop='first'),[0,1,7,10,11])\n",
    "],remainder='passthrough')\n",
    "\n",
    "step2 = KNeighborsRegressor(n_neighbors=3)\n",
    "\n",
    "pipe = Pipeline([\n",
    "    ('step1',step1),\n",
    "    ('step2',step2)\n",
    "])\n",
    "\n",
    "pipe.fit(X_train,y_train)\n",
    "\n",
    "y_pred = pipe.predict(X_test)\n",
    "\n",
    "print('R2 score',r2_score(y_test,y_pred))\n",
    "print('MAE',mean_absolute_error(y_test,y_pred))"
   ],
   "metadata": {
    "collapsed": false,
    "pycharm": {
     "name": "#%%\n"
    }
   }
  },
  {
   "cell_type": "markdown",
   "source": [
    "# Decision Tree"
   ],
   "metadata": {
    "collapsed": false,
    "pycharm": {
     "name": "#%% md\n"
    }
   }
  },
  {
   "cell_type": "code",
   "execution_count": 97,
   "outputs": [
    {
     "name": "stdout",
     "output_type": "stream",
     "text": [
      "R2 score 0.8366254562546684\n",
      "MAE 0.18403667681762792\n"
     ]
    }
   ],
   "source": [
    "step1 = ColumnTransformer(transformers=[\n",
    "    ('col_tnf',OneHotEncoder(sparse=False,drop='first'),[0,1,7,10,11])\n",
    "],remainder='passthrough')\n",
    "\n",
    "step2 = DecisionTreeRegressor(max_depth=8)\n",
    "\n",
    "pipe = Pipeline([\n",
    "    ('step1',step1),\n",
    "    ('step2',step2)\n",
    "])\n",
    "\n",
    "pipe.fit(X_train,y_train)\n",
    "\n",
    "y_pred = pipe.predict(X_test)\n",
    "\n",
    "print('R2 score',r2_score(y_test,y_pred))\n",
    "print('MAE',mean_absolute_error(y_test,y_pred))"
   ],
   "metadata": {
    "collapsed": false,
    "pycharm": {
     "name": "#%%\n"
    }
   }
  },
  {
   "cell_type": "markdown",
   "source": [
    "# Random Forest"
   ],
   "metadata": {
    "collapsed": false,
    "pycharm": {
     "name": "#%% md\n"
    }
   }
  },
  {
   "cell_type": "code",
   "execution_count": 98,
   "outputs": [
    {
     "name": "stdout",
     "output_type": "stream",
     "text": [
      "R2 score 0.8873402378382488\n",
      "MAE 0.15860130110457718\n"
     ]
    }
   ],
   "source": [
    "step1 = ColumnTransformer(transformers=[\n",
    "    ('col_tnf',OneHotEncoder(sparse=False,drop='first'),[0,1,7,10,11])\n",
    "],remainder='passthrough')\n",
    "\n",
    "step2 = RandomForestRegressor(n_estimators=100,\n",
    "                              random_state=3,\n",
    "                              max_samples=0.5,\n",
    "                              max_features=0.75,\n",
    "                              max_depth=15)\n",
    "\n",
    "pipe = Pipeline([\n",
    "    ('step1',step1),\n",
    "    ('step2',step2)\n",
    "])\n",
    "\n",
    "pipe.fit(X_train,y_train)\n",
    "\n",
    "y_pred = pipe.predict(X_test)\n",
    "\n",
    "print('R2 score',r2_score(y_test,y_pred))\n",
    "print('MAE',mean_absolute_error(y_test,y_pred))"
   ],
   "metadata": {
    "collapsed": false,
    "pycharm": {
     "name": "#%%\n"
    }
   }
  },
  {
   "cell_type": "markdown",
   "source": [
    "# Gradient Boost"
   ],
   "metadata": {
    "collapsed": false,
    "pycharm": {
     "name": "#%% md\n"
    }
   }
  },
  {
   "cell_type": "code",
   "execution_count": 99,
   "outputs": [
    {
     "name": "stdout",
     "output_type": "stream",
     "text": [
      "R2 score 0.8833904558347101\n",
      "MAE 0.15935476453012015\n"
     ]
    }
   ],
   "source": [
    "step1 = ColumnTransformer(transformers=[\n",
    "    ('col_tnf',OneHotEncoder(sparse=False,drop='first'),[0,1,7,10,11])\n",
    "],remainder='passthrough')\n",
    "\n",
    "step2 = GradientBoostingRegressor(n_estimators=500)\n",
    "\n",
    "pipe = Pipeline([\n",
    "    ('step1',step1),\n",
    "    ('step2',step2)\n",
    "])\n",
    "\n",
    "pipe.fit(X_train,y_train)\n",
    "\n",
    "y_pred = pipe.predict(X_test)\n",
    "\n",
    "print('R2 score',r2_score(y_test,y_pred))\n",
    "print('MAE',mean_absolute_error(y_test,y_pred))"
   ],
   "metadata": {
    "collapsed": false,
    "pycharm": {
     "name": "#%%\n"
    }
   }
  },
  {
   "cell_type": "markdown",
   "source": [
    "# Exporting the Model"
   ],
   "metadata": {
    "collapsed": false,
    "pycharm": {
     "name": "#%% md\n"
    }
   }
  },
  {
   "cell_type": "code",
   "execution_count": 100,
   "outputs": [],
   "source": [
    "import pickle\n",
    "\n",
    "pickle.dump(df,open('df.pkl','wb'))\n",
    "pickle.dump(pipe,open('pipe.pkl','wb'))"
   ],
   "metadata": {
    "collapsed": false,
    "pycharm": {
     "name": "#%%\n"
    }
   }
  },
  {
   "cell_type": "code",
   "execution_count": 101,
   "outputs": [
    {
     "data": {
      "text/plain": "     Company            TypeName  Ram  Weight        Price  Touchscreen  Ips  \\\n0      Apple           Ultrabook    8    1.37   71378.6832            0    1   \n1      Apple           Ultrabook    8    1.34   47895.5232            0    0   \n2         HP            Notebook    8    1.86   30636.0000            0    0   \n3      Apple           Ultrabook   16    1.83  135195.3360            0    1   \n4      Apple           Ultrabook    8    1.37   96095.8080            0    1   \n...      ...                 ...  ...     ...          ...          ...  ...   \n1298  Lenovo  2 in 1 Convertible    4    1.80   33992.6400            1    1   \n1299  Lenovo  2 in 1 Convertible   16    1.30   79866.7200            1    1   \n1300  Lenovo            Notebook    2    1.50   12201.1200            0    0   \n1301      HP            Notebook    6    2.19   40705.9200            0    0   \n1302    Asus            Notebook    4    2.20   19660.3200            0    0   \n\n             ppi              Cpu brand   HDD  SSD Gpu brand  \\\n0     226.983005          Intel Core i5     0  128     Intel   \n1     127.677940          Intel Core i5     0    0     Intel   \n2     141.211998          Intel Core i5     0  256     Intel   \n3     220.534624          Intel Core i7     0  512       AMD   \n4     226.983005          Intel Core i5     0  256     Intel   \n...          ...                    ...   ...  ...       ...   \n1298  157.350512          Intel Core i7     0  128     Intel   \n1299  276.053530          Intel Core i7     0  512     Intel   \n1300  111.935204  Other Intel Processor     0    0     Intel   \n1301  100.454670          Intel Core i7  1000    0       AMD   \n1302  100.454670  Other Intel Processor   500    0     Intel   \n\n                      os  \n0                    Mac  \n1                    Mac  \n2     Others/No OS/Linux  \n3                    Mac  \n4                    Mac  \n...                  ...  \n1298             Windows  \n1299             Windows  \n1300             Windows  \n1301             Windows  \n1302             Windows  \n\n[1302 rows x 13 columns]",
      "text/html": "<div>\n<style scoped>\n    .dataframe tbody tr th:only-of-type {\n        vertical-align: middle;\n    }\n\n    .dataframe tbody tr th {\n        vertical-align: top;\n    }\n\n    .dataframe thead th {\n        text-align: right;\n    }\n</style>\n<table border=\"1\" class=\"dataframe\">\n  <thead>\n    <tr style=\"text-align: right;\">\n      <th></th>\n      <th>Company</th>\n      <th>TypeName</th>\n      <th>Ram</th>\n      <th>Weight</th>\n      <th>Price</th>\n      <th>Touchscreen</th>\n      <th>Ips</th>\n      <th>ppi</th>\n      <th>Cpu brand</th>\n      <th>HDD</th>\n      <th>SSD</th>\n      <th>Gpu brand</th>\n      <th>os</th>\n    </tr>\n  </thead>\n  <tbody>\n    <tr>\n      <th>0</th>\n      <td>Apple</td>\n      <td>Ultrabook</td>\n      <td>8</td>\n      <td>1.37</td>\n      <td>71378.6832</td>\n      <td>0</td>\n      <td>1</td>\n      <td>226.983005</td>\n      <td>Intel Core i5</td>\n      <td>0</td>\n      <td>128</td>\n      <td>Intel</td>\n      <td>Mac</td>\n    </tr>\n    <tr>\n      <th>1</th>\n      <td>Apple</td>\n      <td>Ultrabook</td>\n      <td>8</td>\n      <td>1.34</td>\n      <td>47895.5232</td>\n      <td>0</td>\n      <td>0</td>\n      <td>127.677940</td>\n      <td>Intel Core i5</td>\n      <td>0</td>\n      <td>0</td>\n      <td>Intel</td>\n      <td>Mac</td>\n    </tr>\n    <tr>\n      <th>2</th>\n      <td>HP</td>\n      <td>Notebook</td>\n      <td>8</td>\n      <td>1.86</td>\n      <td>30636.0000</td>\n      <td>0</td>\n      <td>0</td>\n      <td>141.211998</td>\n      <td>Intel Core i5</td>\n      <td>0</td>\n      <td>256</td>\n      <td>Intel</td>\n      <td>Others/No OS/Linux</td>\n    </tr>\n    <tr>\n      <th>3</th>\n      <td>Apple</td>\n      <td>Ultrabook</td>\n      <td>16</td>\n      <td>1.83</td>\n      <td>135195.3360</td>\n      <td>0</td>\n      <td>1</td>\n      <td>220.534624</td>\n      <td>Intel Core i7</td>\n      <td>0</td>\n      <td>512</td>\n      <td>AMD</td>\n      <td>Mac</td>\n    </tr>\n    <tr>\n      <th>4</th>\n      <td>Apple</td>\n      <td>Ultrabook</td>\n      <td>8</td>\n      <td>1.37</td>\n      <td>96095.8080</td>\n      <td>0</td>\n      <td>1</td>\n      <td>226.983005</td>\n      <td>Intel Core i5</td>\n      <td>0</td>\n      <td>256</td>\n      <td>Intel</td>\n      <td>Mac</td>\n    </tr>\n    <tr>\n      <th>...</th>\n      <td>...</td>\n      <td>...</td>\n      <td>...</td>\n      <td>...</td>\n      <td>...</td>\n      <td>...</td>\n      <td>...</td>\n      <td>...</td>\n      <td>...</td>\n      <td>...</td>\n      <td>...</td>\n      <td>...</td>\n      <td>...</td>\n    </tr>\n    <tr>\n      <th>1298</th>\n      <td>Lenovo</td>\n      <td>2 in 1 Convertible</td>\n      <td>4</td>\n      <td>1.80</td>\n      <td>33992.6400</td>\n      <td>1</td>\n      <td>1</td>\n      <td>157.350512</td>\n      <td>Intel Core i7</td>\n      <td>0</td>\n      <td>128</td>\n      <td>Intel</td>\n      <td>Windows</td>\n    </tr>\n    <tr>\n      <th>1299</th>\n      <td>Lenovo</td>\n      <td>2 in 1 Convertible</td>\n      <td>16</td>\n      <td>1.30</td>\n      <td>79866.7200</td>\n      <td>1</td>\n      <td>1</td>\n      <td>276.053530</td>\n      <td>Intel Core i7</td>\n      <td>0</td>\n      <td>512</td>\n      <td>Intel</td>\n      <td>Windows</td>\n    </tr>\n    <tr>\n      <th>1300</th>\n      <td>Lenovo</td>\n      <td>Notebook</td>\n      <td>2</td>\n      <td>1.50</td>\n      <td>12201.1200</td>\n      <td>0</td>\n      <td>0</td>\n      <td>111.935204</td>\n      <td>Other Intel Processor</td>\n      <td>0</td>\n      <td>0</td>\n      <td>Intel</td>\n      <td>Windows</td>\n    </tr>\n    <tr>\n      <th>1301</th>\n      <td>HP</td>\n      <td>Notebook</td>\n      <td>6</td>\n      <td>2.19</td>\n      <td>40705.9200</td>\n      <td>0</td>\n      <td>0</td>\n      <td>100.454670</td>\n      <td>Intel Core i7</td>\n      <td>1000</td>\n      <td>0</td>\n      <td>AMD</td>\n      <td>Windows</td>\n    </tr>\n    <tr>\n      <th>1302</th>\n      <td>Asus</td>\n      <td>Notebook</td>\n      <td>4</td>\n      <td>2.20</td>\n      <td>19660.3200</td>\n      <td>0</td>\n      <td>0</td>\n      <td>100.454670</td>\n      <td>Other Intel Processor</td>\n      <td>500</td>\n      <td>0</td>\n      <td>Intel</td>\n      <td>Windows</td>\n    </tr>\n  </tbody>\n</table>\n<p>1302 rows × 13 columns</p>\n</div>"
     },
     "execution_count": 101,
     "metadata": {},
     "output_type": "execute_result"
    }
   ],
   "source": [
    "df"
   ],
   "metadata": {
    "collapsed": false,
    "pycharm": {
     "name": "#%%\n"
    }
   }
  },
  {
   "cell_type": "code",
   "execution_count": 102,
   "outputs": [
    {
     "data": {
      "text/plain": "      Company            TypeName  Ram  Weight  Touchscreen  Ips         ppi  \\\n183   Toshiba            Notebook    8    2.00            0    0  100.454670   \n1141      MSI              Gaming    8    2.40            0    0  141.211998   \n1049     Asus             Netbook    4    1.20            0    0  135.094211   \n1020     Dell  2 in 1 Convertible    4    2.08            1    1  141.211998   \n878      Dell            Notebook    4    2.18            0    0  141.211998   \n...       ...                 ...  ...     ...          ...  ...         ...   \n466      Acer            Notebook    4    2.20            0    0  100.454670   \n299      Asus           Ultrabook   16    1.63            0    0  141.211998   \n493      Acer            Notebook    8    2.20            0    0  100.454670   \n527    Lenovo            Notebook    8    2.20            0    0  100.454670   \n1193    Apple           Ultrabook    8    0.92            0    1  226.415547   \n\n                  Cpu brand   HDD  SSD Gpu brand                  os  \n183           Intel Core i5     0  128     Intel             Windows  \n1141          Intel Core i7  1000  128    Nvidia             Windows  \n1049  Other Intel Processor     0    0     Intel  Others/No OS/Linux  \n1020          Intel Core i3  1000    0     Intel             Windows  \n878           Intel Core i5  1000  128    Nvidia             Windows  \n...                     ...   ...  ...       ...                 ...  \n466           Intel Core i3   500    0    Nvidia             Windows  \n299           Intel Core i7     0  512    Nvidia             Windows  \n493           AMD Processor  1000    0       AMD             Windows  \n527           Intel Core i3  2000    0    Nvidia  Others/No OS/Linux  \n1193  Other Intel Processor     0    0     Intel                 Mac  \n\n[1106 rows x 12 columns]",
      "text/html": "<div>\n<style scoped>\n    .dataframe tbody tr th:only-of-type {\n        vertical-align: middle;\n    }\n\n    .dataframe tbody tr th {\n        vertical-align: top;\n    }\n\n    .dataframe thead th {\n        text-align: right;\n    }\n</style>\n<table border=\"1\" class=\"dataframe\">\n  <thead>\n    <tr style=\"text-align: right;\">\n      <th></th>\n      <th>Company</th>\n      <th>TypeName</th>\n      <th>Ram</th>\n      <th>Weight</th>\n      <th>Touchscreen</th>\n      <th>Ips</th>\n      <th>ppi</th>\n      <th>Cpu brand</th>\n      <th>HDD</th>\n      <th>SSD</th>\n      <th>Gpu brand</th>\n      <th>os</th>\n    </tr>\n  </thead>\n  <tbody>\n    <tr>\n      <th>183</th>\n      <td>Toshiba</td>\n      <td>Notebook</td>\n      <td>8</td>\n      <td>2.00</td>\n      <td>0</td>\n      <td>0</td>\n      <td>100.454670</td>\n      <td>Intel Core i5</td>\n      <td>0</td>\n      <td>128</td>\n      <td>Intel</td>\n      <td>Windows</td>\n    </tr>\n    <tr>\n      <th>1141</th>\n      <td>MSI</td>\n      <td>Gaming</td>\n      <td>8</td>\n      <td>2.40</td>\n      <td>0</td>\n      <td>0</td>\n      <td>141.211998</td>\n      <td>Intel Core i7</td>\n      <td>1000</td>\n      <td>128</td>\n      <td>Nvidia</td>\n      <td>Windows</td>\n    </tr>\n    <tr>\n      <th>1049</th>\n      <td>Asus</td>\n      <td>Netbook</td>\n      <td>4</td>\n      <td>1.20</td>\n      <td>0</td>\n      <td>0</td>\n      <td>135.094211</td>\n      <td>Other Intel Processor</td>\n      <td>0</td>\n      <td>0</td>\n      <td>Intel</td>\n      <td>Others/No OS/Linux</td>\n    </tr>\n    <tr>\n      <th>1020</th>\n      <td>Dell</td>\n      <td>2 in 1 Convertible</td>\n      <td>4</td>\n      <td>2.08</td>\n      <td>1</td>\n      <td>1</td>\n      <td>141.211998</td>\n      <td>Intel Core i3</td>\n      <td>1000</td>\n      <td>0</td>\n      <td>Intel</td>\n      <td>Windows</td>\n    </tr>\n    <tr>\n      <th>878</th>\n      <td>Dell</td>\n      <td>Notebook</td>\n      <td>4</td>\n      <td>2.18</td>\n      <td>0</td>\n      <td>0</td>\n      <td>141.211998</td>\n      <td>Intel Core i5</td>\n      <td>1000</td>\n      <td>128</td>\n      <td>Nvidia</td>\n      <td>Windows</td>\n    </tr>\n    <tr>\n      <th>...</th>\n      <td>...</td>\n      <td>...</td>\n      <td>...</td>\n      <td>...</td>\n      <td>...</td>\n      <td>...</td>\n      <td>...</td>\n      <td>...</td>\n      <td>...</td>\n      <td>...</td>\n      <td>...</td>\n      <td>...</td>\n    </tr>\n    <tr>\n      <th>466</th>\n      <td>Acer</td>\n      <td>Notebook</td>\n      <td>4</td>\n      <td>2.20</td>\n      <td>0</td>\n      <td>0</td>\n      <td>100.454670</td>\n      <td>Intel Core i3</td>\n      <td>500</td>\n      <td>0</td>\n      <td>Nvidia</td>\n      <td>Windows</td>\n    </tr>\n    <tr>\n      <th>299</th>\n      <td>Asus</td>\n      <td>Ultrabook</td>\n      <td>16</td>\n      <td>1.63</td>\n      <td>0</td>\n      <td>0</td>\n      <td>141.211998</td>\n      <td>Intel Core i7</td>\n      <td>0</td>\n      <td>512</td>\n      <td>Nvidia</td>\n      <td>Windows</td>\n    </tr>\n    <tr>\n      <th>493</th>\n      <td>Acer</td>\n      <td>Notebook</td>\n      <td>8</td>\n      <td>2.20</td>\n      <td>0</td>\n      <td>0</td>\n      <td>100.454670</td>\n      <td>AMD Processor</td>\n      <td>1000</td>\n      <td>0</td>\n      <td>AMD</td>\n      <td>Windows</td>\n    </tr>\n    <tr>\n      <th>527</th>\n      <td>Lenovo</td>\n      <td>Notebook</td>\n      <td>8</td>\n      <td>2.20</td>\n      <td>0</td>\n      <td>0</td>\n      <td>100.454670</td>\n      <td>Intel Core i3</td>\n      <td>2000</td>\n      <td>0</td>\n      <td>Nvidia</td>\n      <td>Others/No OS/Linux</td>\n    </tr>\n    <tr>\n      <th>1193</th>\n      <td>Apple</td>\n      <td>Ultrabook</td>\n      <td>8</td>\n      <td>0.92</td>\n      <td>0</td>\n      <td>1</td>\n      <td>226.415547</td>\n      <td>Other Intel Processor</td>\n      <td>0</td>\n      <td>0</td>\n      <td>Intel</td>\n      <td>Mac</td>\n    </tr>\n  </tbody>\n</table>\n<p>1106 rows × 12 columns</p>\n</div>"
     },
     "execution_count": 102,
     "metadata": {},
     "output_type": "execute_result"
    }
   ],
   "source": [
    "X_train"
   ],
   "metadata": {
    "collapsed": false,
    "pycharm": {
     "name": "#%%\n"
    }
   }
  },
  {
   "cell_type": "code",
   "execution_count": 103,
   "outputs": [
    {
     "data": {
      "text/plain": "183     10.651384\n1141    11.016798\n1049     9.638174\n1020    10.655148\n878     10.791749\n          ...    \n466     10.126164\n299     11.267217\n493     10.336864\n527     10.104611\n1193    11.034319\nName: Price, Length: 1106, dtype: float64"
     },
     "execution_count": 103,
     "metadata": {},
     "output_type": "execute_result"
    }
   ],
   "source": [
    "y_train"
   ],
   "metadata": {
    "collapsed": false,
    "pycharm": {
     "name": "#%%\n"
    }
   }
  },
  {
   "cell_type": "code",
   "execution_count": 103,
   "outputs": [],
   "source": [],
   "metadata": {
    "collapsed": false,
    "pycharm": {
     "name": "#%%\n"
    }
   }
  }
 ],
 "metadata": {
  "kernelspec": {
   "display_name": "Python 3",
   "language": "python",
   "name": "python3"
  },
  "language_info": {
   "codemirror_mode": {
    "name": "ipython",
    "version": 2
   },
   "file_extension": ".py",
   "mimetype": "text/x-python",
   "name": "python",
   "nbconvert_exporter": "python",
   "pygments_lexer": "ipython2",
   "version": "2.7.6"
  }
 },
 "nbformat": 4,
 "nbformat_minor": 0
}