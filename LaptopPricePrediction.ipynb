{
 "cells": [
  {
   "cell_type": "markdown",
   "source": [
    "# <font color=blue> Estimating Laptop Price Based on User Input Configuration </font>"
   ],
   "metadata": {
    "collapsed": false,
    "pycharm": {
     "name": "#%% md\n"
    }
   }
  },
  {
   "cell_type": "code",
   "execution_count": 4140,
   "outputs": [],
   "source": [
    "import numpy as np\n",
    "import pandas as pd"
   ],
   "metadata": {
    "collapsed": false,
    "pycharm": {
     "name": "#%%\n"
    }
   }
  },
  {
   "cell_type": "code",
   "execution_count": 4141,
   "outputs": [],
   "source": [
    "df = pd.read_csv('laptop_data.csv')"
   ],
   "metadata": {
    "collapsed": false,
    "pycharm": {
     "name": "#%%\n"
    }
   }
  },
  {
   "cell_type": "code",
   "execution_count": 4142,
   "outputs": [
    {
     "data": {
      "text/plain": "   Unnamed: 0 Company   TypeName  Inches                    ScreenResolution  \\\n0           0   Apple  Ultrabook    13.3  IPS Panel Retina Display 2560x1600   \n1           1   Apple  Ultrabook    13.3                            1440x900   \n2           2      HP   Notebook    15.6                   Full HD 1920x1080   \n3           3   Apple  Ultrabook    15.4  IPS Panel Retina Display 2880x1800   \n4           4   Apple  Ultrabook    13.3  IPS Panel Retina Display 2560x1600   \n5           5    Acer   Notebook    15.6                            1366x768   \n6           6   Apple  Ultrabook    15.4  IPS Panel Retina Display 2880x1800   \n7           7   Apple  Ultrabook    13.3                            1440x900   \n8           8    Asus  Ultrabook    14.0                   Full HD 1920x1080   \n9           9    Acer  Ultrabook    14.0         IPS Panel Full HD 1920x1080   \n\n                          Cpu   Ram               Memory  \\\n0        Intel Core i5 2.3GHz   8GB            128GB SSD   \n1        Intel Core i5 1.8GHz   8GB  128GB Flash Storage   \n2  Intel Core i5 7200U 2.5GHz   8GB            256GB SSD   \n3        Intel Core i7 2.7GHz  16GB            512GB SSD   \n4        Intel Core i5 3.1GHz   8GB            256GB SSD   \n5     AMD A9-Series 9420 3GHz   4GB            500GB HDD   \n6        Intel Core i7 2.2GHz  16GB  256GB Flash Storage   \n7        Intel Core i5 1.8GHz   8GB  256GB Flash Storage   \n8  Intel Core i7 8550U 1.8GHz  16GB            512GB SSD   \n9  Intel Core i5 8250U 1.6GHz   8GB            256GB SSD   \n\n                            Gpu       OpSys  Weight        Price  \n0  Intel Iris Plus Graphics 640       macOS  1.37kg   71378.6832  \n1        Intel HD Graphics 6000       macOS  1.34kg   47895.5232  \n2         Intel HD Graphics 620       No OS  1.86kg   30636.0000  \n3            AMD Radeon Pro 455       macOS  1.83kg  135195.3360  \n4  Intel Iris Plus Graphics 650       macOS  1.37kg   96095.8080  \n5                 AMD Radeon R5  Windows 10   2.1kg   21312.0000  \n6       Intel Iris Pro Graphics    Mac OS X  2.04kg  114017.6016  \n7        Intel HD Graphics 6000       macOS  1.34kg   61735.5360  \n8          Nvidia GeForce MX150  Windows 10   1.3kg   79653.6000  \n9        Intel UHD Graphics 620  Windows 10   1.6kg   41025.6000  ",
      "text/html": "<div>\n<style scoped>\n    .dataframe tbody tr th:only-of-type {\n        vertical-align: middle;\n    }\n\n    .dataframe tbody tr th {\n        vertical-align: top;\n    }\n\n    .dataframe thead th {\n        text-align: right;\n    }\n</style>\n<table border=\"1\" class=\"dataframe\">\n  <thead>\n    <tr style=\"text-align: right;\">\n      <th></th>\n      <th>Unnamed: 0</th>\n      <th>Company</th>\n      <th>TypeName</th>\n      <th>Inches</th>\n      <th>ScreenResolution</th>\n      <th>Cpu</th>\n      <th>Ram</th>\n      <th>Memory</th>\n      <th>Gpu</th>\n      <th>OpSys</th>\n      <th>Weight</th>\n      <th>Price</th>\n    </tr>\n  </thead>\n  <tbody>\n    <tr>\n      <th>0</th>\n      <td>0</td>\n      <td>Apple</td>\n      <td>Ultrabook</td>\n      <td>13.3</td>\n      <td>IPS Panel Retina Display 2560x1600</td>\n      <td>Intel Core i5 2.3GHz</td>\n      <td>8GB</td>\n      <td>128GB SSD</td>\n      <td>Intel Iris Plus Graphics 640</td>\n      <td>macOS</td>\n      <td>1.37kg</td>\n      <td>71378.6832</td>\n    </tr>\n    <tr>\n      <th>1</th>\n      <td>1</td>\n      <td>Apple</td>\n      <td>Ultrabook</td>\n      <td>13.3</td>\n      <td>1440x900</td>\n      <td>Intel Core i5 1.8GHz</td>\n      <td>8GB</td>\n      <td>128GB Flash Storage</td>\n      <td>Intel HD Graphics 6000</td>\n      <td>macOS</td>\n      <td>1.34kg</td>\n      <td>47895.5232</td>\n    </tr>\n    <tr>\n      <th>2</th>\n      <td>2</td>\n      <td>HP</td>\n      <td>Notebook</td>\n      <td>15.6</td>\n      <td>Full HD 1920x1080</td>\n      <td>Intel Core i5 7200U 2.5GHz</td>\n      <td>8GB</td>\n      <td>256GB SSD</td>\n      <td>Intel HD Graphics 620</td>\n      <td>No OS</td>\n      <td>1.86kg</td>\n      <td>30636.0000</td>\n    </tr>\n    <tr>\n      <th>3</th>\n      <td>3</td>\n      <td>Apple</td>\n      <td>Ultrabook</td>\n      <td>15.4</td>\n      <td>IPS Panel Retina Display 2880x1800</td>\n      <td>Intel Core i7 2.7GHz</td>\n      <td>16GB</td>\n      <td>512GB SSD</td>\n      <td>AMD Radeon Pro 455</td>\n      <td>macOS</td>\n      <td>1.83kg</td>\n      <td>135195.3360</td>\n    </tr>\n    <tr>\n      <th>4</th>\n      <td>4</td>\n      <td>Apple</td>\n      <td>Ultrabook</td>\n      <td>13.3</td>\n      <td>IPS Panel Retina Display 2560x1600</td>\n      <td>Intel Core i5 3.1GHz</td>\n      <td>8GB</td>\n      <td>256GB SSD</td>\n      <td>Intel Iris Plus Graphics 650</td>\n      <td>macOS</td>\n      <td>1.37kg</td>\n      <td>96095.8080</td>\n    </tr>\n    <tr>\n      <th>5</th>\n      <td>5</td>\n      <td>Acer</td>\n      <td>Notebook</td>\n      <td>15.6</td>\n      <td>1366x768</td>\n      <td>AMD A9-Series 9420 3GHz</td>\n      <td>4GB</td>\n      <td>500GB HDD</td>\n      <td>AMD Radeon R5</td>\n      <td>Windows 10</td>\n      <td>2.1kg</td>\n      <td>21312.0000</td>\n    </tr>\n    <tr>\n      <th>6</th>\n      <td>6</td>\n      <td>Apple</td>\n      <td>Ultrabook</td>\n      <td>15.4</td>\n      <td>IPS Panel Retina Display 2880x1800</td>\n      <td>Intel Core i7 2.2GHz</td>\n      <td>16GB</td>\n      <td>256GB Flash Storage</td>\n      <td>Intel Iris Pro Graphics</td>\n      <td>Mac OS X</td>\n      <td>2.04kg</td>\n      <td>114017.6016</td>\n    </tr>\n    <tr>\n      <th>7</th>\n      <td>7</td>\n      <td>Apple</td>\n      <td>Ultrabook</td>\n      <td>13.3</td>\n      <td>1440x900</td>\n      <td>Intel Core i5 1.8GHz</td>\n      <td>8GB</td>\n      <td>256GB Flash Storage</td>\n      <td>Intel HD Graphics 6000</td>\n      <td>macOS</td>\n      <td>1.34kg</td>\n      <td>61735.5360</td>\n    </tr>\n    <tr>\n      <th>8</th>\n      <td>8</td>\n      <td>Asus</td>\n      <td>Ultrabook</td>\n      <td>14.0</td>\n      <td>Full HD 1920x1080</td>\n      <td>Intel Core i7 8550U 1.8GHz</td>\n      <td>16GB</td>\n      <td>512GB SSD</td>\n      <td>Nvidia GeForce MX150</td>\n      <td>Windows 10</td>\n      <td>1.3kg</td>\n      <td>79653.6000</td>\n    </tr>\n    <tr>\n      <th>9</th>\n      <td>9</td>\n      <td>Acer</td>\n      <td>Ultrabook</td>\n      <td>14.0</td>\n      <td>IPS Panel Full HD 1920x1080</td>\n      <td>Intel Core i5 8250U 1.6GHz</td>\n      <td>8GB</td>\n      <td>256GB SSD</td>\n      <td>Intel UHD Graphics 620</td>\n      <td>Windows 10</td>\n      <td>1.6kg</td>\n      <td>41025.6000</td>\n    </tr>\n  </tbody>\n</table>\n</div>"
     },
     "execution_count": 4142,
     "metadata": {},
     "output_type": "execute_result"
    }
   ],
   "source": [
    "df.head(10)"
   ],
   "metadata": {
    "collapsed": false,
    "pycharm": {
     "name": "#%%\n"
    }
   }
  },
  {
   "cell_type": "code",
   "execution_count": 4143,
   "outputs": [
    {
     "data": {
      "text/plain": "(1303, 12)"
     },
     "execution_count": 4143,
     "metadata": {},
     "output_type": "execute_result"
    }
   ],
   "source": [
    "df.shape"
   ],
   "metadata": {
    "collapsed": false,
    "pycharm": {
     "name": "#%%\n"
    }
   }
  },
  {
   "cell_type": "code",
   "execution_count": 4144,
   "outputs": [
    {
     "data": {
      "text/plain": "Index(['Unnamed: 0', 'Company', 'TypeName', 'Inches', 'ScreenResolution',\n       'Cpu', 'Ram', 'Memory', 'Gpu', 'OpSys', 'Weight', 'Price'],\n      dtype='object')"
     },
     "execution_count": 4144,
     "metadata": {},
     "output_type": "execute_result"
    }
   ],
   "source": [
    "df.columns"
   ],
   "metadata": {
    "collapsed": false,
    "pycharm": {
     "name": "#%%\n"
    }
   }
  },
  {
   "cell_type": "code",
   "execution_count": 4145,
   "outputs": [
    {
     "name": "stdout",
     "output_type": "stream",
     "text": [
      "<class 'pandas.core.frame.DataFrame'>\n",
      "RangeIndex: 1303 entries, 0 to 1302\n",
      "Data columns (total 12 columns):\n",
      " #   Column            Non-Null Count  Dtype  \n",
      "---  ------            --------------  -----  \n",
      " 0   Unnamed: 0        1303 non-null   int64  \n",
      " 1   Company           1303 non-null   object \n",
      " 2   TypeName          1303 non-null   object \n",
      " 3   Inches            1303 non-null   float64\n",
      " 4   ScreenResolution  1303 non-null   object \n",
      " 5   Cpu               1303 non-null   object \n",
      " 6   Ram               1303 non-null   object \n",
      " 7   Memory            1303 non-null   object \n",
      " 8   Gpu               1303 non-null   object \n",
      " 9   OpSys             1303 non-null   object \n",
      " 10  Weight            1303 non-null   object \n",
      " 11  Price             1303 non-null   float64\n",
      "dtypes: float64(2), int64(1), object(9)\n",
      "memory usage: 122.3+ KB\n"
     ]
    }
   ],
   "source": [
    "df.info()"
   ],
   "metadata": {
    "collapsed": false,
    "pycharm": {
     "name": "#%%\n"
    }
   }
  },
  {
   "cell_type": "code",
   "execution_count": 4146,
   "outputs": [
    {
     "data": {
      "text/plain": "       Unnamed: 0       Inches          Price\ncount  1303.00000  1303.000000    1303.000000\nmean    651.00000    15.017191   59870.042910\nstd     376.28801     1.426304   37243.201786\nmin       0.00000    10.100000    9270.720000\n25%     325.50000    14.000000   31914.720000\n50%     651.00000    15.600000   52054.560000\n75%     976.50000    15.600000   79274.246400\nmax    1302.00000    18.400000  324954.720000",
      "text/html": "<div>\n<style scoped>\n    .dataframe tbody tr th:only-of-type {\n        vertical-align: middle;\n    }\n\n    .dataframe tbody tr th {\n        vertical-align: top;\n    }\n\n    .dataframe thead th {\n        text-align: right;\n    }\n</style>\n<table border=\"1\" class=\"dataframe\">\n  <thead>\n    <tr style=\"text-align: right;\">\n      <th></th>\n      <th>Unnamed: 0</th>\n      <th>Inches</th>\n      <th>Price</th>\n    </tr>\n  </thead>\n  <tbody>\n    <tr>\n      <th>count</th>\n      <td>1303.00000</td>\n      <td>1303.000000</td>\n      <td>1303.000000</td>\n    </tr>\n    <tr>\n      <th>mean</th>\n      <td>651.00000</td>\n      <td>15.017191</td>\n      <td>59870.042910</td>\n    </tr>\n    <tr>\n      <th>std</th>\n      <td>376.28801</td>\n      <td>1.426304</td>\n      <td>37243.201786</td>\n    </tr>\n    <tr>\n      <th>min</th>\n      <td>0.00000</td>\n      <td>10.100000</td>\n      <td>9270.720000</td>\n    </tr>\n    <tr>\n      <th>25%</th>\n      <td>325.50000</td>\n      <td>14.000000</td>\n      <td>31914.720000</td>\n    </tr>\n    <tr>\n      <th>50%</th>\n      <td>651.00000</td>\n      <td>15.600000</td>\n      <td>52054.560000</td>\n    </tr>\n    <tr>\n      <th>75%</th>\n      <td>976.50000</td>\n      <td>15.600000</td>\n      <td>79274.246400</td>\n    </tr>\n    <tr>\n      <th>max</th>\n      <td>1302.00000</td>\n      <td>18.400000</td>\n      <td>324954.720000</td>\n    </tr>\n  </tbody>\n</table>\n</div>"
     },
     "execution_count": 4146,
     "metadata": {},
     "output_type": "execute_result"
    }
   ],
   "source": [
    "df.describe()"
   ],
   "metadata": {
    "collapsed": false,
    "pycharm": {
     "name": "#%%\n"
    }
   }
  },
  {
   "cell_type": "code",
   "execution_count": 4147,
   "outputs": [
    {
     "data": {
      "text/plain": "      Unnamed: 0 Company            TypeName  Inches  \\\n112          112  Lenovo  2 in 1 Convertible    13.3   \n486          486    Dell         Workstation    15.6   \n1083        1083      HP           Ultrabook    13.3   \n68            68  Lenovo            Notebook    15.6   \n199          199      HP            Notebook    17.3   \n832          832    Asus            Notebook    15.6   \n361          361    Asus            Notebook    14.0   \n484          484  Lenovo            Notebook    15.6   \n21            21  Lenovo              Gaming    15.6   \n1215        1215    Acer             Netbook    11.6   \n\n                               ScreenResolution  \\\n112   IPS Panel Full HD / Touchscreen 1920x1080   \n486                 IPS Panel Full HD 1920x1080   \n1083            IPS Panel 4K Ultra HD 3840x2160   \n68                            Full HD 1920x1080   \n199                           Full HD 1920x1080   \n832                           Full HD 1920x1080   \n361                           Full HD 1920x1080   \n484                                    1366x768   \n21                  IPS Panel Full HD 1920x1080   \n1215                                   1366x768   \n\n                                       Cpu   Ram                Memory  \\\n112             Intel Core i5 7200U 2.5GHz   8GB             256GB SSD   \n486            Intel Core i7 6820HQ 2.7GHz  16GB             512GB SSD   \n1083            Intel Core i7 7500U 2.7GHz  16GB             512GB SSD   \n68              Intel Core i5 7200U 2.5GHz   4GB               1TB HDD   \n199             Intel Core i7 8550U 1.8GHz   8GB             256GB SSD   \n832             Intel Core i5 7200U 2.5GHz   4GB               1TB HDD   \n361             Intel Core i5 7200U 2.5GHz   8GB             256GB SSD   \n484             Intel Core i3 6006U 2.0GHz   4GB             128GB SSD   \n21             Intel Core i5 7300HQ 2.5GHz   8GB  128GB SSD +  1TB HDD   \n1215  Intel Celeron Dual Core 3205U 1.5GHz   2GB              32GB SSD   \n\n                          Gpu       OpSys  Weight      Price  \n112     Intel HD Graphics 620  Windows 10  1.37kg   74538.72  \n486        Nvidia Quadro M620  Windows 10  2.17kg  124568.64  \n1083    Intel HD Graphics 620  Windows 10   1.3kg  109170.72  \n68      Intel HD Graphics 620  Windows 10   1.9kg   29250.72  \n199     Nvidia GeForce 930MX   Windows 10   2.5kg   55677.60  \n832        Nvidia GeForce 920       Linux   2.1kg   27652.32  \n361     Intel HD Graphics 620  Windows 10     2kg   50349.60  \n484     Intel HD Graphics 520  Windows 10   2.3kg   30103.20  \n21    Nvidia GeForce GTX 1050  Windows 10   2.5kg   53226.72  \n1215        Intel HD Graphics   Chrome OS   1.3kg    9270.72  ",
      "text/html": "<div>\n<style scoped>\n    .dataframe tbody tr th:only-of-type {\n        vertical-align: middle;\n    }\n\n    .dataframe tbody tr th {\n        vertical-align: top;\n    }\n\n    .dataframe thead th {\n        text-align: right;\n    }\n</style>\n<table border=\"1\" class=\"dataframe\">\n  <thead>\n    <tr style=\"text-align: right;\">\n      <th></th>\n      <th>Unnamed: 0</th>\n      <th>Company</th>\n      <th>TypeName</th>\n      <th>Inches</th>\n      <th>ScreenResolution</th>\n      <th>Cpu</th>\n      <th>Ram</th>\n      <th>Memory</th>\n      <th>Gpu</th>\n      <th>OpSys</th>\n      <th>Weight</th>\n      <th>Price</th>\n    </tr>\n  </thead>\n  <tbody>\n    <tr>\n      <th>112</th>\n      <td>112</td>\n      <td>Lenovo</td>\n      <td>2 in 1 Convertible</td>\n      <td>13.3</td>\n      <td>IPS Panel Full HD / Touchscreen 1920x1080</td>\n      <td>Intel Core i5 7200U 2.5GHz</td>\n      <td>8GB</td>\n      <td>256GB SSD</td>\n      <td>Intel HD Graphics 620</td>\n      <td>Windows 10</td>\n      <td>1.37kg</td>\n      <td>74538.72</td>\n    </tr>\n    <tr>\n      <th>486</th>\n      <td>486</td>\n      <td>Dell</td>\n      <td>Workstation</td>\n      <td>15.6</td>\n      <td>IPS Panel Full HD 1920x1080</td>\n      <td>Intel Core i7 6820HQ 2.7GHz</td>\n      <td>16GB</td>\n      <td>512GB SSD</td>\n      <td>Nvidia Quadro M620</td>\n      <td>Windows 10</td>\n      <td>2.17kg</td>\n      <td>124568.64</td>\n    </tr>\n    <tr>\n      <th>1083</th>\n      <td>1083</td>\n      <td>HP</td>\n      <td>Ultrabook</td>\n      <td>13.3</td>\n      <td>IPS Panel 4K Ultra HD 3840x2160</td>\n      <td>Intel Core i7 7500U 2.7GHz</td>\n      <td>16GB</td>\n      <td>512GB SSD</td>\n      <td>Intel HD Graphics 620</td>\n      <td>Windows 10</td>\n      <td>1.3kg</td>\n      <td>109170.72</td>\n    </tr>\n    <tr>\n      <th>68</th>\n      <td>68</td>\n      <td>Lenovo</td>\n      <td>Notebook</td>\n      <td>15.6</td>\n      <td>Full HD 1920x1080</td>\n      <td>Intel Core i5 7200U 2.5GHz</td>\n      <td>4GB</td>\n      <td>1TB HDD</td>\n      <td>Intel HD Graphics 620</td>\n      <td>Windows 10</td>\n      <td>1.9kg</td>\n      <td>29250.72</td>\n    </tr>\n    <tr>\n      <th>199</th>\n      <td>199</td>\n      <td>HP</td>\n      <td>Notebook</td>\n      <td>17.3</td>\n      <td>Full HD 1920x1080</td>\n      <td>Intel Core i7 8550U 1.8GHz</td>\n      <td>8GB</td>\n      <td>256GB SSD</td>\n      <td>Nvidia GeForce 930MX</td>\n      <td>Windows 10</td>\n      <td>2.5kg</td>\n      <td>55677.60</td>\n    </tr>\n    <tr>\n      <th>832</th>\n      <td>832</td>\n      <td>Asus</td>\n      <td>Notebook</td>\n      <td>15.6</td>\n      <td>Full HD 1920x1080</td>\n      <td>Intel Core i5 7200U 2.5GHz</td>\n      <td>4GB</td>\n      <td>1TB HDD</td>\n      <td>Nvidia GeForce 920</td>\n      <td>Linux</td>\n      <td>2.1kg</td>\n      <td>27652.32</td>\n    </tr>\n    <tr>\n      <th>361</th>\n      <td>361</td>\n      <td>Asus</td>\n      <td>Notebook</td>\n      <td>14.0</td>\n      <td>Full HD 1920x1080</td>\n      <td>Intel Core i5 7200U 2.5GHz</td>\n      <td>8GB</td>\n      <td>256GB SSD</td>\n      <td>Intel HD Graphics 620</td>\n      <td>Windows 10</td>\n      <td>2kg</td>\n      <td>50349.60</td>\n    </tr>\n    <tr>\n      <th>484</th>\n      <td>484</td>\n      <td>Lenovo</td>\n      <td>Notebook</td>\n      <td>15.6</td>\n      <td>1366x768</td>\n      <td>Intel Core i3 6006U 2.0GHz</td>\n      <td>4GB</td>\n      <td>128GB SSD</td>\n      <td>Intel HD Graphics 520</td>\n      <td>Windows 10</td>\n      <td>2.3kg</td>\n      <td>30103.20</td>\n    </tr>\n    <tr>\n      <th>21</th>\n      <td>21</td>\n      <td>Lenovo</td>\n      <td>Gaming</td>\n      <td>15.6</td>\n      <td>IPS Panel Full HD 1920x1080</td>\n      <td>Intel Core i5 7300HQ 2.5GHz</td>\n      <td>8GB</td>\n      <td>128GB SSD +  1TB HDD</td>\n      <td>Nvidia GeForce GTX 1050</td>\n      <td>Windows 10</td>\n      <td>2.5kg</td>\n      <td>53226.72</td>\n    </tr>\n    <tr>\n      <th>1215</th>\n      <td>1215</td>\n      <td>Acer</td>\n      <td>Netbook</td>\n      <td>11.6</td>\n      <td>1366x768</td>\n      <td>Intel Celeron Dual Core 3205U 1.5GHz</td>\n      <td>2GB</td>\n      <td>32GB SSD</td>\n      <td>Intel HD Graphics</td>\n      <td>Chrome OS</td>\n      <td>1.3kg</td>\n      <td>9270.72</td>\n    </tr>\n  </tbody>\n</table>\n</div>"
     },
     "execution_count": 4147,
     "metadata": {},
     "output_type": "execute_result"
    }
   ],
   "source": [
    "df.sample(10)"
   ],
   "metadata": {
    "collapsed": false,
    "pycharm": {
     "name": "#%%\n"
    }
   }
  },
  {
   "cell_type": "code",
   "execution_count": 4148,
   "outputs": [
    {
     "data": {
      "text/plain": "0"
     },
     "execution_count": 4148,
     "metadata": {},
     "output_type": "execute_result"
    }
   ],
   "source": [
    "df.duplicated().sum()"
   ],
   "metadata": {
    "collapsed": false,
    "pycharm": {
     "name": "#%%\n"
    }
   }
  },
  {
   "cell_type": "code",
   "execution_count": 4149,
   "outputs": [
    {
     "data": {
      "text/plain": "Unnamed: 0          0\nCompany             0\nTypeName            0\nInches              0\nScreenResolution    0\nCpu                 0\nRam                 0\nMemory              0\nGpu                 0\nOpSys               0\nWeight              0\nPrice               0\ndtype: int64"
     },
     "execution_count": 4149,
     "metadata": {},
     "output_type": "execute_result"
    }
   ],
   "source": [
    "df.isnull().sum()"
   ],
   "metadata": {
    "collapsed": false,
    "pycharm": {
     "name": "#%%\n"
    }
   }
  },
  {
   "cell_type": "markdown",
   "source": [
    "# Data Preprocessing"
   ],
   "metadata": {
    "collapsed": false,
    "pycharm": {
     "name": "#%% md\n"
    }
   }
  },
  {
   "cell_type": "code",
   "execution_count": 4150,
   "outputs": [
    {
     "data": {
      "text/plain": "array(['Apple', 'HP', 'Acer', 'Asus', 'Dell', 'Lenovo', 'Chuwi', 'MSI',\n       'Microsoft', 'Toshiba', 'Huawei', 'Xiaomi', 'Vero', 'Razer',\n       'Mediacom', 'Samsung', 'Google', 'Fujitsu', 'LG'], dtype=object)"
     },
     "execution_count": 4150,
     "metadata": {},
     "output_type": "execute_result"
    }
   ],
   "source": [
    "df['Company'].unique()"
   ],
   "metadata": {
    "collapsed": false,
    "pycharm": {
     "name": "#%%\n"
    }
   }
  },
  {
   "cell_type": "code",
   "execution_count": 4151,
   "outputs": [
    {
     "data": {
      "text/plain": "      Unnamed: 0 Company     TypeName  Inches  \\\n196          196   Razer       Gaming    17.3   \n830          830   Razer       Gaming    17.3   \n610          610  Lenovo     Notebook    15.6   \n749          749      HP  Workstation    17.3   \n1066        1066    Asus       Gaming    17.3   \n...          ...     ...          ...     ...   \n290          290    Acer     Notebook    15.6   \n31            31    Asus     Notebook    14.0   \n1120        1120    Vero     Notebook    13.3   \n20            20    Asus      Netbook    11.6   \n1215        1215    Acer      Netbook    11.6   \n\n                         ScreenResolution  \\\n196   4K Ultra HD / Touchscreen 3840x2160   \n830   4K Ultra HD / Touchscreen 3840x2160   \n610       IPS Panel 4K Ultra HD 3840x2160   \n749           IPS Panel Full HD 1920x1080   \n1066          IPS Panel Full HD 1920x1080   \n...                                   ...   \n290                              1366x768   \n31                               1366x768   \n1120                    Full HD 1920x1080   \n20                               1366x768   \n1215                             1366x768   \n\n                                       Cpu   Ram              Memory  \\\n196            Intel Core i7 7820HK 2.9GHz  32GB             1TB SSD   \n830            Intel Core i7 7820HK 2.9GHz  32GB           512GB SSD   \n610          Intel Xeon E3-1535M v6 3.1GHz  32GB             1TB SSD   \n749          Intel Xeon E3-1535M v5 2.9GHz  16GB           256GB SSD   \n1066           Intel Core i7 6820HK 2.7GHz  64GB             1TB SSD   \n...                                    ...   ...                 ...   \n290   Intel Celeron Dual Core 3205U 1.5GHz   2GB            16GB SSD   \n31             AMD E-Series E2-6110 1.5GHz   2GB  32GB Flash Storage   \n1120           Intel Atom X5-Z8350 1.44GHz   4GB  32GB Flash Storage   \n20             Intel Atom x5-Z8350 1.44GHz   2GB  32GB Flash Storage   \n1215  Intel Celeron Dual Core 3205U 1.5GHz   2GB            32GB SSD   \n\n                          Gpu       OpSys  Weight       Price  \n196   Nvidia GeForce GTX 1080  Windows 10  3.49kg  324954.720  \n830   Nvidia GeForce GTX 1080  Windows 10  3.49kg  292986.720  \n610      Nvidia Quadro M2200M  Windows 10   2.5kg  261018.720  \n749      Nvidia Quadro M2000M   Windows 7     3kg  233845.920  \n1066  Nvidia GeForce GTX 980   Windows 10  3.58kg  211788.000  \n...                       ...         ...     ...         ...  \n290         Intel HD Graphics   Chrome OS  2.19kg   10602.720  \n31              AMD Radeon R2  Windows 10  1.65kg   10602.720  \n1120    Intel HD Graphics 400  Windows 10  1.35kg   10442.880  \n20      Intel HD Graphics 400  Windows 10  0.98kg   10224.432  \n1215        Intel HD Graphics   Chrome OS   1.3kg    9270.720  \n\n[1303 rows x 12 columns]",
      "text/html": "<div>\n<style scoped>\n    .dataframe tbody tr th:only-of-type {\n        vertical-align: middle;\n    }\n\n    .dataframe tbody tr th {\n        vertical-align: top;\n    }\n\n    .dataframe thead th {\n        text-align: right;\n    }\n</style>\n<table border=\"1\" class=\"dataframe\">\n  <thead>\n    <tr style=\"text-align: right;\">\n      <th></th>\n      <th>Unnamed: 0</th>\n      <th>Company</th>\n      <th>TypeName</th>\n      <th>Inches</th>\n      <th>ScreenResolution</th>\n      <th>Cpu</th>\n      <th>Ram</th>\n      <th>Memory</th>\n      <th>Gpu</th>\n      <th>OpSys</th>\n      <th>Weight</th>\n      <th>Price</th>\n    </tr>\n  </thead>\n  <tbody>\n    <tr>\n      <th>196</th>\n      <td>196</td>\n      <td>Razer</td>\n      <td>Gaming</td>\n      <td>17.3</td>\n      <td>4K Ultra HD / Touchscreen 3840x2160</td>\n      <td>Intel Core i7 7820HK 2.9GHz</td>\n      <td>32GB</td>\n      <td>1TB SSD</td>\n      <td>Nvidia GeForce GTX 1080</td>\n      <td>Windows 10</td>\n      <td>3.49kg</td>\n      <td>324954.720</td>\n    </tr>\n    <tr>\n      <th>830</th>\n      <td>830</td>\n      <td>Razer</td>\n      <td>Gaming</td>\n      <td>17.3</td>\n      <td>4K Ultra HD / Touchscreen 3840x2160</td>\n      <td>Intel Core i7 7820HK 2.9GHz</td>\n      <td>32GB</td>\n      <td>512GB SSD</td>\n      <td>Nvidia GeForce GTX 1080</td>\n      <td>Windows 10</td>\n      <td>3.49kg</td>\n      <td>292986.720</td>\n    </tr>\n    <tr>\n      <th>610</th>\n      <td>610</td>\n      <td>Lenovo</td>\n      <td>Notebook</td>\n      <td>15.6</td>\n      <td>IPS Panel 4K Ultra HD 3840x2160</td>\n      <td>Intel Xeon E3-1535M v6 3.1GHz</td>\n      <td>32GB</td>\n      <td>1TB SSD</td>\n      <td>Nvidia Quadro M2200M</td>\n      <td>Windows 10</td>\n      <td>2.5kg</td>\n      <td>261018.720</td>\n    </tr>\n    <tr>\n      <th>749</th>\n      <td>749</td>\n      <td>HP</td>\n      <td>Workstation</td>\n      <td>17.3</td>\n      <td>IPS Panel Full HD 1920x1080</td>\n      <td>Intel Xeon E3-1535M v5 2.9GHz</td>\n      <td>16GB</td>\n      <td>256GB SSD</td>\n      <td>Nvidia Quadro M2000M</td>\n      <td>Windows 7</td>\n      <td>3kg</td>\n      <td>233845.920</td>\n    </tr>\n    <tr>\n      <th>1066</th>\n      <td>1066</td>\n      <td>Asus</td>\n      <td>Gaming</td>\n      <td>17.3</td>\n      <td>IPS Panel Full HD 1920x1080</td>\n      <td>Intel Core i7 6820HK 2.7GHz</td>\n      <td>64GB</td>\n      <td>1TB SSD</td>\n      <td>Nvidia GeForce GTX 980</td>\n      <td>Windows 10</td>\n      <td>3.58kg</td>\n      <td>211788.000</td>\n    </tr>\n    <tr>\n      <th>...</th>\n      <td>...</td>\n      <td>...</td>\n      <td>...</td>\n      <td>...</td>\n      <td>...</td>\n      <td>...</td>\n      <td>...</td>\n      <td>...</td>\n      <td>...</td>\n      <td>...</td>\n      <td>...</td>\n      <td>...</td>\n    </tr>\n    <tr>\n      <th>290</th>\n      <td>290</td>\n      <td>Acer</td>\n      <td>Notebook</td>\n      <td>15.6</td>\n      <td>1366x768</td>\n      <td>Intel Celeron Dual Core 3205U 1.5GHz</td>\n      <td>2GB</td>\n      <td>16GB SSD</td>\n      <td>Intel HD Graphics</td>\n      <td>Chrome OS</td>\n      <td>2.19kg</td>\n      <td>10602.720</td>\n    </tr>\n    <tr>\n      <th>31</th>\n      <td>31</td>\n      <td>Asus</td>\n      <td>Notebook</td>\n      <td>14.0</td>\n      <td>1366x768</td>\n      <td>AMD E-Series E2-6110 1.5GHz</td>\n      <td>2GB</td>\n      <td>32GB Flash Storage</td>\n      <td>AMD Radeon R2</td>\n      <td>Windows 10</td>\n      <td>1.65kg</td>\n      <td>10602.720</td>\n    </tr>\n    <tr>\n      <th>1120</th>\n      <td>1120</td>\n      <td>Vero</td>\n      <td>Notebook</td>\n      <td>13.3</td>\n      <td>Full HD 1920x1080</td>\n      <td>Intel Atom X5-Z8350 1.44GHz</td>\n      <td>4GB</td>\n      <td>32GB Flash Storage</td>\n      <td>Intel HD Graphics 400</td>\n      <td>Windows 10</td>\n      <td>1.35kg</td>\n      <td>10442.880</td>\n    </tr>\n    <tr>\n      <th>20</th>\n      <td>20</td>\n      <td>Asus</td>\n      <td>Netbook</td>\n      <td>11.6</td>\n      <td>1366x768</td>\n      <td>Intel Atom x5-Z8350 1.44GHz</td>\n      <td>2GB</td>\n      <td>32GB Flash Storage</td>\n      <td>Intel HD Graphics 400</td>\n      <td>Windows 10</td>\n      <td>0.98kg</td>\n      <td>10224.432</td>\n    </tr>\n    <tr>\n      <th>1215</th>\n      <td>1215</td>\n      <td>Acer</td>\n      <td>Netbook</td>\n      <td>11.6</td>\n      <td>1366x768</td>\n      <td>Intel Celeron Dual Core 3205U 1.5GHz</td>\n      <td>2GB</td>\n      <td>32GB SSD</td>\n      <td>Intel HD Graphics</td>\n      <td>Chrome OS</td>\n      <td>1.3kg</td>\n      <td>9270.720</td>\n    </tr>\n  </tbody>\n</table>\n<p>1303 rows × 12 columns</p>\n</div>"
     },
     "execution_count": 4151,
     "metadata": {},
     "output_type": "execute_result"
    }
   ],
   "source": [
    "df.sort_values(by=['Price'],ascending=False)"
   ],
   "metadata": {
    "collapsed": false,
    "pycharm": {
     "name": "#%%\n"
    }
   }
  },
  {
   "cell_type": "code",
   "execution_count": 4152,
   "outputs": [
    {
     "data": {
      "text/plain": "  Company   TypeName  Inches                    ScreenResolution  \\\n0   Apple  Ultrabook    13.3  IPS Panel Retina Display 2560x1600   \n1   Apple  Ultrabook    13.3                            1440x900   \n2      HP   Notebook    15.6                   Full HD 1920x1080   \n3   Apple  Ultrabook    15.4  IPS Panel Retina Display 2880x1800   \n4   Apple  Ultrabook    13.3  IPS Panel Retina Display 2560x1600   \n\n                          Cpu   Ram               Memory  \\\n0        Intel Core i5 2.3GHz   8GB            128GB SSD   \n1        Intel Core i5 1.8GHz   8GB  128GB Flash Storage   \n2  Intel Core i5 7200U 2.5GHz   8GB            256GB SSD   \n3        Intel Core i7 2.7GHz  16GB            512GB SSD   \n4        Intel Core i5 3.1GHz   8GB            256GB SSD   \n\n                            Gpu  OpSys  Weight        Price  \n0  Intel Iris Plus Graphics 640  macOS  1.37kg   71378.6832  \n1        Intel HD Graphics 6000  macOS  1.34kg   47895.5232  \n2         Intel HD Graphics 620  No OS  1.86kg   30636.0000  \n3            AMD Radeon Pro 455  macOS  1.83kg  135195.3360  \n4  Intel Iris Plus Graphics 650  macOS  1.37kg   96095.8080  ",
      "text/html": "<div>\n<style scoped>\n    .dataframe tbody tr th:only-of-type {\n        vertical-align: middle;\n    }\n\n    .dataframe tbody tr th {\n        vertical-align: top;\n    }\n\n    .dataframe thead th {\n        text-align: right;\n    }\n</style>\n<table border=\"1\" class=\"dataframe\">\n  <thead>\n    <tr style=\"text-align: right;\">\n      <th></th>\n      <th>Company</th>\n      <th>TypeName</th>\n      <th>Inches</th>\n      <th>ScreenResolution</th>\n      <th>Cpu</th>\n      <th>Ram</th>\n      <th>Memory</th>\n      <th>Gpu</th>\n      <th>OpSys</th>\n      <th>Weight</th>\n      <th>Price</th>\n    </tr>\n  </thead>\n  <tbody>\n    <tr>\n      <th>0</th>\n      <td>Apple</td>\n      <td>Ultrabook</td>\n      <td>13.3</td>\n      <td>IPS Panel Retina Display 2560x1600</td>\n      <td>Intel Core i5 2.3GHz</td>\n      <td>8GB</td>\n      <td>128GB SSD</td>\n      <td>Intel Iris Plus Graphics 640</td>\n      <td>macOS</td>\n      <td>1.37kg</td>\n      <td>71378.6832</td>\n    </tr>\n    <tr>\n      <th>1</th>\n      <td>Apple</td>\n      <td>Ultrabook</td>\n      <td>13.3</td>\n      <td>1440x900</td>\n      <td>Intel Core i5 1.8GHz</td>\n      <td>8GB</td>\n      <td>128GB Flash Storage</td>\n      <td>Intel HD Graphics 6000</td>\n      <td>macOS</td>\n      <td>1.34kg</td>\n      <td>47895.5232</td>\n    </tr>\n    <tr>\n      <th>2</th>\n      <td>HP</td>\n      <td>Notebook</td>\n      <td>15.6</td>\n      <td>Full HD 1920x1080</td>\n      <td>Intel Core i5 7200U 2.5GHz</td>\n      <td>8GB</td>\n      <td>256GB SSD</td>\n      <td>Intel HD Graphics 620</td>\n      <td>No OS</td>\n      <td>1.86kg</td>\n      <td>30636.0000</td>\n    </tr>\n    <tr>\n      <th>3</th>\n      <td>Apple</td>\n      <td>Ultrabook</td>\n      <td>15.4</td>\n      <td>IPS Panel Retina Display 2880x1800</td>\n      <td>Intel Core i7 2.7GHz</td>\n      <td>16GB</td>\n      <td>512GB SSD</td>\n      <td>AMD Radeon Pro 455</td>\n      <td>macOS</td>\n      <td>1.83kg</td>\n      <td>135195.3360</td>\n    </tr>\n    <tr>\n      <th>4</th>\n      <td>Apple</td>\n      <td>Ultrabook</td>\n      <td>13.3</td>\n      <td>IPS Panel Retina Display 2560x1600</td>\n      <td>Intel Core i5 3.1GHz</td>\n      <td>8GB</td>\n      <td>256GB SSD</td>\n      <td>Intel Iris Plus Graphics 650</td>\n      <td>macOS</td>\n      <td>1.37kg</td>\n      <td>96095.8080</td>\n    </tr>\n  </tbody>\n</table>\n</div>"
     },
     "execution_count": 4152,
     "metadata": {},
     "output_type": "execute_result"
    }
   ],
   "source": [
    "df.drop(columns=['Unnamed: 0'],inplace=True)\n",
    "df.head()"
   ],
   "metadata": {
    "collapsed": false,
    "pycharm": {
     "name": "#%%\n"
    }
   }
  },
  {
   "cell_type": "code",
   "execution_count": 4153,
   "outputs": [],
   "source": [
    "df['Ram'] = df['Ram'].str.replace('GB','')\n",
    "df['Weight'] = df['Weight'].str.replace('kg','')"
   ],
   "metadata": {
    "collapsed": false,
    "pycharm": {
     "name": "#%%\n"
    }
   }
  },
  {
   "cell_type": "code",
   "execution_count": 4154,
   "outputs": [
    {
     "data": {
      "text/plain": "     Company            TypeName                            ScreenResolution  \\\n0      Apple           Ultrabook          IPS Panel Retina Display 2560x1600   \n1      Apple           Ultrabook                                    1440x900   \n2         HP            Notebook                           Full HD 1920x1080   \n3      Apple           Ultrabook          IPS Panel Retina Display 2880x1800   \n4      Apple           Ultrabook          IPS Panel Retina Display 2560x1600   \n...      ...                 ...                                         ...   \n1298  Lenovo  2 in 1 Convertible   IPS Panel Full HD / Touchscreen 1920x1080   \n1299  Lenovo  2 in 1 Convertible  IPS Panel Quad HD+ / Touchscreen 3200x1800   \n1300  Lenovo            Notebook                                    1366x768   \n1301      HP            Notebook                                    1366x768   \n1302    Asus            Notebook                                    1366x768   \n\n                                       Cpu Ram               Memory  \\\n0                     Intel Core i5 2.3GHz   8            128GB SSD   \n1                     Intel Core i5 1.8GHz   8  128GB Flash Storage   \n2               Intel Core i5 7200U 2.5GHz   8            256GB SSD   \n3                     Intel Core i7 2.7GHz  16            512GB SSD   \n4                     Intel Core i5 3.1GHz   8            256GB SSD   \n...                                    ...  ..                  ...   \n1298            Intel Core i7 6500U 2.5GHz   4            128GB SSD   \n1299            Intel Core i7 6500U 2.5GHz  16            512GB SSD   \n1300  Intel Celeron Dual Core N3050 1.6GHz   2   64GB Flash Storage   \n1301            Intel Core i7 6500U 2.5GHz   6              1TB HDD   \n1302  Intel Celeron Dual Core N3050 1.6GHz   4            500GB HDD   \n\n                               Gpu       OpSys Weight  \n0     Intel Iris Plus Graphics 640       macOS   1.37  \n1           Intel HD Graphics 6000       macOS   1.34  \n2            Intel HD Graphics 620       No OS   1.86  \n3               AMD Radeon Pro 455       macOS   1.83  \n4     Intel Iris Plus Graphics 650       macOS   1.37  \n...                            ...         ...    ...  \n1298         Intel HD Graphics 520  Windows 10    1.8  \n1299         Intel HD Graphics 520  Windows 10    1.3  \n1300             Intel HD Graphics  Windows 10    1.5  \n1301            AMD Radeon R5 M330  Windows 10   2.19  \n1302             Intel HD Graphics  Windows 10    2.2  \n\n[1303 rows x 9 columns]",
      "text/html": "<div>\n<style scoped>\n    .dataframe tbody tr th:only-of-type {\n        vertical-align: middle;\n    }\n\n    .dataframe tbody tr th {\n        vertical-align: top;\n    }\n\n    .dataframe thead th {\n        text-align: right;\n    }\n</style>\n<table border=\"1\" class=\"dataframe\">\n  <thead>\n    <tr style=\"text-align: right;\">\n      <th></th>\n      <th>Company</th>\n      <th>TypeName</th>\n      <th>ScreenResolution</th>\n      <th>Cpu</th>\n      <th>Ram</th>\n      <th>Memory</th>\n      <th>Gpu</th>\n      <th>OpSys</th>\n      <th>Weight</th>\n    </tr>\n  </thead>\n  <tbody>\n    <tr>\n      <th>0</th>\n      <td>Apple</td>\n      <td>Ultrabook</td>\n      <td>IPS Panel Retina Display 2560x1600</td>\n      <td>Intel Core i5 2.3GHz</td>\n      <td>8</td>\n      <td>128GB SSD</td>\n      <td>Intel Iris Plus Graphics 640</td>\n      <td>macOS</td>\n      <td>1.37</td>\n    </tr>\n    <tr>\n      <th>1</th>\n      <td>Apple</td>\n      <td>Ultrabook</td>\n      <td>1440x900</td>\n      <td>Intel Core i5 1.8GHz</td>\n      <td>8</td>\n      <td>128GB Flash Storage</td>\n      <td>Intel HD Graphics 6000</td>\n      <td>macOS</td>\n      <td>1.34</td>\n    </tr>\n    <tr>\n      <th>2</th>\n      <td>HP</td>\n      <td>Notebook</td>\n      <td>Full HD 1920x1080</td>\n      <td>Intel Core i5 7200U 2.5GHz</td>\n      <td>8</td>\n      <td>256GB SSD</td>\n      <td>Intel HD Graphics 620</td>\n      <td>No OS</td>\n      <td>1.86</td>\n    </tr>\n    <tr>\n      <th>3</th>\n      <td>Apple</td>\n      <td>Ultrabook</td>\n      <td>IPS Panel Retina Display 2880x1800</td>\n      <td>Intel Core i7 2.7GHz</td>\n      <td>16</td>\n      <td>512GB SSD</td>\n      <td>AMD Radeon Pro 455</td>\n      <td>macOS</td>\n      <td>1.83</td>\n    </tr>\n    <tr>\n      <th>4</th>\n      <td>Apple</td>\n      <td>Ultrabook</td>\n      <td>IPS Panel Retina Display 2560x1600</td>\n      <td>Intel Core i5 3.1GHz</td>\n      <td>8</td>\n      <td>256GB SSD</td>\n      <td>Intel Iris Plus Graphics 650</td>\n      <td>macOS</td>\n      <td>1.37</td>\n    </tr>\n    <tr>\n      <th>...</th>\n      <td>...</td>\n      <td>...</td>\n      <td>...</td>\n      <td>...</td>\n      <td>...</td>\n      <td>...</td>\n      <td>...</td>\n      <td>...</td>\n      <td>...</td>\n    </tr>\n    <tr>\n      <th>1298</th>\n      <td>Lenovo</td>\n      <td>2 in 1 Convertible</td>\n      <td>IPS Panel Full HD / Touchscreen 1920x1080</td>\n      <td>Intel Core i7 6500U 2.5GHz</td>\n      <td>4</td>\n      <td>128GB SSD</td>\n      <td>Intel HD Graphics 520</td>\n      <td>Windows 10</td>\n      <td>1.8</td>\n    </tr>\n    <tr>\n      <th>1299</th>\n      <td>Lenovo</td>\n      <td>2 in 1 Convertible</td>\n      <td>IPS Panel Quad HD+ / Touchscreen 3200x1800</td>\n      <td>Intel Core i7 6500U 2.5GHz</td>\n      <td>16</td>\n      <td>512GB SSD</td>\n      <td>Intel HD Graphics 520</td>\n      <td>Windows 10</td>\n      <td>1.3</td>\n    </tr>\n    <tr>\n      <th>1300</th>\n      <td>Lenovo</td>\n      <td>Notebook</td>\n      <td>1366x768</td>\n      <td>Intel Celeron Dual Core N3050 1.6GHz</td>\n      <td>2</td>\n      <td>64GB Flash Storage</td>\n      <td>Intel HD Graphics</td>\n      <td>Windows 10</td>\n      <td>1.5</td>\n    </tr>\n    <tr>\n      <th>1301</th>\n      <td>HP</td>\n      <td>Notebook</td>\n      <td>1366x768</td>\n      <td>Intel Core i7 6500U 2.5GHz</td>\n      <td>6</td>\n      <td>1TB HDD</td>\n      <td>AMD Radeon R5 M330</td>\n      <td>Windows 10</td>\n      <td>2.19</td>\n    </tr>\n    <tr>\n      <th>1302</th>\n      <td>Asus</td>\n      <td>Notebook</td>\n      <td>1366x768</td>\n      <td>Intel Celeron Dual Core N3050 1.6GHz</td>\n      <td>4</td>\n      <td>500GB HDD</td>\n      <td>Intel HD Graphics</td>\n      <td>Windows 10</td>\n      <td>2.2</td>\n    </tr>\n  </tbody>\n</table>\n<p>1303 rows × 9 columns</p>\n</div>"
     },
     "execution_count": 4154,
     "metadata": {},
     "output_type": "execute_result"
    }
   ],
   "source": [
    "df.select_dtypes(include='object')"
   ],
   "metadata": {
    "collapsed": false,
    "pycharm": {
     "name": "#%%\n"
    }
   }
  },
  {
   "cell_type": "code",
   "execution_count": 4155,
   "outputs": [],
   "source": [
    "df['Ram'] = df['Ram'].astype('int32')\n",
    "df['Weight'] = df['Weight'].astype('float32')"
   ],
   "metadata": {
    "collapsed": false,
    "pycharm": {
     "name": "#%%\n"
    }
   }
  },
  {
   "cell_type": "code",
   "execution_count": 4156,
   "outputs": [
    {
     "name": "stdout",
     "output_type": "stream",
     "text": [
      "<class 'pandas.core.frame.DataFrame'>\n",
      "RangeIndex: 1303 entries, 0 to 1302\n",
      "Data columns (total 11 columns):\n",
      " #   Column            Non-Null Count  Dtype  \n",
      "---  ------            --------------  -----  \n",
      " 0   Company           1303 non-null   object \n",
      " 1   TypeName          1303 non-null   object \n",
      " 2   Inches            1303 non-null   float64\n",
      " 3   ScreenResolution  1303 non-null   object \n",
      " 4   Cpu               1303 non-null   object \n",
      " 5   Ram               1303 non-null   int32  \n",
      " 6   Memory            1303 non-null   object \n",
      " 7   Gpu               1303 non-null   object \n",
      " 8   OpSys             1303 non-null   object \n",
      " 9   Weight            1303 non-null   float32\n",
      " 10  Price             1303 non-null   float64\n",
      "dtypes: float32(1), float64(2), int32(1), object(7)\n",
      "memory usage: 101.9+ KB\n"
     ]
    }
   ],
   "source": [
    "df.info()"
   ],
   "metadata": {
    "collapsed": false,
    "pycharm": {
     "name": "#%%\n"
    }
   }
  },
  {
   "cell_type": "code",
   "execution_count": 4157,
   "outputs": [
    {
     "data": {
      "text/plain": "Company              19\nTypeName              6\nInches               18\nScreenResolution     40\nCpu                 118\nRam                   9\nMemory               39\nGpu                 110\nOpSys                 9\nWeight              171\nPrice               791\ndtype: int64"
     },
     "execution_count": 4157,
     "metadata": {},
     "output_type": "execute_result"
    }
   ],
   "source": [
    "df.nunique()"
   ],
   "metadata": {
    "collapsed": false,
    "pycharm": {
     "name": "#%%\n"
    }
   }
  },
  {
   "cell_type": "markdown",
   "source": [
    "# Exploratory Data Analysis\n",
    "### initial investigation to discover patterns, spot anomalies, test hypothesis and check assumptions"
   ],
   "metadata": {
    "collapsed": false,
    "pycharm": {
     "name": "#%% md\n"
    }
   }
  },
  {
   "cell_type": "code",
   "execution_count": 4158,
   "outputs": [],
   "source": [
    "import matplotlib.pyplot as plt\n",
    "import numpy as np\n",
    "import seaborn as sns"
   ],
   "metadata": {
    "collapsed": false,
    "pycharm": {
     "name": "#%%\n"
    }
   }
  },
  {
   "cell_type": "code",
   "execution_count": 4159,
   "outputs": [
    {
     "data": {
      "text/plain": "<Figure size 432x288 with 1 Axes>",
      "image/png": "[encoded data removed]"
     },
     "metadata": {},
     "output_type": "display_data"
    }
   ],
   "source": [
    "sns.set(style=\"whitegrid\")\n",
    "ax = sns.histplot(df['Price'], kde=True, color='green', fill=True)\n",
    "ax.lines[0].set_color('black')\n",
    "plt.title(\"Categorizing Laptops by Price Range\", fontsize=14)\n",
    "ax.spines['top'].set_visible(False)\n",
    "ax.spines['right'].set_visible(False)\n",
    "plt.show(\"png\")"
   ],
   "metadata": {
    "collapsed": false,
    "pycharm": {
     "name": "#%%\n"
    }
   }
  },
  {
   "cell_type": "code",
   "execution_count": 4160,
   "outputs": [
    {
     "data": {
      "text/plain": "<Figure size 432x720 with 1 Axes>",
      "image/png": "[encoded data removed]"
     },
     "metadata": {},
     "output_type": "display_data"
    }
   ],
   "source": [
    "plt.figure(figsize=(6, 10))\n",
    "ax = sns.countplot(data=df, x='Company')\n",
    "plt.title(\"Number of Laptops Across Different Brands\", fontsize=14)\n",
    "plt.xlabel(\"Company\")\n",
    "plt.ylabel(\"Count\")\n",
    "plt.xticks(rotation='vertical')\n",
    "plt.axhline(0, color='black', linewidth=2)\n",
    "plt.show(\"png\")"
   ],
   "metadata": {
    "collapsed": false,
    "pycharm": {
     "name": "#%%\n"
    }
   }
  },
  {
   "cell_type": "code",
   "execution_count": 4161,
   "outputs": [
    {
     "data": {
      "text/plain": "<Figure size 432x288 with 1 Axes>",
      "image/png": "[encoded data removed]"
     },
     "metadata": {},
     "output_type": "display_data"
    }
   ],
   "source": [
    "import matplotlib.pyplot as plt\n",
    "sns.barplot(x=df['Company'],y=df['Price'])\n",
    "plt.xticks(rotation='vertical')\n",
    "plt.title('Laptop Pricing Across Various Brands',fontsize=14)\n",
    "plt.show(\"png\")"
   ],
   "metadata": {
    "collapsed": false,
    "pycharm": {
     "name": "#%%\n"
    }
   }
  },
  {
   "cell_type": "code",
   "execution_count": 4162,
   "outputs": [
    {
     "data": {
      "text/plain": "<Figure size 432x432 with 1 Axes>",
      "image/png": "[encoded data removed]"
     },
     "metadata": {},
     "output_type": "display_data"
    }
   ],
   "source": [
    "type_counts = df['TypeName'].value_counts()\n",
    "sorted_order = type_counts.index\n",
    "\n",
    "sns.set(style=\"whitegrid\")\n",
    "plt.figure(figsize=(6, 6))\n",
    "plot = sns.countplot(y='TypeName', data=df, order=sorted_order)\n",
    "\n",
    "for p in plot.patches:\n",
    "    x_position = p.get_width() + 5  # Add a small gap between bar and text\n",
    "    y_position = p.get_y() + p.get_height() / 2  # Center text vertically\n",
    "    count = format(p.get_width(), '.0f')  # Get the count as a string\n",
    "    plot.annotate(count, (x_position, y_position), ha='left', va='center')\n",
    "\n",
    "plt.title(\"Quantifying Laptop Distribution Based on Types\", fontsize=14)\n",
    "plt.xlabel(\"Count\", fontsize=12)\n",
    "plt.ylabel(\"Laptop Type\", fontsize=12)\n",
    "plt.show(\"png\")"
   ],
   "metadata": {
    "collapsed": false,
    "pycharm": {
     "name": "#%%\n"
    }
   }
  },
  {
   "cell_type": "code",
   "execution_count": 4163,
   "outputs": [
    {
     "data": {
      "text/plain": "<Figure size 432x288 with 1 Axes>",
      "image/png": "[encoded data removed]"
     },
     "metadata": {},
     "output_type": "display_data"
    }
   ],
   "source": [
    "sns.barplot(x=df['TypeName'],y=df['Price'])\n",
    "plt.xticks(rotation='vertical')\n",
    "plt.title('Laptop Type-Based Pricing',fontsize=14)\n",
    "plt.show(\"png\")"
   ],
   "metadata": {
    "collapsed": false,
    "pycharm": {
     "name": "#%%\n"
    }
   }
  },
  {
   "cell_type": "code",
   "execution_count": 4164,
   "outputs": [
    {
     "data": {
      "text/plain": "<Figure size 576x432 with 1 Axes>",
      "image/png": "[encoded data removed]"
     },
     "metadata": {},
     "output_type": "display_data"
    }
   ],
   "source": [
    "sns.set(style=\"whitegrid\")\n",
    "plt.figure(figsize=(8, 6))\n",
    "ax=sns.histplot(data=df, x='Inches', kde=True, bins=10, color='blue', edgecolor='skyblue')\n",
    "\n",
    "plt.xlabel('Inches')\n",
    "plt.ylabel('Count')\n",
    "plt.title('Distribution of Inches', fontsize=14)\n",
    "plt.xticks(fontsize=12)\n",
    "plt.yticks(fontsize=12)\n",
    "\n",
    "mean_height = df['Inches'].mean()\n",
    "plt.axvline(mean_height, color='black', linestyle='dashed', linewidth=1.5)\n",
    "plt.text(mean_height + 0.2, 1, f'Mean: {mean_height:.2f}', color='black', fontsize=14)\n",
    "ax.lines[0].set_color('crimson')\n",
    "plt.legend(['Quantifying Screen Sizes'], fontsize=12)\n",
    "plt.tight_layout()\n",
    "plt.show(\"png\")"
   ],
   "metadata": {
    "collapsed": false,
    "pycharm": {
     "name": "#%%\n"
    }
   }
  },
  {
   "cell_type": "code",
   "execution_count": 4165,
   "outputs": [
    {
     "data": {
      "text/plain": "<Figure size 576x432 with 1 Axes>",
      "image/png": "[encoded data removed]"
     },
     "metadata": {},
     "output_type": "display_data"
    }
   ],
   "source": [
    "sns.set(style=\"whitegrid\")\n",
    "plt.figure(figsize=(8, 6))\n",
    "\n",
    "scatter = sns.scatterplot(x=df['Inches'], y=df['Price'], color='b', alpha=0.9)\n",
    "plt.title('Scatter Plot of Screen-Size vs. Price', fontsize=16)\n",
    "plt.xlabel('Inches', fontsize=14)\n",
    "plt.ylabel('Price', fontsize=14)\n",
    "scatter.grid(True)\n",
    "scatter.xaxis.set_major_locator(plt.MaxNLocator(integer=True))\n",
    "\n",
    "sns.regplot(x=df['Inches'], y=df['Price'], scatter=False, color='crimson')\n",
    "\n",
    "plt.legend(['Data', 'Regression Line'])\n",
    "plt.tight_layout()\n",
    "plt.show(\"png\")"
   ],
   "metadata": {
    "collapsed": false,
    "pycharm": {
     "name": "#%%\n"
    }
   }
  },
  {
   "cell_type": "code",
   "execution_count": 4166,
   "outputs": [
    {
     "data": {
      "text/plain": "Full HD 1920x1080                                507\n1366x768                                         281\nIPS Panel Full HD 1920x1080                      230\nIPS Panel Full HD / Touchscreen 1920x1080         53\nFull HD / Touchscreen 1920x1080                   47\n1600x900                                          23\nTouchscreen 1366x768                              16\nQuad HD+ / Touchscreen 3200x1800                  15\nIPS Panel 4K Ultra HD 3840x2160                   12\nIPS Panel 4K Ultra HD / Touchscreen 3840x2160     11\n4K Ultra HD / Touchscreen 3840x2160               10\nTouchscreen 2560x1440                              7\n4K Ultra HD 3840x2160                              7\nIPS Panel 1366x768                                 7\nTouchscreen 2256x1504                              6\nIPS Panel Retina Display 2560x1600                 6\nIPS Panel Retina Display 2304x1440                 6\nIPS Panel Quad HD+ / Touchscreen 3200x1800         6\nIPS Panel Touchscreen 2560x1440                    5\nIPS Panel Touchscreen 1920x1200                    4\nIPS Panel 2560x1440                                4\n1440x900                                           4\nIPS Panel Retina Display 2880x1800                 4\nIPS Panel Quad HD+ 2560x1440                       3\n2560x1440                                          3\nTouchscreen 2400x1600                              3\nIPS Panel Touchscreen 1366x768                     3\n1920x1080                                          3\nQuad HD+ 3200x1800                                 3\nIPS Panel Quad HD+ 3200x1800                       2\nIPS Panel Full HD 2160x1440                        2\nIPS Panel Touchscreen / 4K Ultra HD 3840x2160      2\nTouchscreen / Quad HD+ 3200x1800                   1\nTouchscreen / Full HD 1920x1080                    1\nTouchscreen / 4K Ultra HD 3840x2160                1\nIPS Panel Touchscreen 2400x1600                    1\nIPS Panel Full HD 1366x768                         1\nIPS Panel Full HD 1920x1200                        1\nIPS Panel Retina Display 2736x1824                 1\nIPS Panel Full HD 2560x1440                        1\nName: ScreenResolution, dtype: int64"
     },
     "execution_count": 4166,
     "metadata": {},
     "output_type": "execute_result"
    }
   ],
   "source": [
    "df['ScreenResolution'].value_counts()"
   ],
   "metadata": {
    "collapsed": false,
    "pycharm": {
     "name": "#%%\n"
    }
   }
  },
  {
   "cell_type": "markdown",
   "source": [
    "# Feature Engineering\n",
    "### leverages data to create new variables"
   ],
   "metadata": {
    "collapsed": false,
    "pycharm": {
     "name": "#%% md\n"
    }
   }
  },
  {
   "cell_type": "markdown",
   "source": [
    "#### - creating a new column Touchscreen with value 1 if touchscreen is available, else 0"
   ],
   "metadata": {
    "collapsed": false,
    "pycharm": {
     "name": "#%% md\n"
    }
   }
  },
  {
   "cell_type": "code",
   "execution_count": 4167,
   "outputs": [],
   "source": [
    "df['Touchscreen'] = df['ScreenResolution'].apply(lambda x:1 if 'Touchscreen' in x else 0)"
   ],
   "metadata": {
    "collapsed": false,
    "pycharm": {
     "name": "#%%\n"
    }
   }
  },
  {
   "cell_type": "code",
   "execution_count": 4168,
   "outputs": [
    {
     "data": {
      "text/plain": "  Company   TypeName  Inches                    ScreenResolution  \\\n0   Apple  Ultrabook    13.3  IPS Panel Retina Display 2560x1600   \n1   Apple  Ultrabook    13.3                            1440x900   \n2      HP   Notebook    15.6                   Full HD 1920x1080   \n3   Apple  Ultrabook    15.4  IPS Panel Retina Display 2880x1800   \n4   Apple  Ultrabook    13.3  IPS Panel Retina Display 2560x1600   \n\n                          Cpu  Ram               Memory  \\\n0        Intel Core i5 2.3GHz    8            128GB SSD   \n1        Intel Core i5 1.8GHz    8  128GB Flash Storage   \n2  Intel Core i5 7200U 2.5GHz    8            256GB SSD   \n3        Intel Core i7 2.7GHz   16            512GB SSD   \n4        Intel Core i5 3.1GHz    8            256GB SSD   \n\n                            Gpu  OpSys  Weight        Price  Touchscreen  \n0  Intel Iris Plus Graphics 640  macOS    1.37   71378.6832            0  \n1        Intel HD Graphics 6000  macOS    1.34   47895.5232            0  \n2         Intel HD Graphics 620  No OS    1.86   30636.0000            0  \n3            AMD Radeon Pro 455  macOS    1.83  135195.3360            0  \n4  Intel Iris Plus Graphics 650  macOS    1.37   96095.8080            0  ",
      "text/html": "<div>\n<style scoped>\n    .dataframe tbody tr th:only-of-type {\n        vertical-align: middle;\n    }\n\n    .dataframe tbody tr th {\n        vertical-align: top;\n    }\n\n    .dataframe thead th {\n        text-align: right;\n    }\n</style>\n<table border=\"1\" class=\"dataframe\">\n  <thead>\n    <tr style=\"text-align: right;\">\n      <th></th>\n      <th>Company</th>\n      <th>TypeName</th>\n      <th>Inches</th>\n      <th>ScreenResolution</th>\n      <th>Cpu</th>\n      <th>Ram</th>\n      <th>Memory</th>\n      <th>Gpu</th>\n      <th>OpSys</th>\n      <th>Weight</th>\n      <th>Price</th>\n      <th>Touchscreen</th>\n    </tr>\n  </thead>\n  <tbody>\n    <tr>\n      <th>0</th>\n      <td>Apple</td>\n      <td>Ultrabook</td>\n      <td>13.3</td>\n      <td>IPS Panel Retina Display 2560x1600</td>\n      <td>Intel Core i5 2.3GHz</td>\n      <td>8</td>\n      <td>128GB SSD</td>\n      <td>Intel Iris Plus Graphics 640</td>\n      <td>macOS</td>\n      <td>1.37</td>\n      <td>71378.6832</td>\n      <td>0</td>\n    </tr>\n    <tr>\n      <th>1</th>\n      <td>Apple</td>\n      <td>Ultrabook</td>\n      <td>13.3</td>\n      <td>1440x900</td>\n      <td>Intel Core i5 1.8GHz</td>\n      <td>8</td>\n      <td>128GB Flash Storage</td>\n      <td>Intel HD Graphics 6000</td>\n      <td>macOS</td>\n      <td>1.34</td>\n      <td>47895.5232</td>\n      <td>0</td>\n    </tr>\n    <tr>\n      <th>2</th>\n      <td>HP</td>\n      <td>Notebook</td>\n      <td>15.6</td>\n      <td>Full HD 1920x1080</td>\n      <td>Intel Core i5 7200U 2.5GHz</td>\n      <td>8</td>\n      <td>256GB SSD</td>\n      <td>Intel HD Graphics 620</td>\n      <td>No OS</td>\n      <td>1.86</td>\n      <td>30636.0000</td>\n      <td>0</td>\n    </tr>\n    <tr>\n      <th>3</th>\n      <td>Apple</td>\n      <td>Ultrabook</td>\n      <td>15.4</td>\n      <td>IPS Panel Retina Display 2880x1800</td>\n      <td>Intel Core i7 2.7GHz</td>\n      <td>16</td>\n      <td>512GB SSD</td>\n      <td>AMD Radeon Pro 455</td>\n      <td>macOS</td>\n      <td>1.83</td>\n      <td>135195.3360</td>\n      <td>0</td>\n    </tr>\n    <tr>\n      <th>4</th>\n      <td>Apple</td>\n      <td>Ultrabook</td>\n      <td>13.3</td>\n      <td>IPS Panel Retina Display 2560x1600</td>\n      <td>Intel Core i5 3.1GHz</td>\n      <td>8</td>\n      <td>256GB SSD</td>\n      <td>Intel Iris Plus Graphics 650</td>\n      <td>macOS</td>\n      <td>1.37</td>\n      <td>96095.8080</td>\n      <td>0</td>\n    </tr>\n  </tbody>\n</table>\n</div>"
     },
     "execution_count": 4168,
     "metadata": {},
     "output_type": "execute_result"
    }
   ],
   "source": [
    "df.head()"
   ],
   "metadata": {
    "collapsed": false,
    "pycharm": {
     "name": "#%%\n"
    }
   }
  },
  {
   "cell_type": "code",
   "execution_count": 4169,
   "outputs": [
    {
     "data": {
      "text/plain": "    Company   TypeName  Inches                 ScreenResolution  \\\n394    Dell   Notebook    15.6                Full HD 1920x1080   \n384    Asus  Ultrabook    13.3  Full HD / Touchscreen 1920x1080   \n710  Lenovo     Gaming    15.6      IPS Panel Full HD 1920x1080   \n613    Dell   Notebook    15.6                         1366x768   \n534    Asus     Gaming    15.6      IPS Panel Full HD 1920x1080   \n\n                             Cpu  Ram                Memory  \\\n394   Intel Core i7 7500U 2.7GHz    8             256GB SSD   \n384   Intel Core i7 7500U 2.7GHz   16             512GB SSD   \n710  Intel Core i7 7700HQ 2.8GHz    8  128GB SSD +  1TB HDD   \n613   Intel Core i3 6006U 2.0GHz    4               1TB HDD   \n534  Intel Core i5 7300HQ 2.5GHz    8  128GB SSD +  1TB HDD   \n\n                            Gpu       OpSys  Weight       Price  Touchscreen  \n394          AMD Radeon R7 M445       Linux    2.33  41498.1936            0  \n384       Intel HD Graphics 620  Windows 10    1.10  93181.3920            1  \n710  Nvidia GeForce GTX 1050 Ti  Windows 10    2.50  66546.7200            0  \n613       Intel HD Graphics 520       Linux    2.25  19127.5200            0  \n534     Nvidia GeForce GTX 1060  Windows 10    2.30  87858.7200            0  ",
      "text/html": "<div>\n<style scoped>\n    .dataframe tbody tr th:only-of-type {\n        vertical-align: middle;\n    }\n\n    .dataframe tbody tr th {\n        vertical-align: top;\n    }\n\n    .dataframe thead th {\n        text-align: right;\n    }\n</style>\n<table border=\"1\" class=\"dataframe\">\n  <thead>\n    <tr style=\"text-align: right;\">\n      <th></th>\n      <th>Company</th>\n      <th>TypeName</th>\n      <th>Inches</th>\n      <th>ScreenResolution</th>\n      <th>Cpu</th>\n      <th>Ram</th>\n      <th>Memory</th>\n      <th>Gpu</th>\n      <th>OpSys</th>\n      <th>Weight</th>\n      <th>Price</th>\n      <th>Touchscreen</th>\n    </tr>\n  </thead>\n  <tbody>\n    <tr>\n      <th>394</th>\n      <td>Dell</td>\n      <td>Notebook</td>\n      <td>15.6</td>\n      <td>Full HD 1920x1080</td>\n      <td>Intel Core i7 7500U 2.7GHz</td>\n      <td>8</td>\n      <td>256GB SSD</td>\n      <td>AMD Radeon R7 M445</td>\n      <td>Linux</td>\n      <td>2.33</td>\n      <td>41498.1936</td>\n      <td>0</td>\n    </tr>\n    <tr>\n      <th>384</th>\n      <td>Asus</td>\n      <td>Ultrabook</td>\n      <td>13.3</td>\n      <td>Full HD / Touchscreen 1920x1080</td>\n      <td>Intel Core i7 7500U 2.7GHz</td>\n      <td>16</td>\n      <td>512GB SSD</td>\n      <td>Intel HD Graphics 620</td>\n      <td>Windows 10</td>\n      <td>1.10</td>\n      <td>93181.3920</td>\n      <td>1</td>\n    </tr>\n    <tr>\n      <th>710</th>\n      <td>Lenovo</td>\n      <td>Gaming</td>\n      <td>15.6</td>\n      <td>IPS Panel Full HD 1920x1080</td>\n      <td>Intel Core i7 7700HQ 2.8GHz</td>\n      <td>8</td>\n      <td>128GB SSD +  1TB HDD</td>\n      <td>Nvidia GeForce GTX 1050 Ti</td>\n      <td>Windows 10</td>\n      <td>2.50</td>\n      <td>66546.7200</td>\n      <td>0</td>\n    </tr>\n    <tr>\n      <th>613</th>\n      <td>Dell</td>\n      <td>Notebook</td>\n      <td>15.6</td>\n      <td>1366x768</td>\n      <td>Intel Core i3 6006U 2.0GHz</td>\n      <td>4</td>\n      <td>1TB HDD</td>\n      <td>Intel HD Graphics 520</td>\n      <td>Linux</td>\n      <td>2.25</td>\n      <td>19127.5200</td>\n      <td>0</td>\n    </tr>\n    <tr>\n      <th>534</th>\n      <td>Asus</td>\n      <td>Gaming</td>\n      <td>15.6</td>\n      <td>IPS Panel Full HD 1920x1080</td>\n      <td>Intel Core i5 7300HQ 2.5GHz</td>\n      <td>8</td>\n      <td>128GB SSD +  1TB HDD</td>\n      <td>Nvidia GeForce GTX 1060</td>\n      <td>Windows 10</td>\n      <td>2.30</td>\n      <td>87858.7200</td>\n      <td>0</td>\n    </tr>\n  </tbody>\n</table>\n</div>"
     },
     "execution_count": 4169,
     "metadata": {},
     "output_type": "execute_result"
    }
   ],
   "source": [
    "df.sample(5)"
   ],
   "metadata": {
    "collapsed": false,
    "pycharm": {
     "name": "#%%\n"
    }
   }
  },
  {
   "cell_type": "code",
   "execution_count": 4170,
   "outputs": [
    {
     "data": {
      "text/plain": "<Figure size 432x288 with 1 Axes>",
      "image/png": "[encoded data removed]"
     },
     "metadata": {},
     "output_type": "display_data"
    }
   ],
   "source": [
    "df['Touchscreen'].value_counts().plot(kind='bar', color=['blue', 'green'],alpha=0.8)\n",
    "plt.title('Laptop: Touchscreen or Non-Touchscreen?', fontsize=14)\n",
    "legend_labels = ['No Touchscreen', 'Touchscreen']\n",
    "legend_handles = [plt.Rectangle((0,0),1,1, color='blue'), plt.Rectangle((0,0),1,1, color='green')]\n",
    "plt.legend(legend_handles, legend_labels, loc='upper right')\n",
    "plt.xticks(rotation=360)\n",
    "plt.xlabel('Touchscreen')\n",
    "plt.ylabel('Count')\n",
    "plt.show(\"png\")"
   ],
   "metadata": {
    "collapsed": false,
    "pycharm": {
     "name": "#%%\n"
    }
   }
  },
  {
   "cell_type": "code",
   "execution_count": 4171,
   "outputs": [
    {
     "data": {
      "text/plain": "<Figure size 432x288 with 1 Axes>",
      "image/png": "[encoded data removed]"
     },
     "metadata": {},
     "output_type": "display_data"
    }
   ],
   "source": [
    "ax = sns.barplot(x=df['Touchscreen'], y=df['Price'], hue=df['Touchscreen'], palette={0: 'blue', 1: 'green'},alpha=0.9)\n",
    "handles = ax.get_legend_handles_labels()[0]\n",
    "labels = ['No Touchscreen', 'Touchscreen']\n",
    "ax.legend(handles=handles, labels=labels)\n",
    "plt.title('Laptop Price by TouchScreen', fontsize=14)\n",
    "plt.tight_layout()\n",
    "plt.show(\"png\")"
   ],
   "metadata": {
    "collapsed": false,
    "pycharm": {
     "name": "#%%\n"
    }
   }
  },
  {
   "cell_type": "markdown",
   "source": [
    "#### - creating a new column IPS with value 1 if IPS panel is available, else 0"
   ],
   "metadata": {
    "collapsed": false,
    "pycharm": {
     "name": "#%% md\n"
    }
   }
  },
  {
   "cell_type": "code",
   "execution_count": 4172,
   "outputs": [],
   "source": [
    "df['Ips'] = df['ScreenResolution'].apply(lambda x:1 if 'IPS' in x else 0)"
   ],
   "metadata": {
    "collapsed": false,
    "pycharm": {
     "name": "#%%\n"
    }
   }
  },
  {
   "cell_type": "code",
   "execution_count": 4173,
   "outputs": [
    {
     "data": {
      "text/plain": "  Company   TypeName  Inches                    ScreenResolution  \\\n0   Apple  Ultrabook    13.3  IPS Panel Retina Display 2560x1600   \n1   Apple  Ultrabook    13.3                            1440x900   \n2      HP   Notebook    15.6                   Full HD 1920x1080   \n3   Apple  Ultrabook    15.4  IPS Panel Retina Display 2880x1800   \n4   Apple  Ultrabook    13.3  IPS Panel Retina Display 2560x1600   \n\n                          Cpu  Ram               Memory  \\\n0        Intel Core i5 2.3GHz    8            128GB SSD   \n1        Intel Core i5 1.8GHz    8  128GB Flash Storage   \n2  Intel Core i5 7200U 2.5GHz    8            256GB SSD   \n3        Intel Core i7 2.7GHz   16            512GB SSD   \n4        Intel Core i5 3.1GHz    8            256GB SSD   \n\n                            Gpu  OpSys  Weight        Price  Touchscreen  Ips  \n0  Intel Iris Plus Graphics 640  macOS    1.37   71378.6832            0    1  \n1        Intel HD Graphics 6000  macOS    1.34   47895.5232            0    0  \n2         Intel HD Graphics 620  No OS    1.86   30636.0000            0    0  \n3            AMD Radeon Pro 455  macOS    1.83  135195.3360            0    1  \n4  Intel Iris Plus Graphics 650  macOS    1.37   96095.8080            0    1  ",
      "text/html": "<div>\n<style scoped>\n    .dataframe tbody tr th:only-of-type {\n        vertical-align: middle;\n    }\n\n    .dataframe tbody tr th {\n        vertical-align: top;\n    }\n\n    .dataframe thead th {\n        text-align: right;\n    }\n</style>\n<table border=\"1\" class=\"dataframe\">\n  <thead>\n    <tr style=\"text-align: right;\">\n      <th></th>\n      <th>Company</th>\n      <th>TypeName</th>\n      <th>Inches</th>\n      <th>ScreenResolution</th>\n      <th>Cpu</th>\n      <th>Ram</th>\n      <th>Memory</th>\n      <th>Gpu</th>\n      <th>OpSys</th>\n      <th>Weight</th>\n      <th>Price</th>\n      <th>Touchscreen</th>\n      <th>Ips</th>\n    </tr>\n  </thead>\n  <tbody>\n    <tr>\n      <th>0</th>\n      <td>Apple</td>\n      <td>Ultrabook</td>\n      <td>13.3</td>\n      <td>IPS Panel Retina Display 2560x1600</td>\n      <td>Intel Core i5 2.3GHz</td>\n      <td>8</td>\n      <td>128GB SSD</td>\n      <td>Intel Iris Plus Graphics 640</td>\n      <td>macOS</td>\n      <td>1.37</td>\n      <td>71378.6832</td>\n      <td>0</td>\n      <td>1</td>\n    </tr>\n    <tr>\n      <th>1</th>\n      <td>Apple</td>\n      <td>Ultrabook</td>\n      <td>13.3</td>\n      <td>1440x900</td>\n      <td>Intel Core i5 1.8GHz</td>\n      <td>8</td>\n      <td>128GB Flash Storage</td>\n      <td>Intel HD Graphics 6000</td>\n      <td>macOS</td>\n      <td>1.34</td>\n      <td>47895.5232</td>\n      <td>0</td>\n      <td>0</td>\n    </tr>\n    <tr>\n      <th>2</th>\n      <td>HP</td>\n      <td>Notebook</td>\n      <td>15.6</td>\n      <td>Full HD 1920x1080</td>\n      <td>Intel Core i5 7200U 2.5GHz</td>\n      <td>8</td>\n      <td>256GB SSD</td>\n      <td>Intel HD Graphics 620</td>\n      <td>No OS</td>\n      <td>1.86</td>\n      <td>30636.0000</td>\n      <td>0</td>\n      <td>0</td>\n    </tr>\n    <tr>\n      <th>3</th>\n      <td>Apple</td>\n      <td>Ultrabook</td>\n      <td>15.4</td>\n      <td>IPS Panel Retina Display 2880x1800</td>\n      <td>Intel Core i7 2.7GHz</td>\n      <td>16</td>\n      <td>512GB SSD</td>\n      <td>AMD Radeon Pro 455</td>\n      <td>macOS</td>\n      <td>1.83</td>\n      <td>135195.3360</td>\n      <td>0</td>\n      <td>1</td>\n    </tr>\n    <tr>\n      <th>4</th>\n      <td>Apple</td>\n      <td>Ultrabook</td>\n      <td>13.3</td>\n      <td>IPS Panel Retina Display 2560x1600</td>\n      <td>Intel Core i5 3.1GHz</td>\n      <td>8</td>\n      <td>256GB SSD</td>\n      <td>Intel Iris Plus Graphics 650</td>\n      <td>macOS</td>\n      <td>1.37</td>\n      <td>96095.8080</td>\n      <td>0</td>\n      <td>1</td>\n    </tr>\n  </tbody>\n</table>\n</div>"
     },
     "execution_count": 4173,
     "metadata": {},
     "output_type": "execute_result"
    }
   ],
   "source": [
    "df.head()"
   ],
   "metadata": {
    "collapsed": false,
    "pycharm": {
     "name": "#%%\n"
    }
   }
  },
  {
   "cell_type": "code",
   "execution_count": 4174,
   "outputs": [
    {
     "data": {
      "text/plain": "<Figure size 432x288 with 1 Axes>",
      "image/png": "[encoded data removed]"
     },
     "metadata": {},
     "output_type": "display_data"
    }
   ],
   "source": [
    "df['Ips'].value_counts().plot(kind='bar', color=['blue', 'green'],alpha=0.8)\n",
    "plt.xticks(ticks=[0, 1], labels=['Non-TouchScreen', 'TouchScreen'])\n",
    "legend_labels = ['Non Touchscreen', 'Touchscreen']\n",
    "legend_handles = [plt.Rectangle((0,0),1,1, color='blue'), plt.Rectangle((0,0),1,1, color='green')]\n",
    "plt.legend(legend_handles, legend_labels, loc='upper right')\n",
    "plt.title(\"IPS Count based on Touchscreen\",fontsize='14')\n",
    "plt.ylabel('IPS.count')\n",
    "plt.xlabel('Touchscreen')\n",
    "plt.xticks(rotation='horizontal')\n",
    "plt.tight_layout()\n",
    "plt.show(\"png\")"
   ],
   "metadata": {
    "collapsed": false,
    "pycharm": {
     "name": "#%%\n"
    }
   }
  },
  {
   "cell_type": "code",
   "execution_count": 4175,
   "outputs": [
    {
     "data": {
      "text/plain": "<Figure size 432x288 with 1 Axes>",
      "image/png": "[encoded data removed]"
     },
     "metadata": {},
     "output_type": "display_data"
    }
   ],
   "source": [
    "ax = sns.barplot(x=df['Ips'], y=df['Price'], hue=df['Ips'],palette={0: 'blue', 1: 'green'},alpha=0.9)\n",
    "plt.xticks(ticks=[0, 1], labels=['Non-IPS', 'IPS'])\n",
    "handles = ax.get_legend_handles_labels()[0]\n",
    "labels = [ 'Other display','IPS display']\n",
    "ax.legend(handles=handles, labels=labels)\n",
    "plt.title('Laptop Price by IPS', fontsize=14)\n",
    "plt.xlabel('Touchscreen')\n",
    "plt.xlabel('Display Type')\n",
    "plt.tight_layout()\n",
    "plt.show(\"png\")"
   ],
   "metadata": {
    "collapsed": false,
    "pycharm": {
     "name": "#%%\n"
    }
   }
  },
  {
   "cell_type": "markdown",
   "source": [
    "#### - Extracting X resolution and Y resolution from the ScreenResolution"
   ],
   "metadata": {
    "collapsed": false,
    "pycharm": {
     "name": "#%% md\n"
    }
   }
  },
  {
   "cell_type": "code",
   "execution_count": 4176,
   "outputs": [],
   "source": [
    "new = df['ScreenResolution'].str.split('x',n=1,expand=True)"
   ],
   "metadata": {
    "collapsed": false,
    "pycharm": {
     "name": "#%%\n"
    }
   }
  },
  {
   "cell_type": "code",
   "execution_count": 4177,
   "outputs": [
    {
     "data": {
      "text/plain": "  Company   TypeName  Inches                    ScreenResolution  \\\n0   Apple  Ultrabook    13.3  IPS Panel Retina Display 2560x1600   \n1   Apple  Ultrabook    13.3                            1440x900   \n2      HP   Notebook    15.6                   Full HD 1920x1080   \n3   Apple  Ultrabook    15.4  IPS Panel Retina Display 2880x1800   \n4   Apple  Ultrabook    13.3  IPS Panel Retina Display 2560x1600   \n\n                          Cpu  Ram               Memory  \\\n0        Intel Core i5 2.3GHz    8            128GB SSD   \n1        Intel Core i5 1.8GHz    8  128GB Flash Storage   \n2  Intel Core i5 7200U 2.5GHz    8            256GB SSD   \n3        Intel Core i7 2.7GHz   16            512GB SSD   \n4        Intel Core i5 3.1GHz    8            256GB SSD   \n\n                            Gpu  OpSys  Weight        Price  Touchscreen  Ips  \\\n0  Intel Iris Plus Graphics 640  macOS    1.37   71378.6832            0    1   \n1        Intel HD Graphics 6000  macOS    1.34   47895.5232            0    0   \n2         Intel HD Graphics 620  No OS    1.86   30636.0000            0    0   \n3            AMD Radeon Pro 455  macOS    1.83  135195.3360            0    1   \n4  Intel Iris Plus Graphics 650  macOS    1.37   96095.8080            0    1   \n\n                           X_res Y_res  \n0  IPS Panel Retina Display 2560  1600  \n1                           1440   900  \n2                   Full HD 1920  1080  \n3  IPS Panel Retina Display 2880  1800  \n4  IPS Panel Retina Display 2560  1600  ",
      "text/html": "<div>\n<style scoped>\n    .dataframe tbody tr th:only-of-type {\n        vertical-align: middle;\n    }\n\n    .dataframe tbody tr th {\n        vertical-align: top;\n    }\n\n    .dataframe thead th {\n        text-align: right;\n    }\n</style>\n<table border=\"1\" class=\"dataframe\">\n  <thead>\n    <tr style=\"text-align: right;\">\n      <th></th>\n      <th>Company</th>\n      <th>TypeName</th>\n      <th>Inches</th>\n      <th>ScreenResolution</th>\n      <th>Cpu</th>\n      <th>Ram</th>\n      <th>Memory</th>\n      <th>Gpu</th>\n      <th>OpSys</th>\n      <th>Weight</th>\n      <th>Price</th>\n      <th>Touchscreen</th>\n      <th>Ips</th>\n      <th>X_res</th>\n      <th>Y_res</th>\n    </tr>\n  </thead>\n  <tbody>\n    <tr>\n      <th>0</th>\n      <td>Apple</td>\n      <td>Ultrabook</td>\n      <td>13.3</td>\n      <td>IPS Panel Retina Display 2560x1600</td>\n      <td>Intel Core i5 2.3GHz</td>\n      <td>8</td>\n      <td>128GB SSD</td>\n      <td>Intel Iris Plus Graphics 640</td>\n      <td>macOS</td>\n      <td>1.37</td>\n      <td>71378.6832</td>\n      <td>0</td>\n      <td>1</td>\n      <td>IPS Panel Retina Display 2560</td>\n      <td>1600</td>\n    </tr>\n    <tr>\n      <th>1</th>\n      <td>Apple</td>\n      <td>Ultrabook</td>\n      <td>13.3</td>\n      <td>1440x900</td>\n      <td>Intel Core i5 1.8GHz</td>\n      <td>8</td>\n      <td>128GB Flash Storage</td>\n      <td>Intel HD Graphics 6000</td>\n      <td>macOS</td>\n      <td>1.34</td>\n      <td>47895.5232</td>\n      <td>0</td>\n      <td>0</td>\n      <td>1440</td>\n      <td>900</td>\n    </tr>\n    <tr>\n      <th>2</th>\n      <td>HP</td>\n      <td>Notebook</td>\n      <td>15.6</td>\n      <td>Full HD 1920x1080</td>\n      <td>Intel Core i5 7200U 2.5GHz</td>\n      <td>8</td>\n      <td>256GB SSD</td>\n      <td>Intel HD Graphics 620</td>\n      <td>No OS</td>\n      <td>1.86</td>\n      <td>30636.0000</td>\n      <td>0</td>\n      <td>0</td>\n      <td>Full HD 1920</td>\n      <td>1080</td>\n    </tr>\n    <tr>\n      <th>3</th>\n      <td>Apple</td>\n      <td>Ultrabook</td>\n      <td>15.4</td>\n      <td>IPS Panel Retina Display 2880x1800</td>\n      <td>Intel Core i7 2.7GHz</td>\n      <td>16</td>\n      <td>512GB SSD</td>\n      <td>AMD Radeon Pro 455</td>\n      <td>macOS</td>\n      <td>1.83</td>\n      <td>135195.3360</td>\n      <td>0</td>\n      <td>1</td>\n      <td>IPS Panel Retina Display 2880</td>\n      <td>1800</td>\n    </tr>\n    <tr>\n      <th>4</th>\n      <td>Apple</td>\n      <td>Ultrabook</td>\n      <td>13.3</td>\n      <td>IPS Panel Retina Display 2560x1600</td>\n      <td>Intel Core i5 3.1GHz</td>\n      <td>8</td>\n      <td>256GB SSD</td>\n      <td>Intel Iris Plus Graphics 650</td>\n      <td>macOS</td>\n      <td>1.37</td>\n      <td>96095.8080</td>\n      <td>0</td>\n      <td>1</td>\n      <td>IPS Panel Retina Display 2560</td>\n      <td>1600</td>\n    </tr>\n  </tbody>\n</table>\n</div>"
     },
     "execution_count": 4177,
     "metadata": {},
     "output_type": "execute_result"
    }
   ],
   "source": [
    "df['X_res'] = new[0]\n",
    "df['Y_res'] = new[1]\n",
    "df.head()"
   ],
   "metadata": {
    "collapsed": false,
    "pycharm": {
     "name": "#%%\n"
    }
   }
  },
  {
   "cell_type": "code",
   "execution_count": 4178,
   "outputs": [
    {
     "data": {
      "text/plain": "     Company  TypeName  Inches             ScreenResolution  \\\n1096    Dell  Notebook    15.6            Full HD 1920x1080   \n428       HP    Gaming    17.3            Full HD 1920x1080   \n530     Dell    Gaming    17.3  IPS Panel Full HD 1920x1080   \n209   Lenovo  Notebook    15.6                     1366x768   \n296     Acer  Notebook    15.6            Full HD 1920x1080   \n\n                              Cpu  Ram                Memory  \\\n1096   Intel Core i5 7200U 2.5GHz    8               1TB HDD   \n428   Intel Core i7 7700HQ 2.8GHz   12  256GB SSD +  1TB HDD   \n530   Intel Core i7 7700HQ 2.8GHz   16  128GB SSD +  1TB HDD   \n209    Intel Core i5 7200U 2.5GHz    8             256GB SSD   \n296   Intel Core i7 7700HQ 2.8GHz    8             256GB SSD   \n\n                             Gpu       OpSys  Weight        Price  \\\n1096          AMD Radeon R7 M445  Windows 10    2.36   34035.2640   \n428      Nvidia GeForce GTX 1070  Windows 10    3.35  106506.7200   \n530      Nvidia GeForce GTX 1070  Windows 10    4.42  160520.3856   \n209        Intel HD Graphics 620  Windows 10    2.20   31808.1600   \n296   Nvidia GeForce GTX 1050 Ti       Linux    2.50   52161.1200   \n\n      Touchscreen  Ips                   X_res Y_res  \n1096            0    0            Full HD 1920  1080  \n428             0    0            Full HD 1920  1080  \n530             0    1  IPS Panel Full HD 1920  1080  \n209             0    0                    1366   768  \n296             0    0            Full HD 1920  1080  ",
      "text/html": "<div>\n<style scoped>\n    .dataframe tbody tr th:only-of-type {\n        vertical-align: middle;\n    }\n\n    .dataframe tbody tr th {\n        vertical-align: top;\n    }\n\n    .dataframe thead th {\n        text-align: right;\n    }\n</style>\n<table border=\"1\" class=\"dataframe\">\n  <thead>\n    <tr style=\"text-align: right;\">\n      <th></th>\n      <th>Company</th>\n      <th>TypeName</th>\n      <th>Inches</th>\n      <th>ScreenResolution</th>\n      <th>Cpu</th>\n      <th>Ram</th>\n      <th>Memory</th>\n      <th>Gpu</th>\n      <th>OpSys</th>\n      <th>Weight</th>\n      <th>Price</th>\n      <th>Touchscreen</th>\n      <th>Ips</th>\n      <th>X_res</th>\n      <th>Y_res</th>\n    </tr>\n  </thead>\n  <tbody>\n    <tr>\n      <th>1096</th>\n      <td>Dell</td>\n      <td>Notebook</td>\n      <td>15.6</td>\n      <td>Full HD 1920x1080</td>\n      <td>Intel Core i5 7200U 2.5GHz</td>\n      <td>8</td>\n      <td>1TB HDD</td>\n      <td>AMD Radeon R7 M445</td>\n      <td>Windows 10</td>\n      <td>2.36</td>\n      <td>34035.2640</td>\n      <td>0</td>\n      <td>0</td>\n      <td>Full HD 1920</td>\n      <td>1080</td>\n    </tr>\n    <tr>\n      <th>428</th>\n      <td>HP</td>\n      <td>Gaming</td>\n      <td>17.3</td>\n      <td>Full HD 1920x1080</td>\n      <td>Intel Core i7 7700HQ 2.8GHz</td>\n      <td>12</td>\n      <td>256GB SSD +  1TB HDD</td>\n      <td>Nvidia GeForce GTX 1070</td>\n      <td>Windows 10</td>\n      <td>3.35</td>\n      <td>106506.7200</td>\n      <td>0</td>\n      <td>0</td>\n      <td>Full HD 1920</td>\n      <td>1080</td>\n    </tr>\n    <tr>\n      <th>530</th>\n      <td>Dell</td>\n      <td>Gaming</td>\n      <td>17.3</td>\n      <td>IPS Panel Full HD 1920x1080</td>\n      <td>Intel Core i7 7700HQ 2.8GHz</td>\n      <td>16</td>\n      <td>128GB SSD +  1TB HDD</td>\n      <td>Nvidia GeForce GTX 1070</td>\n      <td>Windows 10</td>\n      <td>4.42</td>\n      <td>160520.3856</td>\n      <td>0</td>\n      <td>1</td>\n      <td>IPS Panel Full HD 1920</td>\n      <td>1080</td>\n    </tr>\n    <tr>\n      <th>209</th>\n      <td>Lenovo</td>\n      <td>Notebook</td>\n      <td>15.6</td>\n      <td>1366x768</td>\n      <td>Intel Core i5 7200U 2.5GHz</td>\n      <td>8</td>\n      <td>256GB SSD</td>\n      <td>Intel HD Graphics 620</td>\n      <td>Windows 10</td>\n      <td>2.20</td>\n      <td>31808.1600</td>\n      <td>0</td>\n      <td>0</td>\n      <td>1366</td>\n      <td>768</td>\n    </tr>\n    <tr>\n      <th>296</th>\n      <td>Acer</td>\n      <td>Notebook</td>\n      <td>15.6</td>\n      <td>Full HD 1920x1080</td>\n      <td>Intel Core i7 7700HQ 2.8GHz</td>\n      <td>8</td>\n      <td>256GB SSD</td>\n      <td>Nvidia GeForce GTX 1050 Ti</td>\n      <td>Linux</td>\n      <td>2.50</td>\n      <td>52161.1200</td>\n      <td>0</td>\n      <td>0</td>\n      <td>Full HD 1920</td>\n      <td>1080</td>\n    </tr>\n  </tbody>\n</table>\n</div>"
     },
     "execution_count": 4178,
     "metadata": {},
     "output_type": "execute_result"
    }
   ],
   "source": [
    "df.sample(5)"
   ],
   "metadata": {
    "collapsed": false,
    "pycharm": {
     "name": "#%%\n"
    }
   }
  },
  {
   "cell_type": "code",
   "execution_count": 4179,
   "outputs": [],
   "source": [
    "df['X_res'] = df['X_res'].str.replace(',','').str.findall(r'(\\d+\\.?\\d+)').apply(lambda x:x[0])"
   ],
   "metadata": {
    "collapsed": false,
    "pycharm": {
     "name": "#%%\n"
    }
   }
  },
  {
   "cell_type": "code",
   "execution_count": 4180,
   "outputs": [
    {
     "data": {
      "text/plain": "  Company   TypeName  Inches                    ScreenResolution  \\\n0   Apple  Ultrabook    13.3  IPS Panel Retina Display 2560x1600   \n1   Apple  Ultrabook    13.3                            1440x900   \n2      HP   Notebook    15.6                   Full HD 1920x1080   \n3   Apple  Ultrabook    15.4  IPS Panel Retina Display 2880x1800   \n4   Apple  Ultrabook    13.3  IPS Panel Retina Display 2560x1600   \n\n                          Cpu  Ram               Memory  \\\n0        Intel Core i5 2.3GHz    8            128GB SSD   \n1        Intel Core i5 1.8GHz    8  128GB Flash Storage   \n2  Intel Core i5 7200U 2.5GHz    8            256GB SSD   \n3        Intel Core i7 2.7GHz   16            512GB SSD   \n4        Intel Core i5 3.1GHz    8            256GB SSD   \n\n                            Gpu  OpSys  Weight        Price  Touchscreen  Ips  \\\n0  Intel Iris Plus Graphics 640  macOS    1.37   71378.6832            0    1   \n1        Intel HD Graphics 6000  macOS    1.34   47895.5232            0    0   \n2         Intel HD Graphics 620  No OS    1.86   30636.0000            0    0   \n3            AMD Radeon Pro 455  macOS    1.83  135195.3360            0    1   \n4  Intel Iris Plus Graphics 650  macOS    1.37   96095.8080            0    1   \n\n  X_res Y_res  \n0  2560  1600  \n1  1440   900  \n2  1920  1080  \n3  2880  1800  \n4  2560  1600  ",
      "text/html": "<div>\n<style scoped>\n    .dataframe tbody tr th:only-of-type {\n        vertical-align: middle;\n    }\n\n    .dataframe tbody tr th {\n        vertical-align: top;\n    }\n\n    .dataframe thead th {\n        text-align: right;\n    }\n</style>\n<table border=\"1\" class=\"dataframe\">\n  <thead>\n    <tr style=\"text-align: right;\">\n      <th></th>\n      <th>Company</th>\n      <th>TypeName</th>\n      <th>Inches</th>\n      <th>ScreenResolution</th>\n      <th>Cpu</th>\n      <th>Ram</th>\n      <th>Memory</th>\n      <th>Gpu</th>\n      <th>OpSys</th>\n      <th>Weight</th>\n      <th>Price</th>\n      <th>Touchscreen</th>\n      <th>Ips</th>\n      <th>X_res</th>\n      <th>Y_res</th>\n    </tr>\n  </thead>\n  <tbody>\n    <tr>\n      <th>0</th>\n      <td>Apple</td>\n      <td>Ultrabook</td>\n      <td>13.3</td>\n      <td>IPS Panel Retina Display 2560x1600</td>\n      <td>Intel Core i5 2.3GHz</td>\n      <td>8</td>\n      <td>128GB SSD</td>\n      <td>Intel Iris Plus Graphics 640</td>\n      <td>macOS</td>\n      <td>1.37</td>\n      <td>71378.6832</td>\n      <td>0</td>\n      <td>1</td>\n      <td>2560</td>\n      <td>1600</td>\n    </tr>\n    <tr>\n      <th>1</th>\n      <td>Apple</td>\n      <td>Ultrabook</td>\n      <td>13.3</td>\n      <td>1440x900</td>\n      <td>Intel Core i5 1.8GHz</td>\n      <td>8</td>\n      <td>128GB Flash Storage</td>\n      <td>Intel HD Graphics 6000</td>\n      <td>macOS</td>\n      <td>1.34</td>\n      <td>47895.5232</td>\n      <td>0</td>\n      <td>0</td>\n      <td>1440</td>\n      <td>900</td>\n    </tr>\n    <tr>\n      <th>2</th>\n      <td>HP</td>\n      <td>Notebook</td>\n      <td>15.6</td>\n      <td>Full HD 1920x1080</td>\n      <td>Intel Core i5 7200U 2.5GHz</td>\n      <td>8</td>\n      <td>256GB SSD</td>\n      <td>Intel HD Graphics 620</td>\n      <td>No OS</td>\n      <td>1.86</td>\n      <td>30636.0000</td>\n      <td>0</td>\n      <td>0</td>\n      <td>1920</td>\n      <td>1080</td>\n    </tr>\n    <tr>\n      <th>3</th>\n      <td>Apple</td>\n      <td>Ultrabook</td>\n      <td>15.4</td>\n      <td>IPS Panel Retina Display 2880x1800</td>\n      <td>Intel Core i7 2.7GHz</td>\n      <td>16</td>\n      <td>512GB SSD</td>\n      <td>AMD Radeon Pro 455</td>\n      <td>macOS</td>\n      <td>1.83</td>\n      <td>135195.3360</td>\n      <td>0</td>\n      <td>1</td>\n      <td>2880</td>\n      <td>1800</td>\n    </tr>\n    <tr>\n      <th>4</th>\n      <td>Apple</td>\n      <td>Ultrabook</td>\n      <td>13.3</td>\n      <td>IPS Panel Retina Display 2560x1600</td>\n      <td>Intel Core i5 3.1GHz</td>\n      <td>8</td>\n      <td>256GB SSD</td>\n      <td>Intel Iris Plus Graphics 650</td>\n      <td>macOS</td>\n      <td>1.37</td>\n      <td>96095.8080</td>\n      <td>0</td>\n      <td>1</td>\n      <td>2560</td>\n      <td>1600</td>\n    </tr>\n  </tbody>\n</table>\n</div>"
     },
     "execution_count": 4180,
     "metadata": {},
     "output_type": "execute_result"
    }
   ],
   "source": [
    "df.head()"
   ],
   "metadata": {
    "collapsed": false,
    "pycharm": {
     "name": "#%%\n"
    }
   }
  },
  {
   "cell_type": "code",
   "execution_count": 4181,
   "outputs": [
    {
     "name": "stdout",
     "output_type": "stream",
     "text": [
      "<class 'pandas.core.frame.DataFrame'>\n",
      "RangeIndex: 1303 entries, 0 to 1302\n",
      "Data columns (total 15 columns):\n",
      " #   Column            Non-Null Count  Dtype  \n",
      "---  ------            --------------  -----  \n",
      " 0   Company           1303 non-null   object \n",
      " 1   TypeName          1303 non-null   object \n",
      " 2   Inches            1303 non-null   float64\n",
      " 3   ScreenResolution  1303 non-null   object \n",
      " 4   Cpu               1303 non-null   object \n",
      " 5   Ram               1303 non-null   int32  \n",
      " 6   Memory            1303 non-null   object \n",
      " 7   Gpu               1303 non-null   object \n",
      " 8   OpSys             1303 non-null   object \n",
      " 9   Weight            1303 non-null   float32\n",
      " 10  Price             1303 non-null   float64\n",
      " 11  Touchscreen       1303 non-null   int64  \n",
      " 12  Ips               1303 non-null   int64  \n",
      " 13  X_res             1303 non-null   object \n",
      " 14  Y_res             1303 non-null   object \n",
      "dtypes: float32(1), float64(2), int32(1), int64(2), object(9)\n",
      "memory usage: 142.6+ KB\n"
     ]
    }
   ],
   "source": [
    "df.info()"
   ],
   "metadata": {
    "collapsed": false,
    "pycharm": {
     "name": "#%%\n"
    }
   }
  },
  {
   "cell_type": "code",
   "execution_count": 4182,
   "outputs": [
    {
     "name": "stdout",
     "output_type": "stream",
     "text": [
      "<class 'pandas.core.frame.DataFrame'>\n",
      "RangeIndex: 1303 entries, 0 to 1302\n",
      "Data columns (total 15 columns):\n",
      " #   Column            Non-Null Count  Dtype  \n",
      "---  ------            --------------  -----  \n",
      " 0   Company           1303 non-null   object \n",
      " 1   TypeName          1303 non-null   object \n",
      " 2   Inches            1303 non-null   float64\n",
      " 3   ScreenResolution  1303 non-null   object \n",
      " 4   Cpu               1303 non-null   object \n",
      " 5   Ram               1303 non-null   int32  \n",
      " 6   Memory            1303 non-null   object \n",
      " 7   Gpu               1303 non-null   object \n",
      " 8   OpSys             1303 non-null   object \n",
      " 9   Weight            1303 non-null   float32\n",
      " 10  Price             1303 non-null   float64\n",
      " 11  Touchscreen       1303 non-null   int64  \n",
      " 12  Ips               1303 non-null   int64  \n",
      " 13  X_res             1303 non-null   int32  \n",
      " 14  Y_res             1303 non-null   int32  \n",
      "dtypes: float32(1), float64(2), int32(3), int64(2), object(7)\n",
      "memory usage: 132.5+ KB\n"
     ]
    }
   ],
   "source": [
    "df['X_res'] = df['X_res'].astype('int')\n",
    "df['Y_res'] = df['Y_res'].astype('int')\n",
    "df.info()"
   ],
   "metadata": {
    "collapsed": false,
    "pycharm": {
     "name": "#%%\n"
    }
   }
  },
  {
   "cell_type": "code",
   "execution_count": 4183,
   "outputs": [
    {
     "data": {
      "text/plain": "Inches         0.068197\nRam            0.743007\nWeight         0.210370\nPrice          1.000000\nTouchscreen    0.191226\nIps            0.252208\nX_res          0.556529\nY_res          0.552809\nName: Price, dtype: float64"
     },
     "execution_count": 4183,
     "metadata": {},
     "output_type": "execute_result"
    }
   ],
   "source": [
    "df.corr()['Price']"
   ],
   "metadata": {
    "collapsed": false,
    "pycharm": {
     "name": "#%%\n"
    }
   }
  },
  {
   "cell_type": "markdown",
   "source": [
    "#### - Adding new feature ppi"
   ],
   "metadata": {
    "collapsed": false,
    "pycharm": {
     "name": "#%% md\n"
    }
   }
  },
  {
   "cell_type": "code",
   "execution_count": 4184,
   "outputs": [],
   "source": [
    "df['ppi'] = (((df['X_res']**2) + (df['Y_res']**2))**0.5/df['Inches']).astype('float')"
   ],
   "metadata": {
    "collapsed": false,
    "pycharm": {
     "name": "#%%\n"
    }
   }
  },
  {
   "cell_type": "code",
   "execution_count": 4185,
   "outputs": [
    {
     "data": {
      "text/plain": "Inches         0.068197\nRam            0.743007\nWeight         0.210370\nPrice          1.000000\nTouchscreen    0.191226\nIps            0.252208\nX_res          0.556529\nY_res          0.552809\nppi            0.473487\nName: Price, dtype: float64"
     },
     "execution_count": 4185,
     "metadata": {},
     "output_type": "execute_result"
    }
   ],
   "source": [
    "df.corr()['Price']"
   ],
   "metadata": {
    "collapsed": false,
    "pycharm": {
     "name": "#%%\n"
    }
   }
  },
  {
   "cell_type": "code",
   "execution_count": 4186,
   "outputs": [],
   "source": [
    "df.drop(columns=['ScreenResolution'],inplace=True)"
   ],
   "metadata": {
    "collapsed": false,
    "pycharm": {
     "name": "#%%\n"
    }
   }
  },
  {
   "cell_type": "code",
   "execution_count": 4187,
   "outputs": [
    {
     "data": {
      "text/plain": "  Company   TypeName  Inches                         Cpu  Ram  \\\n0   Apple  Ultrabook    13.3        Intel Core i5 2.3GHz    8   \n1   Apple  Ultrabook    13.3        Intel Core i5 1.8GHz    8   \n2      HP   Notebook    15.6  Intel Core i5 7200U 2.5GHz    8   \n3   Apple  Ultrabook    15.4        Intel Core i7 2.7GHz   16   \n4   Apple  Ultrabook    13.3        Intel Core i5 3.1GHz    8   \n\n                Memory                           Gpu  OpSys  Weight  \\\n0            128GB SSD  Intel Iris Plus Graphics 640  macOS    1.37   \n1  128GB Flash Storage        Intel HD Graphics 6000  macOS    1.34   \n2            256GB SSD         Intel HD Graphics 620  No OS    1.86   \n3            512GB SSD            AMD Radeon Pro 455  macOS    1.83   \n4            256GB SSD  Intel Iris Plus Graphics 650  macOS    1.37   \n\n         Price  Touchscreen  Ips  X_res  Y_res         ppi  \n0   71378.6832            0    1   2560   1600  226.983005  \n1   47895.5232            0    0   1440    900  127.677940  \n2   30636.0000            0    0   1920   1080  141.211998  \n3  135195.3360            0    1   2880   1800  220.534624  \n4   96095.8080            0    1   2560   1600  226.983005  ",
      "text/html": "<div>\n<style scoped>\n    .dataframe tbody tr th:only-of-type {\n        vertical-align: middle;\n    }\n\n    .dataframe tbody tr th {\n        vertical-align: top;\n    }\n\n    .dataframe thead th {\n        text-align: right;\n    }\n</style>\n<table border=\"1\" class=\"dataframe\">\n  <thead>\n    <tr style=\"text-align: right;\">\n      <th></th>\n      <th>Company</th>\n      <th>TypeName</th>\n      <th>Inches</th>\n      <th>Cpu</th>\n      <th>Ram</th>\n      <th>Memory</th>\n      <th>Gpu</th>\n      <th>OpSys</th>\n      <th>Weight</th>\n      <th>Price</th>\n      <th>Touchscreen</th>\n      <th>Ips</th>\n      <th>X_res</th>\n      <th>Y_res</th>\n      <th>ppi</th>\n    </tr>\n  </thead>\n  <tbody>\n    <tr>\n      <th>0</th>\n      <td>Apple</td>\n      <td>Ultrabook</td>\n      <td>13.3</td>\n      <td>Intel Core i5 2.3GHz</td>\n      <td>8</td>\n      <td>128GB SSD</td>\n      <td>Intel Iris Plus Graphics 640</td>\n      <td>macOS</td>\n      <td>1.37</td>\n      <td>71378.6832</td>\n      <td>0</td>\n      <td>1</td>\n      <td>2560</td>\n      <td>1600</td>\n      <td>226.983005</td>\n    </tr>\n    <tr>\n      <th>1</th>\n      <td>Apple</td>\n      <td>Ultrabook</td>\n      <td>13.3</td>\n      <td>Intel Core i5 1.8GHz</td>\n      <td>8</td>\n      <td>128GB Flash Storage</td>\n      <td>Intel HD Graphics 6000</td>\n      <td>macOS</td>\n      <td>1.34</td>\n      <td>47895.5232</td>\n      <td>0</td>\n      <td>0</td>\n      <td>1440</td>\n      <td>900</td>\n      <td>127.677940</td>\n    </tr>\n    <tr>\n      <th>2</th>\n      <td>HP</td>\n      <td>Notebook</td>\n      <td>15.6</td>\n      <td>Intel Core i5 7200U 2.5GHz</td>\n      <td>8</td>\n      <td>256GB SSD</td>\n      <td>Intel HD Graphics 620</td>\n      <td>No OS</td>\n      <td>1.86</td>\n      <td>30636.0000</td>\n      <td>0</td>\n      <td>0</td>\n      <td>1920</td>\n      <td>1080</td>\n      <td>141.211998</td>\n    </tr>\n    <tr>\n      <th>3</th>\n      <td>Apple</td>\n      <td>Ultrabook</td>\n      <td>15.4</td>\n      <td>Intel Core i7 2.7GHz</td>\n      <td>16</td>\n      <td>512GB SSD</td>\n      <td>AMD Radeon Pro 455</td>\n      <td>macOS</td>\n      <td>1.83</td>\n      <td>135195.3360</td>\n      <td>0</td>\n      <td>1</td>\n      <td>2880</td>\n      <td>1800</td>\n      <td>220.534624</td>\n    </tr>\n    <tr>\n      <th>4</th>\n      <td>Apple</td>\n      <td>Ultrabook</td>\n      <td>13.3</td>\n      <td>Intel Core i5 3.1GHz</td>\n      <td>8</td>\n      <td>256GB SSD</td>\n      <td>Intel Iris Plus Graphics 650</td>\n      <td>macOS</td>\n      <td>1.37</td>\n      <td>96095.8080</td>\n      <td>0</td>\n      <td>1</td>\n      <td>2560</td>\n      <td>1600</td>\n      <td>226.983005</td>\n    </tr>\n  </tbody>\n</table>\n</div>"
     },
     "execution_count": 4187,
     "metadata": {},
     "output_type": "execute_result"
    }
   ],
   "source": [
    "df.head()"
   ],
   "metadata": {
    "collapsed": false,
    "pycharm": {
     "name": "#%%\n"
    }
   }
  },
  {
   "cell_type": "code",
   "execution_count": 4188,
   "outputs": [
    {
     "data": {
      "text/plain": "  Company   TypeName                         Cpu  Ram               Memory  \\\n0   Apple  Ultrabook        Intel Core i5 2.3GHz    8            128GB SSD   \n1   Apple  Ultrabook        Intel Core i5 1.8GHz    8  128GB Flash Storage   \n2      HP   Notebook  Intel Core i5 7200U 2.5GHz    8            256GB SSD   \n3   Apple  Ultrabook        Intel Core i7 2.7GHz   16            512GB SSD   \n4   Apple  Ultrabook        Intel Core i5 3.1GHz    8            256GB SSD   \n\n                            Gpu  OpSys  Weight        Price  Touchscreen  Ips  \\\n0  Intel Iris Plus Graphics 640  macOS    1.37   71378.6832            0    1   \n1        Intel HD Graphics 6000  macOS    1.34   47895.5232            0    0   \n2         Intel HD Graphics 620  No OS    1.86   30636.0000            0    0   \n3            AMD Radeon Pro 455  macOS    1.83  135195.3360            0    1   \n4  Intel Iris Plus Graphics 650  macOS    1.37   96095.8080            0    1   \n\n          ppi  \n0  226.983005  \n1  127.677940  \n2  141.211998  \n3  220.534624  \n4  226.983005  ",
      "text/html": "<div>\n<style scoped>\n    .dataframe tbody tr th:only-of-type {\n        vertical-align: middle;\n    }\n\n    .dataframe tbody tr th {\n        vertical-align: top;\n    }\n\n    .dataframe thead th {\n        text-align: right;\n    }\n</style>\n<table border=\"1\" class=\"dataframe\">\n  <thead>\n    <tr style=\"text-align: right;\">\n      <th></th>\n      <th>Company</th>\n      <th>TypeName</th>\n      <th>Cpu</th>\n      <th>Ram</th>\n      <th>Memory</th>\n      <th>Gpu</th>\n      <th>OpSys</th>\n      <th>Weight</th>\n      <th>Price</th>\n      <th>Touchscreen</th>\n      <th>Ips</th>\n      <th>ppi</th>\n    </tr>\n  </thead>\n  <tbody>\n    <tr>\n      <th>0</th>\n      <td>Apple</td>\n      <td>Ultrabook</td>\n      <td>Intel Core i5 2.3GHz</td>\n      <td>8</td>\n      <td>128GB SSD</td>\n      <td>Intel Iris Plus Graphics 640</td>\n      <td>macOS</td>\n      <td>1.37</td>\n      <td>71378.6832</td>\n      <td>0</td>\n      <td>1</td>\n      <td>226.983005</td>\n    </tr>\n    <tr>\n      <th>1</th>\n      <td>Apple</td>\n      <td>Ultrabook</td>\n      <td>Intel Core i5 1.8GHz</td>\n      <td>8</td>\n      <td>128GB Flash Storage</td>\n      <td>Intel HD Graphics 6000</td>\n      <td>macOS</td>\n      <td>1.34</td>\n      <td>47895.5232</td>\n      <td>0</td>\n      <td>0</td>\n      <td>127.677940</td>\n    </tr>\n    <tr>\n      <th>2</th>\n      <td>HP</td>\n      <td>Notebook</td>\n      <td>Intel Core i5 7200U 2.5GHz</td>\n      <td>8</td>\n      <td>256GB SSD</td>\n      <td>Intel HD Graphics 620</td>\n      <td>No OS</td>\n      <td>1.86</td>\n      <td>30636.0000</td>\n      <td>0</td>\n      <td>0</td>\n      <td>141.211998</td>\n    </tr>\n    <tr>\n      <th>3</th>\n      <td>Apple</td>\n      <td>Ultrabook</td>\n      <td>Intel Core i7 2.7GHz</td>\n      <td>16</td>\n      <td>512GB SSD</td>\n      <td>AMD Radeon Pro 455</td>\n      <td>macOS</td>\n      <td>1.83</td>\n      <td>135195.3360</td>\n      <td>0</td>\n      <td>1</td>\n      <td>220.534624</td>\n    </tr>\n    <tr>\n      <th>4</th>\n      <td>Apple</td>\n      <td>Ultrabook</td>\n      <td>Intel Core i5 3.1GHz</td>\n      <td>8</td>\n      <td>256GB SSD</td>\n      <td>Intel Iris Plus Graphics 650</td>\n      <td>macOS</td>\n      <td>1.37</td>\n      <td>96095.8080</td>\n      <td>0</td>\n      <td>1</td>\n      <td>226.983005</td>\n    </tr>\n  </tbody>\n</table>\n</div>"
     },
     "execution_count": 4188,
     "metadata": {},
     "output_type": "execute_result"
    }
   ],
   "source": [
    "df.drop(columns=['Inches','X_res','Y_res'],inplace=True)\n",
    "df.head()"
   ],
   "metadata": {
    "collapsed": false,
    "pycharm": {
     "name": "#%%\n"
    }
   }
  },
  {
   "cell_type": "code",
   "execution_count": 4189,
   "outputs": [],
   "source": [
    "df['Cpu'].value_counts()\n",
    "df['Cpu Name'] = df['Cpu'].apply(lambda x:\" \".join(x.split()[0:3]))"
   ],
   "metadata": {
    "collapsed": false,
    "pycharm": {
     "name": "#%%\n"
    }
   }
  },
  {
   "cell_type": "code",
   "execution_count": 4190,
   "outputs": [
    {
     "data": {
      "text/plain": "  Company   TypeName                         Cpu  Ram               Memory  \\\n0   Apple  Ultrabook        Intel Core i5 2.3GHz    8            128GB SSD   \n1   Apple  Ultrabook        Intel Core i5 1.8GHz    8  128GB Flash Storage   \n2      HP   Notebook  Intel Core i5 7200U 2.5GHz    8            256GB SSD   \n3   Apple  Ultrabook        Intel Core i7 2.7GHz   16            512GB SSD   \n4   Apple  Ultrabook        Intel Core i5 3.1GHz    8            256GB SSD   \n\n                            Gpu  OpSys  Weight        Price  Touchscreen  Ips  \\\n0  Intel Iris Plus Graphics 640  macOS    1.37   71378.6832            0    1   \n1        Intel HD Graphics 6000  macOS    1.34   47895.5232            0    0   \n2         Intel HD Graphics 620  No OS    1.86   30636.0000            0    0   \n3            AMD Radeon Pro 455  macOS    1.83  135195.3360            0    1   \n4  Intel Iris Plus Graphics 650  macOS    1.37   96095.8080            0    1   \n\n          ppi       Cpu Name  \n0  226.983005  Intel Core i5  \n1  127.677940  Intel Core i5  \n2  141.211998  Intel Core i5  \n3  220.534624  Intel Core i7  \n4  226.983005  Intel Core i5  ",
      "text/html": "<div>\n<style scoped>\n    .dataframe tbody tr th:only-of-type {\n        vertical-align: middle;\n    }\n\n    .dataframe tbody tr th {\n        vertical-align: top;\n    }\n\n    .dataframe thead th {\n        text-align: right;\n    }\n</style>\n<table border=\"1\" class=\"dataframe\">\n  <thead>\n    <tr style=\"text-align: right;\">\n      <th></th>\n      <th>Company</th>\n      <th>TypeName</th>\n      <th>Cpu</th>\n      <th>Ram</th>\n      <th>Memory</th>\n      <th>Gpu</th>\n      <th>OpSys</th>\n      <th>Weight</th>\n      <th>Price</th>\n      <th>Touchscreen</th>\n      <th>Ips</th>\n      <th>ppi</th>\n      <th>Cpu Name</th>\n    </tr>\n  </thead>\n  <tbody>\n    <tr>\n      <th>0</th>\n      <td>Apple</td>\n      <td>Ultrabook</td>\n      <td>Intel Core i5 2.3GHz</td>\n      <td>8</td>\n      <td>128GB SSD</td>\n      <td>Intel Iris Plus Graphics 640</td>\n      <td>macOS</td>\n      <td>1.37</td>\n      <td>71378.6832</td>\n      <td>0</td>\n      <td>1</td>\n      <td>226.983005</td>\n      <td>Intel Core i5</td>\n    </tr>\n    <tr>\n      <th>1</th>\n      <td>Apple</td>\n      <td>Ultrabook</td>\n      <td>Intel Core i5 1.8GHz</td>\n      <td>8</td>\n      <td>128GB Flash Storage</td>\n      <td>Intel HD Graphics 6000</td>\n      <td>macOS</td>\n      <td>1.34</td>\n      <td>47895.5232</td>\n      <td>0</td>\n      <td>0</td>\n      <td>127.677940</td>\n      <td>Intel Core i5</td>\n    </tr>\n    <tr>\n      <th>2</th>\n      <td>HP</td>\n      <td>Notebook</td>\n      <td>Intel Core i5 7200U 2.5GHz</td>\n      <td>8</td>\n      <td>256GB SSD</td>\n      <td>Intel HD Graphics 620</td>\n      <td>No OS</td>\n      <td>1.86</td>\n      <td>30636.0000</td>\n      <td>0</td>\n      <td>0</td>\n      <td>141.211998</td>\n      <td>Intel Core i5</td>\n    </tr>\n    <tr>\n      <th>3</th>\n      <td>Apple</td>\n      <td>Ultrabook</td>\n      <td>Intel Core i7 2.7GHz</td>\n      <td>16</td>\n      <td>512GB SSD</td>\n      <td>AMD Radeon Pro 455</td>\n      <td>macOS</td>\n      <td>1.83</td>\n      <td>135195.3360</td>\n      <td>0</td>\n      <td>1</td>\n      <td>220.534624</td>\n      <td>Intel Core i7</td>\n    </tr>\n    <tr>\n      <th>4</th>\n      <td>Apple</td>\n      <td>Ultrabook</td>\n      <td>Intel Core i5 3.1GHz</td>\n      <td>8</td>\n      <td>256GB SSD</td>\n      <td>Intel Iris Plus Graphics 650</td>\n      <td>macOS</td>\n      <td>1.37</td>\n      <td>96095.8080</td>\n      <td>0</td>\n      <td>1</td>\n      <td>226.983005</td>\n      <td>Intel Core i5</td>\n    </tr>\n  </tbody>\n</table>\n</div>"
     },
     "execution_count": 4190,
     "metadata": {},
     "output_type": "execute_result"
    }
   ],
   "source": [
    "df.head()"
   ],
   "metadata": {
    "collapsed": false,
    "pycharm": {
     "name": "#%%\n"
    }
   }
  },
  {
   "cell_type": "markdown",
   "source": [
    "#### - Function to summarize different CPUs"
   ],
   "metadata": {
    "collapsed": false,
    "pycharm": {
     "name": "#%% md\n"
    }
   }
  },
  {
   "cell_type": "code",
   "execution_count": 4191,
   "outputs": [],
   "source": [
    "def fetch_processor(text):\n",
    "    if text == 'Intel Core i7' or text == 'Intel Core i5' or text == 'Intel Core i3':\n",
    "        return text\n",
    "    else:\n",
    "        if text.split()[0] == 'Intel':\n",
    "            return 'Other Intel Processor'\n",
    "        else:\n",
    "            return 'AMD Processor'"
   ],
   "metadata": {
    "collapsed": false,
    "pycharm": {
     "name": "#%%\n"
    }
   }
  },
  {
   "cell_type": "code",
   "execution_count": 4192,
   "outputs": [],
   "source": [
    "df['Cpu brand'] = df['Cpu Name'].apply(fetch_processor)"
   ],
   "metadata": {
    "collapsed": false,
    "pycharm": {
     "name": "#%%\n"
    }
   }
  },
  {
   "cell_type": "code",
   "execution_count": 4193,
   "outputs": [
    {
     "data": {
      "text/plain": "  Company   TypeName                         Cpu  Ram               Memory  \\\n0   Apple  Ultrabook        Intel Core i5 2.3GHz    8            128GB SSD   \n1   Apple  Ultrabook        Intel Core i5 1.8GHz    8  128GB Flash Storage   \n2      HP   Notebook  Intel Core i5 7200U 2.5GHz    8            256GB SSD   \n3   Apple  Ultrabook        Intel Core i7 2.7GHz   16            512GB SSD   \n4   Apple  Ultrabook        Intel Core i5 3.1GHz    8            256GB SSD   \n\n                            Gpu  OpSys  Weight        Price  Touchscreen  Ips  \\\n0  Intel Iris Plus Graphics 640  macOS    1.37   71378.6832            0    1   \n1        Intel HD Graphics 6000  macOS    1.34   47895.5232            0    0   \n2         Intel HD Graphics 620  No OS    1.86   30636.0000            0    0   \n3            AMD Radeon Pro 455  macOS    1.83  135195.3360            0    1   \n4  Intel Iris Plus Graphics 650  macOS    1.37   96095.8080            0    1   \n\n          ppi       Cpu Name      Cpu brand  \n0  226.983005  Intel Core i5  Intel Core i5  \n1  127.677940  Intel Core i5  Intel Core i5  \n2  141.211998  Intel Core i5  Intel Core i5  \n3  220.534624  Intel Core i7  Intel Core i7  \n4  226.983005  Intel Core i5  Intel Core i5  ",
      "text/html": "<div>\n<style scoped>\n    .dataframe tbody tr th:only-of-type {\n        vertical-align: middle;\n    }\n\n    .dataframe tbody tr th {\n        vertical-align: top;\n    }\n\n    .dataframe thead th {\n        text-align: right;\n    }\n</style>\n<table border=\"1\" class=\"dataframe\">\n  <thead>\n    <tr style=\"text-align: right;\">\n      <th></th>\n      <th>Company</th>\n      <th>TypeName</th>\n      <th>Cpu</th>\n      <th>Ram</th>\n      <th>Memory</th>\n      <th>Gpu</th>\n      <th>OpSys</th>\n      <th>Weight</th>\n      <th>Price</th>\n      <th>Touchscreen</th>\n      <th>Ips</th>\n      <th>ppi</th>\n      <th>Cpu Name</th>\n      <th>Cpu brand</th>\n    </tr>\n  </thead>\n  <tbody>\n    <tr>\n      <th>0</th>\n      <td>Apple</td>\n      <td>Ultrabook</td>\n      <td>Intel Core i5 2.3GHz</td>\n      <td>8</td>\n      <td>128GB SSD</td>\n      <td>Intel Iris Plus Graphics 640</td>\n      <td>macOS</td>\n      <td>1.37</td>\n      <td>71378.6832</td>\n      <td>0</td>\n      <td>1</td>\n      <td>226.983005</td>\n      <td>Intel Core i5</td>\n      <td>Intel Core i5</td>\n    </tr>\n    <tr>\n      <th>1</th>\n      <td>Apple</td>\n      <td>Ultrabook</td>\n      <td>Intel Core i5 1.8GHz</td>\n      <td>8</td>\n      <td>128GB Flash Storage</td>\n      <td>Intel HD Graphics 6000</td>\n      <td>macOS</td>\n      <td>1.34</td>\n      <td>47895.5232</td>\n      <td>0</td>\n      <td>0</td>\n      <td>127.677940</td>\n      <td>Intel Core i5</td>\n      <td>Intel Core i5</td>\n    </tr>\n    <tr>\n      <th>2</th>\n      <td>HP</td>\n      <td>Notebook</td>\n      <td>Intel Core i5 7200U 2.5GHz</td>\n      <td>8</td>\n      <td>256GB SSD</td>\n      <td>Intel HD Graphics 620</td>\n      <td>No OS</td>\n      <td>1.86</td>\n      <td>30636.0000</td>\n      <td>0</td>\n      <td>0</td>\n      <td>141.211998</td>\n      <td>Intel Core i5</td>\n      <td>Intel Core i5</td>\n    </tr>\n    <tr>\n      <th>3</th>\n      <td>Apple</td>\n      <td>Ultrabook</td>\n      <td>Intel Core i7 2.7GHz</td>\n      <td>16</td>\n      <td>512GB SSD</td>\n      <td>AMD Radeon Pro 455</td>\n      <td>macOS</td>\n      <td>1.83</td>\n      <td>135195.3360</td>\n      <td>0</td>\n      <td>1</td>\n      <td>220.534624</td>\n      <td>Intel Core i7</td>\n      <td>Intel Core i7</td>\n    </tr>\n    <tr>\n      <th>4</th>\n      <td>Apple</td>\n      <td>Ultrabook</td>\n      <td>Intel Core i5 3.1GHz</td>\n      <td>8</td>\n      <td>256GB SSD</td>\n      <td>Intel Iris Plus Graphics 650</td>\n      <td>macOS</td>\n      <td>1.37</td>\n      <td>96095.8080</td>\n      <td>0</td>\n      <td>1</td>\n      <td>226.983005</td>\n      <td>Intel Core i5</td>\n      <td>Intel Core i5</td>\n    </tr>\n  </tbody>\n</table>\n</div>"
     },
     "execution_count": 4193,
     "metadata": {},
     "output_type": "execute_result"
    }
   ],
   "source": [
    "df.head()"
   ],
   "metadata": {
    "collapsed": false,
    "pycharm": {
     "name": "#%%\n"
    }
   }
  },
  {
   "cell_type": "code",
   "execution_count": 4194,
   "outputs": [
    {
     "data": {
      "text/plain": "<Figure size 576x360 with 1 Axes>",
      "image/png": "[encoded data removed]"
     },
     "metadata": {},
     "output_type": "display_data"
    }
   ],
   "source": [
    "plt.figure(figsize=(8, 5))\n",
    "sns.set(style=\"whitegrid\")\n",
    "\n",
    "cpu_counts = df['Cpu brand'].value_counts()\n",
    "cpu_counts.plot(kind='bar', color=sns.color_palette(\"husl\", 9))\n",
    "\n",
    "plt.title('CPU Brand Counts', fontsize=14)\n",
    "plt.xlabel('CPU Brand', fontsize=12,fontweight='bold')\n",
    "plt.ylabel('Brand.Count', fontsize=12,fontweight='bold')\n",
    "\n",
    "for index, value in enumerate(cpu_counts):\n",
    "    plt.text(index, value + 2, str(value), ha='center', fontsize=10)\n",
    "\n",
    "sns.despine()\n",
    "plt.xticks(rotation=0)\n",
    "plt.tight_layout()\n",
    "plt.show(\"png\")"
   ],
   "metadata": {
    "collapsed": false,
    "pycharm": {
     "name": "#%%\n"
    }
   }
  },
  {
   "cell_type": "code",
   "execution_count": 4195,
   "outputs": [
    {
     "data": {
      "text/plain": "<Figure size 576x360 with 1 Axes>",
      "image/png": "[encoded data removed]"
     },
     "metadata": {},
     "output_type": "display_data"
    }
   ],
   "source": [
    "plt.figure(figsize=(8, 5))\n",
    "sns.set(style=\"whitegrid\")\n",
    "sns.barplot(x=df['Cpu brand'],y=df['Price'],palette=sns.color_palette(\"husl\", 5))\n",
    "plt.xticks(rotation='horizontal')\n",
    "plt.title('CPU Brand distribution Prices', fontsize=14)\n",
    "plt.xlabel('CPU Brand', fontsize=12,fontweight='bold')\n",
    "plt.ylabel('Brand.Price', fontsize=12,fontweight='bold')\n",
    "sns.despine()\n",
    "plt.show(\"png\")"
   ],
   "metadata": {
    "collapsed": false,
    "pycharm": {
     "name": "#%%\n"
    }
   }
  },
  {
   "cell_type": "code",
   "execution_count": 4196,
   "outputs": [],
   "source": [
    "df.drop(columns=['Cpu','Cpu Name'],inplace=True)"
   ],
   "metadata": {
    "collapsed": false,
    "pycharm": {
     "name": "#%%\n"
    }
   }
  },
  {
   "cell_type": "code",
   "execution_count": 4197,
   "outputs": [
    {
     "data": {
      "text/plain": "  Company   TypeName  Ram               Memory                           Gpu  \\\n0   Apple  Ultrabook    8            128GB SSD  Intel Iris Plus Graphics 640   \n1   Apple  Ultrabook    8  128GB Flash Storage        Intel HD Graphics 6000   \n2      HP   Notebook    8            256GB SSD         Intel HD Graphics 620   \n3   Apple  Ultrabook   16            512GB SSD            AMD Radeon Pro 455   \n4   Apple  Ultrabook    8            256GB SSD  Intel Iris Plus Graphics 650   \n\n   OpSys  Weight        Price  Touchscreen  Ips         ppi      Cpu brand  \n0  macOS    1.37   71378.6832            0    1  226.983005  Intel Core i5  \n1  macOS    1.34   47895.5232            0    0  127.677940  Intel Core i5  \n2  No OS    1.86   30636.0000            0    0  141.211998  Intel Core i5  \n3  macOS    1.83  135195.3360            0    1  220.534624  Intel Core i7  \n4  macOS    1.37   96095.8080            0    1  226.983005  Intel Core i5  ",
      "text/html": "<div>\n<style scoped>\n    .dataframe tbody tr th:only-of-type {\n        vertical-align: middle;\n    }\n\n    .dataframe tbody tr th {\n        vertical-align: top;\n    }\n\n    .dataframe thead th {\n        text-align: right;\n    }\n</style>\n<table border=\"1\" class=\"dataframe\">\n  <thead>\n    <tr style=\"text-align: right;\">\n      <th></th>\n      <th>Company</th>\n      <th>TypeName</th>\n      <th>Ram</th>\n      <th>Memory</th>\n      <th>Gpu</th>\n      <th>OpSys</th>\n      <th>Weight</th>\n      <th>Price</th>\n      <th>Touchscreen</th>\n      <th>Ips</th>\n      <th>ppi</th>\n      <th>Cpu brand</th>\n    </tr>\n  </thead>\n  <tbody>\n    <tr>\n      <th>0</th>\n      <td>Apple</td>\n      <td>Ultrabook</td>\n      <td>8</td>\n      <td>128GB SSD</td>\n      <td>Intel Iris Plus Graphics 640</td>\n      <td>macOS</td>\n      <td>1.37</td>\n      <td>71378.6832</td>\n      <td>0</td>\n      <td>1</td>\n      <td>226.983005</td>\n      <td>Intel Core i5</td>\n    </tr>\n    <tr>\n      <th>1</th>\n      <td>Apple</td>\n      <td>Ultrabook</td>\n      <td>8</td>\n      <td>128GB Flash Storage</td>\n      <td>Intel HD Graphics 6000</td>\n      <td>macOS</td>\n      <td>1.34</td>\n      <td>47895.5232</td>\n      <td>0</td>\n      <td>0</td>\n      <td>127.677940</td>\n      <td>Intel Core i5</td>\n    </tr>\n    <tr>\n      <th>2</th>\n      <td>HP</td>\n      <td>Notebook</td>\n      <td>8</td>\n      <td>256GB SSD</td>\n      <td>Intel HD Graphics 620</td>\n      <td>No OS</td>\n      <td>1.86</td>\n      <td>30636.0000</td>\n      <td>0</td>\n      <td>0</td>\n      <td>141.211998</td>\n      <td>Intel Core i5</td>\n    </tr>\n    <tr>\n      <th>3</th>\n      <td>Apple</td>\n      <td>Ultrabook</td>\n      <td>16</td>\n      <td>512GB SSD</td>\n      <td>AMD Radeon Pro 455</td>\n      <td>macOS</td>\n      <td>1.83</td>\n      <td>135195.3360</td>\n      <td>0</td>\n      <td>1</td>\n      <td>220.534624</td>\n      <td>Intel Core i7</td>\n    </tr>\n    <tr>\n      <th>4</th>\n      <td>Apple</td>\n      <td>Ultrabook</td>\n      <td>8</td>\n      <td>256GB SSD</td>\n      <td>Intel Iris Plus Graphics 650</td>\n      <td>macOS</td>\n      <td>1.37</td>\n      <td>96095.8080</td>\n      <td>0</td>\n      <td>1</td>\n      <td>226.983005</td>\n      <td>Intel Core i5</td>\n    </tr>\n  </tbody>\n</table>\n</div>"
     },
     "execution_count": 4197,
     "metadata": {},
     "output_type": "execute_result"
    }
   ],
   "source": [
    "df.head()"
   ],
   "metadata": {
    "collapsed": false,
    "pycharm": {
     "name": "#%%\n"
    }
   }
  },
  {
   "cell_type": "code",
   "execution_count": 4198,
   "outputs": [
    {
     "data": {
      "text/plain": "<Figure size 432x288 with 1 Axes>",
      "image/png": "[encoded data removed]"
     },
     "metadata": {},
     "output_type": "display_data"
    }
   ],
   "source": [
    "ram_value_counts = df['Ram'].value_counts()\n",
    "ram_value_counts.plot(kind='bar',width=0.9, color=sns.color_palette(\"husl\", 9))\n",
    "\n",
    "plt.title('RAM Distribution', fontsize=14)\n",
    "plt.xlabel('RAM Size')\n",
    "plt.ylabel('Frequency')\n",
    "plt.xticks(rotation='horizontal')\n",
    "\n",
    "for i, count in enumerate(ram_value_counts):\n",
    "    plt.text(i, count + 1, str(count), ha='center', va='bottom', fontsize=10)\n",
    "\n",
    "plt.grid(axis='y', linestyle='--', alpha=0.7)\n",
    "\n",
    "sns.despine()\n",
    "plt.tight_layout()\n",
    "plt.show(\"png\")\n"
   ],
   "metadata": {
    "collapsed": false,
    "pycharm": {
     "name": "#%%\n"
    }
   }
  },
  {
   "cell_type": "code",
   "execution_count": 4199,
   "outputs": [
    {
     "data": {
      "text/plain": "<Figure size 432x288 with 1 Axes>",
      "image/png": "[encoded data removed]"
     },
     "metadata": {},
     "output_type": "display_data"
    }
   ],
   "source": [
    "sns.set(style=\"whitegrid\")\n",
    "sns.barplot(x=df['Ram'], y=df['Price'], palette=\"viridis\")\n",
    "\n",
    "plt.title('RAM Distribution by Price', fontsize=14)\n",
    "plt.xlabel('RAM Size', fontsize=12)\n",
    "plt.ylabel('Price', fontsize=12)\n",
    "plt.xticks(rotation='horizontal')\n",
    "plt.grid(axis='y', linestyle='--', alpha=0.7)\n",
    "\n",
    "sns.despine()\n",
    "plt.tight_layout()\n",
    "plt.show(\"png\")"
   ],
   "metadata": {
    "collapsed": false,
    "pycharm": {
     "name": "#%%\n"
    }
   }
  },
  {
   "cell_type": "code",
   "execution_count": 4200,
   "outputs": [
    {
     "data": {
      "text/plain": "256GB SSD                        412\n1TB HDD                          223\n500GB HDD                        132\n512GB SSD                        118\n128GB SSD +  1TB HDD              94\n128GB SSD                         76\n256GB SSD +  1TB HDD              73\n32GB Flash Storage                38\n2TB HDD                           16\n64GB Flash Storage                15\n1TB SSD                           14\n512GB SSD +  1TB HDD              14\n256GB SSD +  2TB HDD              10\n1.0TB Hybrid                       9\n256GB Flash Storage                8\n16GB Flash Storage                 7\n32GB SSD                           6\n180GB SSD                          5\n128GB Flash Storage                4\n512GB SSD +  2TB HDD               3\n16GB SSD                           3\n1TB SSD +  1TB HDD                 2\n256GB SSD +  500GB HDD             2\n512GB Flash Storage                2\n256GB SSD +  256GB SSD             2\n128GB SSD +  2TB HDD               2\n32GB HDD                           1\n512GB SSD +  256GB SSD             1\n1.0TB HDD                          1\n508GB Hybrid                       1\n64GB SSD                           1\n1TB HDD +  1TB HDD                 1\n512GB SSD +  1.0TB Hybrid          1\n240GB SSD                          1\n256GB SSD +  1.0TB Hybrid          1\n128GB HDD                          1\n512GB SSD +  512GB SSD             1\n64GB Flash Storage +  1TB HDD      1\n8GB SSD                            1\nName: Memory, dtype: int64"
     },
     "execution_count": 4200,
     "metadata": {},
     "output_type": "execute_result"
    }
   ],
   "source": [
    "df['Memory'].value_counts()"
   ],
   "metadata": {
    "collapsed": false,
    "pycharm": {
     "name": "#%%\n"
    }
   }
  },
  {
   "cell_type": "markdown",
   "source": [
    "#### - Transfrom Memory to HDD, SDD, FLASH and HYBRID"
   ],
   "metadata": {
    "collapsed": false,
    "pycharm": {
     "name": "#%% md\n"
    }
   }
  },
  {
   "cell_type": "code",
   "execution_count": 4201,
   "outputs": [
    {
     "name": "stderr",
     "output_type": "stream",
     "text": [
      "c:\\python37\\lib\\site-packages\\ipykernel_launcher.py:16: FutureWarning:\n",
      "\n",
      "The default value of regex will change from True to False in a future version.\n",
      "\n",
      "c:\\python37\\lib\\site-packages\\ipykernel_launcher.py:25: FutureWarning:\n",
      "\n",
      "The default value of regex will change from True to False in a future version.\n",
      "\n"
     ]
    }
   ],
   "source": [
    "df['Memory'] = df['Memory'].astype(str).replace('\\.0', '', regex=True)\n",
    "df[\"Memory\"] = df[\"Memory\"].str.replace('GB', '')\n",
    "df[\"Memory\"] = df[\"Memory\"].str.replace('TB', '000')\n",
    "new = df[\"Memory\"].str.split(\"+\", n = 1, expand = True)\n",
    "\n",
    "df[\"first\"]= new[0]\n",
    "df[\"first\"]=df[\"first\"].str.strip()\n",
    "\n",
    "df[\"second\"]= new[1]\n",
    "\n",
    "df[\"Layer1HDD\"] = df[\"first\"].apply(lambda x: 1 if \"HDD\" in x else 0)\n",
    "df[\"Layer1SSD\"] = df[\"first\"].apply(lambda x: 1 if \"SSD\" in x else 0)\n",
    "df[\"Layer1Hybrid\"] = df[\"first\"].apply(lambda x: 1 if \"Hybrid\" in x else 0)\n",
    "df[\"Layer1Flash_Storage\"] = df[\"first\"].apply(lambda x: 1 if \"Flash Storage\" in x else 0)\n",
    "\n",
    "df['first'] = df['first'].str.replace(r'\\D', '')\n",
    "\n",
    "df[\"second\"].fillna(\"0\", inplace = True)\n",
    "\n",
    "df[\"Layer2HDD\"] = df[\"second\"].apply(lambda x: 1 if \"HDD\" in x else 0)\n",
    "df[\"Layer2SSD\"] = df[\"second\"].apply(lambda x: 1 if \"SSD\" in x else 0)\n",
    "df[\"Layer2Hybrid\"] = df[\"second\"].apply(lambda x: 1 if \"Hybrid\" in x else 0)\n",
    "df[\"Layer2Flash_Storage\"] = df[\"second\"].apply(lambda x: 1 if \"Flash Storage\" in x else 0)\n",
    "\n",
    "df['second'] = df['second'].str.replace(r'\\D', '')\n",
    "\n",
    "df[\"first\"] = df[\"first\"].astype(int)\n",
    "df[\"second\"] = df[\"second\"].astype(int)\n",
    "\n",
    "df[\"HDD\"]=(df[\"first\"]*df[\"Layer1HDD\"]+df[\"second\"]*df[\"Layer2HDD\"])\n",
    "df[\"SSD\"]=(df[\"first\"]*df[\"Layer1SSD\"]+df[\"second\"]*df[\"Layer2SSD\"])\n",
    "df[\"Hybrid\"]=(df[\"first\"]*df[\"Layer1Hybrid\"]+df[\"second\"]*df[\"Layer2Hybrid\"])\n",
    "df[\"Flash_Storage\"]=(df[\"first\"]*df[\"Layer1Flash_Storage\"]+df[\"second\"]*df[\"Layer2Flash_Storage\"])\n",
    "\n",
    "df.drop(columns=['first', 'second', 'Layer1HDD', 'Layer1SSD', 'Layer1Hybrid',\n",
    "       'Layer1Flash_Storage', 'Layer2HDD', 'Layer2SSD', 'Layer2Hybrid',\n",
    "       'Layer2Flash_Storage'],inplace=True)"
   ],
   "metadata": {
    "collapsed": false,
    "pycharm": {
     "name": "#%%\n"
    }
   }
  },
  {
   "cell_type": "code",
   "execution_count": 4202,
   "outputs": [
    {
     "data": {
      "text/plain": "      Company            TypeName  Ram    Memory                      Gpu  \\\n691    Lenovo            Notebook    4   256 SSD    Intel HD Graphics 620   \n389    Lenovo  2 in 1 Convertible   16   512 SSD    Intel HD Graphics 620   \n1169      MSI              Gaming    8  1000 HDD  Nvidia GeForce GTX 1050   \n1231    Razer              Gaming   16  1000 SSD  Nvidia GeForce GTX 1060   \n491   Toshiba           Ultrabook   32   512 SSD    Intel HD Graphics 620   \n\n           OpSys  Weight      Price  Touchscreen  Ips         ppi  \\\n691   Windows 10    1.70   37242.72            0    0  157.350512   \n389   Windows 10    1.42  133679.52            1    0  209.800683   \n1169  Windows 10    2.20   44701.92            0    1  141.211998   \n1231  Windows 10    1.95  186426.72            0    0  157.350512   \n491   Windows 10    1.05  149130.72            1    0  165.632118   \n\n          Cpu brand   HDD   SSD  Hybrid  Flash_Storage  \n691   Intel Core i5     0   256       0              0  \n389   Intel Core i7     0   512       0              0  \n1169  Intel Core i7  1000     0       0              0  \n1231  Intel Core i7     0  1000       0              0  \n491   Intel Core i7     0   512       0              0  ",
      "text/html": "<div>\n<style scoped>\n    .dataframe tbody tr th:only-of-type {\n        vertical-align: middle;\n    }\n\n    .dataframe tbody tr th {\n        vertical-align: top;\n    }\n\n    .dataframe thead th {\n        text-align: right;\n    }\n</style>\n<table border=\"1\" class=\"dataframe\">\n  <thead>\n    <tr style=\"text-align: right;\">\n      <th></th>\n      <th>Company</th>\n      <th>TypeName</th>\n      <th>Ram</th>\n      <th>Memory</th>\n      <th>Gpu</th>\n      <th>OpSys</th>\n      <th>Weight</th>\n      <th>Price</th>\n      <th>Touchscreen</th>\n      <th>Ips</th>\n      <th>ppi</th>\n      <th>Cpu brand</th>\n      <th>HDD</th>\n      <th>SSD</th>\n      <th>Hybrid</th>\n      <th>Flash_Storage</th>\n    </tr>\n  </thead>\n  <tbody>\n    <tr>\n      <th>691</th>\n      <td>Lenovo</td>\n      <td>Notebook</td>\n      <td>4</td>\n      <td>256 SSD</td>\n      <td>Intel HD Graphics 620</td>\n      <td>Windows 10</td>\n      <td>1.70</td>\n      <td>37242.72</td>\n      <td>0</td>\n      <td>0</td>\n      <td>157.350512</td>\n      <td>Intel Core i5</td>\n      <td>0</td>\n      <td>256</td>\n      <td>0</td>\n      <td>0</td>\n    </tr>\n    <tr>\n      <th>389</th>\n      <td>Lenovo</td>\n      <td>2 in 1 Convertible</td>\n      <td>16</td>\n      <td>512 SSD</td>\n      <td>Intel HD Graphics 620</td>\n      <td>Windows 10</td>\n      <td>1.42</td>\n      <td>133679.52</td>\n      <td>1</td>\n      <td>0</td>\n      <td>209.800683</td>\n      <td>Intel Core i7</td>\n      <td>0</td>\n      <td>512</td>\n      <td>0</td>\n      <td>0</td>\n    </tr>\n    <tr>\n      <th>1169</th>\n      <td>MSI</td>\n      <td>Gaming</td>\n      <td>8</td>\n      <td>1000 HDD</td>\n      <td>Nvidia GeForce GTX 1050</td>\n      <td>Windows 10</td>\n      <td>2.20</td>\n      <td>44701.92</td>\n      <td>0</td>\n      <td>1</td>\n      <td>141.211998</td>\n      <td>Intel Core i7</td>\n      <td>1000</td>\n      <td>0</td>\n      <td>0</td>\n      <td>0</td>\n    </tr>\n    <tr>\n      <th>1231</th>\n      <td>Razer</td>\n      <td>Gaming</td>\n      <td>16</td>\n      <td>1000 SSD</td>\n      <td>Nvidia GeForce GTX 1060</td>\n      <td>Windows 10</td>\n      <td>1.95</td>\n      <td>186426.72</td>\n      <td>0</td>\n      <td>0</td>\n      <td>157.350512</td>\n      <td>Intel Core i7</td>\n      <td>0</td>\n      <td>1000</td>\n      <td>0</td>\n      <td>0</td>\n    </tr>\n    <tr>\n      <th>491</th>\n      <td>Toshiba</td>\n      <td>Ultrabook</td>\n      <td>32</td>\n      <td>512 SSD</td>\n      <td>Intel HD Graphics 620</td>\n      <td>Windows 10</td>\n      <td>1.05</td>\n      <td>149130.72</td>\n      <td>1</td>\n      <td>0</td>\n      <td>165.632118</td>\n      <td>Intel Core i7</td>\n      <td>0</td>\n      <td>512</td>\n      <td>0</td>\n      <td>0</td>\n    </tr>\n  </tbody>\n</table>\n</div>"
     },
     "execution_count": 4202,
     "metadata": {},
     "output_type": "execute_result"
    }
   ],
   "source": [
    "df.sample(5)"
   ],
   "metadata": {
    "collapsed": false,
    "pycharm": {
     "name": "#%%\n"
    }
   }
  },
  {
   "cell_type": "code",
   "execution_count": 4203,
   "outputs": [],
   "source": [
    "df.drop(columns=['Memory'],inplace=True)"
   ],
   "metadata": {
    "collapsed": false,
    "pycharm": {
     "name": "#%%\n"
    }
   }
  },
  {
   "cell_type": "code",
   "execution_count": 4204,
   "outputs": [
    {
     "data": {
      "text/plain": "  Company   TypeName  Ram                           Gpu  OpSys  Weight  \\\n0   Apple  Ultrabook    8  Intel Iris Plus Graphics 640  macOS    1.37   \n1   Apple  Ultrabook    8        Intel HD Graphics 6000  macOS    1.34   \n2      HP   Notebook    8         Intel HD Graphics 620  No OS    1.86   \n3   Apple  Ultrabook   16            AMD Radeon Pro 455  macOS    1.83   \n4   Apple  Ultrabook    8  Intel Iris Plus Graphics 650  macOS    1.37   \n\n         Price  Touchscreen  Ips         ppi      Cpu brand  HDD  SSD  Hybrid  \\\n0   71378.6832            0    1  226.983005  Intel Core i5    0  128       0   \n1   47895.5232            0    0  127.677940  Intel Core i5    0    0       0   \n2   30636.0000            0    0  141.211998  Intel Core i5    0  256       0   \n3  135195.3360            0    1  220.534624  Intel Core i7    0  512       0   \n4   96095.8080            0    1  226.983005  Intel Core i5    0  256       0   \n\n   Flash_Storage  \n0              0  \n1            128  \n2              0  \n3              0  \n4              0  ",
      "text/html": "<div>\n<style scoped>\n    .dataframe tbody tr th:only-of-type {\n        vertical-align: middle;\n    }\n\n    .dataframe tbody tr th {\n        vertical-align: top;\n    }\n\n    .dataframe thead th {\n        text-align: right;\n    }\n</style>\n<table border=\"1\" class=\"dataframe\">\n  <thead>\n    <tr style=\"text-align: right;\">\n      <th></th>\n      <th>Company</th>\n      <th>TypeName</th>\n      <th>Ram</th>\n      <th>Gpu</th>\n      <th>OpSys</th>\n      <th>Weight</th>\n      <th>Price</th>\n      <th>Touchscreen</th>\n      <th>Ips</th>\n      <th>ppi</th>\n      <th>Cpu brand</th>\n      <th>HDD</th>\n      <th>SSD</th>\n      <th>Hybrid</th>\n      <th>Flash_Storage</th>\n    </tr>\n  </thead>\n  <tbody>\n    <tr>\n      <th>0</th>\n      <td>Apple</td>\n      <td>Ultrabook</td>\n      <td>8</td>\n      <td>Intel Iris Plus Graphics 640</td>\n      <td>macOS</td>\n      <td>1.37</td>\n      <td>71378.6832</td>\n      <td>0</td>\n      <td>1</td>\n      <td>226.983005</td>\n      <td>Intel Core i5</td>\n      <td>0</td>\n      <td>128</td>\n      <td>0</td>\n      <td>0</td>\n    </tr>\n    <tr>\n      <th>1</th>\n      <td>Apple</td>\n      <td>Ultrabook</td>\n      <td>8</td>\n      <td>Intel HD Graphics 6000</td>\n      <td>macOS</td>\n      <td>1.34</td>\n      <td>47895.5232</td>\n      <td>0</td>\n      <td>0</td>\n      <td>127.677940</td>\n      <td>Intel Core i5</td>\n      <td>0</td>\n      <td>0</td>\n      <td>0</td>\n      <td>128</td>\n    </tr>\n    <tr>\n      <th>2</th>\n      <td>HP</td>\n      <td>Notebook</td>\n      <td>8</td>\n      <td>Intel HD Graphics 620</td>\n      <td>No OS</td>\n      <td>1.86</td>\n      <td>30636.0000</td>\n      <td>0</td>\n      <td>0</td>\n      <td>141.211998</td>\n      <td>Intel Core i5</td>\n      <td>0</td>\n      <td>256</td>\n      <td>0</td>\n      <td>0</td>\n    </tr>\n    <tr>\n      <th>3</th>\n      <td>Apple</td>\n      <td>Ultrabook</td>\n      <td>16</td>\n      <td>AMD Radeon Pro 455</td>\n      <td>macOS</td>\n      <td>1.83</td>\n      <td>135195.3360</td>\n      <td>0</td>\n      <td>1</td>\n      <td>220.534624</td>\n      <td>Intel Core i7</td>\n      <td>0</td>\n      <td>512</td>\n      <td>0</td>\n      <td>0</td>\n    </tr>\n    <tr>\n      <th>4</th>\n      <td>Apple</td>\n      <td>Ultrabook</td>\n      <td>8</td>\n      <td>Intel Iris Plus Graphics 650</td>\n      <td>macOS</td>\n      <td>1.37</td>\n      <td>96095.8080</td>\n      <td>0</td>\n      <td>1</td>\n      <td>226.983005</td>\n      <td>Intel Core i5</td>\n      <td>0</td>\n      <td>256</td>\n      <td>0</td>\n      <td>0</td>\n    </tr>\n  </tbody>\n</table>\n</div>"
     },
     "execution_count": 4204,
     "metadata": {},
     "output_type": "execute_result"
    }
   ],
   "source": [
    "df.head()"
   ],
   "metadata": {
    "collapsed": false,
    "pycharm": {
     "name": "#%%\n"
    }
   }
  },
  {
   "cell_type": "code",
   "execution_count": 4205,
   "outputs": [
    {
     "data": {
      "text/plain": "Ram              0.743007\nWeight           0.210370\nPrice            1.000000\nTouchscreen      0.191226\nIps              0.252208\nppi              0.473487\nHDD             -0.096441\nSSD              0.670799\nHybrid           0.007989\nFlash_Storage   -0.040511\nName: Price, dtype: float64"
     },
     "execution_count": 4205,
     "metadata": {},
     "output_type": "execute_result"
    }
   ],
   "source": [
    "df.corr()['Price']"
   ],
   "metadata": {
    "collapsed": false,
    "pycharm": {
     "name": "#%%\n"
    }
   }
  },
  {
   "cell_type": "code",
   "execution_count": 4206,
   "outputs": [],
   "source": [
    "df.drop(columns=['Hybrid','Flash_Storage'],inplace=True)"
   ],
   "metadata": {
    "collapsed": false,
    "pycharm": {
     "name": "#%%\n"
    }
   }
  },
  {
   "cell_type": "code",
   "execution_count": 4207,
   "outputs": [
    {
     "data": {
      "text/plain": "  Company   TypeName  Ram                           Gpu  OpSys  Weight  \\\n0   Apple  Ultrabook    8  Intel Iris Plus Graphics 640  macOS    1.37   \n1   Apple  Ultrabook    8        Intel HD Graphics 6000  macOS    1.34   \n2      HP   Notebook    8         Intel HD Graphics 620  No OS    1.86   \n3   Apple  Ultrabook   16            AMD Radeon Pro 455  macOS    1.83   \n4   Apple  Ultrabook    8  Intel Iris Plus Graphics 650  macOS    1.37   \n\n         Price  Touchscreen  Ips         ppi      Cpu brand  HDD  SSD  \n0   71378.6832            0    1  226.983005  Intel Core i5    0  128  \n1   47895.5232            0    0  127.677940  Intel Core i5    0    0  \n2   30636.0000            0    0  141.211998  Intel Core i5    0  256  \n3  135195.3360            0    1  220.534624  Intel Core i7    0  512  \n4   96095.8080            0    1  226.983005  Intel Core i5    0  256  ",
      "text/html": "<div>\n<style scoped>\n    .dataframe tbody tr th:only-of-type {\n        vertical-align: middle;\n    }\n\n    .dataframe tbody tr th {\n        vertical-align: top;\n    }\n\n    .dataframe thead th {\n        text-align: right;\n    }\n</style>\n<table border=\"1\" class=\"dataframe\">\n  <thead>\n    <tr style=\"text-align: right;\">\n      <th></th>\n      <th>Company</th>\n      <th>TypeName</th>\n      <th>Ram</th>\n      <th>Gpu</th>\n      <th>OpSys</th>\n      <th>Weight</th>\n      <th>Price</th>\n      <th>Touchscreen</th>\n      <th>Ips</th>\n      <th>ppi</th>\n      <th>Cpu brand</th>\n      <th>HDD</th>\n      <th>SSD</th>\n    </tr>\n  </thead>\n  <tbody>\n    <tr>\n      <th>0</th>\n      <td>Apple</td>\n      <td>Ultrabook</td>\n      <td>8</td>\n      <td>Intel Iris Plus Graphics 640</td>\n      <td>macOS</td>\n      <td>1.37</td>\n      <td>71378.6832</td>\n      <td>0</td>\n      <td>1</td>\n      <td>226.983005</td>\n      <td>Intel Core i5</td>\n      <td>0</td>\n      <td>128</td>\n    </tr>\n    <tr>\n      <th>1</th>\n      <td>Apple</td>\n      <td>Ultrabook</td>\n      <td>8</td>\n      <td>Intel HD Graphics 6000</td>\n      <td>macOS</td>\n      <td>1.34</td>\n      <td>47895.5232</td>\n      <td>0</td>\n      <td>0</td>\n      <td>127.677940</td>\n      <td>Intel Core i5</td>\n      <td>0</td>\n      <td>0</td>\n    </tr>\n    <tr>\n      <th>2</th>\n      <td>HP</td>\n      <td>Notebook</td>\n      <td>8</td>\n      <td>Intel HD Graphics 620</td>\n      <td>No OS</td>\n      <td>1.86</td>\n      <td>30636.0000</td>\n      <td>0</td>\n      <td>0</td>\n      <td>141.211998</td>\n      <td>Intel Core i5</td>\n      <td>0</td>\n      <td>256</td>\n    </tr>\n    <tr>\n      <th>3</th>\n      <td>Apple</td>\n      <td>Ultrabook</td>\n      <td>16</td>\n      <td>AMD Radeon Pro 455</td>\n      <td>macOS</td>\n      <td>1.83</td>\n      <td>135195.3360</td>\n      <td>0</td>\n      <td>1</td>\n      <td>220.534624</td>\n      <td>Intel Core i7</td>\n      <td>0</td>\n      <td>512</td>\n    </tr>\n    <tr>\n      <th>4</th>\n      <td>Apple</td>\n      <td>Ultrabook</td>\n      <td>8</td>\n      <td>Intel Iris Plus Graphics 650</td>\n      <td>macOS</td>\n      <td>1.37</td>\n      <td>96095.8080</td>\n      <td>0</td>\n      <td>1</td>\n      <td>226.983005</td>\n      <td>Intel Core i5</td>\n      <td>0</td>\n      <td>256</td>\n    </tr>\n  </tbody>\n</table>\n</div>"
     },
     "execution_count": 4207,
     "metadata": {},
     "output_type": "execute_result"
    }
   ],
   "source": [
    "df.head()"
   ],
   "metadata": {
    "collapsed": false,
    "pycharm": {
     "name": "#%%\n"
    }
   }
  },
  {
   "cell_type": "code",
   "execution_count": 4208,
   "outputs": [
    {
     "data": {
      "text/plain": "Intel HD Graphics 620      281\nIntel HD Graphics 520      185\nIntel UHD Graphics 620      68\nNvidia GeForce GTX 1050     66\nNvidia GeForce GTX 1060     48\n                          ... \nAMD Radeon R5 430            1\nAMD Radeon R7 M465           1\nAMD R17M-M1-70               1\nIntel HD Graphics 530        1\nIntel Iris Graphics 550      1\nName: Gpu, Length: 110, dtype: int64"
     },
     "execution_count": 4208,
     "metadata": {},
     "output_type": "execute_result"
    }
   ],
   "source": [
    "df['Gpu'].value_counts()"
   ],
   "metadata": {
    "collapsed": false,
    "pycharm": {
     "name": "#%%\n"
    }
   }
  },
  {
   "cell_type": "markdown",
   "source": [
    "#### Extracting Brand Name from GPU"
   ],
   "metadata": {
    "collapsed": false,
    "pycharm": {
     "name": "#%% md\n"
    }
   }
  },
  {
   "cell_type": "code",
   "execution_count": 4209,
   "outputs": [
    {
     "data": {
      "text/plain": "  Company   TypeName  Ram                           Gpu  OpSys  Weight  \\\n0   Apple  Ultrabook    8  Intel Iris Plus Graphics 640  macOS    1.37   \n1   Apple  Ultrabook    8        Intel HD Graphics 6000  macOS    1.34   \n2      HP   Notebook    8         Intel HD Graphics 620  No OS    1.86   \n3   Apple  Ultrabook   16            AMD Radeon Pro 455  macOS    1.83   \n4   Apple  Ultrabook    8  Intel Iris Plus Graphics 650  macOS    1.37   \n\n         Price  Touchscreen  Ips         ppi      Cpu brand  HDD  SSD  \\\n0   71378.6832            0    1  226.983005  Intel Core i5    0  128   \n1   47895.5232            0    0  127.677940  Intel Core i5    0    0   \n2   30636.0000            0    0  141.211998  Intel Core i5    0  256   \n3  135195.3360            0    1  220.534624  Intel Core i7    0  512   \n4   96095.8080            0    1  226.983005  Intel Core i5    0  256   \n\n  Gpu brand  \n0     Intel  \n1     Intel  \n2     Intel  \n3       AMD  \n4     Intel  ",
      "text/html": "<div>\n<style scoped>\n    .dataframe tbody tr th:only-of-type {\n        vertical-align: middle;\n    }\n\n    .dataframe tbody tr th {\n        vertical-align: top;\n    }\n\n    .dataframe thead th {\n        text-align: right;\n    }\n</style>\n<table border=\"1\" class=\"dataframe\">\n  <thead>\n    <tr style=\"text-align: right;\">\n      <th></th>\n      <th>Company</th>\n      <th>TypeName</th>\n      <th>Ram</th>\n      <th>Gpu</th>\n      <th>OpSys</th>\n      <th>Weight</th>\n      <th>Price</th>\n      <th>Touchscreen</th>\n      <th>Ips</th>\n      <th>ppi</th>\n      <th>Cpu brand</th>\n      <th>HDD</th>\n      <th>SSD</th>\n      <th>Gpu brand</th>\n    </tr>\n  </thead>\n  <tbody>\n    <tr>\n      <th>0</th>\n      <td>Apple</td>\n      <td>Ultrabook</td>\n      <td>8</td>\n      <td>Intel Iris Plus Graphics 640</td>\n      <td>macOS</td>\n      <td>1.37</td>\n      <td>71378.6832</td>\n      <td>0</td>\n      <td>1</td>\n      <td>226.983005</td>\n      <td>Intel Core i5</td>\n      <td>0</td>\n      <td>128</td>\n      <td>Intel</td>\n    </tr>\n    <tr>\n      <th>1</th>\n      <td>Apple</td>\n      <td>Ultrabook</td>\n      <td>8</td>\n      <td>Intel HD Graphics 6000</td>\n      <td>macOS</td>\n      <td>1.34</td>\n      <td>47895.5232</td>\n      <td>0</td>\n      <td>0</td>\n      <td>127.677940</td>\n      <td>Intel Core i5</td>\n      <td>0</td>\n      <td>0</td>\n      <td>Intel</td>\n    </tr>\n    <tr>\n      <th>2</th>\n      <td>HP</td>\n      <td>Notebook</td>\n      <td>8</td>\n      <td>Intel HD Graphics 620</td>\n      <td>No OS</td>\n      <td>1.86</td>\n      <td>30636.0000</td>\n      <td>0</td>\n      <td>0</td>\n      <td>141.211998</td>\n      <td>Intel Core i5</td>\n      <td>0</td>\n      <td>256</td>\n      <td>Intel</td>\n    </tr>\n    <tr>\n      <th>3</th>\n      <td>Apple</td>\n      <td>Ultrabook</td>\n      <td>16</td>\n      <td>AMD Radeon Pro 455</td>\n      <td>macOS</td>\n      <td>1.83</td>\n      <td>135195.3360</td>\n      <td>0</td>\n      <td>1</td>\n      <td>220.534624</td>\n      <td>Intel Core i7</td>\n      <td>0</td>\n      <td>512</td>\n      <td>AMD</td>\n    </tr>\n    <tr>\n      <th>4</th>\n      <td>Apple</td>\n      <td>Ultrabook</td>\n      <td>8</td>\n      <td>Intel Iris Plus Graphics 650</td>\n      <td>macOS</td>\n      <td>1.37</td>\n      <td>96095.8080</td>\n      <td>0</td>\n      <td>1</td>\n      <td>226.983005</td>\n      <td>Intel Core i5</td>\n      <td>0</td>\n      <td>256</td>\n      <td>Intel</td>\n    </tr>\n  </tbody>\n</table>\n</div>"
     },
     "execution_count": 4209,
     "metadata": {},
     "output_type": "execute_result"
    }
   ],
   "source": [
    "df['Gpu brand'] = df['Gpu'].apply(lambda x:x.split()[0])\n",
    "df.head()"
   ],
   "metadata": {
    "collapsed": false,
    "pycharm": {
     "name": "#%%\n"
    }
   }
  },
  {
   "cell_type": "code",
   "execution_count": 4210,
   "outputs": [
    {
     "data": {
      "text/plain": "Intel     722\nNvidia    400\nAMD       180\nARM         1\nName: Gpu brand, dtype: int64"
     },
     "execution_count": 4210,
     "metadata": {},
     "output_type": "execute_result"
    }
   ],
   "source": [
    "df['Gpu brand'].value_counts()"
   ],
   "metadata": {
    "collapsed": false,
    "pycharm": {
     "name": "#%%\n"
    }
   }
  },
  {
   "cell_type": "code",
   "execution_count": 4211,
   "outputs": [],
   "source": [
    "df = df[df['Gpu brand'] != 'ARM']"
   ],
   "metadata": {
    "collapsed": false,
    "pycharm": {
     "name": "#%%\n"
    }
   }
  },
  {
   "cell_type": "code",
   "execution_count": 4212,
   "outputs": [
    {
     "data": {
      "text/plain": "Intel     722\nNvidia    400\nAMD       180\nName: Gpu brand, dtype: int64"
     },
     "execution_count": 4212,
     "metadata": {},
     "output_type": "execute_result"
    }
   ],
   "source": [
    "df['Gpu brand'].value_counts()"
   ],
   "metadata": {
    "collapsed": false,
    "pycharm": {
     "name": "#%%\n"
    }
   }
  },
  {
   "cell_type": "code",
   "execution_count": 4213,
   "outputs": [
    {
     "data": {
      "text/plain": "<Figure size 432x288 with 1 Axes>",
      "image/png": "[encoded data removed]"
     },
     "metadata": {},
     "output_type": "display_data"
    }
   ],
   "source": [
    "sns.barplot(x=df['Gpu brand'],y=df['Price'],estimator=np.median, palette=sns.color_palette(\"husl\", 3))\n",
    "plt.xlabel('GPU Brand', fontsize=12,fontweight='bold')\n",
    "plt.ylabel('Price', fontsize=12,fontweight='bold')\n",
    "plt.title('GPU Price distribution', fontsize=14)\n",
    "plt.show(\"png\")"
   ],
   "metadata": {
    "collapsed": false,
    "pycharm": {
     "name": "#%%\n"
    }
   }
  },
  {
   "cell_type": "code",
   "execution_count": 4214,
   "outputs": [],
   "source": [
    "df.drop(columns=['Gpu'],inplace=True)"
   ],
   "metadata": {
    "collapsed": false,
    "pycharm": {
     "name": "#%%\n"
    }
   }
  },
  {
   "cell_type": "code",
   "execution_count": 4215,
   "outputs": [
    {
     "data": {
      "text/plain": "  Company   TypeName  Ram  OpSys  Weight        Price  Touchscreen  Ips  \\\n0   Apple  Ultrabook    8  macOS    1.37   71378.6832            0    1   \n1   Apple  Ultrabook    8  macOS    1.34   47895.5232            0    0   \n2      HP   Notebook    8  No OS    1.86   30636.0000            0    0   \n3   Apple  Ultrabook   16  macOS    1.83  135195.3360            0    1   \n4   Apple  Ultrabook    8  macOS    1.37   96095.8080            0    1   \n\n          ppi      Cpu brand  HDD  SSD Gpu brand  \n0  226.983005  Intel Core i5    0  128     Intel  \n1  127.677940  Intel Core i5    0    0     Intel  \n2  141.211998  Intel Core i5    0  256     Intel  \n3  220.534624  Intel Core i7    0  512       AMD  \n4  226.983005  Intel Core i5    0  256     Intel  ",
      "text/html": "<div>\n<style scoped>\n    .dataframe tbody tr th:only-of-type {\n        vertical-align: middle;\n    }\n\n    .dataframe tbody tr th {\n        vertical-align: top;\n    }\n\n    .dataframe thead th {\n        text-align: right;\n    }\n</style>\n<table border=\"1\" class=\"dataframe\">\n  <thead>\n    <tr style=\"text-align: right;\">\n      <th></th>\n      <th>Company</th>\n      <th>TypeName</th>\n      <th>Ram</th>\n      <th>OpSys</th>\n      <th>Weight</th>\n      <th>Price</th>\n      <th>Touchscreen</th>\n      <th>Ips</th>\n      <th>ppi</th>\n      <th>Cpu brand</th>\n      <th>HDD</th>\n      <th>SSD</th>\n      <th>Gpu brand</th>\n    </tr>\n  </thead>\n  <tbody>\n    <tr>\n      <th>0</th>\n      <td>Apple</td>\n      <td>Ultrabook</td>\n      <td>8</td>\n      <td>macOS</td>\n      <td>1.37</td>\n      <td>71378.6832</td>\n      <td>0</td>\n      <td>1</td>\n      <td>226.983005</td>\n      <td>Intel Core i5</td>\n      <td>0</td>\n      <td>128</td>\n      <td>Intel</td>\n    </tr>\n    <tr>\n      <th>1</th>\n      <td>Apple</td>\n      <td>Ultrabook</td>\n      <td>8</td>\n      <td>macOS</td>\n      <td>1.34</td>\n      <td>47895.5232</td>\n      <td>0</td>\n      <td>0</td>\n      <td>127.677940</td>\n      <td>Intel Core i5</td>\n      <td>0</td>\n      <td>0</td>\n      <td>Intel</td>\n    </tr>\n    <tr>\n      <th>2</th>\n      <td>HP</td>\n      <td>Notebook</td>\n      <td>8</td>\n      <td>No OS</td>\n      <td>1.86</td>\n      <td>30636.0000</td>\n      <td>0</td>\n      <td>0</td>\n      <td>141.211998</td>\n      <td>Intel Core i5</td>\n      <td>0</td>\n      <td>256</td>\n      <td>Intel</td>\n    </tr>\n    <tr>\n      <th>3</th>\n      <td>Apple</td>\n      <td>Ultrabook</td>\n      <td>16</td>\n      <td>macOS</td>\n      <td>1.83</td>\n      <td>135195.3360</td>\n      <td>0</td>\n      <td>1</td>\n      <td>220.534624</td>\n      <td>Intel Core i7</td>\n      <td>0</td>\n      <td>512</td>\n      <td>AMD</td>\n    </tr>\n    <tr>\n      <th>4</th>\n      <td>Apple</td>\n      <td>Ultrabook</td>\n      <td>8</td>\n      <td>macOS</td>\n      <td>1.37</td>\n      <td>96095.8080</td>\n      <td>0</td>\n      <td>1</td>\n      <td>226.983005</td>\n      <td>Intel Core i5</td>\n      <td>0</td>\n      <td>256</td>\n      <td>Intel</td>\n    </tr>\n  </tbody>\n</table>\n</div>"
     },
     "execution_count": 4215,
     "metadata": {},
     "output_type": "execute_result"
    }
   ],
   "source": [
    "df.head()"
   ],
   "metadata": {
    "collapsed": false,
    "pycharm": {
     "name": "#%%\n"
    }
   }
  },
  {
   "cell_type": "code",
   "execution_count": 4216,
   "outputs": [
    {
     "data": {
      "text/plain": "Windows 10      1072\nNo OS             66\nLinux             62\nWindows 7         45\nChrome OS         26\nmacOS             13\nMac OS X           8\nWindows 10 S       8\nAndroid            2\nName: OpSys, dtype: int64"
     },
     "execution_count": 4216,
     "metadata": {},
     "output_type": "execute_result"
    }
   ],
   "source": [
    "df['OpSys'].value_counts()"
   ],
   "metadata": {
    "collapsed": false,
    "pycharm": {
     "name": "#%%\n"
    }
   }
  },
  {
   "cell_type": "code",
   "execution_count": 4217,
   "outputs": [
    {
     "data": {
      "text/plain": "<Figure size 432x288 with 1 Axes>",
      "image/png": "[encoded data removed]"
     },
     "metadata": {},
     "output_type": "display_data"
    }
   ],
   "source": [
    "sns.barplot(x=df['OpSys'],y=df['Price'])\n",
    "plt.xticks(rotation='vertical')\n",
    "plt.title('OpSys Price distribution', fontsize=14)\n",
    "plt.xlabel('Operating System', fontsize=12,fontweight='bold')\n",
    "plt.ylabel('Price', fontsize=12,fontweight='bold')\n",
    "plt.show(\"png\")"
   ],
   "metadata": {
    "collapsed": false,
    "pycharm": {
     "name": "#%%\n"
    }
   }
  },
  {
   "cell_type": "markdown",
   "source": [
    "#### function to summarizing OS"
   ],
   "metadata": {
    "collapsed": false,
    "pycharm": {
     "name": "#%% md\n"
    }
   }
  },
  {
   "cell_type": "code",
   "execution_count": 4218,
   "outputs": [],
   "source": [
    "def cat_os(inp):\n",
    "    if inp == 'Windows 10' or inp == 'Windows 7' or inp == 'Windows 10 S':\n",
    "        return 'Windows'\n",
    "    elif inp == 'macOS' or inp == 'Mac OS X':\n",
    "        return 'Mac'\n",
    "    else:\n",
    "        return 'Others/No OS/Linux'"
   ],
   "metadata": {
    "collapsed": false,
    "pycharm": {
     "name": "#%%\n"
    }
   }
  },
  {
   "cell_type": "code",
   "execution_count": 4219,
   "outputs": [],
   "source": [
    "df['os'] = df['OpSys'].apply(cat_os)"
   ],
   "metadata": {
    "collapsed": false,
    "pycharm": {
     "name": "#%%\n"
    }
   }
  },
  {
   "cell_type": "code",
   "execution_count": 4220,
   "outputs": [
    {
     "data": {
      "text/plain": "  Company   TypeName  Ram  OpSys  Weight        Price  Touchscreen  Ips  \\\n0   Apple  Ultrabook    8  macOS    1.37   71378.6832            0    1   \n1   Apple  Ultrabook    8  macOS    1.34   47895.5232            0    0   \n2      HP   Notebook    8  No OS    1.86   30636.0000            0    0   \n3   Apple  Ultrabook   16  macOS    1.83  135195.3360            0    1   \n4   Apple  Ultrabook    8  macOS    1.37   96095.8080            0    1   \n\n          ppi      Cpu brand  HDD  SSD Gpu brand                  os  \n0  226.983005  Intel Core i5    0  128     Intel                 Mac  \n1  127.677940  Intel Core i5    0    0     Intel                 Mac  \n2  141.211998  Intel Core i5    0  256     Intel  Others/No OS/Linux  \n3  220.534624  Intel Core i7    0  512       AMD                 Mac  \n4  226.983005  Intel Core i5    0  256     Intel                 Mac  ",
      "text/html": "<div>\n<style scoped>\n    .dataframe tbody tr th:only-of-type {\n        vertical-align: middle;\n    }\n\n    .dataframe tbody tr th {\n        vertical-align: top;\n    }\n\n    .dataframe thead th {\n        text-align: right;\n    }\n</style>\n<table border=\"1\" class=\"dataframe\">\n  <thead>\n    <tr style=\"text-align: right;\">\n      <th></th>\n      <th>Company</th>\n      <th>TypeName</th>\n      <th>Ram</th>\n      <th>OpSys</th>\n      <th>Weight</th>\n      <th>Price</th>\n      <th>Touchscreen</th>\n      <th>Ips</th>\n      <th>ppi</th>\n      <th>Cpu brand</th>\n      <th>HDD</th>\n      <th>SSD</th>\n      <th>Gpu brand</th>\n      <th>os</th>\n    </tr>\n  </thead>\n  <tbody>\n    <tr>\n      <th>0</th>\n      <td>Apple</td>\n      <td>Ultrabook</td>\n      <td>8</td>\n      <td>macOS</td>\n      <td>1.37</td>\n      <td>71378.6832</td>\n      <td>0</td>\n      <td>1</td>\n      <td>226.983005</td>\n      <td>Intel Core i5</td>\n      <td>0</td>\n      <td>128</td>\n      <td>Intel</td>\n      <td>Mac</td>\n    </tr>\n    <tr>\n      <th>1</th>\n      <td>Apple</td>\n      <td>Ultrabook</td>\n      <td>8</td>\n      <td>macOS</td>\n      <td>1.34</td>\n      <td>47895.5232</td>\n      <td>0</td>\n      <td>0</td>\n      <td>127.677940</td>\n      <td>Intel Core i5</td>\n      <td>0</td>\n      <td>0</td>\n      <td>Intel</td>\n      <td>Mac</td>\n    </tr>\n    <tr>\n      <th>2</th>\n      <td>HP</td>\n      <td>Notebook</td>\n      <td>8</td>\n      <td>No OS</td>\n      <td>1.86</td>\n      <td>30636.0000</td>\n      <td>0</td>\n      <td>0</td>\n      <td>141.211998</td>\n      <td>Intel Core i5</td>\n      <td>0</td>\n      <td>256</td>\n      <td>Intel</td>\n      <td>Others/No OS/Linux</td>\n    </tr>\n    <tr>\n      <th>3</th>\n      <td>Apple</td>\n      <td>Ultrabook</td>\n      <td>16</td>\n      <td>macOS</td>\n      <td>1.83</td>\n      <td>135195.3360</td>\n      <td>0</td>\n      <td>1</td>\n      <td>220.534624</td>\n      <td>Intel Core i7</td>\n      <td>0</td>\n      <td>512</td>\n      <td>AMD</td>\n      <td>Mac</td>\n    </tr>\n    <tr>\n      <th>4</th>\n      <td>Apple</td>\n      <td>Ultrabook</td>\n      <td>8</td>\n      <td>macOS</td>\n      <td>1.37</td>\n      <td>96095.8080</td>\n      <td>0</td>\n      <td>1</td>\n      <td>226.983005</td>\n      <td>Intel Core i5</td>\n      <td>0</td>\n      <td>256</td>\n      <td>Intel</td>\n      <td>Mac</td>\n    </tr>\n  </tbody>\n</table>\n</div>"
     },
     "execution_count": 4220,
     "metadata": {},
     "output_type": "execute_result"
    }
   ],
   "source": [
    "df.head()"
   ],
   "metadata": {
    "collapsed": false,
    "pycharm": {
     "name": "#%%\n"
    }
   }
  },
  {
   "cell_type": "code",
   "execution_count": 4221,
   "outputs": [],
   "source": [
    "df.drop(columns=['OpSys'],inplace=True)"
   ],
   "metadata": {
    "collapsed": false,
    "pycharm": {
     "name": "#%%\n"
    }
   }
  },
  {
   "cell_type": "code",
   "execution_count": 4222,
   "outputs": [
    {
     "data": {
      "text/plain": "<Figure size 432x288 with 1 Axes>",
      "image/png": "[encoded data removed]"
     },
     "metadata": {},
     "output_type": "display_data"
    }
   ],
   "source": [
    "sns.barplot(x=df['os'],y=df['Price'])\n",
    "plt.xticks(rotation='vertical')\n",
    "plt.xlabel('Operating System', fontsize=12,fontweight='bold')\n",
    "plt.ylabel('Price', fontsize=12,fontweight='bold')\n",
    "plt.title('OpSys Price distribution', fontsize=14)\n",
    "plt.show(\"png\")"
   ],
   "metadata": {
    "collapsed": false,
    "pycharm": {
     "name": "#%%\n"
    }
   }
  },
  {
   "cell_type": "code",
   "execution_count": 4223,
   "outputs": [
    {
     "data": {
      "text/plain": "<Figure size 576x360 with 1 Axes>",
      "image/png": "[encoded data removed]"
     },
     "metadata": {},
     "output_type": "display_data"
    }
   ],
   "source": [
    "import matplotlib.pyplot as plt\n",
    "import seaborn as sns\n",
    "\n",
    "plt.figure(figsize=(8, 5))\n",
    "sns.set(style=\"whitegrid\")\n",
    "ax = sns.histplot(data=df, x='Weight', kde=True, color='blue')\n",
    "ax.lines[0].set_color('crimson')\n",
    "plt.xlabel('Weight', fontsize=12, fontweight='bold')\n",
    "plt.ylabel('Frequency', fontsize=12, fontweight='bold')\n",
    "plt.title('Quantifying Laptops Based on Weight', fontsize=14)\n",
    "\n",
    "sns.despine()\n",
    "plt.tight_layout()\n",
    "plt.show(\"png\")"
   ],
   "metadata": {
    "collapsed": false,
    "pycharm": {
     "name": "#%%\n"
    }
   }
  },
  {
   "cell_type": "code",
   "execution_count": 4224,
   "outputs": [
    {
     "data": {
      "application/vnd.plotly.v1+json": {
       "data": [
        {
         "hovertemplate": "Weight=%{x}<br>Price=%{y}<extra></extra>",
         "legendgroup": "",
         "marker": {
          "color": "blue",
          "symbol": "circle",
          "opacity": 0.7,
          "size": 9
         },
         "mode": "markers",
         "name": "",
         "showlegend": false,
         "x": [
          1.3700000047683716,
          1.340000033378601,
          1.8600000143051147,
          1.8300000429153442,
          1.3700000047683716,
          2.0999999046325684,
          2.0399999618530273,
          1.340000033378601,
          1.2999999523162842,
          1.600000023841858,
          1.8600000143051147,
          1.8600000143051147,
          1.8300000429153442,
          2.200000047683716,
          0.9200000166893005,
          1.3700000047683716,
          2.200000047683716,
          1.8300000429153442,
          2.200000047683716,
          1.2200000286102295,
          0.9800000190734863,
          2.5,
          1.8600000143051147,
          1.6200000047683716,
          1.909999966621399,
          2.299999952316284,
          1.350000023841858,
          2.200000047683716,
          1.8799999952316284,
          2.5,
          1.8899999856948853,
          1.649999976158142,
          2.7100000381469727,
          1.2000000476837158,
          1.350000023841858,
          1.440000057220459,
          2.0999999046325684,
          2.799999952316284,
          1.8600000143051147,
          2.0999999046325684,
          2.0,
          2.6500000953674316,
          2.299999952316284,
          2.200000047683716,
          2.7699999809265137,
          1.3700000047683716,
          2.200000047683716,
          3.200000047683716,
          2.299999952316284,
          2.799999952316284,
          0.6899999976158142,
          2.200000047683716,
          1.8600000143051147,
          1.4900000095367432,
          2.4000000953674316,
          2.130000114440918,
          1.909999966621399,
          2.0,
          2.430000066757202,
          2.0,
          2.799999952316284,
          1.7000000476837158,
          1.7000000476837158,
          1.399999976158142,
          1.8600000143051147,
          1.7999999523162842,
          1.8600000143051147,
          1.440000057220459,
          1.899999976158142,
          3.0,
          1.2519999742507935,
          1.399999976158142,
          2.200000047683716,
          2.700000047683716,
          2.0999999046325684,
          2.200000047683716,
          2.200000047683716,
          2.0199999809265137,
          2.200000047683716,
          2.5,
          1.8799999952316284,
          0.9200000166893005,
          1.6299999952316284,
          2.200000047683716,
          2.0999999046325684,
          2.6500000953674316,
          1.8300000429153442,
          1.9600000381469727,
          2.200000047683716,
          1.2100000381469727,
          2.450000047683716,
          2.200000047683716,
          1.4900000095367432,
          2.6500000953674316,
          1.25,
          1.5,
          2.200000047683716,
          2.200000047683716,
          2.0,
          2.619999885559082,
          1.909999966621399,
          2.0999999046325684,
          2.200000047683716,
          1.3799999952316284,
          1.2519999742507935,
          1.5800000429153442,
          1.850000023841858,
          1.2999999523162842,
          2.200000047683716,
          1.5800000429153442,
          1.5,
          1.2300000190734863,
          1.3700000047683716,
          1.6299999952316284,
          1.2100000381469727,
          1.2599999904632568,
          1.6299999952316284,
          2.1600000858306885,
          2.0,
          1.7000000476837158,
          2.0999999046325684,
          1.7999999523162842,
          2.200000047683716,
          2.5,
          2.0999999046325684,
          1.8600000143051147,
          1.6299999952316284,
          1.649999976158142,
          2.799999952316284,
          2.5,
          2.359999895095825,
          2.200000047683716,
          1.600000023841858,
          2.200000047683716,
          2.049999952316284,
          1.6299999952316284,
          1.899999976158142,
          3.0,
          2.200000047683716,
          1.3200000524520874,
          3.0,
          1.75,
          2.4000000953674316,
          2.0999999046325684,
          1.8600000143051147,
          1.25,
          0.9700000286102295,
          2.0,
          2.9000000953674316,
          2.0999999046325684,
          2.559999942779541,
          2.619999885559082,
          1.899999976158142,
          2.799999952316284,
          1.4800000190734863,
          1.909999966621399,
          1.7400000095367432,
          1.100000023841858,
          1.559999942779541,
          2.0999999046325684,
          2.0299999713897705,
          3.0,
          2.130000114440918,
          2.5,
          2.0999999046325684,
          2.4000000953674316,
          2.0999999046325684,
          2.559999942779541,
          3.0,
          1.4900000095367432,
          1.0499999523162842,
          2.7100000381469727,
          2.200000047683716,
          2.0,
          2.5,
          2.299999952316284,
          2.0999999046325684,
          4.400000095367432,
          1.899999976158142,
          1.2899999618530273,
          2.0199999809265137,
          1.2300000190734863,
          1.399999976158142,
          2.0,
          1.9500000476837158,
          2.7699999809265137,
          2.059999942779541,
          2.4000000953674316,
          1.1200000047683716,
          2.799999952316284,
          1.4199999570846558,
          1.2999999523162842,
          1.2999999523162842,
          2.799999952316284,
          1.6200000047683716,
          2.5,
          3.490000009536743,
          1.4900000095367432,
          3.3499999046325684,
          2.5,
          2.6500000953674316,
          2.0999999046325684,
          2.2300000190734863,
          3.200000047683716,
          2.799999952316284,
          2.4000000953674316,
          2.299999952316284,
          1.2100000381469727,
          1.2000000476837158,
          2.200000047683716,
          2.4000000953674316,
          2.9000000953674316,
          2.0999999046325684,
          2.200000047683716,
          1.0499999523162842,
          1.399999976158142,
          2.799999952316284,
          1.6299999952316284,
          1.600000023841858,
          1.6200000047683716,
          2.200000047683716,
          1.7400000095367432,
          1.2000000476837158,
          2.0999999046325684,
          4.420000076293945,
          2.200000047683716,
          2.299999952316284,
          2.0,
          2.690000057220459,
          1.899999976158142,
          2.369999885559082,
          2.0999999046325684,
          3.200000047683716,
          1.600000023841858,
          1.600000023841858,
          2.359999895095825,
          2.0999999046325684,
          2.200000047683716,
          4.699999809265137,
          2.5,
          2.200000047683716,
          2.0999999046325684,
          2.690000057220459,
          2.559999942779541,
          1.3799999952316284,
          2.200000047683716,
          2.0399999618530273,
          3.5999999046325684,
          1.4900000095367432,
          1.3700000047683716,
          2.0799999237060547,
          4.300000190734863,
          1.6799999475479126,
          1.3700000047683716,
          3.0,
          1.409999966621399,
          1.909999966621399,
          2.9000000953674316,
          4.139999866485596,
          2.0,
          2.799999952316284,
          2.200000047683716,
          2.0999999046325684,
          2.180000066757202,
          2.240000009536743,
          2.6700000762939453,
          1.100000023841858,
          2.200000047683716,
          2.5,
          2.049999952316284,
          1.3700000047683716,
          3.200000047683716,
          2.140000104904175,
          1.3600000143051147,
          2.200000047683716,
          2.299999952316284,
          2.799999952316284,
          2.200000047683716,
          2.799999952316284,
          2.799999952316284,
          2.799999952316284,
          2.25,
          2.5,
          2.200000047683716,
          3.0,
          2.1500000953674316,
          1.9500000476837158,
          1.7000000476837158,
          2.5,
          2.200000047683716,
          2.190000057220459,
          3.0,
          2.5399999618530273,
          2.0,
          2.049999952316284,
          3.200000047683716,
          2.5,
          3.4200000762939453,
          2.4000000953674316,
          1.6299999952316284,
          1.2999999523162842,
          2.9000000953674316,
          2.799999952316284,
          2.200000047683716,
          2.5,
          2.200000047683716,
          1.2799999713897705,
          2.200000047683716,
          2.299999952316284,
          1.8600000143051147,
          1.100000023841858,
          1.2100000381469727,
          2.799999952316284,
          2.2300000190734863,
          1.100000023841858,
          2.3299999237060547,
          1.2899999618530273,
          1.4500000476837158,
          1.9500000476837158,
          1.399999976158142,
          1.4800000190734863,
          2.7899999618530273,
          2.0,
          2.0999999046325684,
          2.200000047683716,
          1.440000057220459,
          2.2300000190734863,
          1.7000000476837158,
          1.2599999904632568,
          2.059999942779541,
          2.700000047683716,
          2.0,
          2.0,
          1.850000023841858,
          2.5,
          1.4800000190734863,
          1.899999976158142,
          1.840000033378601,
          2.0,
          2.0,
          2.200000047683716,
          2.200000047683716,
          2.0999999046325684,
          1.399999976158142,
          1.2000000476837158,
          2.4000000953674316,
          1.440000057220459,
          1.8799999952316284,
          1.5,
          1.899999976158142,
          2.059999942779541,
          1.840000033378601,
          2.700000047683716,
          2.5999999046325684,
          2.4000000953674316,
          2.0199999809265137,
          2.200000047683716,
          2.6500000953674316,
          2.359999895095825,
          1.3600000143051147,
          1.8600000143051147,
          2.0,
          2.799999952316284,
          1.8600000143051147,
          2.200000047683716,
          2.0399999618530273,
          2.799999952316284,
          2.4000000953674316,
          2.3299999237060547,
          1.3600000143051147,
          2.259999990463257,
          2.0999999046325684,
          3.25,
          2.5999999046325684,
          1.6200000047683716,
          1.909999966621399,
          1.590000033378601,
          1.7999999523162842,
          1.5,
          2.4000000953674316,
          3.3499999046325684,
          1.850000023841858,
          2.299999952316284,
          1.5,
          1.100000023841858,
          1.1299999952316284,
          1.5,
          2.2300000190734863,
          2.0,
          1.4199999570846558,
          3.0,
          3.0,
          2.200000047683716,
          2.700000047683716,
          2.3299999237060547,
          1.909999966621399,
          2.0999999046325684,
          1.899999976158142,
          1.7799999713897705,
          1.1299999952316284,
          2.200000047683716,
          2.9000000953674316,
          2.0999999046325684,
          2.5,
          2.799999952316284,
          1.100000023841858,
          1.2000000476837158,
          1.3600000143051147,
          2.200000047683716,
          1.149999976158142,
          2.6700000762939453,
          1.7000000476837158,
          2.0999999046325684,
          1.600000023841858,
          1.2699999809265137,
          2.299999952316284,
          1.649999976158142,
          1.4299999475479126,
          2.140000104904175,
          1.75,
          2.0,
          1.399999976158142,
          2.309999942779541,
          2.299999952316284,
          4.420000076293945,
          2.619999885559082,
          2.0199999809265137,
          1.600000023841858,
          3.3499999046325684,
          1.159999966621399,
          1.149999976158142,
          1.399999976158142,
          1.7000000476837158,
          2.299999952316284,
          2.5,
          3.200000047683716,
          2.0999999046325684,
          1.100000023841858,
          1.3200000524520874,
          2.0,
          2.799999952316284,
          2.200000047683716,
          1.3600000143051147,
          2.200000047683716,
          2.200000047683716,
          1.6399999856948853,
          2.4000000953674316,
          2.2300000190734863,
          2.200000047683716,
          1.25,
          1.909999966621399,
          2.1700000762939453,
          2.309999942779541,
          1.649999976158142,
          2.359999895095825,
          1.4700000286102295,
          4.420000076293945,
          1.2519999742507935,
          1.25,
          2.5,
          2.2300000190734863,
          1.399999976158142,
          2.369999885559082,
          1.5,
          2.6700000762939453,
          2.0,
          2.200000047683716,
          2.0199999809265137,
          3.7799999713897705,
          1.399999976158142,
          1.2899999618530273,
          1.899999976158142,
          1.100000023841858,
          1.4199999570846558,
          2.059999942779541,
          1.7899999618530273,
          1.7799999713897705,
          1.7000000476837158,
          2.200000047683716,
          1.0499999523162842,
          2.1600000858306885,
          2.180000066757202,
          1.4900000095367432,
          1.8899999856948853,
          2.299999952316284,
          1.75,
          2.1700000762939453,
          2.059999942779541,
          1.3600000143051147,
          0.9100000262260437,
          2.299999952316284,
          1.0499999523162842,
          1.9900000095367432,
          2.200000047683716,
          4.329999923706055,
          1.2999999523162842,
          2.1700000762939453,
          1.4800000190734863,
          1.399999976158142,
          2.299999952316284,
          1.2000000476837158,
          1.909999966621399,
          1.399999976158142,
          2.0999999046325684,
          1.25,
          1.440000057220459,
          2.0,
          2.200000047683716,
          1.340000033378601,
          2.4000000953674316,
          1.2899999618530273,
          2.200000047683716,
          2.180000066757202,
          2.200000047683716,
          1.9500000476837158,
          1.100000023841858,
          2.0399999618530273,
          2.240000009536743,
          2.0399999618530273,
          3.0,
          3.200000047683716,
          1.3200000524520874,
          1.6399999856948853,
          1.6299999952316284,
          2.799999952316284,
          2.0199999809265137,
          2.200000047683716,
          2.200000047683716,
          2.299999952316284,
          1.899999976158142,
          4.420000076293945,
          2.0,
          2.0,
          1.2000000476837158,
          2.299999952316284,
          1.9299999475479126,
          2.200000047683716,
          1.8600000143051147,
          2.619999885559082,
          1.8700000047683716,
          1.2000000476837158,
          1.600000023841858,
          1.340000033378601,
          2.4000000953674316,
          2.0,
          2.0999999046325684,
          1.8700000047683716,
          2.1500000953674316,
          1.8600000143051147,
          1.9900000095367432,
          2.200000047683716,
          1.899999976158142,
          4.420000076293945,
          2.6500000953674316,
          2.630000114440918,
          2.0,
          1.350000023841858,
          2.799999952316284,
          1.909999966621399,
          2.180000066757202,
          1.25,
          2.049999952316284,
          1.159999966621399,
          3.4000000953674316,
          2.5,
          1.2100000381469727,
          1.9299999475479126,
          2.200000047683716,
          2.200000047683716,
          2.0199999809265137,
          3.140000104904175,
          1.940000057220459,
          1.9500000476837158,
          2.299999952316284,
          2.049999952316284,
          1.399999976158142,
          1.2400000095367432,
          4.599999904632568,
          4.139999866485596,
          2.200000047683716,
          1.4500000476837158,
          1.899999976158142,
          1.4900000095367432,
          1.9299999475479126,
          1.2599999904632568,
          4.5,
          3.7799999713897705,
          1.399999976158142,
          2.200000047683716,
          2.7300000190734863,
          2.200000047683716,
          2.200000047683716,
          1.3899999856948853,
          2.5,
          2.799999952316284,
          2.2899999618530273,
          1.3700000047683716,
          1.7000000476837158,
          1.340000033378601,
          2.059999942779541,
          1.840000033378601,
          2.0999999046325684,
          1.600000023841858,
          4.139999866485596,
          2.180000066757202,
          1.7999999523162842,
          2.200000047683716,
          2.4000000953674316,
          2.0,
          1.600000023841858,
          2.5,
          2.5899999141693115,
          2.180000066757202,
          2.25,
          1.9299999475479126,
          3.0,
          2.180000066757202,
          1.840000033378601,
          2.940000057220459,
          1.25,
          2.309999942779541,
          1.649999976158142,
          2.200000047683716,
          2.200000047683716,
          1.8799999952316284,
          2.200000047683716,
          1.399999976158142,
          2.200000047683716,
          1.5,
          2.0,
          1.100000023841858,
          2.619999885559082,
          1.7999999523162842,
          2.200000047683716,
          2.0,
          1.9900000095367432,
          1.2300000190734863,
          1.4199999570846558,
          1.3700000047683716,
          2.059999942779541,
          2.5,
          2.5999999046325684,
          1.1399999856948853,
          2.5,
          2.4000000953674316,
          1.4299999475479126,
          1.7999999523162842,
          1.9500000476837158,
          1.2000000476837158,
          1.3600000143051147,
          3.799999952316284,
          2.4000000953674316,
          1.2000000476837158,
          2.200000047683716,
          1.8600000143051147,
          2.0,
          2.200000047683716,
          2.200000047683716,
          3.309999942779541,
          4.420000076293945,
          1.559999942779541,
          2.200000047683716,
          2.200000047683716,
          2.0399999618530273,
          2.700000047683716,
          2.0999999046325684,
          2.059999942779541,
          2.0999999046325684,
          2.0,
          2.0999999046325684,
          1.2519999742507935,
          1.899999976158142,
          1.2999999523162842,
          2.200000047683716,
          1.6299999952316284,
          2.4000000953674316,
          1.100000023841858,
          1.399999976158142,
          1.090000033378601,
          2.5,
          2.200000047683716,
          1.8600000143051147,
          3.2100000381469727,
          2.5,
          1.190000057220459,
          3.490000009536743,
          1.8600000143051147,
          2.200000047683716,
          2.6500000953674316,
          2.0999999046325684,
          1.4500000476837158,
          1.7000000476837158,
          3.140000104904175,
          1.4199999570846558,
          1.5,
          1.399999976158142,
          1.3799999952316284,
          1.2000000476837158,
          1.3600000143051147,
          2.0999999046325684,
          2.559999942779541,
          2.200000047683716,
          2.200000047683716,
          2.0999999046325684,
          1.899999976158142,
          2.180000066757202,
          1.600000023841858,
          2.180000066757202,
          1.7999999523162842,
          2.7100000381469727,
          2.5,
          1.6399999856948853,
          1.9800000190734863,
          1.5,
          1.9299999475479126,
          1.8700000047683716,
          1.899999976158142,
          2.190000057220459,
          1.399999976158142,
          2.630000114440918,
          1.1699999570846558,
          1.5800000429153442,
          1.3200000524520874,
          4.360000133514404,
          2.700000047683716,
          1.899999976158142,
          2.200000047683716,
          1.7100000381469727,
          2.319999933242798,
          2.0999999046325684,
          4.199999809265137,
          2.25,
          2.0999999046325684,
          2.4000000953674316,
          1.440000057220459,
          1.850000023841858,
          2.5999999046325684,
          1.5499999523162842,
          1.7999999523162842,
          2.4000000953674316,
          2.0,
          2.0,
          1.25,
          1.7000000476837158,
          2.5,
          1.6799999475479126,
          0.8100000023841858,
          1.8600000143051147,
          1.600000023841858,
          3.0,
          1.399999976158142,
          1.840000033378601,
          2.450000047683716,
          1.7000000476837158,
          2.369999885559082,
          1.2999999523162842,
          2.200000047683716,
          2.5899999141693115,
          4.420000076293945,
          2.0999999046325684,
          2.5,
          1.1799999475479126,
          1.100000023841858,
          1.2000000476837158,
          1.649999976158142,
          1.600000023841858,
          2.799999952316284,
          2.7200000286102295,
          1.309999942779541,
          2.0999999046325684,
          2.299999952316284,
          1.7100000381469727,
          1.75,
          2.619999885559082,
          1.2599999904632568,
          2.299999952316284,
          2.5,
          1.7999999523162842,
          1.9500000476837158,
          2.0,
          4.420000076293945,
          4.300000190734863,
          1.4700000286102295,
          2.200000047683716,
          1.7000000476837158,
          1.600000023841858,
          2.200000047683716,
          2.4000000953674316,
          4.199999809265137,
          2.619999885559082,
          2.240000009536743,
          1.2200000286102295,
          1.3700000047683716,
          2.0799999237060547,
          0.9200000166893005,
          1.4199999570846558,
          1.6299999952316284,
          1.9500000476837158,
          1.3799999952316284,
          2.0,
          3.140000104904175,
          2.369999885559082,
          1.2899999618530273,
          2.059999942779541,
          1.6299999952316284,
          1.2599999904632568,
          2.0999999046325684,
          2.0399999618530273,
          2.619999885559082,
          2.4000000953674316,
          3.740000009536743,
          2.9000000953674316,
          0.8100000023841858,
          1.9800000190734863,
          2.180000066757202,
          1.3200000524520874,
          1.2899999618530273,
          1.2300000190734863,
          4.360000133514404,
          1.7599999904632568,
          2.0999999046325684,
          1.25,
          1.1299999952316284,
          2.4000000953674316,
          1.1299999952316284,
          1.75,
          1.100000023841858,
          1.7599999904632568,
          1.350000023841858,
          1.5,
          3.490000009536743,
          1.100000023841858,
          2.0999999046325684,
          1.7000000476837158,
          1.3200000524520874,
          3.2100000381469727,
          2.9000000953674316,
          2.0,
          1.5,
          2.299999952316284,
          2.7300000190734863,
          4.420000076293945,
          2.630000114440918,
          2.180000066757202,
          1.5399999618530273,
          2.180000066757202,
          1.399999976158142,
          1.4500000476837158,
          1.2799999713897705,
          1.5399999618530273,
          1.8600000143051147,
          2.0999999046325684,
          2.8299999237060547,
          1.9600000381469727,
          2.299999952316284,
          1.899999976158142,
          2.0,
          1.2799999713897705,
          1.6200000047683716,
          2.200000047683716,
          2.299999952316284,
          1.840000033378601,
          1.0499999523162842,
          2.5,
          1.2899999618530273,
          2.069999933242798,
          1.2000000476837158,
          1.3700000047683716,
          1.559999942779541,
          2.2300000190734863,
          2.380000114440918,
          2.200000047683716,
          2.0,
          1.440000057220459,
          1.2300000190734863,
          1.600000023841858,
          2.0,
          1.2799999713897705,
          2.180000066757202,
          2.0399999618530273,
          1.2799999713897705,
          2.299999952316284,
          1.649999976158142,
          2.200000047683716,
          2.200000047683716,
          1.2799999713897705,
          2.180000066757202,
          2.200000047683716,
          1.25,
          2.799999952316284,
          1.9500000476837158,
          1.4199999570846558,
          1.1699999570846558,
          1.3200000524520874,
          2.430000066757202,
          1.0499999523162842,
          2.619999885559082,
          2.0399999618530273,
          2.180000066757202,
          1.899999976158142,
          1.2400000095367432,
          3.5799999237060547,
          1.2200000286102295,
          1.1299999952316284,
          1.9500000476837158,
          1.0800000429153442,
          1.2599999904632568,
          2.200000047683716,
          2.5999999046325684,
          0.9800000190734863,
          1.600000023841858,
          1.090000033378601,
          2.200000047683716,
          2.0399999618530273,
          2.4000000953674316,
          1.440000057220459,
          1.4900000095367432,
          2.700000047683716,
          2.5999999046325684,
          2.200000047683716,
          2.180000066757202,
          1.840000033378601,
          1.3899999856948853,
          2.4000000953674316,
          1.3700000047683716,
          1.9500000476837158,
          1.3600000143051147,
          2.309999942779541,
          2.180000066757202,
          1.9500000476837158,
          2.200000047683716,
          1.2599999904632568,
          1.8600000143051147,
          1.2999999523162842,
          1.4700000286102295,
          1.2599999904632568,
          2.180000066757202,
          2.200000047683716,
          1.3600000143051147,
          4.360000133514404,
          2.75,
          2.799999952316284,
          2.2300000190734863,
          2.200000047683716,
          1.100000023841858,
          2.5,
          1.3600000143051147,
          2.200000047683716,
          2.359999895095825,
          1.6799999475479126,
          2.0,
          1.3600000143051147,
          1.2000000476837158,
          1.2000000476837158,
          1.7000000476837158,
          4.360000133514404,
          1.2400000095367432,
          1.4500000476837158,
          1.2999999523162842,
          1.25,
          1.2000000476837158,
          1.3600000143051147,
          2.4000000953674316,
          1.100000023841858,
          2.0399999618530273,
          2.25,
          1.899999976158142,
          2.0399999618530273,
          4.420000076293945,
          2.4000000953674316,
          1.2200000286102295,
          1.5,
          4.420000076293945,
          1.9500000476837158,
          2.7300000190734863,
          2.0399999618530273,
          1.7000000476837158,
          2.299999952316284,
          2.0399999618530273,
          2.990000009536743,
          2.190000057220459,
          1.2000000476837158,
          2.200000047683716,
          2.299999952316284,
          1.75,
          2.25,
          2.0399999618530273,
          2.5,
          2.359999895095825,
          1.600000023841858,
          0.9700000286102295,
          2.0999999046325684,
          1.899999976158142,
          2.299999952316284,
          1.6799999475479126,
          1.399999976158142,
          1.1100000143051147,
          2.4000000953674316,
          2.5,
          1.4800000190734863,
          2.700000047683716,
          1.340000033378601,
          2.180000066757202,
          1.6399999856948853,
          1.2000000476837158,
          1.4800000190734863,
          1.9500000476837158,
          1.4299999475479126,
          1.6399999856948853,
          1.6399999856948853,
          2.6500000953674316,
          1.2599999904632568,
          1.4800000190734863,
          1.5399999618530273,
          1.4900000095367432,
          1.5,
          2.0399999618530273,
          2.4000000953674316,
          1.4700000286102295,
          1.4299999475479126,
          2.0799999237060547,
          1.2000000476837158,
          1.1100000143051147,
          1.6399999856948853,
          2.0899999141693115,
          1.2599999904632568,
          2.309999942779541,
          1.9500000476837158,
          1.2899999618530273,
          2.630000114440918,
          1.6399999856948853,
          2.0999999046325684,
          2.700000047683716,
          1.9500000476837158,
          1.840000033378601,
          1.2599999904632568,
          2.0399999618530273,
          1.4700000286102295,
          2.0899999141693115,
          1.6399999856948853,
          1.7999999523162842,
          1.4500000476837158,
          2.4000000953674316,
          2.299999952316284,
          1.5399999618530273,
          1.840000033378601,
          1.4299999475479126,
          3.7799999713897705,
          4.599999904632568,
          1.2000000476837158,
          1.100000023841858,
          1.909999966621399,
          2.299999952316284,
          2.0399999618530273,
          1.2000000476837158,
          2.309999942779541,
          1.9600000381469727,
          2.4000000953674316,
          1.600000023841858,
          2.940000057220459,
          2.0399999618530273,
          4.0,
          2.25,
          2.319999933242798,
          1.7999999523162842,
          1.2899999618530273,
          3.5799999237060547,
          1.6200000047683716,
          3.2100000381469727,
          0.9200000166893005,
          2.059999942779541,
          2.309999942779541,
          1.2599999904632568,
          1.4900000095367432,
          1.2999999523162842,
          3.0,
          2.299999952316284,
          3.7799999713897705,
          2.0999999046325684,
          2.309999942779541,
          0.9900000095367432,
          4.599999904632568,
          0.6899999976158142,
          1.2999999523162842,
          2.180000066757202,
          1.5399999618530273,
          1.899999976158142,
          1.7000000476837158,
          1.2899999618530273,
          2.4000000953674316,
          2.200000047683716,
          1.8600000143051147,
          2.700000047683716,
          1.399999976158142,
          2.4000000953674316,
          2.4000000953674316,
          2.359999895095825,
          2.5999999046325684,
          1.9600000381469727,
          4.300000190734863,
          1.5,
          1.5,
          2.200000047683716,
          3.0,
          2.4000000953674316,
          1.5,
          2.9000000953674316,
          2.0999999046325684,
          2.0999999046325684,
          2.5899999141693115,
          1.159999966621399,
          2.240000009536743,
          2.0999999046325684,
          1.159999966621399,
          0.6899999976158142,
          1.2300000190734863,
          4.599999904632568,
          1.25,
          1.0499999523162842,
          3.5199999809265137,
          1.350000023841858,
          1.159999966621399,
          1.4299999475479126,
          2.0899999141693115,
          2.0,
          1.7999999523162842,
          0.6899999976158142,
          1.2599999904632568,
          2.4000000953674316,
          3.3499999046325684,
          2.0399999618530273,
          1.7999999523162842,
          1.5,
          1.840000033378601,
          2.2300000190734863,
          2.5,
          3.0,
          2.5,
          3.7799999713897705,
          1.8799999952316284,
          2.799999952316284,
          2.4000000953674316,
          1.4800000190734863,
          2.5899999141693115,
          1.4800000190734863,
          2.0,
          1.2599999904632568,
          2.180000066757202,
          1.8799999952316284,
          1.2699999809265137,
          1.899999976158142,
          1.8600000143051147,
          2.319999933242798,
          2.619999885559082,
          2.0399999618530273,
          1.909999966621399,
          2.700000047683716,
          1.399999976158142,
          2.5,
          1.4800000190734863,
          1.7000000476837158,
          1.7000000476837158,
          2.619999885559082,
          2.200000047683716,
          2.0999999046325684,
          2.619999885559082,
          1.9500000476837158,
          2.200000047683716,
          1.440000057220459,
          2.200000047683716,
          1.9600000381469727,
          2.0999999046325684,
          2.200000047683716,
          2.0999999046325684,
          2.200000047683716,
          2.0,
          2.319999933242798,
          3.309999942779541,
          1.909999966621399,
          2.069999933242798,
          1.3600000143051147,
          1.5399999618530273,
          1.9800000190734863,
          2.0999999046325684,
          2.180000066757202,
          2.5910000801086426,
          2.0899999141693115,
          2.2300000190734863,
          1.2300000190734863,
          4.199999809265137,
          2.4000000953674316,
          1.8600000143051147,
          0.9200000166893005,
          1.600000023841858,
          2.2100000381469727,
          1.899999976158142,
          4.300000190734863,
          2.0999999046325684,
          2.430000066757202,
          2.299999952316284,
          2.200000047683716,
          2.0,
          1.2000000476837158,
          2.200000047683716,
          2.359999895095825,
          1.909999966621399,
          2.200000047683716,
          3.299999952316284,
          2.200000047683716,
          0.9200000166893005,
          2.200000047683716,
          2.430000066757202,
          2.190999984741211,
          2.9000000953674316,
          1.2999999523162842,
          3.299999952316284,
          2.799999952316284,
          2.5999999046325684,
          1.2000000476837158,
          2.299999952316284,
          2.200000047683716,
          2.0999999046325684,
          1.2599999904632568,
          2.0799999237060547,
          2.6500000953674316,
          1.2899999618530273,
          2.180000066757202,
          2.5999999046325684,
          2.200000047683716,
          1.2999999523162842,
          1.9500000476837158,
          2.299999952316284,
          2.700000047683716,
          1.0800000429153442,
          2.0999999046325684,
          1.5399999618530273,
          2.240000009536743,
          2.299999952316284,
          1.399999976158142,
          2.200000047683716,
          1.4500000476837158,
          2.4000000953674316,
          2.7699999809265137,
          1.5399999618530273,
          2.5,
          1.600000023841858,
          2.3399999141693115,
          2.299999952316284,
          1.2400000095367432,
          2.200000047683716,
          1.8600000143051147,
          2.4000000953674316,
          1.899999976158142,
          2.200000047683716,
          2.0,
          4.0,
          2.2899999618530273,
          2.319999933242798,
          2.4000000953674316,
          1.7999999523162842,
          1.2000000476837158,
          2.299999952316284,
          2.4000000953674316,
          2.200000047683716,
          2.5999999046325684,
          2.0399999618530273,
          2.299999952316284,
          1.1699999570846558,
          2.200000047683716,
          1.7999999523162842,
          1.2999999523162842,
          1.5,
          2.190000057220459,
          2.200000047683716,
          1.2000000476837158,
          2.299999952316284,
          2.4000000953674316,
          2.200000047683716,
          2.5999999046325684,
          2.0399999618530273,
          2.299999952316284,
          1.1699999570846558,
          2.200000047683716,
          1.7999999523162842,
          1.2999999523162842,
          1.5,
          2.190000057220459,
          2.200000047683716,
          1.2000000476837158,
          2.299999952316284,
          2.4000000953674316,
          2.200000047683716,
          2.5999999046325684,
          2.0399999618530273,
          2.299999952316284,
          1.1699999570846558,
          2.200000047683716,
          1.7999999523162842,
          1.2999999523162842,
          1.5,
          2.190000057220459,
          2.200000047683716
         ],
         "xaxis": "x",
         "y": [
          71378.6832,
          47895.5232,
          30636.0,
          135195.33599999998,
          96095.808,
          21312.0,
          114017.6016,
          61735.536,
          79653.59999999999,
          41025.6,
          20986.992,
          18381.0672,
          130001.6016,
          26581.392,
          67260.672,
          80908.344,
          39693.6,
          152274.24,
          26586.72,
          52161.12,
          10224.432,
          53226.72,
          13746.24,
          43636.32,
          35111.52,
          22305.1392,
          58554.72,
          42624.0,
          69157.44,
          47738.88,
          13053.0672,
          10602.72,
          23389.92,
          99580.32,
          53173.44,
          13266.72,
          19553.76,
          52161.12,
          26037.4032,
          46833.12,
          20725.92,
          79866.72,
          27864.9072,
          36336.96,
          53226.72,
          75604.31999999999,
          19660.32,
          69210.72,
          34045.92,
          24828.48,
          16996.32,
          44808.48,
          21231.5472,
          58767.84,
          20459.52,
          40908.384,
          23389.92,
          31232.203200000004,
          130482.72,
          22111.2,
          69210.72,
          46833.12,
          31914.72,
          50136.48,
          36763.2,
          105654.24,
          23373.4032,
          12201.12,
          29250.72,
          50562.72,
          58021.92,
          50882.4,
          46353.6,
          58341.6,
          20725.92,
          50562.72,
          27652.32,
          45554.4,
          28238.4,
          52054.56,
          58403.4048,
          80452.8,
          45820.8,
          21258.72,
          21045.6,
          71874.72,
          37242.72,
          31914.1872,
          77202.72,
          87858.72,
          37242.72,
          36709.92,
          63776.16,
          63669.6,
          55890.72,
          45128.16,
          31962.672,
          25840.8,
          30742.56,
          66546.72,
          38308.32,
          18594.72,
          34472.16,
          59620.32,
          71395.2,
          35111.52,
          22105.872,
          63563.04,
          69210.72,
          78854.4,
          67239.36,
          73473.12,
          74538.72,
          38468.16,
          86793.12,
          74538.1872,
          57755.52,
          60223.98239999999,
          30049.92,
          59567.04,
          25521.12,
          119427.12,
          33513.119999999995,
          67718.88,
          24029.28,
          13799.52,
          43263.36,
          14811.3072,
          74378.87999999999,
          49443.84,
          34045.3872,
          23922.72,
          47099.52,
          30476.16,
          31861.44,
          52640.64,
          13445.7408,
          49976.64,
          26586.72,
          37242.72,
          34898.4,
          59461.5456,
          46300.32,
          32074.56,
          19660.32,
          58554.72,
          107305.92,
          18328.32,
          108105.12,
          23816.16,
          66560.5728,
          47898.72,
          26533.44,
          100699.2,
          57648.96,
          32980.32,
          33513.119999999995,
          70063.2,
          55890.72,
          23816.16,
          21471.84,
          42890.4,
          38787.84,
          57489.12,
          18541.44,
          95850.72,
          19367.8128,
          56502.9072,
          45501.12,
          40173.12,
          71874.72,
          37242.72,
          16463.52,
          26053.92,
          49177.44,
          24455.52,
          23922.72,
          149130.72,
          43316.64,
          79866.72,
          55890.72,
          74538.72,
          98514.72,
          42251.04,
          63882.72,
          82530.72,
          127712.16,
          41505.12,
          52693.92,
          57808.8,
          150462.72,
          13852.8,
          53274.67199999999,
          37189.44,
          44701.92,
          48697.92,
          324954.72,
          51095.52,
          73473.12,
          55677.6,
          98301.6,
          26267.04,
          39533.76,
          93186.72,
          162770.4,
          74485.44,
          23389.92,
          103842.72,
          77202.72,
          31808.16,
          41505.12,
          74964.95999999999,
          18594.72,
          29250.72,
          79866.72,
          49650.5664,
          31381.92,
          54931.68,
          61218.72,
          68145.12,
          36089.208,
          47898.72,
          72620.64,
          42304.32,
          130873.7952,
          44328.96,
          45768.0528,
          40972.32,
          47472.48,
          67612.31999999999,
          21258.1872,
          17582.399999999998,
          79866.72,
          45767.52,
          36709.92,
          47898.72,
          20779.2,
          30636.0,
          207259.2,
          45074.88,
          31381.92,
          61005.6,
          47365.92,
          46833.12,
          57489.12,
          52480.8,
          29783.52,
          159786.72,
          35964.0,
          108691.2,
          43636.32,
          95850.72,
          24988.32,
          98514.72,
          37402.56,
          50562.72,
          23757.552,
          56423.52,
          133146.72,
          90522.72,
          60845.76,
          23656.32,
          38468.16,
          35004.96,
          30103.2,
          42570.72,
          79866.72,
          24881.76,
          54239.04,
          46886.4,
          104370.192,
          82530.72,
          39164.5296,
          133146.72,
          43263.36,
          37992.3696,
          58554.72,
          39693.6,
          26053.92,
          45234.72,
          45767.52,
          22803.84,
          44169.12,
          30849.12,
          50669.28,
          35111.52,
          58448.16,
          52054.56,
          62817.12,
          35112.0528,
          10602.72,
          63243.36,
          26053.92,
          97449.12,
          39373.92,
          69210.72,
          52161.12,
          153705.3408,
          26586.72,
          78215.04,
          27119.52,
          113060.16,
          34578.72,
          29250.72,
          67399.2,
          19180.2672,
          105228.0,
          55571.04,
          43636.32,
          24988.32,
          53226.72,
          133146.72,
          111834.72,
          24988.32,
          14652.0,
          44968.32,
          130482.72,
          24503.472,
          52214.4,
          25840.8,
          68837.76,
          31381.92,
          58288.32,
          48058.56,
          35111.52,
          15557.76,
          29250.72,
          55938.672,
          71128.8,
          140605.91999999998,
          63882.72,
          50243.04,
          71075.52,
          23922.72,
          53226.72,
          67559.04,
          55890.72,
          60952.32,
          14651.4672,
          60885.72,
          14646.672,
          47898.72,
          38148.48,
          111834.72,
          84129.12,
          60153.12,
          14865.12,
          85672.1088,
          19980.0,
          35324.64,
          108020.9376,
          69477.12,
          75071.52,
          92615.0256,
          74751.84,
          51729.55199999999,
          17155.627200000003,
          53226.72,
          29696.6736,
          76030.56,
          23389.92,
          50349.6,
          38308.32,
          34045.92,
          26586.72,
          20725.92,
          57808.8,
          43103.52,
          47898.72,
          93240.0,
          58554.72,
          22697.28,
          117162.72,
          26053.92,
          46300.85279999999,
          26053.3872,
          29463.84,
          16463.52,
          15238.08,
          45074.88,
          63456.48,
          21498.48,
          88178.4,
          58554.72,
          93181.392,
          121584.96,
          29250.72,
          72940.31999999999,
          113752.8,
          133679.52,
          55357.92,
          84768.48,
          36975.7872,
          71874.72,
          41498.1936,
          26586.72,
          65510.9568,
          49976.64,
          144495.36,
          139860.0,
          16303.68,
          81465.12,
          60978.96,
          46833.12,
          119826.72,
          99793.44,
          93080.16,
          89510.4,
          21791.52,
          16221.096,
          102564.0,
          103523.04,
          24988.32,
          42038.4528,
          49443.84,
          31909.392,
          36709.92,
          79920.0,
          28768.536,
          64755.44640000001,
          101178.72,
          23922.72,
          76030.56,
          31808.16,
          149130.72,
          61751.52,
          60867.072,
          58554.72,
          106506.72,
          15930.72,
          14332.32,
          53812.8,
          31914.72,
          130269.6,
          130482.72,
          90309.6,
          18488.16,
          117162.72,
          126912.96,
          29783.52,
          27652.32,
          39906.72,
          76137.12,
          18594.72,
          58554.72,
          62817.12,
          23539.104,
          106187.04,
          54757.9872,
          137941.91999999998,
          31381.92,
          105228.0,
          81731.52,
          71661.59999999999,
          52161.12,
          25521.12,
          109010.88,
          52693.92,
          95850.72,
          34093.872,
          28984.32,
          23176.8,
          39906.72,
          42570.72,
          111355.2,
          16197.12,
          24988.32,
          40439.52,
          90522.72,
          98994.24,
          106506.72,
          61485.12,
          67932.0,
          98133.768,
          69210.72,
          39427.2,
          128298.24,
          72673.92,
          35964.0,
          89084.16,
          67239.36,
          31254.048,
          38681.28,
          13261.392000000002,
          30103.2,
          55890.72,
          124568.64,
          101178.72,
          95797.44,
          103896.0,
          53918.82719999999,
          149130.72,
          71928.0,
          30849.12,
          67612.31999999999,
          58554.72,
          47893.39199999999,
          93186.72,
          50562.72,
          48538.08,
          18115.2,
          32979.7872,
          85194.72,
          15930.72,
          14119.2,
          50562.72,
          65214.72,
          32660.64,
          70489.44,
          61218.72,
          47898.72,
          34045.92,
          44542.08,
          64961.10719999999,
          74589.336,
          13053.6,
          27783.9216,
          158135.04,
          47365.92,
          80133.12,
          74538.72,
          74538.72,
          68184.0144,
          36709.92,
          47365.92,
          71395.2,
          42570.72,
          24455.52,
          31168.8,
          73366.56,
          160520.3856,
          45820.8,
          69210.72,
          19660.32,
          87858.72,
          72940.31999999999,
          42486.0048,
          21258.1872,
          95850.72,
          45767.52,
          74538.72,
          39207.1536,
          61005.6,
          42517.44,
          18594.72,
          37589.04,
          41824.8,
          24634.008,
          21152.16,
          92121.12,
          26586.72,
          59513.2272,
          143802.72,
          28992.312,
          68198.4,
          11934.72,
          13586.4,
          50562.72,
          30310.992,
          32921.712,
          18594.72,
          33566.4,
          104695.2,
          159786.72,
          44701.92,
          85194.72,
          51095.52,
          39373.92,
          18328.32,
          52747.2,
          99153.5472,
          20725.92,
          34578.72,
          44222.4,
          36496.8,
          13266.72,
          99367.2,
          141884.63999999998,
          145401.12,
          39907.2528,
          20725.92,
          53733.94559999999,
          38308.32,
          81912.13919999999,
          15717.6,
          125154.72,
          79813.44,
          89137.44,
          32447.52,
          94305.6,
          39373.92,
          50562.72,
          32127.84,
          90522.72,
          28185.12,
          24455.52,
          107892.0,
          78534.72,
          88977.59999999999,
          93932.64,
          64948.32,
          35616.6144,
          17529.12,
          117162.72,
          24775.2,
          122490.72,
          74538.72,
          30049.92,
          69210.72,
          18594.72,
          261018.72,
          46833.6528,
          23650.992,
          19127.52,
          46300.32,
          62231.04,
          30316.32,
          74005.92,
          120831.5808,
          20193.12,
          59886.72,
          78055.2,
          41345.28,
          42570.72,
          49656.96,
          47898.72,
          12733.92,
          24935.04,
          34046.4528,
          96969.6,
          101232.0,
          78801.12,
          44169.12,
          30849.12,
          21258.72,
          48304.7136,
          99580.32,
          13266.72,
          93635.3376,
          127818.72,
          59087.52,
          27753.552,
          130536.0,
          62284.32,
          23976.0,
          14598.72,
          48964.32,
          138474.72,
          64628.64,
          84395.52,
          149130.72,
          37775.52,
          77250.672,
          63499.10399999999,
          19441.872,
          56689.92,
          48964.32,
          60472.8,
          63722.88,
          167691.8736,
          65481.12,
          22324.32,
          28504.8,
          28717.92,
          79215.1056,
          26533.44,
          50882.4,
          39693.6,
          67026.23999999999,
          21951.36,
          99519.048,
          43580.376,
          55091.52,
          18594.72,
          37242.72,
          68944.31999999999,
          60472.8,
          26373.6,
          122490.72,
          69210.72,
          53168.112,
          22324.32,
          109277.28,
          37242.72,
          79866.72,
          149916.6,
          32639.8608,
          29073.297599999994,
          30316.32,
          16943.04,
          19980.0,
          37242.72,
          101657.7072,
          137995.19999999998,
          51841.44,
          14332.32,
          93186.72,
          35644.32,
          100006.56,
          36709.92,
          43636.32,
          21258.72,
          22857.12,
          33110.856,
          23976.0,
          42357.6,
          53226.72,
          98834.4,
          63456.48,
          34898.932799999995,
          66546.72,
          58021.92,
          38681.28,
          15877.44,
          76012.44480000001,
          45664.6896,
          62817.12,
          15877.44,
          14119.2,
          63936.0,
          89864.1792,
          44574.048,
          79866.72,
          194972.832,
          71847.0144,
          26101.872,
          38308.32,
          34578.72,
          31409.6256,
          26053.92,
          103096.8,
          34578.72,
          34632.0,
          29783.52,
          51148.8,
          41505.12,
          128884.32,
          35111.52,
          111593.8944,
          21887.424,
          64308.96,
          35431.2,
          81784.8,
          53226.72,
          175770.72,
          17582.399999999998,
          87858.72,
          28717.92,
          60031.1088,
          233845.92,
          25308.0,
          101232.0,
          30849.12,
          58394.88,
          45282.672,
          63882.72,
          58554.72,
          83170.08,
          152859.7872,
          31914.72,
          55837.44,
          99047.52,
          83063.52,
          60153.12,
          45234.72,
          34898.4,
          25059.715199999995,
          58554.72,
          85194.72,
          15877.44,
          62938.0656,
          95850.72,
          54345.6,
          58554.72,
          66280.31999999999,
          44701.92,
          126273.6,
          33886.08,
          154458.72,
          31003.632,
          191211.264,
          125208.0,
          93985.92,
          17529.12,
          122490.72,
          100752.48,
          58021.92,
          53226.72,
          122490.72,
          52480.8,
          71341.92,
          10810.512,
          104961.6,
          51095.52,
          62071.2,
          124142.4,
          15930.72,
          43156.8,
          71874.72,
          39373.92,
          110017.872,
          58554.72,
          79866.72,
          93186.72,
          39640.32,
          74005.92,
          41558.4,
          33513.119999999995,
          89457.12,
          32447.52,
          93186.72,
          128671.2,
          79866.72,
          51202.08,
          42081.0768,
          99047.52,
          95850.72,
          20512.8,
          133467.4656,
          40226.4,
          26101.872,
          58075.2,
          133146.72,
          63882.72,
          99900.0,
          26586.72,
          72354.23999999999,
          31168.8,
          18914.4,
          32980.32,
          292986.72,
          111834.72,
          27652.32,
          63190.08,
          87912.0,
          147832.28639999998,
          128884.32,
          35644.32,
          17316.0,
          31435.2,
          95850.72,
          163723.57919999998,
          48484.8,
          38041.3872,
          99633.6,
          39373.92,
          32767.2,
          54665.28,
          121318.56,
          78215.04,
          15930.72,
          101178.72,
          46087.2,
          101391.84,
          41931.36,
          50349.6,
          23922.72,
          136343.52,
          34578.72,
          24988.32,
          45323.1648,
          71874.72,
          68464.8,
          54185.76,
          119347.2,
          48484.8,
          58341.6,
          103896.0,
          48058.56,
          94731.84,
          56210.4,
          25521.12,
          73952.64,
          39160.8,
          98514.72,
          90043.2,
          21258.1872,
          49816.8,
          48618.0,
          44701.92,
          90576.0,
          36486.14399999999,
          18541.44,
          35644.32,
          19660.32,
          95850.72,
          24279.696,
          72988.272,
          15824.16,
          20193.12,
          67399.2,
          74538.72,
          90522.72,
          95850.72,
          141138.72,
          78588.0,
          49497.12,
          47952.0,
          32713.92,
          49816.8,
          107257.968,
          68145.12,
          87858.72,
          109170.72,
          104588.1072,
          111834.72,
          79014.23999999999,
          19127.52,
          42037.92,
          101178.72,
          64202.4,
          165168.0,
          42037.92,
          54291.78719999999,
          26586.72,
          46939.68,
          51148.8,
          85194.72,
          71874.72,
          59668.804800000005,
          36496.2672,
          69103.62719999999,
          61218.72,
          105228.0,
          97236.0,
          38889.072,
          87912.0,
          62071.2,
          37725.4368,
          61218.72,
          16463.52,
          84129.12,
          15392.592,
          95850.72,
          58874.4,
          88924.31999999999,
          29762.208,
          63882.72,
          87325.92,
          146946.24,
          74538.72,
          28238.4,
          32980.32,
          59620.32,
          69210.72,
          53226.72,
          78438.816,
          36496.8,
          35111.52,
          18594.72,
          119826.72,
          94572.0,
          77788.8,
          61751.52,
          79333.3872,
          168045.12,
          101178.72,
          41292.0,
          67559.04,
          20725.92,
          81784.8,
          93772.8,
          53759.52,
          95371.2,
          45101.52,
          24808.2336,
          43956.0,
          36496.8,
          167778.72,
          37029.6,
          101178.72,
          104587.57439999998,
          149184.0,
          62870.4,
          109218.672,
          52161.12,
          53386.56,
          95850.72,
          30849.12,
          93186.72,
          69210.72,
          63669.6,
          29250.72,
          34578.72,
          48751.2,
          31914.72,
          42943.68,
          63349.92,
          39906.72,
          59620.32,
          101658.24,
          26586.72,
          14418.6336,
          71874.72,
          47365.92,
          61272.0,
          71874.72,
          20246.4,
          95850.72,
          111301.92,
          67132.8,
          63349.92,
          29144.16,
          41505.12,
          63669.6,
          58607.46719999999,
          64202.4,
          77202.72,
          55904.5728,
          36443.52,
          50562.72,
          81997.92,
          84715.2,
          100550.5488,
          42624.0,
          64468.8,
          41025.0672,
          158135.04,
          79387.2,
          118761.12,
          42410.3472,
          84715.2,
          61218.72,
          63159.7104,
          55754.3232,
          83063.52,
          63349.92,
          56476.8,
          86526.72,
          57542.4,
          51841.44,
          21791.52,
          63499.10399999999,
          63669.6,
          65480.5872,
          71874.72,
          39533.76,
          91908.0,
          56633.976,
          53839.9728,
          45128.16,
          11231.424,
          75924.0,
          55922.688,
          53280.0,
          112065.9552,
          78268.31999999999,
          82351.6992,
          122010.66719999998,
          15339.311999999998,
          139593.6,
          52161.12,
          58288.32,
          52161.12,
          120093.12,
          37570.392,
          26586.72,
          23922.72,
          69210.72,
          96916.32,
          57009.6,
          53173.44,
          29783.52,
          52746.6672,
          102777.12,
          77682.23999999999,
          211788.0,
          42517.9728,
          70809.12,
          69264.0,
          25679.8944,
          63882.72,
          63882.72,
          58075.2,
          91294.7472,
          35111.52,
          52054.56,
          133146.72,
          28771.2,
          50083.2,
          74538.72,
          172627.19999999998,
          34433.2656,
          109170.72,
          39960.0,
          54931.14719999999,
          79653.59999999999,
          63882.72,
          32767.2,
          20619.36,
          20965.1472,
          18434.3472,
          85194.72,
          43601.688,
          85194.72,
          42570.72,
          34035.264,
          85194.72,
          26640.0,
          122490.72,
          60480.792,
          62176.1616,
          11135.52,
          154458.72,
          63882.72,
          75289.968,
          80516.20319999999,
          46193.76,
          21205.44,
          71341.92,
          90522.72,
          40980.312,
          22857.12,
          104908.32,
          29250.72,
          73473.12,
          146519.46719999998,
          54825.12,
          118601.28,
          69929.4672,
          10442.88,
          90043.2,
          80612.64,
          27899.0064,
          23176.8,
          88924.31999999999,
          25521.12,
          100965.6,
          52693.92,
          60153.12,
          33513.119999999995,
          109244.2464,
          14811.84,
          40066.56,
          32820.48,
          58554.72,
          210424.032,
          41771.52,
          127818.72,
          115709.2416,
          130003.2,
          60888.384,
          86793.12,
          118761.12,
          95850.72,
          101178.72,
          122381.49599999998,
          53807.472,
          84129.12,
          124621.92,
          18061.92,
          15824.16,
          31914.72,
          63882.72,
          119916.2304,
          25515.2592,
          79536.38399999999,
          122490.72,
          42010.7472,
          108744.48,
          79866.72,
          94252.32,
          47898.72,
          24455.52,
          25414.0272,
          79813.44,
          74059.2,
          24935.04,
          13266.72,
          44701.92,
          36177.12,
          61751.52,
          19660.32,
          21205.44,
          37775.52,
          40972.32,
          43956.0,
          69530.4,
          114731.5536,
          34632.0,
          87219.36,
          44275.68,
          47686.1328,
          17742.239999999998,
          42570.72,
          48431.52,
          62817.12,
          36816.48,
          58554.72,
          138474.72,
          43636.32,
          25840.8,
          61964.64,
          63882.72,
          70702.56,
          19607.04,
          114552.0,
          14492.16,
          109165.392,
          26586.72,
          33513.119999999995,
          68464.8,
          142790.4,
          62284.32,
          47365.92,
          30849.12,
          15930.72,
          33513.119999999995,
          130482.72,
          68145.12,
          93186.72,
          103842.1872,
          53226.72,
          103842.72,
          9270.72,
          31861.44,
          28717.92,
          67772.16,
          61218.72,
          81465.12,
          78647.1408,
          28185.12,
          91288.3536,
          27119.52,
          16463.52,
          78694.56,
          27804.7008,
          54825.12,
          61218.72,
          87912.0,
          186426.72,
          24988.8528,
          85141.44,
          51095.52,
          25467.84,
          117119.5632,
          39267.36,
          62284.32,
          79866.72,
          31838.5296,
          68198.4,
          19276.704,
          95850.72,
          58607.46719999999,
          85248.0,
          46620.0,
          123876.0,
          30529.44,
          96596.64,
          17262.72,
          21258.72,
          30316.32,
          57116.16,
          23655.7872,
          18061.92,
          101232.0,
          26107.2,
          47685.6,
          65481.12,
          44382.7728,
          38841.12,
          24455.52,
          15397.92,
          20193.12,
          47898.72,
          29303.4672,
          42943.1472,
          11135.52,
          38378.6496,
          33992.64,
          79866.72,
          12201.12,
          40705.92,
          19660.32,
          38841.12,
          24455.52,
          15397.92,
          20193.12,
          47898.72,
          29303.4672,
          42943.1472,
          11135.52,
          38378.6496,
          33992.64,
          79866.72,
          12201.12,
          40705.92,
          19660.32,
          38841.12,
          24455.52,
          15397.92,
          20193.12,
          47898.72,
          29303.4672,
          42943.1472,
          11135.52,
          38378.6496,
          33992.64,
          79866.72,
          12201.12,
          40705.92,
          19660.32
         ],
         "yaxis": "y",
         "type": "scattergl"
        }
       ],
       "layout": {
        "template": {
         "data": {
          "histogram2dcontour": [
           {
            "type": "histogram2dcontour",
            "colorbar": {
             "outlinewidth": 0,
             "ticks": ""
            },
            "colorscale": [
             [
              0.0,
              "#0d0887"
             ],
             [
              0.1111111111111111,
              "#46039f"
             ],
             [
              0.2222222222222222,
              "#7201a8"
             ],
             [
              0.3333333333333333,
              "#9c179e"
             ],
             [
              0.4444444444444444,
              "#bd3786"
             ],
             [
              0.5555555555555556,
              "#d8576b"
             ],
             [
              0.6666666666666666,
              "#ed7953"
             ],
             [
              0.7777777777777778,
              "#fb9f3a"
             ],
             [
              0.8888888888888888,
              "#fdca26"
             ],
             [
              1.0,
              "#f0f921"
             ]
            ]
           }
          ],
          "choropleth": [
           {
            "type": "choropleth",
            "colorbar": {
             "outlinewidth": 0,
             "ticks": ""
            }
           }
          ],
          "histogram2d": [
           {
            "type": "histogram2d",
            "colorbar": {
             "outlinewidth": 0,
             "ticks": ""
            },
            "colorscale": [
             [
              0.0,
              "#0d0887"
             ],
             [
              0.1111111111111111,
              "#46039f"
             ],
             [
              0.2222222222222222,
              "#7201a8"
             ],
             [
              0.3333333333333333,
              "#9c179e"
             ],
             [
              0.4444444444444444,
              "#bd3786"
             ],
             [
              0.5555555555555556,
              "#d8576b"
             ],
             [
              0.6666666666666666,
              "#ed7953"
             ],
             [
              0.7777777777777778,
              "#fb9f3a"
             ],
             [
              0.8888888888888888,
              "#fdca26"
             ],
             [
              1.0,
              "#f0f921"
             ]
            ]
           }
          ],
          "heatmap": [
           {
            "type": "heatmap",
            "colorbar": {
             "outlinewidth": 0,
             "ticks": ""
            },
            "colorscale": [
             [
              0.0,
              "#0d0887"
             ],
             [
              0.1111111111111111,
              "#46039f"
             ],
             [
              0.2222222222222222,
              "#7201a8"
             ],
             [
              0.3333333333333333,
              "#9c179e"
             ],
             [
              0.4444444444444444,
              "#bd3786"
             ],
             [
              0.5555555555555556,
              "#d8576b"
             ],
             [
              0.6666666666666666,
              "#ed7953"
             ],
             [
              0.7777777777777778,
              "#fb9f3a"
             ],
             [
              0.8888888888888888,
              "#fdca26"
             ],
             [
              1.0,
              "#f0f921"
             ]
            ]
           }
          ],
          "heatmapgl": [
           {
            "type": "heatmapgl",
            "colorbar": {
             "outlinewidth": 0,
             "ticks": ""
            },
            "colorscale": [
             [
              0.0,
              "#0d0887"
             ],
             [
              0.1111111111111111,
              "#46039f"
             ],
             [
              0.2222222222222222,
              "#7201a8"
             ],
             [
              0.3333333333333333,
              "#9c179e"
             ],
             [
              0.4444444444444444,
              "#bd3786"
             ],
             [
              0.5555555555555556,
              "#d8576b"
             ],
             [
              0.6666666666666666,
              "#ed7953"
             ],
             [
              0.7777777777777778,
              "#fb9f3a"
             ],
             [
              0.8888888888888888,
              "#fdca26"
             ],
             [
              1.0,
              "#f0f921"
             ]
            ]
           }
          ],
          "contourcarpet": [
           {
            "type": "contourcarpet",
            "colorbar": {
             "outlinewidth": 0,
             "ticks": ""
            }
           }
          ],
          "contour": [
           {
            "type": "contour",
            "colorbar": {
             "outlinewidth": 0,
             "ticks": ""
            },
            "colorscale": [
             [
              0.0,
              "#0d0887"
             ],
             [
              0.1111111111111111,
              "#46039f"
             ],
             [
              0.2222222222222222,
              "#7201a8"
             ],
             [
              0.3333333333333333,
              "#9c179e"
             ],
             [
              0.4444444444444444,
              "#bd3786"
             ],
             [
              0.5555555555555556,
              "#d8576b"
             ],
             [
              0.6666666666666666,
              "#ed7953"
             ],
             [
              0.7777777777777778,
              "#fb9f3a"
             ],
             [
              0.8888888888888888,
              "#fdca26"
             ],
             [
              1.0,
              "#f0f921"
             ]
            ]
           }
          ],
          "surface": [
           {
            "type": "surface",
            "colorbar": {
             "outlinewidth": 0,
             "ticks": ""
            },
            "colorscale": [
             [
              0.0,
              "#0d0887"
             ],
             [
              0.1111111111111111,
              "#46039f"
             ],
             [
              0.2222222222222222,
              "#7201a8"
             ],
             [
              0.3333333333333333,
              "#9c179e"
             ],
             [
              0.4444444444444444,
              "#bd3786"
             ],
             [
              0.5555555555555556,
              "#d8576b"
             ],
             [
              0.6666666666666666,
              "#ed7953"
             ],
             [
              0.7777777777777778,
              "#fb9f3a"
             ],
             [
              0.8888888888888888,
              "#fdca26"
             ],
             [
              1.0,
              "#f0f921"
             ]
            ]
           }
          ],
          "mesh3d": [
           {
            "type": "mesh3d",
            "colorbar": {
             "outlinewidth": 0,
             "ticks": ""
            }
           }
          ],
          "scatter": [
           {
            "fillpattern": {
             "fillmode": "overlay",
             "size": 10,
             "solidity": 0.2
            },
            "type": "scatter"
           }
          ],
          "parcoords": [
           {
            "type": "parcoords",
            "line": {
             "colorbar": {
              "outlinewidth": 0,
              "ticks": ""
             }
            }
           }
          ],
          "scatterpolargl": [
           {
            "type": "scatterpolargl",
            "marker": {
             "colorbar": {
              "outlinewidth": 0,
              "ticks": ""
             }
            }
           }
          ],
          "bar": [
           {
            "error_x": {
             "color": "#2a3f5f"
            },
            "error_y": {
             "color": "#2a3f5f"
            },
            "marker": {
             "line": {
              "color": "#E5ECF6",
              "width": 0.5
             },
             "pattern": {
              "fillmode": "overlay",
              "size": 10,
              "solidity": 0.2
             }
            },
            "type": "bar"
           }
          ],
          "scattergeo": [
           {
            "type": "scattergeo",
            "marker": {
             "colorbar": {
              "outlinewidth": 0,
              "ticks": ""
             }
            }
           }
          ],
          "scatterpolar": [
           {
            "type": "scatterpolar",
            "marker": {
             "colorbar": {
              "outlinewidth": 0,
              "ticks": ""
             }
            }
           }
          ],
          "histogram": [
           {
            "marker": {
             "pattern": {
              "fillmode": "overlay",
              "size": 10,
              "solidity": 0.2
             }
            },
            "type": "histogram"
           }
          ],
          "scattergl": [
           {
            "type": "scattergl",
            "marker": {
             "colorbar": {
              "outlinewidth": 0,
              "ticks": ""
             }
            }
           }
          ],
          "scatter3d": [
           {
            "type": "scatter3d",
            "line": {
             "colorbar": {
              "outlinewidth": 0,
              "ticks": ""
             }
            },
            "marker": {
             "colorbar": {
              "outlinewidth": 0,
              "ticks": ""
             }
            }
           }
          ],
          "scattermapbox": [
           {
            "type": "scattermapbox",
            "marker": {
             "colorbar": {
              "outlinewidth": 0,
              "ticks": ""
             }
            }
           }
          ],
          "scatterternary": [
           {
            "type": "scatterternary",
            "marker": {
             "colorbar": {
              "outlinewidth": 0,
              "ticks": ""
             }
            }
           }
          ],
          "scattercarpet": [
           {
            "type": "scattercarpet",
            "marker": {
             "colorbar": {
              "outlinewidth": 0,
              "ticks": ""
             }
            }
           }
          ],
          "carpet": [
           {
            "aaxis": {
             "endlinecolor": "#2a3f5f",
             "gridcolor": "white",
             "linecolor": "white",
             "minorgridcolor": "white",
             "startlinecolor": "#2a3f5f"
            },
            "baxis": {
             "endlinecolor": "#2a3f5f",
             "gridcolor": "white",
             "linecolor": "white",
             "minorgridcolor": "white",
             "startlinecolor": "#2a3f5f"
            },
            "type": "carpet"
           }
          ],
          "table": [
           {
            "cells": {
             "fill": {
              "color": "#EBF0F8"
             },
             "line": {
              "color": "white"
             }
            },
            "header": {
             "fill": {
              "color": "#C8D4E3"
             },
             "line": {
              "color": "white"
             }
            },
            "type": "table"
           }
          ],
          "barpolar": [
           {
            "marker": {
             "line": {
              "color": "#E5ECF6",
              "width": 0.5
             },
             "pattern": {
              "fillmode": "overlay",
              "size": 10,
              "solidity": 0.2
             }
            },
            "type": "barpolar"
           }
          ],
          "pie": [
           {
            "automargin": true,
            "type": "pie"
           }
          ]
         },
         "layout": {
          "autotypenumbers": "strict",
          "colorway": [
           "#636efa",
           "#EF553B",
           "#00cc96",
           "#ab63fa",
           "#FFA15A",
           "#19d3f3",
           "#FF6692",
           "#B6E880",
           "#FF97FF",
           "#FECB52"
          ],
          "font": {
           "color": "#2a3f5f"
          },
          "hovermode": "closest",
          "hoverlabel": {
           "align": "left"
          },
          "paper_bgcolor": "white",
          "plot_bgcolor": "#E5ECF6",
          "polar": {
           "bgcolor": "#E5ECF6",
           "angularaxis": {
            "gridcolor": "white",
            "linecolor": "white",
            "ticks": ""
           },
           "radialaxis": {
            "gridcolor": "white",
            "linecolor": "white",
            "ticks": ""
           }
          },
          "ternary": {
           "bgcolor": "#E5ECF6",
           "aaxis": {
            "gridcolor": "white",
            "linecolor": "white",
            "ticks": ""
           },
           "baxis": {
            "gridcolor": "white",
            "linecolor": "white",
            "ticks": ""
           },
           "caxis": {
            "gridcolor": "white",
            "linecolor": "white",
            "ticks": ""
           }
          },
          "coloraxis": {
           "colorbar": {
            "outlinewidth": 0,
            "ticks": ""
           }
          },
          "colorscale": {
           "sequential": [
            [
             0.0,
             "#0d0887"
            ],
            [
             0.1111111111111111,
             "#46039f"
            ],
            [
             0.2222222222222222,
             "#7201a8"
            ],
            [
             0.3333333333333333,
             "#9c179e"
            ],
            [
             0.4444444444444444,
             "#bd3786"
            ],
            [
             0.5555555555555556,
             "#d8576b"
            ],
            [
             0.6666666666666666,
             "#ed7953"
            ],
            [
             0.7777777777777778,
             "#fb9f3a"
            ],
            [
             0.8888888888888888,
             "#fdca26"
            ],
            [
             1.0,
             "#f0f921"
            ]
           ],
           "sequentialminus": [
            [
             0.0,
             "#0d0887"
            ],
            [
             0.1111111111111111,
             "#46039f"
            ],
            [
             0.2222222222222222,
             "#7201a8"
            ],
            [
             0.3333333333333333,
             "#9c179e"
            ],
            [
             0.4444444444444444,
             "#bd3786"
            ],
            [
             0.5555555555555556,
             "#d8576b"
            ],
            [
             0.6666666666666666,
             "#ed7953"
            ],
            [
             0.7777777777777778,
             "#fb9f3a"
            ],
            [
             0.8888888888888888,
             "#fdca26"
            ],
            [
             1.0,
             "#f0f921"
            ]
           ],
           "diverging": [
            [
             0,
             "#8e0152"
            ],
            [
             0.1,
             "#c51b7d"
            ],
            [
             0.2,
             "#de77ae"
            ],
            [
             0.3,
             "#f1b6da"
            ],
            [
             0.4,
             "#fde0ef"
            ],
            [
             0.5,
             "#f7f7f7"
            ],
            [
             0.6,
             "#e6f5d0"
            ],
            [
             0.7,
             "#b8e186"
            ],
            [
             0.8,
             "#7fbc41"
            ],
            [
             0.9,
             "#4d9221"
            ],
            [
             1,
             "#276419"
            ]
           ]
          },
          "xaxis": {
           "gridcolor": "white",
           "linecolor": "white",
           "ticks": "",
           "title": {
            "standoff": 15
           },
           "zerolinecolor": "white",
           "automargin": true,
           "zerolinewidth": 2
          },
          "yaxis": {
           "gridcolor": "white",
           "linecolor": "white",
           "ticks": "",
           "title": {
            "standoff": 15
           },
           "zerolinecolor": "white",
           "automargin": true,
           "zerolinewidth": 2
          },
          "scene": {
           "xaxis": {
            "backgroundcolor": "#E5ECF6",
            "gridcolor": "white",
            "linecolor": "white",
            "showbackground": true,
            "ticks": "",
            "zerolinecolor": "white",
            "gridwidth": 2
           },
           "yaxis": {
            "backgroundcolor": "#E5ECF6",
            "gridcolor": "white",
            "linecolor": "white",
            "showbackground": true,
            "ticks": "",
            "zerolinecolor": "white",
            "gridwidth": 2
           },
           "zaxis": {
            "backgroundcolor": "#E5ECF6",
            "gridcolor": "white",
            "linecolor": "white",
            "showbackground": true,
            "ticks": "",
            "zerolinecolor": "white",
            "gridwidth": 2
           }
          },
          "shapedefaults": {
           "line": {
            "color": "#2a3f5f"
           }
          },
          "annotationdefaults": {
           "arrowcolor": "#2a3f5f",
           "arrowhead": 0,
           "arrowwidth": 1
          },
          "geo": {
           "bgcolor": "white",
           "landcolor": "#E5ECF6",
           "subunitcolor": "white",
           "showland": true,
           "showlakes": true,
           "lakecolor": "white"
          },
          "title": {
           "x": 0.05
          },
          "mapbox": {
           "style": "light"
          }
         }
        },
        "xaxis": {
         "anchor": "y",
         "domain": [
          0.0,
          1.0
         ],
         "title": {
          "text": "Weight"
         }
        },
        "yaxis": {
         "anchor": "x",
         "domain": [
          0.0,
          1.0
         ],
         "title": {
          "text": "Price"
         }
        },
        "legend": {
         "tracegroupgap": 0
        },
        "title": {
         "text": "Scatter Plot of Weight vs Price"
        },
        "width": 800,
        "height": 500,
        "showlegend": false
       },
       "config": {
        "plotlyServerURL": "https://plot.ly"
       }
      },
      "text/html": "<div>                            <div id=\"9058f933-2e37-4e47-8816-a2e8c2eab5e3\" class=\"plotly-graph-div\" style=\"height:500px; width:800px;\"></div>            <script type=\"text/javascript\">                require([\"plotly\"], function(Plotly) {                    window.PLOTLYENV=window.PLOTLYENV || {};                                    if (document.getElementById(\"9058f933-2e37-4e47-8816-a2e8c2eab5e3\")) {                    Plotly.newPlot(                        \"9058f933-2e37-4e47-8816-a2e8c2eab5e3\",                        [{\"hovertemplate\":\"Weight=%{x}\\u003cbr\\u003ePrice=%{y}\\u003cextra\\u003e\\u003c\\u002fextra\\u003e\",\"legendgroup\":\"\",\"marker\":{\"color\":\"blue\",\"symbol\":\"circle\",\"opacity\":0.7,\"size\":9},\"mode\":\"markers\",\"name\":\"\",\"showlegend\":false,\"x\":[1.3700000047683716,1.340000033378601,1.8600000143051147,1.8300000429153442,1.3700000047683716,2.0999999046325684,2.0399999618530273,1.340000033378601,1.2999999523162842,1.600000023841858,1.8600000143051147,1.8600000143051147,1.8300000429153442,2.200000047683716,0.9200000166893005,1.3700000047683716,2.200000047683716,1.8300000429153442,2.200000047683716,1.2200000286102295,0.9800000190734863,2.5,1.8600000143051147,1.6200000047683716,1.909999966621399,2.299999952316284,1.350000023841858,2.200000047683716,1.8799999952316284,2.5,1.8899999856948853,1.649999976158142,2.7100000381469727,1.2000000476837158,1.350000023841858,1.440000057220459,2.0999999046325684,2.799999952316284,1.8600000143051147,2.0999999046325684,2.0,2.6500000953674316,2.299999952316284,2.200000047683716,2.7699999809265137,1.3700000047683716,2.200000047683716,3.200000047683716,2.299999952316284,2.799999952316284,0.6899999976158142,2.200000047683716,1.8600000143051147,1.4900000095367432,2.4000000953674316,2.130000114440918,1.909999966621399,2.0,2.430000066757202,2.0,2.799999952316284,1.7000000476837158,1.7000000476837158,1.399999976158142,1.8600000143051147,1.7999999523162842,1.8600000143051147,1.440000057220459,1.899999976158142,3.0,1.2519999742507935,1.399999976158142,2.200000047683716,2.700000047683716,2.0999999046325684,2.200000047683716,2.200000047683716,2.0199999809265137,2.200000047683716,2.5,1.8799999952316284,0.9200000166893005,1.6299999952316284,2.200000047683716,2.0999999046325684,2.6500000953674316,1.8300000429153442,1.9600000381469727,2.200000047683716,1.2100000381469727,2.450000047683716,2.200000047683716,1.4900000095367432,2.6500000953674316,1.25,1.5,2.200000047683716,2.200000047683716,2.0,2.619999885559082,1.909999966621399,2.0999999046325684,2.200000047683716,1.3799999952316284,1.2519999742507935,1.5800000429153442,1.850000023841858,1.2999999523162842,2.200000047683716,1.5800000429153442,1.5,1.2300000190734863,1.3700000047683716,1.6299999952316284,1.2100000381469727,1.2599999904632568,1.6299999952316284,2.1600000858306885,2.0,1.7000000476837158,2.0999999046325684,1.7999999523162842,2.200000047683716,2.5,2.0999999046325684,1.8600000143051147,1.6299999952316284,1.649999976158142,2.799999952316284,2.5,2.359999895095825,2.200000047683716,1.600000023841858,2.200000047683716,2.049999952316284,1.6299999952316284,1.899999976158142,3.0,2.200000047683716,1.3200000524520874,3.0,1.75,2.4000000953674316,2.0999999046325684,1.8600000143051147,1.25,0.9700000286102295,2.0,2.9000000953674316,2.0999999046325684,2.559999942779541,2.619999885559082,1.899999976158142,2.799999952316284,1.4800000190734863,1.909999966621399,1.7400000095367432,1.100000023841858,1.559999942779541,2.0999999046325684,2.0299999713897705,3.0,2.130000114440918,2.5,2.0999999046325684,2.4000000953674316,2.0999999046325684,2.559999942779541,3.0,1.4900000095367432,1.0499999523162842,2.7100000381469727,2.200000047683716,2.0,2.5,2.299999952316284,2.0999999046325684,4.400000095367432,1.899999976158142,1.2899999618530273,2.0199999809265137,1.2300000190734863,1.399999976158142,2.0,1.9500000476837158,2.7699999809265137,2.059999942779541,2.4000000953674316,1.1200000047683716,2.799999952316284,1.4199999570846558,1.2999999523162842,1.2999999523162842,2.799999952316284,1.6200000047683716,2.5,3.490000009536743,1.4900000095367432,3.3499999046325684,2.5,2.6500000953674316,2.0999999046325684,2.2300000190734863,3.200000047683716,2.799999952316284,2.4000000953674316,2.299999952316284,1.2100000381469727,1.2000000476837158,2.200000047683716,2.4000000953674316,2.9000000953674316,2.0999999046325684,2.200000047683716,1.0499999523162842,1.399999976158142,2.799999952316284,1.6299999952316284,1.600000023841858,1.6200000047683716,2.200000047683716,1.7400000095367432,1.2000000476837158,2.0999999046325684,4.420000076293945,2.200000047683716,2.299999952316284,2.0,2.690000057220459,1.899999976158142,2.369999885559082,2.0999999046325684,3.200000047683716,1.600000023841858,1.600000023841858,2.359999895095825,2.0999999046325684,2.200000047683716,4.699999809265137,2.5,2.200000047683716,2.0999999046325684,2.690000057220459,2.559999942779541,1.3799999952316284,2.200000047683716,2.0399999618530273,3.5999999046325684,1.4900000095367432,1.3700000047683716,2.0799999237060547,4.300000190734863,1.6799999475479126,1.3700000047683716,3.0,1.409999966621399,1.909999966621399,2.9000000953674316,4.139999866485596,2.0,2.799999952316284,2.200000047683716,2.0999999046325684,2.180000066757202,2.240000009536743,2.6700000762939453,1.100000023841858,2.200000047683716,2.5,2.049999952316284,1.3700000047683716,3.200000047683716,2.140000104904175,1.3600000143051147,2.200000047683716,2.299999952316284,2.799999952316284,2.200000047683716,2.799999952316284,2.799999952316284,2.799999952316284,2.25,2.5,2.200000047683716,3.0,2.1500000953674316,1.9500000476837158,1.7000000476837158,2.5,2.200000047683716,2.190000057220459,3.0,2.5399999618530273,2.0,2.049999952316284,3.200000047683716,2.5,3.4200000762939453,2.4000000953674316,1.6299999952316284,1.2999999523162842,2.9000000953674316,2.799999952316284,2.200000047683716,2.5,2.200000047683716,1.2799999713897705,2.200000047683716,2.299999952316284,1.8600000143051147,1.100000023841858,1.2100000381469727,2.799999952316284,2.2300000190734863,1.100000023841858,2.3299999237060547,1.2899999618530273,1.4500000476837158,1.9500000476837158,1.399999976158142,1.4800000190734863,2.7899999618530273,2.0,2.0999999046325684,2.200000047683716,1.440000057220459,2.2300000190734863,1.7000000476837158,1.2599999904632568,2.059999942779541,2.700000047683716,2.0,2.0,1.850000023841858,2.5,1.4800000190734863,1.899999976158142,1.840000033378601,2.0,2.0,2.200000047683716,2.200000047683716,2.0999999046325684,1.399999976158142,1.2000000476837158,2.4000000953674316,1.440000057220459,1.8799999952316284,1.5,1.899999976158142,2.059999942779541,1.840000033378601,2.700000047683716,2.5999999046325684,2.4000000953674316,2.0199999809265137,2.200000047683716,2.6500000953674316,2.359999895095825,1.3600000143051147,1.8600000143051147,2.0,2.799999952316284,1.8600000143051147,2.200000047683716,2.0399999618530273,2.799999952316284,2.4000000953674316,2.3299999237060547,1.3600000143051147,2.259999990463257,2.0999999046325684,3.25,2.5999999046325684,1.6200000047683716,1.909999966621399,1.590000033378601,1.7999999523162842,1.5,2.4000000953674316,3.3499999046325684,1.850000023841858,2.299999952316284,1.5,1.100000023841858,1.1299999952316284,1.5,2.2300000190734863,2.0,1.4199999570846558,3.0,3.0,2.200000047683716,2.700000047683716,2.3299999237060547,1.909999966621399,2.0999999046325684,1.899999976158142,1.7799999713897705,1.1299999952316284,2.200000047683716,2.9000000953674316,2.0999999046325684,2.5,2.799999952316284,1.100000023841858,1.2000000476837158,1.3600000143051147,2.200000047683716,1.149999976158142,2.6700000762939453,1.7000000476837158,2.0999999046325684,1.600000023841858,1.2699999809265137,2.299999952316284,1.649999976158142,1.4299999475479126,2.140000104904175,1.75,2.0,1.399999976158142,2.309999942779541,2.299999952316284,4.420000076293945,2.619999885559082,2.0199999809265137,1.600000023841858,3.3499999046325684,1.159999966621399,1.149999976158142,1.399999976158142,1.7000000476837158,2.299999952316284,2.5,3.200000047683716,2.0999999046325684,1.100000023841858,1.3200000524520874,2.0,2.799999952316284,2.200000047683716,1.3600000143051147,2.200000047683716,2.200000047683716,1.6399999856948853,2.4000000953674316,2.2300000190734863,2.200000047683716,1.25,1.909999966621399,2.1700000762939453,2.309999942779541,1.649999976158142,2.359999895095825,1.4700000286102295,4.420000076293945,1.2519999742507935,1.25,2.5,2.2300000190734863,1.399999976158142,2.369999885559082,1.5,2.6700000762939453,2.0,2.200000047683716,2.0199999809265137,3.7799999713897705,1.399999976158142,1.2899999618530273,1.899999976158142,1.100000023841858,1.4199999570846558,2.059999942779541,1.7899999618530273,1.7799999713897705,1.7000000476837158,2.200000047683716,1.0499999523162842,2.1600000858306885,2.180000066757202,1.4900000095367432,1.8899999856948853,2.299999952316284,1.75,2.1700000762939453,2.059999942779541,1.3600000143051147,0.9100000262260437,2.299999952316284,1.0499999523162842,1.9900000095367432,2.200000047683716,4.329999923706055,1.2999999523162842,2.1700000762939453,1.4800000190734863,1.399999976158142,2.299999952316284,1.2000000476837158,1.909999966621399,1.399999976158142,2.0999999046325684,1.25,1.440000057220459,2.0,2.200000047683716,1.340000033378601,2.4000000953674316,1.2899999618530273,2.200000047683716,2.180000066757202,2.200000047683716,1.9500000476837158,1.100000023841858,2.0399999618530273,2.240000009536743,2.0399999618530273,3.0,3.200000047683716,1.3200000524520874,1.6399999856948853,1.6299999952316284,2.799999952316284,2.0199999809265137,2.200000047683716,2.200000047683716,2.299999952316284,1.899999976158142,4.420000076293945,2.0,2.0,1.2000000476837158,2.299999952316284,1.9299999475479126,2.200000047683716,1.8600000143051147,2.619999885559082,1.8700000047683716,1.2000000476837158,1.600000023841858,1.340000033378601,2.4000000953674316,2.0,2.0999999046325684,1.8700000047683716,2.1500000953674316,1.8600000143051147,1.9900000095367432,2.200000047683716,1.899999976158142,4.420000076293945,2.6500000953674316,2.630000114440918,2.0,1.350000023841858,2.799999952316284,1.909999966621399,2.180000066757202,1.25,2.049999952316284,1.159999966621399,3.4000000953674316,2.5,1.2100000381469727,1.9299999475479126,2.200000047683716,2.200000047683716,2.0199999809265137,3.140000104904175,1.940000057220459,1.9500000476837158,2.299999952316284,2.049999952316284,1.399999976158142,1.2400000095367432,4.599999904632568,4.139999866485596,2.200000047683716,1.4500000476837158,1.899999976158142,1.4900000095367432,1.9299999475479126,1.2599999904632568,4.5,3.7799999713897705,1.399999976158142,2.200000047683716,2.7300000190734863,2.200000047683716,2.200000047683716,1.3899999856948853,2.5,2.799999952316284,2.2899999618530273,1.3700000047683716,1.7000000476837158,1.340000033378601,2.059999942779541,1.840000033378601,2.0999999046325684,1.600000023841858,4.139999866485596,2.180000066757202,1.7999999523162842,2.200000047683716,2.4000000953674316,2.0,1.600000023841858,2.5,2.5899999141693115,2.180000066757202,2.25,1.9299999475479126,3.0,2.180000066757202,1.840000033378601,2.940000057220459,1.25,2.309999942779541,1.649999976158142,2.200000047683716,2.200000047683716,1.8799999952316284,2.200000047683716,1.399999976158142,2.200000047683716,1.5,2.0,1.100000023841858,2.619999885559082,1.7999999523162842,2.200000047683716,2.0,1.9900000095367432,1.2300000190734863,1.4199999570846558,1.3700000047683716,2.059999942779541,2.5,2.5999999046325684,1.1399999856948853,2.5,2.4000000953674316,1.4299999475479126,1.7999999523162842,1.9500000476837158,1.2000000476837158,1.3600000143051147,3.799999952316284,2.4000000953674316,1.2000000476837158,2.200000047683716,1.8600000143051147,2.0,2.200000047683716,2.200000047683716,3.309999942779541,4.420000076293945,1.559999942779541,2.200000047683716,2.200000047683716,2.0399999618530273,2.700000047683716,2.0999999046325684,2.059999942779541,2.0999999046325684,2.0,2.0999999046325684,1.2519999742507935,1.899999976158142,1.2999999523162842,2.200000047683716,1.6299999952316284,2.4000000953674316,1.100000023841858,1.399999976158142,1.090000033378601,2.5,2.200000047683716,1.8600000143051147,3.2100000381469727,2.5,1.190000057220459,3.490000009536743,1.8600000143051147,2.200000047683716,2.6500000953674316,2.0999999046325684,1.4500000476837158,1.7000000476837158,3.140000104904175,1.4199999570846558,1.5,1.399999976158142,1.3799999952316284,1.2000000476837158,1.3600000143051147,2.0999999046325684,2.559999942779541,2.200000047683716,2.200000047683716,2.0999999046325684,1.899999976158142,2.180000066757202,1.600000023841858,2.180000066757202,1.7999999523162842,2.7100000381469727,2.5,1.6399999856948853,1.9800000190734863,1.5,1.9299999475479126,1.8700000047683716,1.899999976158142,2.190000057220459,1.399999976158142,2.630000114440918,1.1699999570846558,1.5800000429153442,1.3200000524520874,4.360000133514404,2.700000047683716,1.899999976158142,2.200000047683716,1.7100000381469727,2.319999933242798,2.0999999046325684,4.199999809265137,2.25,2.0999999046325684,2.4000000953674316,1.440000057220459,1.850000023841858,2.5999999046325684,1.5499999523162842,1.7999999523162842,2.4000000953674316,2.0,2.0,1.25,1.7000000476837158,2.5,1.6799999475479126,0.8100000023841858,1.8600000143051147,1.600000023841858,3.0,1.399999976158142,1.840000033378601,2.450000047683716,1.7000000476837158,2.369999885559082,1.2999999523162842,2.200000047683716,2.5899999141693115,4.420000076293945,2.0999999046325684,2.5,1.1799999475479126,1.100000023841858,1.2000000476837158,1.649999976158142,1.600000023841858,2.799999952316284,2.7200000286102295,1.309999942779541,2.0999999046325684,2.299999952316284,1.7100000381469727,1.75,2.619999885559082,1.2599999904632568,2.299999952316284,2.5,1.7999999523162842,1.9500000476837158,2.0,4.420000076293945,4.300000190734863,1.4700000286102295,2.200000047683716,1.7000000476837158,1.600000023841858,2.200000047683716,2.4000000953674316,4.199999809265137,2.619999885559082,2.240000009536743,1.2200000286102295,1.3700000047683716,2.0799999237060547,0.9200000166893005,1.4199999570846558,1.6299999952316284,1.9500000476837158,1.3799999952316284,2.0,3.140000104904175,2.369999885559082,1.2899999618530273,2.059999942779541,1.6299999952316284,1.2599999904632568,2.0999999046325684,2.0399999618530273,2.619999885559082,2.4000000953674316,3.740000009536743,2.9000000953674316,0.8100000023841858,1.9800000190734863,2.180000066757202,1.3200000524520874,1.2899999618530273,1.2300000190734863,4.360000133514404,1.7599999904632568,2.0999999046325684,1.25,1.1299999952316284,2.4000000953674316,1.1299999952316284,1.75,1.100000023841858,1.7599999904632568,1.350000023841858,1.5,3.490000009536743,1.100000023841858,2.0999999046325684,1.7000000476837158,1.3200000524520874,3.2100000381469727,2.9000000953674316,2.0,1.5,2.299999952316284,2.7300000190734863,4.420000076293945,2.630000114440918,2.180000066757202,1.5399999618530273,2.180000066757202,1.399999976158142,1.4500000476837158,1.2799999713897705,1.5399999618530273,1.8600000143051147,2.0999999046325684,2.8299999237060547,1.9600000381469727,2.299999952316284,1.899999976158142,2.0,1.2799999713897705,1.6200000047683716,2.200000047683716,2.299999952316284,1.840000033378601,1.0499999523162842,2.5,1.2899999618530273,2.069999933242798,1.2000000476837158,1.3700000047683716,1.559999942779541,2.2300000190734863,2.380000114440918,2.200000047683716,2.0,1.440000057220459,1.2300000190734863,1.600000023841858,2.0,1.2799999713897705,2.180000066757202,2.0399999618530273,1.2799999713897705,2.299999952316284,1.649999976158142,2.200000047683716,2.200000047683716,1.2799999713897705,2.180000066757202,2.200000047683716,1.25,2.799999952316284,1.9500000476837158,1.4199999570846558,1.1699999570846558,1.3200000524520874,2.430000066757202,1.0499999523162842,2.619999885559082,2.0399999618530273,2.180000066757202,1.899999976158142,1.2400000095367432,3.5799999237060547,1.2200000286102295,1.1299999952316284,1.9500000476837158,1.0800000429153442,1.2599999904632568,2.200000047683716,2.5999999046325684,0.9800000190734863,1.600000023841858,1.090000033378601,2.200000047683716,2.0399999618530273,2.4000000953674316,1.440000057220459,1.4900000095367432,2.700000047683716,2.5999999046325684,2.200000047683716,2.180000066757202,1.840000033378601,1.3899999856948853,2.4000000953674316,1.3700000047683716,1.9500000476837158,1.3600000143051147,2.309999942779541,2.180000066757202,1.9500000476837158,2.200000047683716,1.2599999904632568,1.8600000143051147,1.2999999523162842,1.4700000286102295,1.2599999904632568,2.180000066757202,2.200000047683716,1.3600000143051147,4.360000133514404,2.75,2.799999952316284,2.2300000190734863,2.200000047683716,1.100000023841858,2.5,1.3600000143051147,2.200000047683716,2.359999895095825,1.6799999475479126,2.0,1.3600000143051147,1.2000000476837158,1.2000000476837158,1.7000000476837158,4.360000133514404,1.2400000095367432,1.4500000476837158,1.2999999523162842,1.25,1.2000000476837158,1.3600000143051147,2.4000000953674316,1.100000023841858,2.0399999618530273,2.25,1.899999976158142,2.0399999618530273,4.420000076293945,2.4000000953674316,1.2200000286102295,1.5,4.420000076293945,1.9500000476837158,2.7300000190734863,2.0399999618530273,1.7000000476837158,2.299999952316284,2.0399999618530273,2.990000009536743,2.190000057220459,1.2000000476837158,2.200000047683716,2.299999952316284,1.75,2.25,2.0399999618530273,2.5,2.359999895095825,1.600000023841858,0.9700000286102295,2.0999999046325684,1.899999976158142,2.299999952316284,1.6799999475479126,1.399999976158142,1.1100000143051147,2.4000000953674316,2.5,1.4800000190734863,2.700000047683716,1.340000033378601,2.180000066757202,1.6399999856948853,1.2000000476837158,1.4800000190734863,1.9500000476837158,1.4299999475479126,1.6399999856948853,1.6399999856948853,2.6500000953674316,1.2599999904632568,1.4800000190734863,1.5399999618530273,1.4900000095367432,1.5,2.0399999618530273,2.4000000953674316,1.4700000286102295,1.4299999475479126,2.0799999237060547,1.2000000476837158,1.1100000143051147,1.6399999856948853,2.0899999141693115,1.2599999904632568,2.309999942779541,1.9500000476837158,1.2899999618530273,2.630000114440918,1.6399999856948853,2.0999999046325684,2.700000047683716,1.9500000476837158,1.840000033378601,1.2599999904632568,2.0399999618530273,1.4700000286102295,2.0899999141693115,1.6399999856948853,1.7999999523162842,1.4500000476837158,2.4000000953674316,2.299999952316284,1.5399999618530273,1.840000033378601,1.4299999475479126,3.7799999713897705,4.599999904632568,1.2000000476837158,1.100000023841858,1.909999966621399,2.299999952316284,2.0399999618530273,1.2000000476837158,2.309999942779541,1.9600000381469727,2.4000000953674316,1.600000023841858,2.940000057220459,2.0399999618530273,4.0,2.25,2.319999933242798,1.7999999523162842,1.2899999618530273,3.5799999237060547,1.6200000047683716,3.2100000381469727,0.9200000166893005,2.059999942779541,2.309999942779541,1.2599999904632568,1.4900000095367432,1.2999999523162842,3.0,2.299999952316284,3.7799999713897705,2.0999999046325684,2.309999942779541,0.9900000095367432,4.599999904632568,0.6899999976158142,1.2999999523162842,2.180000066757202,1.5399999618530273,1.899999976158142,1.7000000476837158,1.2899999618530273,2.4000000953674316,2.200000047683716,1.8600000143051147,2.700000047683716,1.399999976158142,2.4000000953674316,2.4000000953674316,2.359999895095825,2.5999999046325684,1.9600000381469727,4.300000190734863,1.5,1.5,2.200000047683716,3.0,2.4000000953674316,1.5,2.9000000953674316,2.0999999046325684,2.0999999046325684,2.5899999141693115,1.159999966621399,2.240000009536743,2.0999999046325684,1.159999966621399,0.6899999976158142,1.2300000190734863,4.599999904632568,1.25,1.0499999523162842,3.5199999809265137,1.350000023841858,1.159999966621399,1.4299999475479126,2.0899999141693115,2.0,1.7999999523162842,0.6899999976158142,1.2599999904632568,2.4000000953674316,3.3499999046325684,2.0399999618530273,1.7999999523162842,1.5,1.840000033378601,2.2300000190734863,2.5,3.0,2.5,3.7799999713897705,1.8799999952316284,2.799999952316284,2.4000000953674316,1.4800000190734863,2.5899999141693115,1.4800000190734863,2.0,1.2599999904632568,2.180000066757202,1.8799999952316284,1.2699999809265137,1.899999976158142,1.8600000143051147,2.319999933242798,2.619999885559082,2.0399999618530273,1.909999966621399,2.700000047683716,1.399999976158142,2.5,1.4800000190734863,1.7000000476837158,1.7000000476837158,2.619999885559082,2.200000047683716,2.0999999046325684,2.619999885559082,1.9500000476837158,2.200000047683716,1.440000057220459,2.200000047683716,1.9600000381469727,2.0999999046325684,2.200000047683716,2.0999999046325684,2.200000047683716,2.0,2.319999933242798,3.309999942779541,1.909999966621399,2.069999933242798,1.3600000143051147,1.5399999618530273,1.9800000190734863,2.0999999046325684,2.180000066757202,2.5910000801086426,2.0899999141693115,2.2300000190734863,1.2300000190734863,4.199999809265137,2.4000000953674316,1.8600000143051147,0.9200000166893005,1.600000023841858,2.2100000381469727,1.899999976158142,4.300000190734863,2.0999999046325684,2.430000066757202,2.299999952316284,2.200000047683716,2.0,1.2000000476837158,2.200000047683716,2.359999895095825,1.909999966621399,2.200000047683716,3.299999952316284,2.200000047683716,0.9200000166893005,2.200000047683716,2.430000066757202,2.190999984741211,2.9000000953674316,1.2999999523162842,3.299999952316284,2.799999952316284,2.5999999046325684,1.2000000476837158,2.299999952316284,2.200000047683716,2.0999999046325684,1.2599999904632568,2.0799999237060547,2.6500000953674316,1.2899999618530273,2.180000066757202,2.5999999046325684,2.200000047683716,1.2999999523162842,1.9500000476837158,2.299999952316284,2.700000047683716,1.0800000429153442,2.0999999046325684,1.5399999618530273,2.240000009536743,2.299999952316284,1.399999976158142,2.200000047683716,1.4500000476837158,2.4000000953674316,2.7699999809265137,1.5399999618530273,2.5,1.600000023841858,2.3399999141693115,2.299999952316284,1.2400000095367432,2.200000047683716,1.8600000143051147,2.4000000953674316,1.899999976158142,2.200000047683716,2.0,4.0,2.2899999618530273,2.319999933242798,2.4000000953674316,1.7999999523162842,1.2000000476837158,2.299999952316284,2.4000000953674316,2.200000047683716,2.5999999046325684,2.0399999618530273,2.299999952316284,1.1699999570846558,2.200000047683716,1.7999999523162842,1.2999999523162842,1.5,2.190000057220459,2.200000047683716,1.2000000476837158,2.299999952316284,2.4000000953674316,2.200000047683716,2.5999999046325684,2.0399999618530273,2.299999952316284,1.1699999570846558,2.200000047683716,1.7999999523162842,1.2999999523162842,1.5,2.190000057220459,2.200000047683716,1.2000000476837158,2.299999952316284,2.4000000953674316,2.200000047683716,2.5999999046325684,2.0399999618530273,2.299999952316284,1.1699999570846558,2.200000047683716,1.7999999523162842,1.2999999523162842,1.5,2.190000057220459,2.200000047683716],\"xaxis\":\"x\",\"y\":[71378.6832,47895.5232,30636.0,135195.33599999998,96095.808,21312.0,114017.6016,61735.536,79653.59999999999,41025.6,20986.992,18381.0672,130001.6016,26581.392,67260.672,80908.344,39693.6,152274.24,26586.72,52161.12,10224.432,53226.72,13746.24,43636.32,35111.52,22305.1392,58554.72,42624.0,69157.44,47738.88,13053.0672,10602.72,23389.92,99580.32,53173.44,13266.72,19553.76,52161.12,26037.4032,46833.12,20725.92,79866.72,27864.9072,36336.96,53226.72,75604.31999999999,19660.32,69210.72,34045.92,24828.48,16996.32,44808.48,21231.5472,58767.84,20459.52,40908.384,23389.92,31232.203200000004,130482.72,22111.2,69210.72,46833.12,31914.72,50136.48,36763.2,105654.24,23373.4032,12201.12,29250.72,50562.72,58021.92,50882.4,46353.6,58341.6,20725.92,50562.72,27652.32,45554.4,28238.4,52054.56,58403.4048,80452.8,45820.8,21258.72,21045.6,71874.72,37242.72,31914.1872,77202.72,87858.72,37242.72,36709.92,63776.16,63669.6,55890.72,45128.16,31962.672,25840.8,30742.56,66546.72,38308.32,18594.72,34472.16,59620.32,71395.2,35111.52,22105.872,63563.04,69210.72,78854.4,67239.36,73473.12,74538.72,38468.16,86793.12,74538.1872,57755.52,60223.98239999999,30049.92,59567.04,25521.12,119427.12,33513.119999999995,67718.88,24029.28,13799.52,43263.36,14811.3072,74378.87999999999,49443.84,34045.3872,23922.72,47099.52,30476.16,31861.44,52640.64,13445.7408,49976.64,26586.72,37242.72,34898.4,59461.5456,46300.32,32074.56,19660.32,58554.72,107305.92,18328.32,108105.12,23816.16,66560.5728,47898.72,26533.44,100699.2,57648.96,32980.32,33513.119999999995,70063.2,55890.72,23816.16,21471.84,42890.4,38787.84,57489.12,18541.44,95850.72,19367.8128,56502.9072,45501.12,40173.12,71874.72,37242.72,16463.52,26053.92,49177.44,24455.52,23922.72,149130.72,43316.64,79866.72,55890.72,74538.72,98514.72,42251.04,63882.72,82530.72,127712.16,41505.12,52693.92,57808.8,150462.72,13852.8,53274.67199999999,37189.44,44701.92,48697.92,324954.72,51095.52,73473.12,55677.6,98301.6,26267.04,39533.76,93186.72,162770.4,74485.44,23389.92,103842.72,77202.72,31808.16,41505.12,74964.95999999999,18594.72,29250.72,79866.72,49650.5664,31381.92,54931.68,61218.72,68145.12,36089.208,47898.72,72620.64,42304.32,130873.7952,44328.96,45768.0528,40972.32,47472.48,67612.31999999999,21258.1872,17582.399999999998,79866.72,45767.52,36709.92,47898.72,20779.2,30636.0,207259.2,45074.88,31381.92,61005.6,47365.92,46833.12,57489.12,52480.8,29783.52,159786.72,35964.0,108691.2,43636.32,95850.72,24988.32,98514.72,37402.56,50562.72,23757.552,56423.52,133146.72,90522.72,60845.76,23656.32,38468.16,35004.96,30103.2,42570.72,79866.72,24881.76,54239.04,46886.4,104370.192,82530.72,39164.5296,133146.72,43263.36,37992.3696,58554.72,39693.6,26053.92,45234.72,45767.52,22803.84,44169.12,30849.12,50669.28,35111.52,58448.16,52054.56,62817.12,35112.0528,10602.72,63243.36,26053.92,97449.12,39373.92,69210.72,52161.12,153705.3408,26586.72,78215.04,27119.52,113060.16,34578.72,29250.72,67399.2,19180.2672,105228.0,55571.04,43636.32,24988.32,53226.72,133146.72,111834.72,24988.32,14652.0,44968.32,130482.72,24503.472,52214.4,25840.8,68837.76,31381.92,58288.32,48058.56,35111.52,15557.76,29250.72,55938.672,71128.8,140605.91999999998,63882.72,50243.04,71075.52,23922.72,53226.72,67559.04,55890.72,60952.32,14651.4672,60885.72,14646.672,47898.72,38148.48,111834.72,84129.12,60153.12,14865.12,85672.1088,19980.0,35324.64,108020.9376,69477.12,75071.52,92615.0256,74751.84,51729.55199999999,17155.627200000003,53226.72,29696.6736,76030.56,23389.92,50349.6,38308.32,34045.92,26586.72,20725.92,57808.8,43103.52,47898.72,93240.0,58554.72,22697.28,117162.72,26053.92,46300.85279999999,26053.3872,29463.84,16463.52,15238.08,45074.88,63456.48,21498.48,88178.4,58554.72,93181.392,121584.96,29250.72,72940.31999999999,113752.8,133679.52,55357.92,84768.48,36975.7872,71874.72,41498.1936,26586.72,65510.9568,49976.64,144495.36,139860.0,16303.68,81465.12,60978.96,46833.12,119826.72,99793.44,93080.16,89510.4,21791.52,16221.096,102564.0,103523.04,24988.32,42038.4528,49443.84,31909.392,36709.92,79920.0,28768.536,64755.44640000001,101178.72,23922.72,76030.56,31808.16,149130.72,61751.52,60867.072,58554.72,106506.72,15930.72,14332.32,53812.8,31914.72,130269.6,130482.72,90309.6,18488.16,117162.72,126912.96,29783.52,27652.32,39906.72,76137.12,18594.72,58554.72,62817.12,23539.104,106187.04,54757.9872,137941.91999999998,31381.92,105228.0,81731.52,71661.59999999999,52161.12,25521.12,109010.88,52693.92,95850.72,34093.872,28984.32,23176.8,39906.72,42570.72,111355.2,16197.12,24988.32,40439.52,90522.72,98994.24,106506.72,61485.12,67932.0,98133.768,69210.72,39427.2,128298.24,72673.92,35964.0,89084.16,67239.36,31254.048,38681.28,13261.392000000002,30103.2,55890.72,124568.64,101178.72,95797.44,103896.0,53918.82719999999,149130.72,71928.0,30849.12,67612.31999999999,58554.72,47893.39199999999,93186.72,50562.72,48538.08,18115.2,32979.7872,85194.72,15930.72,14119.2,50562.72,65214.72,32660.64,70489.44,61218.72,47898.72,34045.92,44542.08,64961.10719999999,74589.336,13053.6,27783.9216,158135.04,47365.92,80133.12,74538.72,74538.72,68184.0144,36709.92,47365.92,71395.2,42570.72,24455.52,31168.8,73366.56,160520.3856,45820.8,69210.72,19660.32,87858.72,72940.31999999999,42486.0048,21258.1872,95850.72,45767.52,74538.72,39207.1536,61005.6,42517.44,18594.72,37589.04,41824.8,24634.008,21152.16,92121.12,26586.72,59513.2272,143802.72,28992.312,68198.4,11934.72,13586.4,50562.72,30310.992,32921.712,18594.72,33566.4,104695.2,159786.72,44701.92,85194.72,51095.52,39373.92,18328.32,52747.2,99153.5472,20725.92,34578.72,44222.4,36496.8,13266.72,99367.2,141884.63999999998,145401.12,39907.2528,20725.92,53733.94559999999,38308.32,81912.13919999999,15717.6,125154.72,79813.44,89137.44,32447.52,94305.6,39373.92,50562.72,32127.84,90522.72,28185.12,24455.52,107892.0,78534.72,88977.59999999999,93932.64,64948.32,35616.6144,17529.12,117162.72,24775.2,122490.72,74538.72,30049.92,69210.72,18594.72,261018.72,46833.6528,23650.992,19127.52,46300.32,62231.04,30316.32,74005.92,120831.5808,20193.12,59886.72,78055.2,41345.28,42570.72,49656.96,47898.72,12733.92,24935.04,34046.4528,96969.6,101232.0,78801.12,44169.12,30849.12,21258.72,48304.7136,99580.32,13266.72,93635.3376,127818.72,59087.52,27753.552,130536.0,62284.32,23976.0,14598.72,48964.32,138474.72,64628.64,84395.52,149130.72,37775.52,77250.672,63499.10399999999,19441.872,56689.92,48964.32,60472.8,63722.88,167691.8736,65481.12,22324.32,28504.8,28717.92,79215.1056,26533.44,50882.4,39693.6,67026.23999999999,21951.36,99519.048,43580.376,55091.52,18594.72,37242.72,68944.31999999999,60472.8,26373.6,122490.72,69210.72,53168.112,22324.32,109277.28,37242.72,79866.72,149916.6,32639.8608,29073.297599999994,30316.32,16943.04,19980.0,37242.72,101657.7072,137995.19999999998,51841.44,14332.32,93186.72,35644.32,100006.56,36709.92,43636.32,21258.72,22857.12,33110.856,23976.0,42357.6,53226.72,98834.4,63456.48,34898.932799999995,66546.72,58021.92,38681.28,15877.44,76012.44480000001,45664.6896,62817.12,15877.44,14119.2,63936.0,89864.1792,44574.048,79866.72,194972.832,71847.0144,26101.872,38308.32,34578.72,31409.6256,26053.92,103096.8,34578.72,34632.0,29783.52,51148.8,41505.12,128884.32,35111.52,111593.8944,21887.424,64308.96,35431.2,81784.8,53226.72,175770.72,17582.399999999998,87858.72,28717.92,60031.1088,233845.92,25308.0,101232.0,30849.12,58394.88,45282.672,63882.72,58554.72,83170.08,152859.7872,31914.72,55837.44,99047.52,83063.52,60153.12,45234.72,34898.4,25059.715199999995,58554.72,85194.72,15877.44,62938.0656,95850.72,54345.6,58554.72,66280.31999999999,44701.92,126273.6,33886.08,154458.72,31003.632,191211.264,125208.0,93985.92,17529.12,122490.72,100752.48,58021.92,53226.72,122490.72,52480.8,71341.92,10810.512,104961.6,51095.52,62071.2,124142.4,15930.72,43156.8,71874.72,39373.92,110017.872,58554.72,79866.72,93186.72,39640.32,74005.92,41558.4,33513.119999999995,89457.12,32447.52,93186.72,128671.2,79866.72,51202.08,42081.0768,99047.52,95850.72,20512.8,133467.4656,40226.4,26101.872,58075.2,133146.72,63882.72,99900.0,26586.72,72354.23999999999,31168.8,18914.4,32980.32,292986.72,111834.72,27652.32,63190.08,87912.0,147832.28639999998,128884.32,35644.32,17316.0,31435.2,95850.72,163723.57919999998,48484.8,38041.3872,99633.6,39373.92,32767.2,54665.28,121318.56,78215.04,15930.72,101178.72,46087.2,101391.84,41931.36,50349.6,23922.72,136343.52,34578.72,24988.32,45323.1648,71874.72,68464.8,54185.76,119347.2,48484.8,58341.6,103896.0,48058.56,94731.84,56210.4,25521.12,73952.64,39160.8,98514.72,90043.2,21258.1872,49816.8,48618.0,44701.92,90576.0,36486.14399999999,18541.44,35644.32,19660.32,95850.72,24279.696,72988.272,15824.16,20193.12,67399.2,74538.72,90522.72,95850.72,141138.72,78588.0,49497.12,47952.0,32713.92,49816.8,107257.968,68145.12,87858.72,109170.72,104588.1072,111834.72,79014.23999999999,19127.52,42037.92,101178.72,64202.4,165168.0,42037.92,54291.78719999999,26586.72,46939.68,51148.8,85194.72,71874.72,59668.804800000005,36496.2672,69103.62719999999,61218.72,105228.0,97236.0,38889.072,87912.0,62071.2,37725.4368,61218.72,16463.52,84129.12,15392.592,95850.72,58874.4,88924.31999999999,29762.208,63882.72,87325.92,146946.24,74538.72,28238.4,32980.32,59620.32,69210.72,53226.72,78438.816,36496.8,35111.52,18594.72,119826.72,94572.0,77788.8,61751.52,79333.3872,168045.12,101178.72,41292.0,67559.04,20725.92,81784.8,93772.8,53759.52,95371.2,45101.52,24808.2336,43956.0,36496.8,167778.72,37029.6,101178.72,104587.57439999998,149184.0,62870.4,109218.672,52161.12,53386.56,95850.72,30849.12,93186.72,69210.72,63669.6,29250.72,34578.72,48751.2,31914.72,42943.68,63349.92,39906.72,59620.32,101658.24,26586.72,14418.6336,71874.72,47365.92,61272.0,71874.72,20246.4,95850.72,111301.92,67132.8,63349.92,29144.16,41505.12,63669.6,58607.46719999999,64202.4,77202.72,55904.5728,36443.52,50562.72,81997.92,84715.2,100550.5488,42624.0,64468.8,41025.0672,158135.04,79387.2,118761.12,42410.3472,84715.2,61218.72,63159.7104,55754.3232,83063.52,63349.92,56476.8,86526.72,57542.4,51841.44,21791.52,63499.10399999999,63669.6,65480.5872,71874.72,39533.76,91908.0,56633.976,53839.9728,45128.16,11231.424,75924.0,55922.688,53280.0,112065.9552,78268.31999999999,82351.6992,122010.66719999998,15339.311999999998,139593.6,52161.12,58288.32,52161.12,120093.12,37570.392,26586.72,23922.72,69210.72,96916.32,57009.6,53173.44,29783.52,52746.6672,102777.12,77682.23999999999,211788.0,42517.9728,70809.12,69264.0,25679.8944,63882.72,63882.72,58075.2,91294.7472,35111.52,52054.56,133146.72,28771.2,50083.2,74538.72,172627.19999999998,34433.2656,109170.72,39960.0,54931.14719999999,79653.59999999999,63882.72,32767.2,20619.36,20965.1472,18434.3472,85194.72,43601.688,85194.72,42570.72,34035.264,85194.72,26640.0,122490.72,60480.792,62176.1616,11135.52,154458.72,63882.72,75289.968,80516.20319999999,46193.76,21205.44,71341.92,90522.72,40980.312,22857.12,104908.32,29250.72,73473.12,146519.46719999998,54825.12,118601.28,69929.4672,10442.88,90043.2,80612.64,27899.0064,23176.8,88924.31999999999,25521.12,100965.6,52693.92,60153.12,33513.119999999995,109244.2464,14811.84,40066.56,32820.48,58554.72,210424.032,41771.52,127818.72,115709.2416,130003.2,60888.384,86793.12,118761.12,95850.72,101178.72,122381.49599999998,53807.472,84129.12,124621.92,18061.92,15824.16,31914.72,63882.72,119916.2304,25515.2592,79536.38399999999,122490.72,42010.7472,108744.48,79866.72,94252.32,47898.72,24455.52,25414.0272,79813.44,74059.2,24935.04,13266.72,44701.92,36177.12,61751.52,19660.32,21205.44,37775.52,40972.32,43956.0,69530.4,114731.5536,34632.0,87219.36,44275.68,47686.1328,17742.239999999998,42570.72,48431.52,62817.12,36816.48,58554.72,138474.72,43636.32,25840.8,61964.64,63882.72,70702.56,19607.04,114552.0,14492.16,109165.392,26586.72,33513.119999999995,68464.8,142790.4,62284.32,47365.92,30849.12,15930.72,33513.119999999995,130482.72,68145.12,93186.72,103842.1872,53226.72,103842.72,9270.72,31861.44,28717.92,67772.16,61218.72,81465.12,78647.1408,28185.12,91288.3536,27119.52,16463.52,78694.56,27804.7008,54825.12,61218.72,87912.0,186426.72,24988.8528,85141.44,51095.52,25467.84,117119.5632,39267.36,62284.32,79866.72,31838.5296,68198.4,19276.704,95850.72,58607.46719999999,85248.0,46620.0,123876.0,30529.44,96596.64,17262.72,21258.72,30316.32,57116.16,23655.7872,18061.92,101232.0,26107.2,47685.6,65481.12,44382.7728,38841.12,24455.52,15397.92,20193.12,47898.72,29303.4672,42943.1472,11135.52,38378.6496,33992.64,79866.72,12201.12,40705.92,19660.32,38841.12,24455.52,15397.92,20193.12,47898.72,29303.4672,42943.1472,11135.52,38378.6496,33992.64,79866.72,12201.12,40705.92,19660.32,38841.12,24455.52,15397.92,20193.12,47898.72,29303.4672,42943.1472,11135.52,38378.6496,33992.64,79866.72,12201.12,40705.92,19660.32],\"yaxis\":\"y\",\"type\":\"scattergl\"}],                        {\"template\":{\"data\":{\"histogram2dcontour\":[{\"type\":\"histogram2dcontour\",\"colorbar\":{\"outlinewidth\":0,\"ticks\":\"\"},\"colorscale\":[[0.0,\"#0d0887\"],[0.1111111111111111,\"#46039f\"],[0.2222222222222222,\"#7201a8\"],[0.3333333333333333,\"#9c179e\"],[0.4444444444444444,\"#bd3786\"],[0.5555555555555556,\"#d8576b\"],[0.6666666666666666,\"#ed7953\"],[0.7777777777777778,\"#fb9f3a\"],[0.8888888888888888,\"#fdca26\"],[1.0,\"#f0f921\"]]}],\"choropleth\":[{\"type\":\"choropleth\",\"colorbar\":{\"outlinewidth\":0,\"ticks\":\"\"}}],\"histogram2d\":[{\"type\":\"histogram2d\",\"colorbar\":{\"outlinewidth\":0,\"ticks\":\"\"},\"colorscale\":[[0.0,\"#0d0887\"],[0.1111111111111111,\"#46039f\"],[0.2222222222222222,\"#7201a8\"],[0.3333333333333333,\"#9c179e\"],[0.4444444444444444,\"#bd3786\"],[0.5555555555555556,\"#d8576b\"],[0.6666666666666666,\"#ed7953\"],[0.7777777777777778,\"#fb9f3a\"],[0.8888888888888888,\"#fdca26\"],[1.0,\"#f0f921\"]]}],\"heatmap\":[{\"type\":\"heatmap\",\"colorbar\":{\"outlinewidth\":0,\"ticks\":\"\"},\"colorscale\":[[0.0,\"#0d0887\"],[0.1111111111111111,\"#46039f\"],[0.2222222222222222,\"#7201a8\"],[0.3333333333333333,\"#9c179e\"],[0.4444444444444444,\"#bd3786\"],[0.5555555555555556,\"#d8576b\"],[0.6666666666666666,\"#ed7953\"],[0.7777777777777778,\"#fb9f3a\"],[0.8888888888888888,\"#fdca26\"],[1.0,\"#f0f921\"]]}],\"heatmapgl\":[{\"type\":\"heatmapgl\",\"colorbar\":{\"outlinewidth\":0,\"ticks\":\"\"},\"colorscale\":[[0.0,\"#0d0887\"],[0.1111111111111111,\"#46039f\"],[0.2222222222222222,\"#7201a8\"],[0.3333333333333333,\"#9c179e\"],[0.4444444444444444,\"#bd3786\"],[0.5555555555555556,\"#d8576b\"],[0.6666666666666666,\"#ed7953\"],[0.7777777777777778,\"#fb9f3a\"],[0.8888888888888888,\"#fdca26\"],[1.0,\"#f0f921\"]]}],\"contourcarpet\":[{\"type\":\"contourcarpet\",\"colorbar\":{\"outlinewidth\":0,\"ticks\":\"\"}}],\"contour\":[{\"type\":\"contour\",\"colorbar\":{\"outlinewidth\":0,\"ticks\":\"\"},\"colorscale\":[[0.0,\"#0d0887\"],[0.1111111111111111,\"#46039f\"],[0.2222222222222222,\"#7201a8\"],[0.3333333333333333,\"#9c179e\"],[0.4444444444444444,\"#bd3786\"],[0.5555555555555556,\"#d8576b\"],[0.6666666666666666,\"#ed7953\"],[0.7777777777777778,\"#fb9f3a\"],[0.8888888888888888,\"#fdca26\"],[1.0,\"#f0f921\"]]}],\"surface\":[{\"type\":\"surface\",\"colorbar\":{\"outlinewidth\":0,\"ticks\":\"\"},\"colorscale\":[[0.0,\"#0d0887\"],[0.1111111111111111,\"#46039f\"],[0.2222222222222222,\"#7201a8\"],[0.3333333333333333,\"#9c179e\"],[0.4444444444444444,\"#bd3786\"],[0.5555555555555556,\"#d8576b\"],[0.6666666666666666,\"#ed7953\"],[0.7777777777777778,\"#fb9f3a\"],[0.8888888888888888,\"#fdca26\"],[1.0,\"#f0f921\"]]}],\"mesh3d\":[{\"type\":\"mesh3d\",\"colorbar\":{\"outlinewidth\":0,\"ticks\":\"\"}}],\"scatter\":[{\"fillpattern\":{\"fillmode\":\"overlay\",\"size\":10,\"solidity\":0.2},\"type\":\"scatter\"}],\"parcoords\":[{\"type\":\"parcoords\",\"line\":{\"colorbar\":{\"outlinewidth\":0,\"ticks\":\"\"}}}],\"scatterpolargl\":[{\"type\":\"scatterpolargl\",\"marker\":{\"colorbar\":{\"outlinewidth\":0,\"ticks\":\"\"}}}],\"bar\":[{\"error_x\":{\"color\":\"#2a3f5f\"},\"error_y\":{\"color\":\"#2a3f5f\"},\"marker\":{\"line\":{\"color\":\"#E5ECF6\",\"width\":0.5},\"pattern\":{\"fillmode\":\"overlay\",\"size\":10,\"solidity\":0.2}},\"type\":\"bar\"}],\"scattergeo\":[{\"type\":\"scattergeo\",\"marker\":{\"colorbar\":{\"outlinewidth\":0,\"ticks\":\"\"}}}],\"scatterpolar\":[{\"type\":\"scatterpolar\",\"marker\":{\"colorbar\":{\"outlinewidth\":0,\"ticks\":\"\"}}}],\"histogram\":[{\"marker\":{\"pattern\":{\"fillmode\":\"overlay\",\"size\":10,\"solidity\":0.2}},\"type\":\"histogram\"}],\"scattergl\":[{\"type\":\"scattergl\",\"marker\":{\"colorbar\":{\"outlinewidth\":0,\"ticks\":\"\"}}}],\"scatter3d\":[{\"type\":\"scatter3d\",\"line\":{\"colorbar\":{\"outlinewidth\":0,\"ticks\":\"\"}},\"marker\":{\"colorbar\":{\"outlinewidth\":0,\"ticks\":\"\"}}}],\"scattermapbox\":[{\"type\":\"scattermapbox\",\"marker\":{\"colorbar\":{\"outlinewidth\":0,\"ticks\":\"\"}}}],\"scatterternary\":[{\"type\":\"scatterternary\",\"marker\":{\"colorbar\":{\"outlinewidth\":0,\"ticks\":\"\"}}}],\"scattercarpet\":[{\"type\":\"scattercarpet\",\"marker\":{\"colorbar\":{\"outlinewidth\":0,\"ticks\":\"\"}}}],\"carpet\":[{\"aaxis\":{\"endlinecolor\":\"#2a3f5f\",\"gridcolor\":\"white\",\"linecolor\":\"white\",\"minorgridcolor\":\"white\",\"startlinecolor\":\"#2a3f5f\"},\"baxis\":{\"endlinecolor\":\"#2a3f5f\",\"gridcolor\":\"white\",\"linecolor\":\"white\",\"minorgridcolor\":\"white\",\"startlinecolor\":\"#2a3f5f\"},\"type\":\"carpet\"}],\"table\":[{\"cells\":{\"fill\":{\"color\":\"#EBF0F8\"},\"line\":{\"color\":\"white\"}},\"header\":{\"fill\":{\"color\":\"#C8D4E3\"},\"line\":{\"color\":\"white\"}},\"type\":\"table\"}],\"barpolar\":[{\"marker\":{\"line\":{\"color\":\"#E5ECF6\",\"width\":0.5},\"pattern\":{\"fillmode\":\"overlay\",\"size\":10,\"solidity\":0.2}},\"type\":\"barpolar\"}],\"pie\":[{\"automargin\":true,\"type\":\"pie\"}]},\"layout\":{\"autotypenumbers\":\"strict\",\"colorway\":[\"#636efa\",\"#EF553B\",\"#00cc96\",\"#ab63fa\",\"#FFA15A\",\"#19d3f3\",\"#FF6692\",\"#B6E880\",\"#FF97FF\",\"#FECB52\"],\"font\":{\"color\":\"#2a3f5f\"},\"hovermode\":\"closest\",\"hoverlabel\":{\"align\":\"left\"},\"paper_bgcolor\":\"white\",\"plot_bgcolor\":\"#E5ECF6\",\"polar\":{\"bgcolor\":\"#E5ECF6\",\"angularaxis\":{\"gridcolor\":\"white\",\"linecolor\":\"white\",\"ticks\":\"\"},\"radialaxis\":{\"gridcolor\":\"white\",\"linecolor\":\"white\",\"ticks\":\"\"}},\"ternary\":{\"bgcolor\":\"#E5ECF6\",\"aaxis\":{\"gridcolor\":\"white\",\"linecolor\":\"white\",\"ticks\":\"\"},\"baxis\":{\"gridcolor\":\"white\",\"linecolor\":\"white\",\"ticks\":\"\"},\"caxis\":{\"gridcolor\":\"white\",\"linecolor\":\"white\",\"ticks\":\"\"}},\"coloraxis\":{\"colorbar\":{\"outlinewidth\":0,\"ticks\":\"\"}},\"colorscale\":{\"sequential\":[[0.0,\"#0d0887\"],[0.1111111111111111,\"#46039f\"],[0.2222222222222222,\"#7201a8\"],[0.3333333333333333,\"#9c179e\"],[0.4444444444444444,\"#bd3786\"],[0.5555555555555556,\"#d8576b\"],[0.6666666666666666,\"#ed7953\"],[0.7777777777777778,\"#fb9f3a\"],[0.8888888888888888,\"#fdca26\"],[1.0,\"#f0f921\"]],\"sequentialminus\":[[0.0,\"#0d0887\"],[0.1111111111111111,\"#46039f\"],[0.2222222222222222,\"#7201a8\"],[0.3333333333333333,\"#9c179e\"],[0.4444444444444444,\"#bd3786\"],[0.5555555555555556,\"#d8576b\"],[0.6666666666666666,\"#ed7953\"],[0.7777777777777778,\"#fb9f3a\"],[0.8888888888888888,\"#fdca26\"],[1.0,\"#f0f921\"]],\"diverging\":[[0,\"#8e0152\"],[0.1,\"#c51b7d\"],[0.2,\"#de77ae\"],[0.3,\"#f1b6da\"],[0.4,\"#fde0ef\"],[0.5,\"#f7f7f7\"],[0.6,\"#e6f5d0\"],[0.7,\"#b8e186\"],[0.8,\"#7fbc41\"],[0.9,\"#4d9221\"],[1,\"#276419\"]]},\"xaxis\":{\"gridcolor\":\"white\",\"linecolor\":\"white\",\"ticks\":\"\",\"title\":{\"standoff\":15},\"zerolinecolor\":\"white\",\"automargin\":true,\"zerolinewidth\":2},\"yaxis\":{\"gridcolor\":\"white\",\"linecolor\":\"white\",\"ticks\":\"\",\"title\":{\"standoff\":15},\"zerolinecolor\":\"white\",\"automargin\":true,\"zerolinewidth\":2},\"scene\":{\"xaxis\":{\"backgroundcolor\":\"#E5ECF6\",\"gridcolor\":\"white\",\"linecolor\":\"white\",\"showbackground\":true,\"ticks\":\"\",\"zerolinecolor\":\"white\",\"gridwidth\":2},\"yaxis\":{\"backgroundcolor\":\"#E5ECF6\",\"gridcolor\":\"white\",\"linecolor\":\"white\",\"showbackground\":true,\"ticks\":\"\",\"zerolinecolor\":\"white\",\"gridwidth\":2},\"zaxis\":{\"backgroundcolor\":\"#E5ECF6\",\"gridcolor\":\"white\",\"linecolor\":\"white\",\"showbackground\":true,\"ticks\":\"\",\"zerolinecolor\":\"white\",\"gridwidth\":2}},\"shapedefaults\":{\"line\":{\"color\":\"#2a3f5f\"}},\"annotationdefaults\":{\"arrowcolor\":\"#2a3f5f\",\"arrowhead\":0,\"arrowwidth\":1},\"geo\":{\"bgcolor\":\"white\",\"landcolor\":\"#E5ECF6\",\"subunitcolor\":\"white\",\"showland\":true,\"showlakes\":true,\"lakecolor\":\"white\"},\"title\":{\"x\":0.05},\"mapbox\":{\"style\":\"light\"}}},\"xaxis\":{\"anchor\":\"y\",\"domain\":[0.0,1.0],\"title\":{\"text\":\"Weight\"}},\"yaxis\":{\"anchor\":\"x\",\"domain\":[0.0,1.0],\"title\":{\"text\":\"Price\"}},\"legend\":{\"tracegroupgap\":0},\"title\":{\"text\":\"Scatter Plot of Weight vs Price\"},\"width\":800,\"height\":500,\"showlegend\":false},                        {\"responsive\": true}                    ).then(function(){\n                            \nvar gd = document.getElementById('9058f933-2e37-4e47-8816-a2e8c2eab5e3');\nvar x = new MutationObserver(function (mutations, observer) {{\n        var display = window.getComputedStyle(gd).display;\n        if (!display || display === 'none') {{\n            console.log([gd, 'removed!']);\n            Plotly.purge(gd);\n            observer.disconnect();\n        }}\n}});\n\n// Listen for the removal of the full notebook cells\nvar notebookContainer = gd.closest('#notebook-container');\nif (notebookContainer) {{\n    x.observe(notebookContainer, {childList: true});\n}}\n\n// Listen for the clearing of the current output cell\nvar outputEl = gd.closest('.output');\nif (outputEl) {{\n    x.observe(outputEl, {childList: true});\n}}\n\n                        })                };                });            </script>        </div>"
     },
     "metadata": {},
     "output_type": "display_data"
    }
   ],
   "source": [
    "import plotly.express as px\n",
    "fig = px.scatter(df, x='Weight', y='Price', title='Scatter Plot of Weight vs Price')\n",
    "fig.update_traces(marker=dict(size=9, opacity=0.7, color='blue', symbol='circle'))\n",
    "fig.update_layout(\n",
    "    width=800,\n",
    "    height=500,\n",
    "    xaxis_title='Weight',\n",
    "    yaxis_title='Price',\n",
    "    showlegend=False,\n",
    ")\n",
    "fig.show()"
   ],
   "metadata": {
    "collapsed": false,
    "pycharm": {
     "name": "#%%\n"
    }
   }
  },
  {
   "cell_type": "code",
   "execution_count": 4225,
   "outputs": [
    {
     "data": {
      "text/plain": "Ram            0.742905\nWeight         0.209867\nPrice          1.000000\nTouchscreen    0.192917\nIps            0.253320\nppi            0.475368\nHDD           -0.096891\nSSD            0.670660\nName: Price, dtype: float64"
     },
     "execution_count": 4225,
     "metadata": {},
     "output_type": "execute_result"
    }
   ],
   "source": [
    "df.corr()['Price']"
   ],
   "metadata": {
    "collapsed": false,
    "pycharm": {
     "name": "#%%\n"
    }
   }
  },
  {
   "cell_type": "markdown",
   "source": [
    "# Visualizing correlation"
   ],
   "metadata": {
    "collapsed": false,
    "pycharm": {
     "name": "#%% md\n"
    }
   }
  },
  {
   "cell_type": "code",
   "execution_count": 4226,
   "outputs": [
    {
     "data": {
      "application/vnd.plotly.v1+json": {
       "data": [
        {
         "coloraxis": "coloraxis",
         "name": "0",
         "x": [
          "Ram",
          "Weight",
          "Price",
          "Touchscreen",
          "Ips",
          "ppi",
          "HDD",
          "SSD"
         ],
         "y": [
          "Ram",
          "Weight",
          "Price",
          "Touchscreen",
          "Ips",
          "ppi",
          "HDD",
          "SSD"
         ],
         "z": [
          [
           1.0,
           0.3833616422755845,
           0.7429050080846196,
           0.11887527895097794,
           0.20794868903510247,
           0.3056881727550515,
           0.09580751798386168,
           0.6033793907133875
          ],
          [
           0.3833616422755845,
           1.0,
           0.2098669245531431,
           -0.29300374794244394,
           0.018643229430552313,
           -0.32188270273451874,
           0.5141472196220471,
           -0.06381800506453543
          ],
          [
           0.7429050080846196,
           0.2098669245531431,
           1.0,
           0.1929170087409292,
           0.2533195475459309,
           0.47536841696559545,
           -0.09689129776872692,
           0.6706598015928436
          ],
          [
           0.11887527895097794,
           -0.29300374794244394,
           0.1929170087409292,
           1.0,
           0.14802569448530217,
           0.4585713588881528,
           -0.20876617729829292,
           0.25757704208677756
          ],
          [
           0.20794868903510247,
           0.018643229430552313,
           0.2533195475459309,
           0.14802569448530217,
           1.0,
           0.29914183683120943,
           -0.09358822070844158,
           0.2253111894635819
          ],
          [
           0.3056881727550515,
           -0.32188270273451874,
           0.47536841696559545,
           0.4585713588881528,
           0.29914183683120943,
           1.0,
           -0.2946982944171459,
           0.5094366789717377
          ],
          [
           0.09580751798386168,
           0.5141472196220471,
           -0.09689129776872692,
           -0.20876617729829292,
           -0.09358822070844158,
           -0.2946982944171459,
           1.0,
           -0.40074984389690355
          ],
          [
           0.6033793907133875,
           -0.06381800506453543,
           0.6706598015928436,
           0.25757704208677756,
           0.2253111894635819,
           0.5094366789717377,
           -0.40074984389690355,
           1.0
          ]
         ],
         "type": "heatmap",
         "xaxis": "x",
         "yaxis": "y",
         "hovertemplate": "x: %{x}<br>y: %{y}<br>Correlation: %{z}<extra></extra>"
        }
       ],
       "layout": {
        "template": {
         "data": {
          "histogram2dcontour": [
           {
            "type": "histogram2dcontour",
            "colorbar": {
             "outlinewidth": 0,
             "ticks": ""
            },
            "colorscale": [
             [
              0.0,
              "#0d0887"
             ],
             [
              0.1111111111111111,
              "#46039f"
             ],
             [
              0.2222222222222222,
              "#7201a8"
             ],
             [
              0.3333333333333333,
              "#9c179e"
             ],
             [
              0.4444444444444444,
              "#bd3786"
             ],
             [
              0.5555555555555556,
              "#d8576b"
             ],
             [
              0.6666666666666666,
              "#ed7953"
             ],
             [
              0.7777777777777778,
              "#fb9f3a"
             ],
             [
              0.8888888888888888,
              "#fdca26"
             ],
             [
              1.0,
              "#f0f921"
             ]
            ]
           }
          ],
          "choropleth": [
           {
            "type": "choropleth",
            "colorbar": {
             "outlinewidth": 0,
             "ticks": ""
            }
           }
          ],
          "histogram2d": [
           {
            "type": "histogram2d",
            "colorbar": {
             "outlinewidth": 0,
             "ticks": ""
            },
            "colorscale": [
             [
              0.0,
              "#0d0887"
             ],
             [
              0.1111111111111111,
              "#46039f"
             ],
             [
              0.2222222222222222,
              "#7201a8"
             ],
             [
              0.3333333333333333,
              "#9c179e"
             ],
             [
              0.4444444444444444,
              "#bd3786"
             ],
             [
              0.5555555555555556,
              "#d8576b"
             ],
             [
              0.6666666666666666,
              "#ed7953"
             ],
             [
              0.7777777777777778,
              "#fb9f3a"
             ],
             [
              0.8888888888888888,
              "#fdca26"
             ],
             [
              1.0,
              "#f0f921"
             ]
            ]
           }
          ],
          "heatmap": [
           {
            "type": "heatmap",
            "colorbar": {
             "outlinewidth": 0,
             "ticks": ""
            },
            "colorscale": [
             [
              0.0,
              "#0d0887"
             ],
             [
              0.1111111111111111,
              "#46039f"
             ],
             [
              0.2222222222222222,
              "#7201a8"
             ],
             [
              0.3333333333333333,
              "#9c179e"
             ],
             [
              0.4444444444444444,
              "#bd3786"
             ],
             [
              0.5555555555555556,
              "#d8576b"
             ],
             [
              0.6666666666666666,
              "#ed7953"
             ],
             [
              0.7777777777777778,
              "#fb9f3a"
             ],
             [
              0.8888888888888888,
              "#fdca26"
             ],
             [
              1.0,
              "#f0f921"
             ]
            ]
           }
          ],
          "heatmapgl": [
           {
            "type": "heatmapgl",
            "colorbar": {
             "outlinewidth": 0,
             "ticks": ""
            },
            "colorscale": [
             [
              0.0,
              "#0d0887"
             ],
             [
              0.1111111111111111,
              "#46039f"
             ],
             [
              0.2222222222222222,
              "#7201a8"
             ],
             [
              0.3333333333333333,
              "#9c179e"
             ],
             [
              0.4444444444444444,
              "#bd3786"
             ],
             [
              0.5555555555555556,
              "#d8576b"
             ],
             [
              0.6666666666666666,
              "#ed7953"
             ],
             [
              0.7777777777777778,
              "#fb9f3a"
             ],
             [
              0.8888888888888888,
              "#fdca26"
             ],
             [
              1.0,
              "#f0f921"
             ]
            ]
           }
          ],
          "contourcarpet": [
           {
            "type": "contourcarpet",
            "colorbar": {
             "outlinewidth": 0,
             "ticks": ""
            }
           }
          ],
          "contour": [
           {
            "type": "contour",
            "colorbar": {
             "outlinewidth": 0,
             "ticks": ""
            },
            "colorscale": [
             [
              0.0,
              "#0d0887"
             ],
             [
              0.1111111111111111,
              "#46039f"
             ],
             [
              0.2222222222222222,
              "#7201a8"
             ],
             [
              0.3333333333333333,
              "#9c179e"
             ],
             [
              0.4444444444444444,
              "#bd3786"
             ],
             [
              0.5555555555555556,
              "#d8576b"
             ],
             [
              0.6666666666666666,
              "#ed7953"
             ],
             [
              0.7777777777777778,
              "#fb9f3a"
             ],
             [
              0.8888888888888888,
              "#fdca26"
             ],
             [
              1.0,
              "#f0f921"
             ]
            ]
           }
          ],
          "surface": [
           {
            "type": "surface",
            "colorbar": {
             "outlinewidth": 0,
             "ticks": ""
            },
            "colorscale": [
             [
              0.0,
              "#0d0887"
             ],
             [
              0.1111111111111111,
              "#46039f"
             ],
             [
              0.2222222222222222,
              "#7201a8"
             ],
             [
              0.3333333333333333,
              "#9c179e"
             ],
             [
              0.4444444444444444,
              "#bd3786"
             ],
             [
              0.5555555555555556,
              "#d8576b"
             ],
             [
              0.6666666666666666,
              "#ed7953"
             ],
             [
              0.7777777777777778,
              "#fb9f3a"
             ],
             [
              0.8888888888888888,
              "#fdca26"
             ],
             [
              1.0,
              "#f0f921"
             ]
            ]
           }
          ],
          "mesh3d": [
           {
            "type": "mesh3d",
            "colorbar": {
             "outlinewidth": 0,
             "ticks": ""
            }
           }
          ],
          "scatter": [
           {
            "fillpattern": {
             "fillmode": "overlay",
             "size": 10,
             "solidity": 0.2
            },
            "type": "scatter"
           }
          ],
          "parcoords": [
           {
            "type": "parcoords",
            "line": {
             "colorbar": {
              "outlinewidth": 0,
              "ticks": ""
             }
            }
           }
          ],
          "scatterpolargl": [
           {
            "type": "scatterpolargl",
            "marker": {
             "colorbar": {
              "outlinewidth": 0,
              "ticks": ""
             }
            }
           }
          ],
          "bar": [
           {
            "error_x": {
             "color": "#2a3f5f"
            },
            "error_y": {
             "color": "#2a3f5f"
            },
            "marker": {
             "line": {
              "color": "#E5ECF6",
              "width": 0.5
             },
             "pattern": {
              "fillmode": "overlay",
              "size": 10,
              "solidity": 0.2
             }
            },
            "type": "bar"
           }
          ],
          "scattergeo": [
           {
            "type": "scattergeo",
            "marker": {
             "colorbar": {
              "outlinewidth": 0,
              "ticks": ""
             }
            }
           }
          ],
          "scatterpolar": [
           {
            "type": "scatterpolar",
            "marker": {
             "colorbar": {
              "outlinewidth": 0,
              "ticks": ""
             }
            }
           }
          ],
          "histogram": [
           {
            "marker": {
             "pattern": {
              "fillmode": "overlay",
              "size": 10,
              "solidity": 0.2
             }
            },
            "type": "histogram"
           }
          ],
          "scattergl": [
           {
            "type": "scattergl",
            "marker": {
             "colorbar": {
              "outlinewidth": 0,
              "ticks": ""
             }
            }
           }
          ],
          "scatter3d": [
           {
            "type": "scatter3d",
            "line": {
             "colorbar": {
              "outlinewidth": 0,
              "ticks": ""
             }
            },
            "marker": {
             "colorbar": {
              "outlinewidth": 0,
              "ticks": ""
             }
            }
           }
          ],
          "scattermapbox": [
           {
            "type": "scattermapbox",
            "marker": {
             "colorbar": {
              "outlinewidth": 0,
              "ticks": ""
             }
            }
           }
          ],
          "scatterternary": [
           {
            "type": "scatterternary",
            "marker": {
             "colorbar": {
              "outlinewidth": 0,
              "ticks": ""
             }
            }
           }
          ],
          "scattercarpet": [
           {
            "type": "scattercarpet",
            "marker": {
             "colorbar": {
              "outlinewidth": 0,
              "ticks": ""
             }
            }
           }
          ],
          "carpet": [
           {
            "aaxis": {
             "endlinecolor": "#2a3f5f",
             "gridcolor": "white",
             "linecolor": "white",
             "minorgridcolor": "white",
             "startlinecolor": "#2a3f5f"
            },
            "baxis": {
             "endlinecolor": "#2a3f5f",
             "gridcolor": "white",
             "linecolor": "white",
             "minorgridcolor": "white",
             "startlinecolor": "#2a3f5f"
            },
            "type": "carpet"
           }
          ],
          "table": [
           {
            "cells": {
             "fill": {
              "color": "#EBF0F8"
             },
             "line": {
              "color": "white"
             }
            },
            "header": {
             "fill": {
              "color": "#C8D4E3"
             },
             "line": {
              "color": "white"
             }
            },
            "type": "table"
           }
          ],
          "barpolar": [
           {
            "marker": {
             "line": {
              "color": "#E5ECF6",
              "width": 0.5
             },
             "pattern": {
              "fillmode": "overlay",
              "size": 10,
              "solidity": 0.2
             }
            },
            "type": "barpolar"
           }
          ],
          "pie": [
           {
            "automargin": true,
            "type": "pie"
           }
          ]
         },
         "layout": {
          "autotypenumbers": "strict",
          "colorway": [
           "#636efa",
           "#EF553B",
           "#00cc96",
           "#ab63fa",
           "#FFA15A",
           "#19d3f3",
           "#FF6692",
           "#B6E880",
           "#FF97FF",
           "#FECB52"
          ],
          "font": {
           "color": "#2a3f5f"
          },
          "hovermode": "closest",
          "hoverlabel": {
           "align": "left"
          },
          "paper_bgcolor": "white",
          "plot_bgcolor": "#E5ECF6",
          "polar": {
           "bgcolor": "#E5ECF6",
           "angularaxis": {
            "gridcolor": "white",
            "linecolor": "white",
            "ticks": ""
           },
           "radialaxis": {
            "gridcolor": "white",
            "linecolor": "white",
            "ticks": ""
           }
          },
          "ternary": {
           "bgcolor": "#E5ECF6",
           "aaxis": {
            "gridcolor": "white",
            "linecolor": "white",
            "ticks": ""
           },
           "baxis": {
            "gridcolor": "white",
            "linecolor": "white",
            "ticks": ""
           },
           "caxis": {
            "gridcolor": "white",
            "linecolor": "white",
            "ticks": ""
           }
          },
          "coloraxis": {
           "colorbar": {
            "outlinewidth": 0,
            "ticks": ""
           }
          },
          "colorscale": {
           "sequential": [
            [
             0.0,
             "#0d0887"
            ],
            [
             0.1111111111111111,
             "#46039f"
            ],
            [
             0.2222222222222222,
             "#7201a8"
            ],
            [
             0.3333333333333333,
             "#9c179e"
            ],
            [
             0.4444444444444444,
             "#bd3786"
            ],
            [
             0.5555555555555556,
             "#d8576b"
            ],
            [
             0.6666666666666666,
             "#ed7953"
            ],
            [
             0.7777777777777778,
             "#fb9f3a"
            ],
            [
             0.8888888888888888,
             "#fdca26"
            ],
            [
             1.0,
             "#f0f921"
            ]
           ],
           "sequentialminus": [
            [
             0.0,
             "#0d0887"
            ],
            [
             0.1111111111111111,
             "#46039f"
            ],
            [
             0.2222222222222222,
             "#7201a8"
            ],
            [
             0.3333333333333333,
             "#9c179e"
            ],
            [
             0.4444444444444444,
             "#bd3786"
            ],
            [
             0.5555555555555556,
             "#d8576b"
            ],
            [
             0.6666666666666666,
             "#ed7953"
            ],
            [
             0.7777777777777778,
             "#fb9f3a"
            ],
            [
             0.8888888888888888,
             "#fdca26"
            ],
            [
             1.0,
             "#f0f921"
            ]
           ],
           "diverging": [
            [
             0,
             "#8e0152"
            ],
            [
             0.1,
             "#c51b7d"
            ],
            [
             0.2,
             "#de77ae"
            ],
            [
             0.3,
             "#f1b6da"
            ],
            [
             0.4,
             "#fde0ef"
            ],
            [
             0.5,
             "#f7f7f7"
            ],
            [
             0.6,
             "#e6f5d0"
            ],
            [
             0.7,
             "#b8e186"
            ],
            [
             0.8,
             "#7fbc41"
            ],
            [
             0.9,
             "#4d9221"
            ],
            [
             1,
             "#276419"
            ]
           ]
          },
          "xaxis": {
           "gridcolor": "white",
           "linecolor": "white",
           "ticks": "",
           "title": {
            "standoff": 15
           },
           "zerolinecolor": "white",
           "automargin": true,
           "zerolinewidth": 2
          },
          "yaxis": {
           "gridcolor": "white",
           "linecolor": "white",
           "ticks": "",
           "title": {
            "standoff": 15
           },
           "zerolinecolor": "white",
           "automargin": true,
           "zerolinewidth": 2
          },
          "scene": {
           "xaxis": {
            "backgroundcolor": "#E5ECF6",
            "gridcolor": "white",
            "linecolor": "white",
            "showbackground": true,
            "ticks": "",
            "zerolinecolor": "white",
            "gridwidth": 2
           },
           "yaxis": {
            "backgroundcolor": "#E5ECF6",
            "gridcolor": "white",
            "linecolor": "white",
            "showbackground": true,
            "ticks": "",
            "zerolinecolor": "white",
            "gridwidth": 2
           },
           "zaxis": {
            "backgroundcolor": "#E5ECF6",
            "gridcolor": "white",
            "linecolor": "white",
            "showbackground": true,
            "ticks": "",
            "zerolinecolor": "white",
            "gridwidth": 2
           }
          },
          "shapedefaults": {
           "line": {
            "color": "#2a3f5f"
           }
          },
          "annotationdefaults": {
           "arrowcolor": "#2a3f5f",
           "arrowhead": 0,
           "arrowwidth": 1
          },
          "geo": {
           "bgcolor": "white",
           "landcolor": "#E5ECF6",
           "subunitcolor": "white",
           "showland": true,
           "showlakes": true,
           "lakecolor": "white"
          },
          "title": {
           "x": 0.05
          },
          "mapbox": {
           "style": "light"
          }
         }
        },
        "xaxis": {
         "anchor": "y",
         "domain": [
          0.0,
          1.0
         ],
         "scaleanchor": "y",
         "constrain": "domain",
         "title": {
          "text": "Features"
         }
        },
        "yaxis": {
         "anchor": "x",
         "domain": [
          0.0,
          1.0
         ],
         "autorange": "reversed",
         "constrain": "domain",
         "title": {
          "text": "Features"
         }
        },
        "coloraxis": {
         "colorbar": {
          "title": {
           "text": "Correlation"
          }
         },
         "colorscale": [
          [
           0.0,
           "#440154"
          ],
          [
           0.1111111111111111,
           "#482878"
          ],
          [
           0.2222222222222222,
           "#3e4989"
          ],
          [
           0.3333333333333333,
           "#31688e"
          ],
          [
           0.4444444444444444,
           "#26828e"
          ],
          [
           0.5555555555555556,
           "#1f9e89"
          ],
          [
           0.6666666666666666,
           "#35b779"
          ],
          [
           0.7777777777777778,
           "#6ece58"
          ],
          [
           0.8888888888888888,
           "#b5de2b"
          ],
          [
           1.0,
           "#fde725"
          ]
         ]
        },
        "margin": {
         "t": 60
        },
        "title": {
         "text": "Correlation Heatmap"
        }
       },
       "config": {
        "plotlyServerURL": "https://plot.ly"
       }
      },
      "text/html": "<div>                            <div id=\"7446d34f-e3a2-41db-9725-1369c082d746\" class=\"plotly-graph-div\" style=\"height:525px; width:100%;\"></div>            <script type=\"text/javascript\">                require([\"plotly\"], function(Plotly) {                    window.PLOTLYENV=window.PLOTLYENV || {};                                    if (document.getElementById(\"7446d34f-e3a2-41db-9725-1369c082d746\")) {                    Plotly.newPlot(                        \"7446d34f-e3a2-41db-9725-1369c082d746\",                        [{\"coloraxis\":\"coloraxis\",\"name\":\"0\",\"x\":[\"Ram\",\"Weight\",\"Price\",\"Touchscreen\",\"Ips\",\"ppi\",\"HDD\",\"SSD\"],\"y\":[\"Ram\",\"Weight\",\"Price\",\"Touchscreen\",\"Ips\",\"ppi\",\"HDD\",\"SSD\"],\"z\":[[1.0,0.3833616422755845,0.7429050080846196,0.11887527895097794,0.20794868903510247,0.3056881727550515,0.09580751798386168,0.6033793907133875],[0.3833616422755845,1.0,0.2098669245531431,-0.29300374794244394,0.018643229430552313,-0.32188270273451874,0.5141472196220471,-0.06381800506453543],[0.7429050080846196,0.2098669245531431,1.0,0.1929170087409292,0.2533195475459309,0.47536841696559545,-0.09689129776872692,0.6706598015928436],[0.11887527895097794,-0.29300374794244394,0.1929170087409292,1.0,0.14802569448530217,0.4585713588881528,-0.20876617729829292,0.25757704208677756],[0.20794868903510247,0.018643229430552313,0.2533195475459309,0.14802569448530217,1.0,0.29914183683120943,-0.09358822070844158,0.2253111894635819],[0.3056881727550515,-0.32188270273451874,0.47536841696559545,0.4585713588881528,0.29914183683120943,1.0,-0.2946982944171459,0.5094366789717377],[0.09580751798386168,0.5141472196220471,-0.09689129776872692,-0.20876617729829292,-0.09358822070844158,-0.2946982944171459,1.0,-0.40074984389690355],[0.6033793907133875,-0.06381800506453543,0.6706598015928436,0.25757704208677756,0.2253111894635819,0.5094366789717377,-0.40074984389690355,1.0]],\"type\":\"heatmap\",\"xaxis\":\"x\",\"yaxis\":\"y\",\"hovertemplate\":\"x: %{x}\\u003cbr\\u003ey: %{y}\\u003cbr\\u003eCorrelation: %{z}\\u003cextra\\u003e\\u003c\\u002fextra\\u003e\"}],                        {\"template\":{\"data\":{\"histogram2dcontour\":[{\"type\":\"histogram2dcontour\",\"colorbar\":{\"outlinewidth\":0,\"ticks\":\"\"},\"colorscale\":[[0.0,\"#0d0887\"],[0.1111111111111111,\"#46039f\"],[0.2222222222222222,\"#7201a8\"],[0.3333333333333333,\"#9c179e\"],[0.4444444444444444,\"#bd3786\"],[0.5555555555555556,\"#d8576b\"],[0.6666666666666666,\"#ed7953\"],[0.7777777777777778,\"#fb9f3a\"],[0.8888888888888888,\"#fdca26\"],[1.0,\"#f0f921\"]]}],\"choropleth\":[{\"type\":\"choropleth\",\"colorbar\":{\"outlinewidth\":0,\"ticks\":\"\"}}],\"histogram2d\":[{\"type\":\"histogram2d\",\"colorbar\":{\"outlinewidth\":0,\"ticks\":\"\"},\"colorscale\":[[0.0,\"#0d0887\"],[0.1111111111111111,\"#46039f\"],[0.2222222222222222,\"#7201a8\"],[0.3333333333333333,\"#9c179e\"],[0.4444444444444444,\"#bd3786\"],[0.5555555555555556,\"#d8576b\"],[0.6666666666666666,\"#ed7953\"],[0.7777777777777778,\"#fb9f3a\"],[0.8888888888888888,\"#fdca26\"],[1.0,\"#f0f921\"]]}],\"heatmap\":[{\"type\":\"heatmap\",\"colorbar\":{\"outlinewidth\":0,\"ticks\":\"\"},\"colorscale\":[[0.0,\"#0d0887\"],[0.1111111111111111,\"#46039f\"],[0.2222222222222222,\"#7201a8\"],[0.3333333333333333,\"#9c179e\"],[0.4444444444444444,\"#bd3786\"],[0.5555555555555556,\"#d8576b\"],[0.6666666666666666,\"#ed7953\"],[0.7777777777777778,\"#fb9f3a\"],[0.8888888888888888,\"#fdca26\"],[1.0,\"#f0f921\"]]}],\"heatmapgl\":[{\"type\":\"heatmapgl\",\"colorbar\":{\"outlinewidth\":0,\"ticks\":\"\"},\"colorscale\":[[0.0,\"#0d0887\"],[0.1111111111111111,\"#46039f\"],[0.2222222222222222,\"#7201a8\"],[0.3333333333333333,\"#9c179e\"],[0.4444444444444444,\"#bd3786\"],[0.5555555555555556,\"#d8576b\"],[0.6666666666666666,\"#ed7953\"],[0.7777777777777778,\"#fb9f3a\"],[0.8888888888888888,\"#fdca26\"],[1.0,\"#f0f921\"]]}],\"contourcarpet\":[{\"type\":\"contourcarpet\",\"colorbar\":{\"outlinewidth\":0,\"ticks\":\"\"}}],\"contour\":[{\"type\":\"contour\",\"colorbar\":{\"outlinewidth\":0,\"ticks\":\"\"},\"colorscale\":[[0.0,\"#0d0887\"],[0.1111111111111111,\"#46039f\"],[0.2222222222222222,\"#7201a8\"],[0.3333333333333333,\"#9c179e\"],[0.4444444444444444,\"#bd3786\"],[0.5555555555555556,\"#d8576b\"],[0.6666666666666666,\"#ed7953\"],[0.7777777777777778,\"#fb9f3a\"],[0.8888888888888888,\"#fdca26\"],[1.0,\"#f0f921\"]]}],\"surface\":[{\"type\":\"surface\",\"colorbar\":{\"outlinewidth\":0,\"ticks\":\"\"},\"colorscale\":[[0.0,\"#0d0887\"],[0.1111111111111111,\"#46039f\"],[0.2222222222222222,\"#7201a8\"],[0.3333333333333333,\"#9c179e\"],[0.4444444444444444,\"#bd3786\"],[0.5555555555555556,\"#d8576b\"],[0.6666666666666666,\"#ed7953\"],[0.7777777777777778,\"#fb9f3a\"],[0.8888888888888888,\"#fdca26\"],[1.0,\"#f0f921\"]]}],\"mesh3d\":[{\"type\":\"mesh3d\",\"colorbar\":{\"outlinewidth\":0,\"ticks\":\"\"}}],\"scatter\":[{\"fillpattern\":{\"fillmode\":\"overlay\",\"size\":10,\"solidity\":0.2},\"type\":\"scatter\"}],\"parcoords\":[{\"type\":\"parcoords\",\"line\":{\"colorbar\":{\"outlinewidth\":0,\"ticks\":\"\"}}}],\"scatterpolargl\":[{\"type\":\"scatterpolargl\",\"marker\":{\"colorbar\":{\"outlinewidth\":0,\"ticks\":\"\"}}}],\"bar\":[{\"error_x\":{\"color\":\"#2a3f5f\"},\"error_y\":{\"color\":\"#2a3f5f\"},\"marker\":{\"line\":{\"color\":\"#E5ECF6\",\"width\":0.5},\"pattern\":{\"fillmode\":\"overlay\",\"size\":10,\"solidity\":0.2}},\"type\":\"bar\"}],\"scattergeo\":[{\"type\":\"scattergeo\",\"marker\":{\"colorbar\":{\"outlinewidth\":0,\"ticks\":\"\"}}}],\"scatterpolar\":[{\"type\":\"scatterpolar\",\"marker\":{\"colorbar\":{\"outlinewidth\":0,\"ticks\":\"\"}}}],\"histogram\":[{\"marker\":{\"pattern\":{\"fillmode\":\"overlay\",\"size\":10,\"solidity\":0.2}},\"type\":\"histogram\"}],\"scattergl\":[{\"type\":\"scattergl\",\"marker\":{\"colorbar\":{\"outlinewidth\":0,\"ticks\":\"\"}}}],\"scatter3d\":[{\"type\":\"scatter3d\",\"line\":{\"colorbar\":{\"outlinewidth\":0,\"ticks\":\"\"}},\"marker\":{\"colorbar\":{\"outlinewidth\":0,\"ticks\":\"\"}}}],\"scattermapbox\":[{\"type\":\"scattermapbox\",\"marker\":{\"colorbar\":{\"outlinewidth\":0,\"ticks\":\"\"}}}],\"scatterternary\":[{\"type\":\"scatterternary\",\"marker\":{\"colorbar\":{\"outlinewidth\":0,\"ticks\":\"\"}}}],\"scattercarpet\":[{\"type\":\"scattercarpet\",\"marker\":{\"colorbar\":{\"outlinewidth\":0,\"ticks\":\"\"}}}],\"carpet\":[{\"aaxis\":{\"endlinecolor\":\"#2a3f5f\",\"gridcolor\":\"white\",\"linecolor\":\"white\",\"minorgridcolor\":\"white\",\"startlinecolor\":\"#2a3f5f\"},\"baxis\":{\"endlinecolor\":\"#2a3f5f\",\"gridcolor\":\"white\",\"linecolor\":\"white\",\"minorgridcolor\":\"white\",\"startlinecolor\":\"#2a3f5f\"},\"type\":\"carpet\"}],\"table\":[{\"cells\":{\"fill\":{\"color\":\"#EBF0F8\"},\"line\":{\"color\":\"white\"}},\"header\":{\"fill\":{\"color\":\"#C8D4E3\"},\"line\":{\"color\":\"white\"}},\"type\":\"table\"}],\"barpolar\":[{\"marker\":{\"line\":{\"color\":\"#E5ECF6\",\"width\":0.5},\"pattern\":{\"fillmode\":\"overlay\",\"size\":10,\"solidity\":0.2}},\"type\":\"barpolar\"}],\"pie\":[{\"automargin\":true,\"type\":\"pie\"}]},\"layout\":{\"autotypenumbers\":\"strict\",\"colorway\":[\"#636efa\",\"#EF553B\",\"#00cc96\",\"#ab63fa\",\"#FFA15A\",\"#19d3f3\",\"#FF6692\",\"#B6E880\",\"#FF97FF\",\"#FECB52\"],\"font\":{\"color\":\"#2a3f5f\"},\"hovermode\":\"closest\",\"hoverlabel\":{\"align\":\"left\"},\"paper_bgcolor\":\"white\",\"plot_bgcolor\":\"#E5ECF6\",\"polar\":{\"bgcolor\":\"#E5ECF6\",\"angularaxis\":{\"gridcolor\":\"white\",\"linecolor\":\"white\",\"ticks\":\"\"},\"radialaxis\":{\"gridcolor\":\"white\",\"linecolor\":\"white\",\"ticks\":\"\"}},\"ternary\":{\"bgcolor\":\"#E5ECF6\",\"aaxis\":{\"gridcolor\":\"white\",\"linecolor\":\"white\",\"ticks\":\"\"},\"baxis\":{\"gridcolor\":\"white\",\"linecolor\":\"white\",\"ticks\":\"\"},\"caxis\":{\"gridcolor\":\"white\",\"linecolor\":\"white\",\"ticks\":\"\"}},\"coloraxis\":{\"colorbar\":{\"outlinewidth\":0,\"ticks\":\"\"}},\"colorscale\":{\"sequential\":[[0.0,\"#0d0887\"],[0.1111111111111111,\"#46039f\"],[0.2222222222222222,\"#7201a8\"],[0.3333333333333333,\"#9c179e\"],[0.4444444444444444,\"#bd3786\"],[0.5555555555555556,\"#d8576b\"],[0.6666666666666666,\"#ed7953\"],[0.7777777777777778,\"#fb9f3a\"],[0.8888888888888888,\"#fdca26\"],[1.0,\"#f0f921\"]],\"sequentialminus\":[[0.0,\"#0d0887\"],[0.1111111111111111,\"#46039f\"],[0.2222222222222222,\"#7201a8\"],[0.3333333333333333,\"#9c179e\"],[0.4444444444444444,\"#bd3786\"],[0.5555555555555556,\"#d8576b\"],[0.6666666666666666,\"#ed7953\"],[0.7777777777777778,\"#fb9f3a\"],[0.8888888888888888,\"#fdca26\"],[1.0,\"#f0f921\"]],\"diverging\":[[0,\"#8e0152\"],[0.1,\"#c51b7d\"],[0.2,\"#de77ae\"],[0.3,\"#f1b6da\"],[0.4,\"#fde0ef\"],[0.5,\"#f7f7f7\"],[0.6,\"#e6f5d0\"],[0.7,\"#b8e186\"],[0.8,\"#7fbc41\"],[0.9,\"#4d9221\"],[1,\"#276419\"]]},\"xaxis\":{\"gridcolor\":\"white\",\"linecolor\":\"white\",\"ticks\":\"\",\"title\":{\"standoff\":15},\"zerolinecolor\":\"white\",\"automargin\":true,\"zerolinewidth\":2},\"yaxis\":{\"gridcolor\":\"white\",\"linecolor\":\"white\",\"ticks\":\"\",\"title\":{\"standoff\":15},\"zerolinecolor\":\"white\",\"automargin\":true,\"zerolinewidth\":2},\"scene\":{\"xaxis\":{\"backgroundcolor\":\"#E5ECF6\",\"gridcolor\":\"white\",\"linecolor\":\"white\",\"showbackground\":true,\"ticks\":\"\",\"zerolinecolor\":\"white\",\"gridwidth\":2},\"yaxis\":{\"backgroundcolor\":\"#E5ECF6\",\"gridcolor\":\"white\",\"linecolor\":\"white\",\"showbackground\":true,\"ticks\":\"\",\"zerolinecolor\":\"white\",\"gridwidth\":2},\"zaxis\":{\"backgroundcolor\":\"#E5ECF6\",\"gridcolor\":\"white\",\"linecolor\":\"white\",\"showbackground\":true,\"ticks\":\"\",\"zerolinecolor\":\"white\",\"gridwidth\":2}},\"shapedefaults\":{\"line\":{\"color\":\"#2a3f5f\"}},\"annotationdefaults\":{\"arrowcolor\":\"#2a3f5f\",\"arrowhead\":0,\"arrowwidth\":1},\"geo\":{\"bgcolor\":\"white\",\"landcolor\":\"#E5ECF6\",\"subunitcolor\":\"white\",\"showland\":true,\"showlakes\":true,\"lakecolor\":\"white\"},\"title\":{\"x\":0.05},\"mapbox\":{\"style\":\"light\"}}},\"xaxis\":{\"anchor\":\"y\",\"domain\":[0.0,1.0],\"scaleanchor\":\"y\",\"constrain\":\"domain\",\"title\":{\"text\":\"Features\"}},\"yaxis\":{\"anchor\":\"x\",\"domain\":[0.0,1.0],\"autorange\":\"reversed\",\"constrain\":\"domain\",\"title\":{\"text\":\"Features\"}},\"coloraxis\":{\"colorbar\":{\"title\":{\"text\":\"Correlation\"}},\"colorscale\":[[0.0,\"#440154\"],[0.1111111111111111,\"#482878\"],[0.2222222222222222,\"#3e4989\"],[0.3333333333333333,\"#31688e\"],[0.4444444444444444,\"#26828e\"],[0.5555555555555556,\"#1f9e89\"],[0.6666666666666666,\"#35b779\"],[0.7777777777777778,\"#6ece58\"],[0.8888888888888888,\"#b5de2b\"],[1.0,\"#fde725\"]]},\"margin\":{\"t\":60},\"title\":{\"text\":\"Correlation Heatmap\"}},                        {\"responsive\": true}                    ).then(function(){\n                            \nvar gd = document.getElementById('7446d34f-e3a2-41db-9725-1369c082d746');\nvar x = new MutationObserver(function (mutations, observer) {{\n        var display = window.getComputedStyle(gd).display;\n        if (!display || display === 'none') {{\n            console.log([gd, 'removed!']);\n            Plotly.purge(gd);\n            observer.disconnect();\n        }}\n}});\n\n// Listen for the removal of the full notebook cells\nvar notebookContainer = gd.closest('#notebook-container');\nif (notebookContainer) {{\n    x.observe(notebookContainer, {childList: true});\n}}\n\n// Listen for the clearing of the current output cell\nvar outputEl = gd.closest('.output');\nif (outputEl) {{\n    x.observe(outputEl, {childList: true});\n}}\n\n                        })                };                });            </script>        </div>"
     },
     "metadata": {},
     "output_type": "display_data"
    }
   ],
   "source": [
    "import plotly.express as px\n",
    "\n",
    "correlation_matrix = df.corr()\n",
    "fig = px.imshow(correlation_matrix,\n",
    "                labels=dict(color=\"Correlation\"),\n",
    "                x=correlation_matrix.columns,\n",
    "                y=correlation_matrix.index,\n",
    "                color_continuous_scale='Viridis')\n",
    "\n",
    "fig.update_layout(title=\"Correlation Heatmap\",\n",
    "                  xaxis_title=\"Features\",\n",
    "                  yaxis_title=\"Features\")\n",
    "\n",
    "fig.show()"
   ],
   "metadata": {
    "collapsed": false,
    "pycharm": {
     "name": "#%%\n"
    }
   }
  },
  {
   "cell_type": "code",
   "execution_count": 4227,
   "outputs": [
    {
     "data": {
      "text/plain": "Text(0.5, 1.0, 'Distribution of Price')"
     },
     "execution_count": 4227,
     "metadata": {},
     "output_type": "execute_result"
    },
    {
     "data": {
      "text/plain": "<Figure size 432x288 with 1 Axes>",
      "image/png": "[encoded data removed]"
     },
     "metadata": {},
     "output_type": "display_data"
    }
   ],
   "source": [
    "ax=sns.histplot(data=df, x='Price', kde=True,  color='blue', edgecolor='white')\n",
    "ax.lines[0].set_color('crimson')\n",
    "plt.title('Distribution of Price',fontsize=14)"
   ],
   "metadata": {
    "collapsed": false,
    "pycharm": {
     "name": "#%%\n"
    }
   }
  },
  {
   "cell_type": "code",
   "execution_count": 4228,
   "outputs": [
    {
     "data": {
      "text/plain": "<Figure size 432x288 with 1 Axes>",
      "image/png": "[encoded data removed]"
     },
     "metadata": {},
     "output_type": "display_data"
    }
   ],
   "source": [
    "ax = sns.histplot(np.log(df['Price']), kde=True,color='blue')\n",
    "ax.lines[0].set_color('crimson')\n",
    "plt.xlabel('Log Price')\n",
    "plt.ylabel('Count')\n",
    "plt.title('Distribution of Log Price',fontsize=14)\n",
    "plt.show(\"png\")"
   ],
   "metadata": {
    "collapsed": false,
    "pycharm": {
     "name": "#%%\n"
    }
   }
  },
  {
   "cell_type": "code",
   "execution_count": 4229,
   "outputs": [],
   "source": [
    "X = df.drop(columns=['Price'])\n",
    "y = np.log(df['Price'])"
   ],
   "metadata": {
    "collapsed": false,
    "pycharm": {
     "name": "#%%\n"
    }
   }
  },
  {
   "cell_type": "code",
   "execution_count": 4230,
   "outputs": [
    {
     "data": {
      "text/plain": "     Company            TypeName  Ram  Weight  Touchscreen  Ips         ppi  \\\n0      Apple           Ultrabook    8    1.37            0    1  226.983005   \n1      Apple           Ultrabook    8    1.34            0    0  127.677940   \n2         HP            Notebook    8    1.86            0    0  141.211998   \n3      Apple           Ultrabook   16    1.83            0    1  220.534624   \n4      Apple           Ultrabook    8    1.37            0    1  226.983005   \n...      ...                 ...  ...     ...          ...  ...         ...   \n1298  Lenovo  2 in 1 Convertible    4    1.80            1    1  157.350512   \n1299  Lenovo  2 in 1 Convertible   16    1.30            1    1  276.053530   \n1300  Lenovo            Notebook    2    1.50            0    0  111.935204   \n1301      HP            Notebook    6    2.19            0    0  100.454670   \n1302    Asus            Notebook    4    2.20            0    0  100.454670   \n\n                  Cpu brand   HDD  SSD Gpu brand                  os  \n0             Intel Core i5     0  128     Intel                 Mac  \n1             Intel Core i5     0    0     Intel                 Mac  \n2             Intel Core i5     0  256     Intel  Others/No OS/Linux  \n3             Intel Core i7     0  512       AMD                 Mac  \n4             Intel Core i5     0  256     Intel                 Mac  \n...                     ...   ...  ...       ...                 ...  \n1298          Intel Core i7     0  128     Intel             Windows  \n1299          Intel Core i7     0  512     Intel             Windows  \n1300  Other Intel Processor     0    0     Intel             Windows  \n1301          Intel Core i7  1000    0       AMD             Windows  \n1302  Other Intel Processor   500    0     Intel             Windows  \n\n[1302 rows x 12 columns]",
      "text/html": "<div>\n<style scoped>\n    .dataframe tbody tr th:only-of-type {\n        vertical-align: middle;\n    }\n\n    .dataframe tbody tr th {\n        vertical-align: top;\n    }\n\n    .dataframe thead th {\n        text-align: right;\n    }\n</style>\n<table border=\"1\" class=\"dataframe\">\n  <thead>\n    <tr style=\"text-align: right;\">\n      <th></th>\n      <th>Company</th>\n      <th>TypeName</th>\n      <th>Ram</th>\n      <th>Weight</th>\n      <th>Touchscreen</th>\n      <th>Ips</th>\n      <th>ppi</th>\n      <th>Cpu brand</th>\n      <th>HDD</th>\n      <th>SSD</th>\n      <th>Gpu brand</th>\n      <th>os</th>\n    </tr>\n  </thead>\n  <tbody>\n    <tr>\n      <th>0</th>\n      <td>Apple</td>\n      <td>Ultrabook</td>\n      <td>8</td>\n      <td>1.37</td>\n      <td>0</td>\n      <td>1</td>\n      <td>226.983005</td>\n      <td>Intel Core i5</td>\n      <td>0</td>\n      <td>128</td>\n      <td>Intel</td>\n      <td>Mac</td>\n    </tr>\n    <tr>\n      <th>1</th>\n      <td>Apple</td>\n      <td>Ultrabook</td>\n      <td>8</td>\n      <td>1.34</td>\n      <td>0</td>\n      <td>0</td>\n      <td>127.677940</td>\n      <td>Intel Core i5</td>\n      <td>0</td>\n      <td>0</td>\n      <td>Intel</td>\n      <td>Mac</td>\n    </tr>\n    <tr>\n      <th>2</th>\n      <td>HP</td>\n      <td>Notebook</td>\n      <td>8</td>\n      <td>1.86</td>\n      <td>0</td>\n      <td>0</td>\n      <td>141.211998</td>\n      <td>Intel Core i5</td>\n      <td>0</td>\n      <td>256</td>\n      <td>Intel</td>\n      <td>Others/No OS/Linux</td>\n    </tr>\n    <tr>\n      <th>3</th>\n      <td>Apple</td>\n      <td>Ultrabook</td>\n      <td>16</td>\n      <td>1.83</td>\n      <td>0</td>\n      <td>1</td>\n      <td>220.534624</td>\n      <td>Intel Core i7</td>\n      <td>0</td>\n      <td>512</td>\n      <td>AMD</td>\n      <td>Mac</td>\n    </tr>\n    <tr>\n      <th>4</th>\n      <td>Apple</td>\n      <td>Ultrabook</td>\n      <td>8</td>\n      <td>1.37</td>\n      <td>0</td>\n      <td>1</td>\n      <td>226.983005</td>\n      <td>Intel Core i5</td>\n      <td>0</td>\n      <td>256</td>\n      <td>Intel</td>\n      <td>Mac</td>\n    </tr>\n    <tr>\n      <th>...</th>\n      <td>...</td>\n      <td>...</td>\n      <td>...</td>\n      <td>...</td>\n      <td>...</td>\n      <td>...</td>\n      <td>...</td>\n      <td>...</td>\n      <td>...</td>\n      <td>...</td>\n      <td>...</td>\n      <td>...</td>\n    </tr>\n    <tr>\n      <th>1298</th>\n      <td>Lenovo</td>\n      <td>2 in 1 Convertible</td>\n      <td>4</td>\n      <td>1.80</td>\n      <td>1</td>\n      <td>1</td>\n      <td>157.350512</td>\n      <td>Intel Core i7</td>\n      <td>0</td>\n      <td>128</td>\n      <td>Intel</td>\n      <td>Windows</td>\n    </tr>\n    <tr>\n      <th>1299</th>\n      <td>Lenovo</td>\n      <td>2 in 1 Convertible</td>\n      <td>16</td>\n      <td>1.30</td>\n      <td>1</td>\n      <td>1</td>\n      <td>276.053530</td>\n      <td>Intel Core i7</td>\n      <td>0</td>\n      <td>512</td>\n      <td>Intel</td>\n      <td>Windows</td>\n    </tr>\n    <tr>\n      <th>1300</th>\n      <td>Lenovo</td>\n      <td>Notebook</td>\n      <td>2</td>\n      <td>1.50</td>\n      <td>0</td>\n      <td>0</td>\n      <td>111.935204</td>\n      <td>Other Intel Processor</td>\n      <td>0</td>\n      <td>0</td>\n      <td>Intel</td>\n      <td>Windows</td>\n    </tr>\n    <tr>\n      <th>1301</th>\n      <td>HP</td>\n      <td>Notebook</td>\n      <td>6</td>\n      <td>2.19</td>\n      <td>0</td>\n      <td>0</td>\n      <td>100.454670</td>\n      <td>Intel Core i7</td>\n      <td>1000</td>\n      <td>0</td>\n      <td>AMD</td>\n      <td>Windows</td>\n    </tr>\n    <tr>\n      <th>1302</th>\n      <td>Asus</td>\n      <td>Notebook</td>\n      <td>4</td>\n      <td>2.20</td>\n      <td>0</td>\n      <td>0</td>\n      <td>100.454670</td>\n      <td>Other Intel Processor</td>\n      <td>500</td>\n      <td>0</td>\n      <td>Intel</td>\n      <td>Windows</td>\n    </tr>\n  </tbody>\n</table>\n<p>1302 rows × 12 columns</p>\n</div>"
     },
     "execution_count": 4230,
     "metadata": {},
     "output_type": "execute_result"
    }
   ],
   "source": [
    "X"
   ],
   "metadata": {
    "collapsed": false,
    "pycharm": {
     "name": "#%%\n"
    }
   }
  },
  {
   "cell_type": "code",
   "execution_count": 4231,
   "outputs": [
    {
     "data": {
      "text/plain": "0       11.175755\n1       10.776777\n2       10.329931\n3       11.814476\n4       11.473101\n          ...    \n1298    10.433899\n1299    11.288115\n1300     9.409283\n1301    10.614129\n1302     9.886358\nName: Price, Length: 1302, dtype: float64"
     },
     "execution_count": 4231,
     "metadata": {},
     "output_type": "execute_result"
    }
   ],
   "source": [
    "y"
   ],
   "metadata": {
    "collapsed": false,
    "pycharm": {
     "name": "#%%\n"
    }
   }
  },
  {
   "cell_type": "code",
   "execution_count": 4232,
   "outputs": [],
   "source": [
    "df.to_csv(\"clean.csv\")"
   ],
   "metadata": {
    "collapsed": false,
    "pycharm": {
     "name": "#%%\n"
    }
   }
  },
  {
   "cell_type": "markdown",
   "source": [
    "# Machine learning modeling"
   ],
   "metadata": {
    "collapsed": false,
    "pycharm": {
     "name": "#%% md\n"
    }
   }
  },
  {
   "cell_type": "code",
   "execution_count": 4233,
   "outputs": [],
   "source": [
    "from sklearn.model_selection import train_test_split\n",
    "X_train,X_test,y_train,y_test = train_test_split(X,y,test_size=0.4,random_state=2)"
   ],
   "metadata": {
    "collapsed": false,
    "pycharm": {
     "name": "#%%\n"
    }
   }
  },
  {
   "cell_type": "code",
   "execution_count": 4234,
   "outputs": [
    {
     "data": {
      "text/plain": "     Company   TypeName  Ram  Weight  Touchscreen  Ips         ppi  \\\n205   Lenovo     Gaming   16    2.40            0    0  141.211998   \n288   Lenovo     Gaming   16    2.50            0    1  141.211998   \n56        HP   Notebook    4    1.91            0    0  141.211998   \n384     Asus  Ultrabook   16    1.10            1    0  165.632118   \n1078  Lenovo   Notebook    4    2.10            0    0  100.454670   \n...      ...        ...  ...     ...          ...  ...         ...   \n466     Acer   Notebook    4    2.20            0    0  100.454670   \n299     Asus  Ultrabook   16    1.63            0    0  141.211998   \n493     Acer   Notebook    8    2.20            0    0  100.454670   \n527   Lenovo   Notebook    8    2.20            0    0  100.454670   \n1193   Apple  Ultrabook    8    0.92            0    1  226.415547   \n\n                  Cpu brand   HDD  SSD Gpu brand                  os  \n205           Intel Core i7     0  512    Nvidia  Others/No OS/Linux  \n288           Intel Core i7  1000  256    Nvidia             Windows  \n56            Intel Core i3     0  128     Intel             Windows  \n384           Intel Core i7     0  512     Intel             Windows  \n1078          Intel Core i5   500    0     Intel             Windows  \n...                     ...   ...  ...       ...                 ...  \n466           Intel Core i3   500    0    Nvidia             Windows  \n299           Intel Core i7     0  512    Nvidia             Windows  \n493           AMD Processor  1000    0       AMD             Windows  \n527           Intel Core i3  2000    0    Nvidia  Others/No OS/Linux  \n1193  Other Intel Processor     0    0     Intel                 Mac  \n\n[781 rows x 12 columns]",
      "text/html": "<div>\n<style scoped>\n    .dataframe tbody tr th:only-of-type {\n        vertical-align: middle;\n    }\n\n    .dataframe tbody tr th {\n        vertical-align: top;\n    }\n\n    .dataframe thead th {\n        text-align: right;\n    }\n</style>\n<table border=\"1\" class=\"dataframe\">\n  <thead>\n    <tr style=\"text-align: right;\">\n      <th></th>\n      <th>Company</th>\n      <th>TypeName</th>\n      <th>Ram</th>\n      <th>Weight</th>\n      <th>Touchscreen</th>\n      <th>Ips</th>\n      <th>ppi</th>\n      <th>Cpu brand</th>\n      <th>HDD</th>\n      <th>SSD</th>\n      <th>Gpu brand</th>\n      <th>os</th>\n    </tr>\n  </thead>\n  <tbody>\n    <tr>\n      <th>205</th>\n      <td>Lenovo</td>\n      <td>Gaming</td>\n      <td>16</td>\n      <td>2.40</td>\n      <td>0</td>\n      <td>0</td>\n      <td>141.211998</td>\n      <td>Intel Core i7</td>\n      <td>0</td>\n      <td>512</td>\n      <td>Nvidia</td>\n      <td>Others/No OS/Linux</td>\n    </tr>\n    <tr>\n      <th>288</th>\n      <td>Lenovo</td>\n      <td>Gaming</td>\n      <td>16</td>\n      <td>2.50</td>\n      <td>0</td>\n      <td>1</td>\n      <td>141.211998</td>\n      <td>Intel Core i7</td>\n      <td>1000</td>\n      <td>256</td>\n      <td>Nvidia</td>\n      <td>Windows</td>\n    </tr>\n    <tr>\n      <th>56</th>\n      <td>HP</td>\n      <td>Notebook</td>\n      <td>4</td>\n      <td>1.91</td>\n      <td>0</td>\n      <td>0</td>\n      <td>141.211998</td>\n      <td>Intel Core i3</td>\n      <td>0</td>\n      <td>128</td>\n      <td>Intel</td>\n      <td>Windows</td>\n    </tr>\n    <tr>\n      <th>384</th>\n      <td>Asus</td>\n      <td>Ultrabook</td>\n      <td>16</td>\n      <td>1.10</td>\n      <td>1</td>\n      <td>0</td>\n      <td>165.632118</td>\n      <td>Intel Core i7</td>\n      <td>0</td>\n      <td>512</td>\n      <td>Intel</td>\n      <td>Windows</td>\n    </tr>\n    <tr>\n      <th>1078</th>\n      <td>Lenovo</td>\n      <td>Notebook</td>\n      <td>4</td>\n      <td>2.10</td>\n      <td>0</td>\n      <td>0</td>\n      <td>100.454670</td>\n      <td>Intel Core i5</td>\n      <td>500</td>\n      <td>0</td>\n      <td>Intel</td>\n      <td>Windows</td>\n    </tr>\n    <tr>\n      <th>...</th>\n      <td>...</td>\n      <td>...</td>\n      <td>...</td>\n      <td>...</td>\n      <td>...</td>\n      <td>...</td>\n      <td>...</td>\n      <td>...</td>\n      <td>...</td>\n      <td>...</td>\n      <td>...</td>\n      <td>...</td>\n    </tr>\n    <tr>\n      <th>466</th>\n      <td>Acer</td>\n      <td>Notebook</td>\n      <td>4</td>\n      <td>2.20</td>\n      <td>0</td>\n      <td>0</td>\n      <td>100.454670</td>\n      <td>Intel Core i3</td>\n      <td>500</td>\n      <td>0</td>\n      <td>Nvidia</td>\n      <td>Windows</td>\n    </tr>\n    <tr>\n      <th>299</th>\n      <td>Asus</td>\n      <td>Ultrabook</td>\n      <td>16</td>\n      <td>1.63</td>\n      <td>0</td>\n      <td>0</td>\n      <td>141.211998</td>\n      <td>Intel Core i7</td>\n      <td>0</td>\n      <td>512</td>\n      <td>Nvidia</td>\n      <td>Windows</td>\n    </tr>\n    <tr>\n      <th>493</th>\n      <td>Acer</td>\n      <td>Notebook</td>\n      <td>8</td>\n      <td>2.20</td>\n      <td>0</td>\n      <td>0</td>\n      <td>100.454670</td>\n      <td>AMD Processor</td>\n      <td>1000</td>\n      <td>0</td>\n      <td>AMD</td>\n      <td>Windows</td>\n    </tr>\n    <tr>\n      <th>527</th>\n      <td>Lenovo</td>\n      <td>Notebook</td>\n      <td>8</td>\n      <td>2.20</td>\n      <td>0</td>\n      <td>0</td>\n      <td>100.454670</td>\n      <td>Intel Core i3</td>\n      <td>2000</td>\n      <td>0</td>\n      <td>Nvidia</td>\n      <td>Others/No OS/Linux</td>\n    </tr>\n    <tr>\n      <th>1193</th>\n      <td>Apple</td>\n      <td>Ultrabook</td>\n      <td>8</td>\n      <td>0.92</td>\n      <td>0</td>\n      <td>1</td>\n      <td>226.415547</td>\n      <td>Other Intel Processor</td>\n      <td>0</td>\n      <td>0</td>\n      <td>Intel</td>\n      <td>Mac</td>\n    </tr>\n  </tbody>\n</table>\n<p>781 rows × 12 columns</p>\n</div>"
     },
     "execution_count": 4234,
     "metadata": {},
     "output_type": "execute_result"
    }
   ],
   "source": [
    "X_train"
   ],
   "metadata": {
    "collapsed": false,
    "pycharm": {
     "name": "#%%\n"
    }
   }
  },
  {
   "cell_type": "code",
   "execution_count": 4235,
   "outputs": [],
   "source": [
    "from sklearn.compose import ColumnTransformer\n",
    "from sklearn.pipeline import Pipeline\n",
    "from sklearn.preprocessing import OneHotEncoder\n",
    "from sklearn.metrics import r2_score,mean_absolute_error"
   ],
   "metadata": {
    "collapsed": false,
    "pycharm": {
     "name": "#%%\n"
    }
   }
  },
  {
   "cell_type": "code",
   "execution_count": 4236,
   "outputs": [],
   "source": [
    "from sklearn.linear_model import LinearRegression,Ridge,Lasso\n",
    "from sklearn.neighbors import KNeighborsRegressor\n",
    "from sklearn.tree import DecisionTreeRegressor\n",
    "from sklearn.ensemble import RandomForestRegressor,GradientBoostingRegressor"
   ],
   "metadata": {
    "collapsed": false,
    "pycharm": {
     "name": "#%%\n"
    }
   }
  },
  {
   "cell_type": "code",
   "execution_count": 4237,
   "outputs": [],
   "source": [
    "# df['Cpu Name'] = df['Cpu'].apply(lambda x:\" \".join(x.split()[0:3]))"
   ],
   "metadata": {
    "collapsed": false,
    "pycharm": {
     "name": "#%%\n"
    }
   }
  },
  {
   "cell_type": "markdown",
   "source": [
    "    # Linear Regression"
   ],
   "metadata": {
    "collapsed": false,
    "pycharm": {
     "name": "#%% md\n"
    }
   }
  },
  {
   "cell_type": "code",
   "execution_count": 4238,
   "outputs": [
    {
     "name": "stdout",
     "output_type": "stream",
     "text": [
      "R2 score 0.7943535393960404\n",
      "MAE 0.2108230443733877\n"
     ]
    }
   ],
   "source": [
    "step1 = ColumnTransformer(transformers=[\n",
    "    ('col_tnf',OneHotEncoder(sparse=False,drop='first'),[0,1,7,10,11])\n",
    "],remainder='passthrough')\n",
    "\n",
    "step2 = LinearRegression()\n",
    "\n",
    "pipe = Pipeline([\n",
    "    ('step1',step1),\n",
    "    ('step2',step2)\n",
    "])\n",
    "\n",
    "pipe.fit(X_train,y_train)\n",
    "\n",
    "y_pred = pipe.predict(X_test)\n",
    "\n",
    "print('R2 score',r2_score(y_test,y_pred))\n",
    "print('MAE',mean_absolute_error(y_test,y_pred))"
   ],
   "metadata": {
    "collapsed": false,
    "pycharm": {
     "name": "#%%\n"
    }
   }
  },
  {
   "cell_type": "code",
   "execution_count": 4238,
   "outputs": [],
   "source": [],
   "metadata": {
    "collapsed": false,
    "pycharm": {
     "name": "#%%\n"
    }
   }
  },
  {
   "cell_type": "markdown",
   "source": [
    "# Ridge Regression"
   ],
   "metadata": {
    "collapsed": false,
    "pycharm": {
     "name": "#%% md\n"
    }
   }
  },
  {
   "cell_type": "code",
   "execution_count": 4239,
   "outputs": [
    {
     "name": "stdout",
     "output_type": "stream",
     "text": [
      "R2 score 0.7935724816546795\n",
      "MAE 0.21263050756445856\n"
     ]
    }
   ],
   "source": [
    "step1 = ColumnTransformer(transformers=[\n",
    "    ('col_tnf',OneHotEncoder(sparse=False,drop='first'),[0,1,7,10,11])\n",
    "],remainder='passthrough')\n",
    "\n",
    "step2 = Ridge(alpha=10)\n",
    "\n",
    "pipe = Pipeline([\n",
    "    ('step1',step1),\n",
    "    ('step2',step2)\n",
    "])\n",
    "\n",
    "pipe.fit(X_train,y_train)\n",
    "\n",
    "y_pred = pipe.predict(X_test)\n",
    "\n",
    "print('R2 score',r2_score(y_test,y_pred))\n",
    "print('MAE',mean_absolute_error(y_test,y_pred))"
   ],
   "metadata": {
    "collapsed": false,
    "pycharm": {
     "name": "#%%\n"
    }
   }
  },
  {
   "cell_type": "markdown",
   "source": [
    "# Lasso Regression"
   ],
   "metadata": {
    "collapsed": false,
    "pycharm": {
     "name": "#%% md\n"
    }
   }
  },
  {
   "cell_type": "code",
   "execution_count": 4240,
   "outputs": [
    {
     "name": "stdout",
     "output_type": "stream",
     "text": [
      "R2 score 0.7922444639693013\n",
      "MAE 0.213018386660384\n"
     ]
    }
   ],
   "source": [
    "step1 = ColumnTransformer(transformers=[\n",
    "    ('col_tnf',OneHotEncoder(sparse=False,drop='first'),[0,1,7,10,11])\n",
    "],remainder='passthrough')\n",
    "\n",
    "step2 = Lasso(alpha=0.001)\n",
    "\n",
    "pipe = Pipeline([\n",
    "    ('step1',step1),\n",
    "    ('step2',step2)\n",
    "])\n",
    "\n",
    "pipe.fit(X_train,y_train)\n",
    "\n",
    "y_pred = pipe.predict(X_test)\n",
    "\n",
    "print('R2 score',r2_score(y_test,y_pred))\n",
    "print('MAE',mean_absolute_error(y_test,y_pred))"
   ],
   "metadata": {
    "collapsed": false,
    "pycharm": {
     "name": "#%%\n"
    }
   }
  },
  {
   "cell_type": "markdown",
   "source": [
    "# KNN"
   ],
   "metadata": {
    "collapsed": false,
    "pycharm": {
     "name": "#%% md\n"
    }
   }
  },
  {
   "cell_type": "code",
   "execution_count": 4241,
   "outputs": [
    {
     "name": "stdout",
     "output_type": "stream",
     "text": [
      "R2 score 0.7160015436431111\n",
      "MAE 0.22293258534783073\n"
     ]
    }
   ],
   "source": [
    "step1 = ColumnTransformer(transformers=[\n",
    "    ('col_tnf',OneHotEncoder(sparse=False,drop='first'),[0,1,7,10,11])\n",
    "],remainder='passthrough')\n",
    "\n",
    "step2 = KNeighborsRegressor(n_neighbors=3)\n",
    "\n",
    "pipe = Pipeline([\n",
    "    ('step1',step1),\n",
    "    ('step2',step2)\n",
    "])\n",
    "\n",
    "pipe.fit(X_train,y_train)\n",
    "\n",
    "y_pred = pipe.predict(X_test)\n",
    "\n",
    "print('R2 score',r2_score(y_test,y_pred))\n",
    "print('MAE',mean_absolute_error(y_test,y_pred))"
   ],
   "metadata": {
    "collapsed": false,
    "pycharm": {
     "name": "#%%\n"
    }
   }
  },
  {
   "cell_type": "markdown",
   "source": [
    "# Decision Tree"
   ],
   "metadata": {
    "collapsed": false,
    "pycharm": {
     "name": "#%% md\n"
    }
   }
  },
  {
   "cell_type": "code",
   "execution_count": 4242,
   "outputs": [
    {
     "name": "stdout",
     "output_type": "stream",
     "text": [
      "R2 score 0.7977197154026112\n",
      "MAE 0.20446297319683898\n"
     ]
    }
   ],
   "source": [
    "step1 = ColumnTransformer(transformers=[\n",
    "    ('col_tnf',OneHotEncoder(sparse=False,drop='first'),[0,1,7,10,11])\n",
    "],remainder='passthrough')\n",
    "\n",
    "step2 = DecisionTreeRegressor(max_depth=8)\n",
    "\n",
    "pipe = Pipeline([\n",
    "    ('step1',step1),\n",
    "    ('step2',step2)\n",
    "])\n",
    "\n",
    "pipe.fit(X_train,y_train)\n",
    "\n",
    "y_pred = pipe.predict(X_test)\n",
    "\n",
    "print('R2 score',r2_score(y_test,y_pred))\n",
    "print('MAE',mean_absolute_error(y_test,y_pred))"
   ],
   "metadata": {
    "collapsed": false,
    "pycharm": {
     "name": "#%%\n"
    }
   }
  },
  {
   "cell_type": "markdown",
   "source": [
    "# Random Forest"
   ],
   "metadata": {
    "collapsed": false,
    "pycharm": {
     "name": "#%% md\n"
    }
   }
  },
  {
   "cell_type": "code",
   "execution_count": 4243,
   "outputs": [
    {
     "name": "stdout",
     "output_type": "stream",
     "text": [
      "R2 score 0.8576537798053985\n",
      "MAE 0.1732490343100001\n"
     ]
    }
   ],
   "source": [
    "step1 = ColumnTransformer(transformers=[\n",
    "    ('col_tnf',OneHotEncoder(sparse=False,drop='first'),[0,1,7,10,11])\n",
    "],remainder='passthrough')\n",
    "\n",
    "step2 = RandomForestRegressor(n_estimators=100,\n",
    "                              random_state=3,\n",
    "                              max_samples=0.5,\n",
    "                              max_features=0.75,\n",
    "                              max_depth=15)\n",
    "\n",
    "pipe = Pipeline([\n",
    "    ('step1',step1),\n",
    "    ('step2',step2)\n",
    "])\n",
    "\n",
    "pipe.fit(X_train,y_train)\n",
    "\n",
    "y_pred = pipe.predict(X_test)\n",
    "\n",
    "print('R2 score',r2_score(y_test,y_pred))\n",
    "print('MAE',mean_absolute_error(y_test,y_pred))"
   ],
   "metadata": {
    "collapsed": false,
    "pycharm": {
     "name": "#%%\n"
    }
   }
  },
  {
   "cell_type": "markdown",
   "source": [
    "# Gradient Boost"
   ],
   "metadata": {
    "collapsed": false,
    "pycharm": {
     "name": "#%% md\n"
    }
   }
  },
  {
   "cell_type": "code",
   "execution_count": 4244,
   "outputs": [
    {
     "name": "stdout",
     "output_type": "stream",
     "text": [
      "R2 score 0.8666188842224086\n",
      "MAE 0.16508409323908657\n"
     ]
    }
   ],
   "source": [
    "step1 = ColumnTransformer(transformers=[\n",
    "    ('col_tnf',OneHotEncoder(sparse=False,drop='first'),[0,1,7,10,11])\n",
    "],remainder='passthrough')\n",
    "\n",
    "step2 = GradientBoostingRegressor(n_estimators=500)\n",
    "\n",
    "pipe = Pipeline([\n",
    "    ('step1',step1),\n",
    "    ('step2',step2)\n",
    "])\n",
    "\n",
    "pipe.fit(X_train,y_train)\n",
    "\n",
    "y_pred = pipe.predict(X_test)\n",
    "\n",
    "print('R2 score',r2_score(y_test,y_pred))\n",
    "print('MAE',mean_absolute_error(y_test,y_pred))"
   ],
   "metadata": {
    "collapsed": false,
    "pycharm": {
     "name": "#%%\n"
    }
   }
  },
  {
   "cell_type": "markdown",
   "source": [
    "# Exporting the Model"
   ],
   "metadata": {
    "collapsed": false,
    "pycharm": {
     "name": "#%% md\n"
    }
   }
  },
  {
   "cell_type": "code",
   "execution_count": 4245,
   "outputs": [],
   "source": [
    "import pickle\n",
    "# Save DataFrame to a pickle file\n",
    "with open('df.pkl', 'wb') as df_file:\n",
    "    pickle.dump(df, df_file)\n",
    "# Save pipeline to a pickle file\n",
    "with open('pipe.pkl', 'wb') as pipe_file:\n",
    "    pickle.dump(pipe, pipe_file)"
   ],
   "metadata": {
    "collapsed": false,
    "pycharm": {
     "name": "#%%\n"
    }
   }
  },
  {
   "cell_type": "code",
   "execution_count": 4246,
   "outputs": [
    {
     "data": {
      "text/plain": "     Company            TypeName  Ram  Weight        Price  Touchscreen  Ips  \\\n0      Apple           Ultrabook    8    1.37   71378.6832            0    1   \n1      Apple           Ultrabook    8    1.34   47895.5232            0    0   \n2         HP            Notebook    8    1.86   30636.0000            0    0   \n3      Apple           Ultrabook   16    1.83  135195.3360            0    1   \n4      Apple           Ultrabook    8    1.37   96095.8080            0    1   \n...      ...                 ...  ...     ...          ...          ...  ...   \n1298  Lenovo  2 in 1 Convertible    4    1.80   33992.6400            1    1   \n1299  Lenovo  2 in 1 Convertible   16    1.30   79866.7200            1    1   \n1300  Lenovo            Notebook    2    1.50   12201.1200            0    0   \n1301      HP            Notebook    6    2.19   40705.9200            0    0   \n1302    Asus            Notebook    4    2.20   19660.3200            0    0   \n\n             ppi              Cpu brand   HDD  SSD Gpu brand  \\\n0     226.983005          Intel Core i5     0  128     Intel   \n1     127.677940          Intel Core i5     0    0     Intel   \n2     141.211998          Intel Core i5     0  256     Intel   \n3     220.534624          Intel Core i7     0  512       AMD   \n4     226.983005          Intel Core i5     0  256     Intel   \n...          ...                    ...   ...  ...       ...   \n1298  157.350512          Intel Core i7     0  128     Intel   \n1299  276.053530          Intel Core i7     0  512     Intel   \n1300  111.935204  Other Intel Processor     0    0     Intel   \n1301  100.454670          Intel Core i7  1000    0       AMD   \n1302  100.454670  Other Intel Processor   500    0     Intel   \n\n                      os  \n0                    Mac  \n1                    Mac  \n2     Others/No OS/Linux  \n3                    Mac  \n4                    Mac  \n...                  ...  \n1298             Windows  \n1299             Windows  \n1300             Windows  \n1301             Windows  \n1302             Windows  \n\n[1302 rows x 13 columns]",
      "text/html": "<div>\n<style scoped>\n    .dataframe tbody tr th:only-of-type {\n        vertical-align: middle;\n    }\n\n    .dataframe tbody tr th {\n        vertical-align: top;\n    }\n\n    .dataframe thead th {\n        text-align: right;\n    }\n</style>\n<table border=\"1\" class=\"dataframe\">\n  <thead>\n    <tr style=\"text-align: right;\">\n      <th></th>\n      <th>Company</th>\n      <th>TypeName</th>\n      <th>Ram</th>\n      <th>Weight</th>\n      <th>Price</th>\n      <th>Touchscreen</th>\n      <th>Ips</th>\n      <th>ppi</th>\n      <th>Cpu brand</th>\n      <th>HDD</th>\n      <th>SSD</th>\n      <th>Gpu brand</th>\n      <th>os</th>\n    </tr>\n  </thead>\n  <tbody>\n    <tr>\n      <th>0</th>\n      <td>Apple</td>\n      <td>Ultrabook</td>\n      <td>8</td>\n      <td>1.37</td>\n      <td>71378.6832</td>\n      <td>0</td>\n      <td>1</td>\n      <td>226.983005</td>\n      <td>Intel Core i5</td>\n      <td>0</td>\n      <td>128</td>\n      <td>Intel</td>\n      <td>Mac</td>\n    </tr>\n    <tr>\n      <th>1</th>\n      <td>Apple</td>\n      <td>Ultrabook</td>\n      <td>8</td>\n      <td>1.34</td>\n      <td>47895.5232</td>\n      <td>0</td>\n      <td>0</td>\n      <td>127.677940</td>\n      <td>Intel Core i5</td>\n      <td>0</td>\n      <td>0</td>\n      <td>Intel</td>\n      <td>Mac</td>\n    </tr>\n    <tr>\n      <th>2</th>\n      <td>HP</td>\n      <td>Notebook</td>\n      <td>8</td>\n      <td>1.86</td>\n      <td>30636.0000</td>\n      <td>0</td>\n      <td>0</td>\n      <td>141.211998</td>\n      <td>Intel Core i5</td>\n      <td>0</td>\n      <td>256</td>\n      <td>Intel</td>\n      <td>Others/No OS/Linux</td>\n    </tr>\n    <tr>\n      <th>3</th>\n      <td>Apple</td>\n      <td>Ultrabook</td>\n      <td>16</td>\n      <td>1.83</td>\n      <td>135195.3360</td>\n      <td>0</td>\n      <td>1</td>\n      <td>220.534624</td>\n      <td>Intel Core i7</td>\n      <td>0</td>\n      <td>512</td>\n      <td>AMD</td>\n      <td>Mac</td>\n    </tr>\n    <tr>\n      <th>4</th>\n      <td>Apple</td>\n      <td>Ultrabook</td>\n      <td>8</td>\n      <td>1.37</td>\n      <td>96095.8080</td>\n      <td>0</td>\n      <td>1</td>\n      <td>226.983005</td>\n      <td>Intel Core i5</td>\n      <td>0</td>\n      <td>256</td>\n      <td>Intel</td>\n      <td>Mac</td>\n    </tr>\n    <tr>\n      <th>...</th>\n      <td>...</td>\n      <td>...</td>\n      <td>...</td>\n      <td>...</td>\n      <td>...</td>\n      <td>...</td>\n      <td>...</td>\n      <td>...</td>\n      <td>...</td>\n      <td>...</td>\n      <td>...</td>\n      <td>...</td>\n      <td>...</td>\n    </tr>\n    <tr>\n      <th>1298</th>\n      <td>Lenovo</td>\n      <td>2 in 1 Convertible</td>\n      <td>4</td>\n      <td>1.80</td>\n      <td>33992.6400</td>\n      <td>1</td>\n      <td>1</td>\n      <td>157.350512</td>\n      <td>Intel Core i7</td>\n      <td>0</td>\n      <td>128</td>\n      <td>Intel</td>\n      <td>Windows</td>\n    </tr>\n    <tr>\n      <th>1299</th>\n      <td>Lenovo</td>\n      <td>2 in 1 Convertible</td>\n      <td>16</td>\n      <td>1.30</td>\n      <td>79866.7200</td>\n      <td>1</td>\n      <td>1</td>\n      <td>276.053530</td>\n      <td>Intel Core i7</td>\n      <td>0</td>\n      <td>512</td>\n      <td>Intel</td>\n      <td>Windows</td>\n    </tr>\n    <tr>\n      <th>1300</th>\n      <td>Lenovo</td>\n      <td>Notebook</td>\n      <td>2</td>\n      <td>1.50</td>\n      <td>12201.1200</td>\n      <td>0</td>\n      <td>0</td>\n      <td>111.935204</td>\n      <td>Other Intel Processor</td>\n      <td>0</td>\n      <td>0</td>\n      <td>Intel</td>\n      <td>Windows</td>\n    </tr>\n    <tr>\n      <th>1301</th>\n      <td>HP</td>\n      <td>Notebook</td>\n      <td>6</td>\n      <td>2.19</td>\n      <td>40705.9200</td>\n      <td>0</td>\n      <td>0</td>\n      <td>100.454670</td>\n      <td>Intel Core i7</td>\n      <td>1000</td>\n      <td>0</td>\n      <td>AMD</td>\n      <td>Windows</td>\n    </tr>\n    <tr>\n      <th>1302</th>\n      <td>Asus</td>\n      <td>Notebook</td>\n      <td>4</td>\n      <td>2.20</td>\n      <td>19660.3200</td>\n      <td>0</td>\n      <td>0</td>\n      <td>100.454670</td>\n      <td>Other Intel Processor</td>\n      <td>500</td>\n      <td>0</td>\n      <td>Intel</td>\n      <td>Windows</td>\n    </tr>\n  </tbody>\n</table>\n<p>1302 rows × 13 columns</p>\n</div>"
     },
     "execution_count": 4246,
     "metadata": {},
     "output_type": "execute_result"
    }
   ],
   "source": [
    "df"
   ],
   "metadata": {
    "collapsed": false,
    "pycharm": {
     "name": "#%%\n"
    }
   }
  },
  {
   "cell_type": "code",
   "execution_count": 4247,
   "outputs": [
    {
     "data": {
      "text/plain": "     Company   TypeName  Ram  Weight  Touchscreen  Ips         ppi  \\\n205   Lenovo     Gaming   16    2.40            0    0  141.211998   \n288   Lenovo     Gaming   16    2.50            0    1  141.211998   \n56        HP   Notebook    4    1.91            0    0  141.211998   \n384     Asus  Ultrabook   16    1.10            1    0  165.632118   \n1078  Lenovo   Notebook    4    2.10            0    0  100.454670   \n...      ...        ...  ...     ...          ...  ...         ...   \n466     Acer   Notebook    4    2.20            0    0  100.454670   \n299     Asus  Ultrabook   16    1.63            0    0  141.211998   \n493     Acer   Notebook    8    2.20            0    0  100.454670   \n527   Lenovo   Notebook    8    2.20            0    0  100.454670   \n1193   Apple  Ultrabook    8    0.92            0    1  226.415547   \n\n                  Cpu brand   HDD  SSD Gpu brand                  os  \n205           Intel Core i7     0  512    Nvidia  Others/No OS/Linux  \n288           Intel Core i7  1000  256    Nvidia             Windows  \n56            Intel Core i3     0  128     Intel             Windows  \n384           Intel Core i7     0  512     Intel             Windows  \n1078          Intel Core i5   500    0     Intel             Windows  \n...                     ...   ...  ...       ...                 ...  \n466           Intel Core i3   500    0    Nvidia             Windows  \n299           Intel Core i7     0  512    Nvidia             Windows  \n493           AMD Processor  1000    0       AMD             Windows  \n527           Intel Core i3  2000    0    Nvidia  Others/No OS/Linux  \n1193  Other Intel Processor     0    0     Intel                 Mac  \n\n[781 rows x 12 columns]",
      "text/html": "<div>\n<style scoped>\n    .dataframe tbody tr th:only-of-type {\n        vertical-align: middle;\n    }\n\n    .dataframe tbody tr th {\n        vertical-align: top;\n    }\n\n    .dataframe thead th {\n        text-align: right;\n    }\n</style>\n<table border=\"1\" class=\"dataframe\">\n  <thead>\n    <tr style=\"text-align: right;\">\n      <th></th>\n      <th>Company</th>\n      <th>TypeName</th>\n      <th>Ram</th>\n      <th>Weight</th>\n      <th>Touchscreen</th>\n      <th>Ips</th>\n      <th>ppi</th>\n      <th>Cpu brand</th>\n      <th>HDD</th>\n      <th>SSD</th>\n      <th>Gpu brand</th>\n      <th>os</th>\n    </tr>\n  </thead>\n  <tbody>\n    <tr>\n      <th>205</th>\n      <td>Lenovo</td>\n      <td>Gaming</td>\n      <td>16</td>\n      <td>2.40</td>\n      <td>0</td>\n      <td>0</td>\n      <td>141.211998</td>\n      <td>Intel Core i7</td>\n      <td>0</td>\n      <td>512</td>\n      <td>Nvidia</td>\n      <td>Others/No OS/Linux</td>\n    </tr>\n    <tr>\n      <th>288</th>\n      <td>Lenovo</td>\n      <td>Gaming</td>\n      <td>16</td>\n      <td>2.50</td>\n      <td>0</td>\n      <td>1</td>\n      <td>141.211998</td>\n      <td>Intel Core i7</td>\n      <td>1000</td>\n      <td>256</td>\n      <td>Nvidia</td>\n      <td>Windows</td>\n    </tr>\n    <tr>\n      <th>56</th>\n      <td>HP</td>\n      <td>Notebook</td>\n      <td>4</td>\n      <td>1.91</td>\n      <td>0</td>\n      <td>0</td>\n      <td>141.211998</td>\n      <td>Intel Core i3</td>\n      <td>0</td>\n      <td>128</td>\n      <td>Intel</td>\n      <td>Windows</td>\n    </tr>\n    <tr>\n      <th>384</th>\n      <td>Asus</td>\n      <td>Ultrabook</td>\n      <td>16</td>\n      <td>1.10</td>\n      <td>1</td>\n      <td>0</td>\n      <td>165.632118</td>\n      <td>Intel Core i7</td>\n      <td>0</td>\n      <td>512</td>\n      <td>Intel</td>\n      <td>Windows</td>\n    </tr>\n    <tr>\n      <th>1078</th>\n      <td>Lenovo</td>\n      <td>Notebook</td>\n      <td>4</td>\n      <td>2.10</td>\n      <td>0</td>\n      <td>0</td>\n      <td>100.454670</td>\n      <td>Intel Core i5</td>\n      <td>500</td>\n      <td>0</td>\n      <td>Intel</td>\n      <td>Windows</td>\n    </tr>\n    <tr>\n      <th>...</th>\n      <td>...</td>\n      <td>...</td>\n      <td>...</td>\n      <td>...</td>\n      <td>...</td>\n      <td>...</td>\n      <td>...</td>\n      <td>...</td>\n      <td>...</td>\n      <td>...</td>\n      <td>...</td>\n      <td>...</td>\n    </tr>\n    <tr>\n      <th>466</th>\n      <td>Acer</td>\n      <td>Notebook</td>\n      <td>4</td>\n      <td>2.20</td>\n      <td>0</td>\n      <td>0</td>\n      <td>100.454670</td>\n      <td>Intel Core i3</td>\n      <td>500</td>\n      <td>0</td>\n      <td>Nvidia</td>\n      <td>Windows</td>\n    </tr>\n    <tr>\n      <th>299</th>\n      <td>Asus</td>\n      <td>Ultrabook</td>\n      <td>16</td>\n      <td>1.63</td>\n      <td>0</td>\n      <td>0</td>\n      <td>141.211998</td>\n      <td>Intel Core i7</td>\n      <td>0</td>\n      <td>512</td>\n      <td>Nvidia</td>\n      <td>Windows</td>\n    </tr>\n    <tr>\n      <th>493</th>\n      <td>Acer</td>\n      <td>Notebook</td>\n      <td>8</td>\n      <td>2.20</td>\n      <td>0</td>\n      <td>0</td>\n      <td>100.454670</td>\n      <td>AMD Processor</td>\n      <td>1000</td>\n      <td>0</td>\n      <td>AMD</td>\n      <td>Windows</td>\n    </tr>\n    <tr>\n      <th>527</th>\n      <td>Lenovo</td>\n      <td>Notebook</td>\n      <td>8</td>\n      <td>2.20</td>\n      <td>0</td>\n      <td>0</td>\n      <td>100.454670</td>\n      <td>Intel Core i3</td>\n      <td>2000</td>\n      <td>0</td>\n      <td>Nvidia</td>\n      <td>Others/No OS/Linux</td>\n    </tr>\n    <tr>\n      <th>1193</th>\n      <td>Apple</td>\n      <td>Ultrabook</td>\n      <td>8</td>\n      <td>0.92</td>\n      <td>0</td>\n      <td>1</td>\n      <td>226.415547</td>\n      <td>Other Intel Processor</td>\n      <td>0</td>\n      <td>0</td>\n      <td>Intel</td>\n      <td>Mac</td>\n    </tr>\n  </tbody>\n</table>\n<p>781 rows × 12 columns</p>\n</div>"
     },
     "execution_count": 4247,
     "metadata": {},
     "output_type": "execute_result"
    }
   ],
   "source": [
    "X_train"
   ],
   "metadata": {
    "collapsed": false,
    "pycharm": {
     "name": "#%%\n"
    }
   }
  },
  {
   "cell_type": "code",
   "execution_count": 4248,
   "outputs": [
    {
     "data": {
      "text/plain": "205     11.218359\n288     11.047983\n56      10.060060\n384     11.442303\n1078    10.267130\n          ...    \n466     10.126164\n299     11.267217\n493     10.336864\n527     10.104611\n1193    11.034319\nName: Price, Length: 781, dtype: float64"
     },
     "execution_count": 4248,
     "metadata": {},
     "output_type": "execute_result"
    }
   ],
   "source": [
    "y_train"
   ],
   "metadata": {
    "collapsed": false,
    "pycharm": {
     "name": "#%%\n"
    }
   }
  },
  {
   "cell_type": "code",
   "execution_count": 4249,
   "outputs": [
    {
     "data": {
      "text/plain": "     Company            TypeName  Ram  Weight  Touchscreen  Ips         ppi  \\\n248       HP            Notebook    4    1.49            0    1  165.632118   \n555     Asus            Notebook    4    2.00            0    0  100.454670   \n1251      HP            Notebook    4    1.86            0    0  100.454670   \n547   Lenovo            Notebook    4    2.15            0    0  141.211998   \n885       HP  2 in 1 Convertible    4    1.28            1    0  165.632118   \n...      ...                 ...  ...     ...          ...  ...         ...   \n513     Dell            Notebook   16    2.20            0    0  141.211998   \n312      MSI              Gaming   16    2.80            0    1  141.211998   \n440   Lenovo            Notebook    8    2.80            0    0  106.113062   \n160     Asus            Notebook    4    2.03            0    0  100.454670   \n376   Lenovo             Netbook    4    1.59            0    1  135.094211   \n\n                  Cpu brand   HDD  SSD Gpu brand                  os  \n248           Intel Core i5   500    0     Intel             Windows  \n555   Other Intel Processor   500    0     Intel  Others/No OS/Linux  \n1251          AMD Processor   500    0       AMD             Windows  \n547           Intel Core i5  1000    0     Intel  Others/No OS/Linux  \n885           Intel Core i5     0  256     Intel             Windows  \n...                     ...   ...  ...       ...                 ...  \n513           Intel Core i7  2000  256       AMD             Windows  \n312           Intel Core i7  1000  256    Nvidia             Windows  \n440           AMD Processor  1000    0       AMD             Windows  \n160           AMD Processor  1000    0       AMD             Windows  \n376   Other Intel Processor     0  128     Intel             Windows  \n\n[521 rows x 12 columns]",
      "text/html": "<div>\n<style scoped>\n    .dataframe tbody tr th:only-of-type {\n        vertical-align: middle;\n    }\n\n    .dataframe tbody tr th {\n        vertical-align: top;\n    }\n\n    .dataframe thead th {\n        text-align: right;\n    }\n</style>\n<table border=\"1\" class=\"dataframe\">\n  <thead>\n    <tr style=\"text-align: right;\">\n      <th></th>\n      <th>Company</th>\n      <th>TypeName</th>\n      <th>Ram</th>\n      <th>Weight</th>\n      <th>Touchscreen</th>\n      <th>Ips</th>\n      <th>ppi</th>\n      <th>Cpu brand</th>\n      <th>HDD</th>\n      <th>SSD</th>\n      <th>Gpu brand</th>\n      <th>os</th>\n    </tr>\n  </thead>\n  <tbody>\n    <tr>\n      <th>248</th>\n      <td>HP</td>\n      <td>Notebook</td>\n      <td>4</td>\n      <td>1.49</td>\n      <td>0</td>\n      <td>1</td>\n      <td>165.632118</td>\n      <td>Intel Core i5</td>\n      <td>500</td>\n      <td>0</td>\n      <td>Intel</td>\n      <td>Windows</td>\n    </tr>\n    <tr>\n      <th>555</th>\n      <td>Asus</td>\n      <td>Notebook</td>\n      <td>4</td>\n      <td>2.00</td>\n      <td>0</td>\n      <td>0</td>\n      <td>100.454670</td>\n      <td>Other Intel Processor</td>\n      <td>500</td>\n      <td>0</td>\n      <td>Intel</td>\n      <td>Others/No OS/Linux</td>\n    </tr>\n    <tr>\n      <th>1251</th>\n      <td>HP</td>\n      <td>Notebook</td>\n      <td>4</td>\n      <td>1.86</td>\n      <td>0</td>\n      <td>0</td>\n      <td>100.454670</td>\n      <td>AMD Processor</td>\n      <td>500</td>\n      <td>0</td>\n      <td>AMD</td>\n      <td>Windows</td>\n    </tr>\n    <tr>\n      <th>547</th>\n      <td>Lenovo</td>\n      <td>Notebook</td>\n      <td>4</td>\n      <td>2.15</td>\n      <td>0</td>\n      <td>0</td>\n      <td>141.211998</td>\n      <td>Intel Core i5</td>\n      <td>1000</td>\n      <td>0</td>\n      <td>Intel</td>\n      <td>Others/No OS/Linux</td>\n    </tr>\n    <tr>\n      <th>885</th>\n      <td>HP</td>\n      <td>2 in 1 Convertible</td>\n      <td>4</td>\n      <td>1.28</td>\n      <td>1</td>\n      <td>0</td>\n      <td>165.632118</td>\n      <td>Intel Core i5</td>\n      <td>0</td>\n      <td>256</td>\n      <td>Intel</td>\n      <td>Windows</td>\n    </tr>\n    <tr>\n      <th>...</th>\n      <td>...</td>\n      <td>...</td>\n      <td>...</td>\n      <td>...</td>\n      <td>...</td>\n      <td>...</td>\n      <td>...</td>\n      <td>...</td>\n      <td>...</td>\n      <td>...</td>\n      <td>...</td>\n      <td>...</td>\n    </tr>\n    <tr>\n      <th>513</th>\n      <td>Dell</td>\n      <td>Notebook</td>\n      <td>16</td>\n      <td>2.20</td>\n      <td>0</td>\n      <td>0</td>\n      <td>141.211998</td>\n      <td>Intel Core i7</td>\n      <td>2000</td>\n      <td>256</td>\n      <td>AMD</td>\n      <td>Windows</td>\n    </tr>\n    <tr>\n      <th>312</th>\n      <td>MSI</td>\n      <td>Gaming</td>\n      <td>16</td>\n      <td>2.80</td>\n      <td>0</td>\n      <td>1</td>\n      <td>141.211998</td>\n      <td>Intel Core i7</td>\n      <td>1000</td>\n      <td>256</td>\n      <td>Nvidia</td>\n      <td>Windows</td>\n    </tr>\n    <tr>\n      <th>440</th>\n      <td>Lenovo</td>\n      <td>Notebook</td>\n      <td>8</td>\n      <td>2.80</td>\n      <td>0</td>\n      <td>0</td>\n      <td>106.113062</td>\n      <td>AMD Processor</td>\n      <td>1000</td>\n      <td>0</td>\n      <td>AMD</td>\n      <td>Windows</td>\n    </tr>\n    <tr>\n      <th>160</th>\n      <td>Asus</td>\n      <td>Notebook</td>\n      <td>4</td>\n      <td>2.03</td>\n      <td>0</td>\n      <td>0</td>\n      <td>100.454670</td>\n      <td>AMD Processor</td>\n      <td>1000</td>\n      <td>0</td>\n      <td>AMD</td>\n      <td>Windows</td>\n    </tr>\n    <tr>\n      <th>376</th>\n      <td>Lenovo</td>\n      <td>Netbook</td>\n      <td>4</td>\n      <td>1.59</td>\n      <td>0</td>\n      <td>1</td>\n      <td>135.094211</td>\n      <td>Other Intel Processor</td>\n      <td>0</td>\n      <td>128</td>\n      <td>Intel</td>\n      <td>Windows</td>\n    </tr>\n  </tbody>\n</table>\n<p>521 rows × 12 columns</p>\n</div>"
     },
     "execution_count": 4249,
     "metadata": {},
     "output_type": "execute_result"
    }
   ],
   "source": [
    "X_test"
   ],
   "metadata": {
    "collapsed": false,
    "pycharm": {
     "name": "#%%\n"
    }
   }
  },
  {
   "cell_type": "code",
   "execution_count": 4250,
   "outputs": [
    {
     "data": {
      "text/plain": "248     10.490274\n555      9.387207\n1251     9.964522\n547     10.111883\n885     11.470547\n          ...    \n513     11.081544\n312     11.624777\n440     10.227465\n160      9.974498\n376     10.290919\nName: Price, Length: 521, dtype: float64"
     },
     "execution_count": 4250,
     "metadata": {},
     "output_type": "execute_result"
    }
   ],
   "source": [
    "y_test"
   ],
   "metadata": {
    "collapsed": false,
    "pycharm": {
     "name": "#%%\n"
    }
   }
  }
 ],
 "metadata": {
  "kernelspec": {
   "display_name": "Python 3",
   "language": "python",
   "name": "python3"
  },
  "language_info": {
   "codemirror_mode": {
    "name": "ipython",
    "version": 2
   },
   "file_extension": ".py",
   "mimetype": "text/x-python",
   "name": "python",
   "nbconvert_exporter": "python",
   "pygments_lexer": "ipython2",
   "version": "2.7.6"
  }
 },
 "nbformat": 4,
 "nbformat_minor": 0
}